{
 "cells": [
  {
   "cell_type": "code",
   "execution_count": null,
   "metadata": {
    "slideshow": {
     "slide_type": "skip"
    }
   },
   "outputs": [],
   "source": [
    "from IPython.display import Image\n",
    "from IPython.display import clear_output\n",
    "from IPython.display import FileLink, FileLinks"
   ]
  },
  {
   "cell_type": "markdown",
   "metadata": {
    "cell_marker": "'''",
    "slideshow": {
     "slide_type": "slide"
    }
   },
   "source": [
    "<img src=\"img/python-logo-master-flat.png\" alt=\"Python Logo\" style=\"width: 120px; float: right; margin: 0 0 10px 10px;\" />\n",
    "\n",
    "## Introduction to Python with Application in Bioinformatics\n",
    "\n",
    "\n",
    "\n",
    "### Nanjiang Shu\n",
    "\n",
    "#### 2024-07-19 (Day 5)"
   ]
  },
  {
   "cell_type": "markdown",
   "metadata": {
    "slideshow": {
     "slide_type": "slide"
    }
   },
   "source": [
    "### Review of Day 4\n",
    "\n",
    "- Scop of variables\n",
    "    - Local variables vs global variables and at which scope they are accessible\n",
    "    - Be cautious when using global variables.\n",
    "- Positional arguments and keyword arguments\n",
    "    - Positional arguments and keyword arguments are passed differently to the functions\n",
    "    - Use keyword arguments to improve the clarity.\n",
    "- `return` statement\n",
    "    - Functions return a meaningful value are easier to repurpose and more usable.\n",
    "- Comments and documentation\n",
    "    - How to create your own module with both module level documentation and help message for functions\n",
    "    - Although code should explain by itself, comment the code when it's hard to understand.\n",
    "- Importing modules: using libraries\n",
    "    - import os\n",
    "    - from math import pi\n",
    "- Brief introduction to Biopython using `SeqIO`"
   ]
  },
  {
   "cell_type": "markdown",
   "metadata": {
    "slideshow": {
     "slide_type": "slide"
    }
   },
   "source": [
    "### Review of the quiz from Day 4\n",
    "- <a href=\"https://forms.office.com/Pages/DesignPageV2.aspx?origin=NeoPortalPage&subpage=design&id=DQSIkWdsW0yxEjajBLZtrQAAAAAAAAAAAAa__Yehr4dUQkVYOVlONlNIVEVZRTEyUTAwT0s0SzgzTy4u&analysis=true\">Link to the quiz statistics</a>"
   ]
  },
  {
   "cell_type": "markdown",
   "metadata": {
    "slideshow": {
     "slide_type": "slide"
    }
   },
   "source": [
    "### Question 2:\n",
    "If a local variable shares the same name as a global variable, which will be used within the function?\n",
    "```\n",
    "   A: The function will use the global variable\n",
    "✔  B: The function will use the local variable\n",
    "   C: Python will throw an error\n",
    "   D: It will choose randomly\n",
    "```\n",
    "Wrong answers: many B, a few C"
   ]
  },
  {
   "cell_type": "code",
   "execution_count": null,
   "metadata": {},
   "outputs": [],
   "source": [
    "def show_host():\n",
    "    host = 'local'\n",
    "    print(f'host inside the function = {host}')\n",
    "    \n",
    "host = 'global'\n",
    "show_host()"
   ]
  },
  {
   "cell_type": "markdown",
   "metadata": {
    "slideshow": {
     "slide_type": "slide"
    }
   },
   "source": [
    "## Day 5\n",
    "\n",
    "- Session 1:\n",
    "    - Pandas for data manipulation and basic plotting\n",
    "- Session 2: \n",
    "    - An introduction to AI assisted programming\n",
    "\n",
    "- Sum up\n",
    "\n",
    "Project time after lunch"
   ]
  },
  {
   "cell_type": "markdown",
   "metadata": {
    "slideshow": {
     "slide_type": "slide"
    }
   },
   "source": [
    "## Pandas\n",
    "- Library for working with tabular data, e.g. csv, tsv and excel\n",
    "- Data analysis: \n",
    "   - filtering \n",
    "   - transformation, that is, element wise data mapping\n",
    "   - aggregation, that is, combining or summerizing data\n",
    "   - plotting"
   ]
  },
  {
   "cell_type": "markdown",
   "metadata": {
    "slideshow": {
     "slide_type": "slide"
    }
   },
   "source": [
    "### In Padas, data is stored as a `DataFrame`"
   ]
  },
  {
   "cell_type": "markdown",
   "metadata": {},
   "source": [
    "\n",
    "![01_table_dataframe1](img/01_table_dataframe1.png)"
   ]
  },
  {
   "cell_type": "markdown",
   "metadata": {
    "slideshow": {
     "slide_type": "slide"
    }
   },
   "source": [
    "### Creating a DataFrame"
   ]
  },
  {
   "cell_type": "code",
   "execution_count": null,
   "metadata": {},
   "outputs": [],
   "source": [
    "import pandas as pd\n",
    "mydict = {\n",
    "    'age': [1,2,3,4],\n",
    "    'circumference': [2,3,5,10],\n",
    "    'height': [30, 35, 40, 50]\n",
    "}\n",
    "df = pd.DataFrame(mydict)\n",
    "df"
   ]
  },
  {
   "cell_type": "markdown",
   "metadata": {
    "cell_marker": "'''",
    "slideshow": {
     "slide_type": "fragment"
    }
   },
   "source": [
    "- One column of implict row index (0, 1, 2, 3) is added\n",
    "- Keys are treated as column names: `age`, `circumference`, `height`"
   ]
  },
  {
   "cell_type": "code",
   "execution_count": null,
   "metadata": {
    "slideshow": {
     "slide_type": "fragment"
    }
   },
   "outputs": [],
   "source": [
    "# To set 'age', ''circumference' and 'height' as rows, you need to transpose the matrix\n",
    "df.T"
   ]
  },
  {
   "cell_type": "markdown",
   "metadata": {
    "slideshow": {
     "slide_type": "slide"
    }
   },
   "source": [
    "### Reset the index names"
   ]
  },
  {
   "cell_type": "code",
   "execution_count": null,
   "metadata": {},
   "outputs": [],
   "source": [
    "df = pd.DataFrame(mydict)\n",
    "print(df)\n",
    "df = pd.DataFrame(mydict, index=[\"row1\", \"row2\", \"row3\", \"row4\"])\n",
    "df"
   ]
  },
  {
   "cell_type": "markdown",
   "metadata": {
    "slideshow": {
     "slide_type": "slide"
    }
   },
   "source": [
    "### Reset the index names after creation"
   ]
  },
  {
   "cell_type": "code",
   "execution_count": null,
   "metadata": {},
   "outputs": [],
   "source": [
    "df = pd.DataFrame(mydict)\n",
    "print(df)\n",
    "df = df.rename(index={0:\"row1\", 1:\"row2\", 2:\"row3\", 3:\"row4\"})\n",
    "df"
   ]
  },
  {
   "cell_type": "markdown",
   "metadata": {
    "slideshow": {
     "slide_type": "slide"
    }
   },
   "source": [
    "### Reset the column names"
   ]
  },
  {
   "cell_type": "code",
   "execution_count": null,
   "metadata": {},
   "outputs": [],
   "source": [
    "df = pd.DataFrame(mydict)\n",
    "print(df)\n",
    "df = df.rename(columns={\"age\": \"newAge\", \"circumference\": \"NewC\", \"height\": \"newH\"})\n",
    "df"
   ]
  },
  {
   "cell_type": "code",
   "execution_count": null,
   "metadata": {},
   "outputs": [],
   "source": [
    "df.columns = [\"1\", \"2\", \"3\"]\n",
    "df"
   ]
  },
  {
   "cell_type": "markdown",
   "metadata": {
    "slideshow": {
     "slide_type": "slide"
    }
   },
   "source": [
    "### You can not reset column names duration its creation"
   ]
  },
  {
   "cell_type": "code",
   "execution_count": null,
   "metadata": {
    "slideshow": {
     "slide_type": "-"
    }
   },
   "outputs": [],
   "source": [
    "# However, you can not reset column names duration it's creation\n",
    "df = pd.DataFrame(mydict, columns=[\"newAge\", \"NewC\", \"NewH\"])\n",
    "df"
   ]
  },
  {
   "cell_type": "markdown",
   "metadata": {
    "slideshow": {
     "slide_type": "fragment"
    }
   },
   "source": [
    "#### This is because when you define the DataFrame the keys in the dictionary must match the column names exactly when passed to `pd.DataFrame()`"
   ]
  },
  {
   "cell_type": "markdown",
   "metadata": {
    "slideshow": {
     "slide_type": "slide"
    }
   },
   "source": [
    "### The data of columns must have the same length "
   ]
  },
  {
   "cell_type": "code",
   "execution_count": null,
   "metadata": {},
   "outputs": [],
   "source": [
    "mydict = {\n",
    "    'age': [1,2,3,4],\n",
    "    'circumference': [2,3,5,10],\n",
    "    'height': [30, 35, 40, 50]\n",
    "}\n",
    "df = pd.DataFrame(mydict)\n",
    "df"
   ]
  },
  {
   "cell_type": "markdown",
   "metadata": {
    "slideshow": {
     "slide_type": "slide"
    }
   },
   "source": [
    "### Overview of your data, basic statistics"
   ]
  },
  {
   "cell_type": "code",
   "execution_count": null,
   "metadata": {
    "scrolled": true
   },
   "outputs": [],
   "source": [
    "df"
   ]
  },
  {
   "cell_type": "code",
   "execution_count": null,
   "metadata": {},
   "outputs": [],
   "source": [
    "df.shape"
   ]
  },
  {
   "cell_type": "code",
   "execution_count": null,
   "metadata": {},
   "outputs": [],
   "source": [
    "df.describe()"
   ]
  },
  {
   "cell_type": "code",
   "execution_count": null,
   "metadata": {
    "slideshow": {
     "slide_type": "-"
    }
   },
   "outputs": [],
   "source": [
    "df.max()"
   ]
  },
  {
   "cell_type": "code",
   "execution_count": null,
   "metadata": {
    "slideshow": {
     "slide_type": "-"
    }
   },
   "outputs": [],
   "source": [
    "df.std()"
   ]
  },
  {
   "cell_type": "markdown",
   "metadata": {
    "slideshow": {
     "slide_type": "slide"
    }
   },
   "source": [
    "### Numerical options will be applied on every element"
   ]
  },
  {
   "cell_type": "code",
   "execution_count": null,
   "metadata": {},
   "outputs": [],
   "source": [
    "df*2"
   ]
  },
  {
   "cell_type": "markdown",
   "metadata": {
    "slideshow": {
     "slide_type": "skip"
    }
   },
   "source": [
    "Note: sometimes we don't want to run statistics on the whole dataset but only part of the data"
   ]
  },
  {
   "cell_type": "markdown",
   "metadata": {
    "slideshow": {
     "slide_type": "slide"
    }
   },
   "source": [
    "## How to select data from a DataFrame"
   ]
  },
  {
   "cell_type": "markdown",
   "metadata": {
    "slideshow": {
     "slide_type": "slide"
    }
   },
   "source": [
    "###  Selecting columns from a dataframe\n",
    "```python\n",
    "dataframe.columnname\n",
    "dataframe['columnname']\n",
    "```\n",
    "<img src=\"img/03_subset_columns.png\" alt=\"subset columns\" style=\"width: 400px; float: right; margin: 0 0 10px 10px;\"/>\n",
    "\n"
   ]
  },
  {
   "cell_type": "code",
   "execution_count": null,
   "metadata": {
    "slideshow": {
     "slide_type": "-"
    }
   },
   "outputs": [],
   "source": [
    "df['height']"
   ]
  },
  {
   "cell_type": "code",
   "execution_count": null,
   "metadata": {},
   "outputs": [],
   "source": [
    "df.height # does not work if the column name is an integer"
   ]
  },
  {
   "cell_type": "code",
   "execution_count": null,
   "metadata": {},
   "outputs": [],
   "source": [
    "# create a new dataframe from the selected dataframe and do further operations\n",
    "df_new = df.height"
   ]
  },
  {
   "cell_type": "markdown",
   "metadata": {
    "slideshow": {
     "slide_type": "slide"
    }
   },
   "source": [
    "### Selecting multiple columns"
   ]
  },
  {
   "cell_type": "code",
   "execution_count": null,
   "metadata": {},
   "outputs": [],
   "source": [
    "df[['age', 'height']]"
   ]
  },
  {
   "cell_type": "code",
   "execution_count": null,
   "metadata": {},
   "outputs": [],
   "source": [
    "df[['height', 'age']] # what's the difference?"
   ]
  },
  {
   "cell_type": "markdown",
   "metadata": {
    "cell_marker": "'''",
    "slideshow": {
     "slide_type": "slide"
    }
   },
   "source": [
    "### Selecting rows from a dataframe\n",
    "- __Using integer index__\n",
    "```py\n",
    "dataframe.iloc[index]\n",
    "dataframe.iloc[start:stop]\n",
    "```\n",
    "<img src=\"img/03_subset_rows.png\" alt=\"subset columns\" style=\"width: 400px; float: right; margin: 0 0 10px 10px;\"/>"
   ]
  },
  {
   "cell_type": "code",
   "execution_count": null,
   "metadata": {
    "scrolled": true,
    "slideshow": {
     "slide_type": "-"
    }
   },
   "outputs": [],
   "source": [
    "df.iloc[0] # select the first row"
   ]
  },
  {
   "cell_type": "code",
   "execution_count": null,
   "metadata": {},
   "outputs": [],
   "source": [
    "df.iloc[1:3] # select from row 2 to 4"
   ]
  },
  {
   "cell_type": "markdown",
   "metadata": {
    "cell_marker": "'''",
    "slideshow": {
     "slide_type": "slide"
    }
   },
   "source": [
    "### Selecting rows from a dataframe \n",
    "- __Using label index__\n",
    "```py\n",
    "dataframe.loc[row_label]\n",
    "dataframe.iloc[start_label:end_label] (both ends are inclusive)\n",
    "```\n",
    "<img src=\"img/03_subset_rows.png\" alt=\"subset columns\" style=\"width: 400px; float: right; margin: 0 0 10px 10px;\"/>"
   ]
  },
  {
   "cell_type": "code",
   "execution_count": null,
   "metadata": {},
   "outputs": [],
   "source": [
    "df = df.rename(index={0:\"row1\", 1:\"row2\", 2:\"row3\", 3:\"row4\"})\n",
    "print(df)\n",
    "df.loc['row1'] # select from row 1"
   ]
  },
  {
   "cell_type": "code",
   "execution_count": null,
   "metadata": {},
   "outputs": [],
   "source": [
    "df.loc['row1':'row3'] # select from row 1 to 3"
   ]
  },
  {
   "cell_type": "code",
   "execution_count": null,
   "metadata": {},
   "outputs": [],
   "source": [
    "df.loc[['row1', 'row3']] # select row 1 and row 3"
   ]
  },
  {
   "cell_type": "code",
   "execution_count": null,
   "metadata": {},
   "outputs": [],
   "source": [
    "df.loc[['row3', 'row2']] # select row 2 and row3, order changed"
   ]
  },
  {
   "cell_type": "markdown",
   "metadata": {
    "slideshow": {
     "slide_type": "slide"
    }
   },
   "source": [
    "### Selecting top and bottom rows by `.head` and `.tail`"
   ]
  },
  {
   "cell_type": "code",
   "execution_count": null,
   "metadata": {},
   "outputs": [],
   "source": [
    "df.head(2)"
   ]
  },
  {
   "cell_type": "code",
   "execution_count": null,
   "metadata": {
    "scrolled": true
   },
   "outputs": [],
   "source": [
    "df.tail(2)"
   ]
  },
  {
   "cell_type": "markdown",
   "metadata": {
    "slideshow": {
     "slide_type": "slide"
    }
   },
   "source": [
    "### Selecting rows by condition\n"
   ]
  },
  {
   "cell_type": "code",
   "execution_count": null,
   "metadata": {
    "scrolled": true
   },
   "outputs": [],
   "source": [
    "df[df['height'] >= 40]"
   ]
  },
  {
   "cell_type": "code",
   "execution_count": null,
   "metadata": {},
   "outputs": [],
   "source": [
    "df[(df['height'] == 40) & (df['circumference'] <= 10)]"
   ]
  },
  {
   "cell_type": "markdown",
   "metadata": {
    "slideshow": {
     "slide_type": "slide"
    }
   },
   "source": [
    "## Selecting both columns and rows\n",
    "<img src=\"img/03_subset_columns_rows.png\" alt=\"subset columns\" style=\"width: 400px; float: right; margin: 0 0 10px 10px;\"/>"
   ]
  },
  {
   "cell_type": "markdown",
   "metadata": {
    "slideshow": {
     "slide_type": "slide"
    }
   },
   "source": [
    "### Selecting both columns and rows by using integer index\n",
    "```python\n",
    "dataframe.iloc[row_index, col_index]\n",
    "dataframe.iloc[row_start:row_stop, col_start:col_stop]\n",
    "```"
   ]
  },
  {
   "cell_type": "code",
   "execution_count": null,
   "metadata": {},
   "outputs": [],
   "source": [
    "print(df)\n",
    "df.iloc[2, 2]"
   ]
  },
  {
   "cell_type": "code",
   "execution_count": null,
   "metadata": {},
   "outputs": [],
   "source": [
    "df.iloc[:, 1:3]"
   ]
  },
  {
   "cell_type": "markdown",
   "metadata": {
    "slideshow": {
     "slide_type": "slide"
    }
   },
   "source": [
    "### Selecting both columns and rows by using label index\n",
    "```python\n",
    "dataframe.loc[row_label, col_label]\n",
    "dataframe.loc[row_start_label:row_stop_label, col_label]\n",
    "```"
   ]
  },
  {
   "cell_type": "code",
   "execution_count": null,
   "metadata": {},
   "outputs": [],
   "source": [
    "df.loc['row1', 'age']"
   ]
  },
  {
   "cell_type": "code",
   "execution_count": null,
   "metadata": {
    "scrolled": false
   },
   "outputs": [],
   "source": [
    "df.loc['row1':'row3' , ['age', 'height']]"
   ]
  },
  {
   "cell_type": "markdown",
   "metadata": {
    "slideshow": {
     "slide_type": "slide"
    }
   },
   "source": [
    "### Run statistics on selected data\n",
    "- Since the return value of the selected data is also a `DataFrame`, we can run all aggregation statistics on that"
   ]
  },
  {
   "cell_type": "code",
   "execution_count": null,
   "metadata": {},
   "outputs": [],
   "source": [
    "# calculate the mean value of age\n",
    "df['age'].mean()"
   ]
  },
  {
   "cell_type": "code",
   "execution_count": null,
   "metadata": {},
   "outputs": [],
   "source": [
    "# calculate std of height for row1 to row3\n",
    "df.loc[\"row1\":\"row3\", 'height'].std()"
   ]
  },
  {
   "cell_type": "markdown",
   "metadata": {
    "slideshow": {
     "slide_type": "slide"
    }
   },
   "source": [
    "## Expand a DataFrame \n",
    "We can reduce the size of a dataframe by selecting, but can also expand it."
   ]
  },
  {
   "cell_type": "markdown",
   "metadata": {
    "slideshow": {
     "slide_type": "slide"
    }
   },
   "source": [
    "### Creating a new column derived from existing columns\n",
    "<img src=\"img/05_newcolumn_1.png\" alt=\"subset columns\" style=\"width: 400px; float: right; margin: 0 0 10px 10px;\"/>"
   ]
  },
  {
   "cell_type": "code",
   "execution_count": null,
   "metadata": {
    "scrolled": true
   },
   "outputs": [],
   "source": [
    "from math import pi\n",
    "df['radius'] = df['circumference'] / (2*pi)\n",
    "df"
   ]
  },
  {
   "cell_type": "markdown",
   "metadata": {
    "slideshow": {
     "slide_type": "slide"
    }
   },
   "source": [
    "### Add new rows by `.contact`"
   ]
  },
  {
   "cell_type": "code",
   "execution_count": null,
   "metadata": {},
   "outputs": [],
   "source": [
    "new_rows = pd.DataFrame({\n",
    "    'age': [5,6],\n",
    "    'circumference':[8,9],\n",
    "    'height': [45,46],\n",
    "    'radius': [8/2/pi, 9/2/pi]\n",
    "})\n",
    "df = pd.concat([df, new_rows], axis=0)\n",
    "df"
   ]
  },
  {
   "cell_type": "markdown",
   "metadata": {
    "slideshow": {
     "slide_type": "skip"
    }
   },
   "source": [
    "Note: In the previous examples, we provide data to the dataframe in the code. but in reality, data is usually located in the external files. Pandas provides a flexible way to import data from many formats."
   ]
  },
  {
   "cell_type": "markdown",
   "metadata": {
    "slideshow": {
     "slide_type": "slide"
    }
   },
   "source": [
    "### Pandas can import data from many formats\n",
    "\n",
    "- `pd.read_table`: tab separated values `.tsv`\n",
    "- `pd.read_csv`: comma separated values `.csv`\n",
    "- `pd.read_excel`: Excel spreadsheets `.xlsx`\n",
    "\n",
    "- For a data frame `df`: `df.to_table()`, `df.to_csv()`, `df.to_excel()`"
   ]
  },
  {
   "cell_type": "markdown",
   "metadata": {},
   "source": [
    "![test](img/02_io_readwrite.png)"
   ]
  },
  {
   "cell_type": "markdown",
   "metadata": {
    "slideshow": {
     "slide_type": "slide"
    }
   },
   "source": [
    "### Read from Excel file"
   ]
  },
  {
   "cell_type": "markdown",
   "metadata": {
    "slideshow": {
     "slide_type": "skip"
    }
   },
   "source": [
    "Note: the default sheet_name is \"Sheet1\", for using a different sheet name, \n",
    "df1 = pd.read_excel(excel_file, index_col=0, sheet_name=\"Sheet2\")"
   ]
  },
  {
   "cell_type": "code",
   "execution_count": null,
   "metadata": {},
   "outputs": [],
   "source": [
    "excel_file = \"../downloads/Orange_1.xlsx\"\n",
    "df1 = pd.read_excel(excel_file, index_col=0)\n",
    "df1"
   ]
  },
  {
   "cell_type": "code",
   "execution_count": null,
   "metadata": {
    "slideshow": {
     "slide_type": "fragment"
    }
   },
   "outputs": [],
   "source": [
    "# read from a different sheet\n",
    "df1 = pd.read_excel(excel_file, index_col=0, sheet_name=\"Sheet2\")\n",
    "df1"
   ]
  },
  {
   "cell_type": "markdown",
   "metadata": {
    "cell_marker": "'''",
    "slideshow": {
     "slide_type": "slide"
    }
   },
   "source": [
    "### Demo with a slightly bigger orange trees data"
   ]
  },
  {
   "cell_type": "code",
   "execution_count": null,
   "metadata": {
    "slideshow": {
     "slide_type": "-"
    }
   },
   "outputs": [],
   "source": [
    "df = pd.read_table('../downloads/Orange.tsv')\n",
    "df.shape\n",
    "#df.head()"
   ]
  },
  {
   "cell_type": "code",
   "execution_count": null,
   "metadata": {},
   "outputs": [],
   "source": [
    "df['Tree'].unique()"
   ]
  },
  {
   "cell_type": "code",
   "execution_count": null,
   "metadata": {},
   "outputs": [],
   "source": [
    "df[df['Tree'] == 1]"
   ]
  },
  {
   "cell_type": "code",
   "execution_count": null,
   "metadata": {
    "slideshow": {
     "slide_type": "subslide"
    }
   },
   "outputs": [],
   "source": [
    "#young = df[df.age < 200]\n",
    "#young\n",
    "df[df.age < 1000]"
   ]
  },
  {
   "cell_type": "markdown",
   "metadata": {
    "cell_marker": "'''",
    "slideshow": {
     "slide_type": "slide"
    }
   },
   "source": [
    "### Small exercise 1\n",
    "Find the maximal circumference and then filter the dataframe by it"
   ]
  },
  {
   "cell_type": "code",
   "execution_count": null,
   "metadata": {
    "slideshow": {
     "slide_type": "fragment"
    }
   },
   "outputs": [],
   "source": [
    "df.head()"
   ]
  },
  {
   "cell_type": "code",
   "execution_count": null,
   "metadata": {
    "slideshow": {
     "slide_type": "fragment"
    }
   },
   "outputs": [],
   "source": [
    "max_c = df.circumference.max()\n",
    "print(max_c)"
   ]
  },
  {
   "cell_type": "code",
   "execution_count": null,
   "metadata": {
    "slideshow": {
     "slide_type": "fragment"
    }
   },
   "outputs": [],
   "source": [
    "df[df.circumference == max_c]"
   ]
  },
  {
   "cell_type": "markdown",
   "metadata": {
    "slideshow": {
     "slide_type": "slide"
    }
   },
   "source": [
    "## Small exercise 2\n",
    "\n",
    "Here's a dictionary of students and their grades:\n",
    "```\n",
    "students = {'student': ['bob', 'sam', 'joe'], 'grade': [1, 3, 4]}\n",
    "```\n",
    "Use Pandas to:\n",
    "- create a dataframe with this information\n",
    "- get the mean value of the grades"
   ]
  },
  {
   "cell_type": "code",
   "execution_count": null,
   "metadata": {
    "slideshow": {
     "slide_type": "slide"
    }
   },
   "outputs": [],
   "source": [
    "import pandas as pd\n",
    "\n",
    "students = {'student': ['bob', 'sam', 'joe'], 'grade': [1, 3, 4]}\n",
    "\n",
    "df = pd.DataFrame(students)\n",
    "\n",
    "mean(df.grade)"
   ]
  },
  {
   "cell_type": "markdown",
   "metadata": {
    "cell_marker": "'''",
    "slideshow": {
     "slide_type": "slide"
    }
   },
   "source": [
    "### Plotting\n",
    "```py\n",
    "df.columnname.plot()\n",
    "```"
   ]
  },
  {
   "cell_type": "code",
   "execution_count": null,
   "metadata": {
    "slideshow": {
     "slide_type": "fragment"
    }
   },
   "outputs": [],
   "source": [
    "df_small = pd.read_table('../downloads/Orange_1.tsv')\n",
    "df_small"
   ]
  },
  {
   "cell_type": "code",
   "execution_count": null,
   "metadata": {
    "scrolled": true,
    "slideshow": {
     "slide_type": "slide"
    }
   },
   "outputs": [],
   "source": [
    " # Plot the relationship of age and height with the line plot\n",
    "df_small.plot(x='age', y='circumference', kind='line')\n",
    "df_small.plot"
   ]
  },
  {
   "cell_type": "code",
   "execution_count": null,
   "metadata": {
    "slideshow": {
     "slide_type": "slide"
    }
   },
   "outputs": [],
   "source": [
    "# scatter plot\n",
    "df_small.plot(x='age', y='circumference', kind='scatter') "
   ]
  },
  {
   "cell_type": "markdown",
   "metadata": {
    "cell_marker": "'''",
    "slideshow": {
     "slide_type": "slide"
    }
   },
   "source": [
    "### Tips: what if no plot shows up?"
   ]
  },
  {
   "cell_type": "code",
   "execution_count": null,
   "metadata": {
    "slideshow": {
     "slide_type": "-"
    }
   },
   "outputs": [],
   "source": [
    "import matplotlib.pyplot as plt\n",
    "plt.show()\n",
    "%matplotlib inline"
   ]
  },
  {
   "cell_type": "markdown",
   "metadata": {
    "cell_marker": "'''",
    "slideshow": {
     "slide_type": "slide"
    }
   },
   "source": [
    "### Bar plot\n",
    "```python\n",
    "df.plot(kind=\"bar\")\n",
    "```"
   ]
  },
  {
   "cell_type": "code",
   "execution_count": null,
   "metadata": {
    "slideshow": {
     "slide_type": "-"
    }
   },
   "outputs": [],
   "source": [
    "df_small[['circumference']].plot(kind='bar', ylabel=\"Age\")"
   ]
  },
  {
   "cell_type": "markdown",
   "metadata": {
    "slideshow": {
     "slide_type": "slide"
    }
   },
   "source": [
    "### Plotting multiple columns"
   ]
  },
  {
   "cell_type": "code",
   "execution_count": null,
   "metadata": {
    "scrolled": true,
    "slideshow": {
     "slide_type": "-"
    }
   },
   "outputs": [],
   "source": [
    "df_small[['circumference', 'age']].plot(kind='bar', figsize=(12, 6), fontsize=16)"
   ]
  },
  {
   "cell_type": "markdown",
   "metadata": {
    "slideshow": {
     "slide_type": "slide"
    }
   },
   "source": [
    "### Histogram plot"
   ]
  },
  {
   "cell_type": "code",
   "execution_count": null,
   "metadata": {
    "scrolled": true,
    "slideshow": {
     "slide_type": "-"
    }
   },
   "outputs": [],
   "source": [
    "df_small.plot(kind='hist', y = 'age', fontsize=18)"
   ]
  },
  {
   "cell_type": "markdown",
   "metadata": {
    "slideshow": {
     "slide_type": "slide"
    }
   },
   "source": [
    "### Box plot"
   ]
  },
  {
   "cell_type": "code",
   "execution_count": null,
   "metadata": {},
   "outputs": [],
   "source": [
    "df_small.plot(kind='box', y = 'age', fontsize=18)"
   ]
  },
  {
   "cell_type": "markdown",
   "metadata": {
    "slideshow": {
     "slide_type": "slide"
    }
   },
   "source": [
    "### Multiple graphs - grouping"
   ]
  },
  {
   "cell_type": "code",
   "execution_count": null,
   "metadata": {},
   "outputs": [],
   "source": [
    "df.groupby('Tree')"
   ]
  },
  {
   "cell_type": "code",
   "execution_count": null,
   "metadata": {},
   "outputs": [],
   "source": [
    "df.groupby('Tree').plot(kind=\"line\", x='age', y='circumference')"
   ]
  },
  {
   "cell_type": "code",
   "execution_count": null,
   "metadata": {},
   "outputs": [],
   "source": [
    "tree3 = df.groupby('Tree').get_group(3)"
   ]
  },
  {
   "cell_type": "code",
   "execution_count": null,
   "metadata": {},
   "outputs": [],
   "source": [
    "tree3.plot(kind='line', x='age', y='circumference')"
   ]
  },
  {
   "cell_type": "code",
   "execution_count": null,
   "metadata": {},
   "outputs": [],
   "source": [
    "df.groupby('Tree').groups"
   ]
  },
  {
   "cell_type": "markdown",
   "metadata": {
    "cell_marker": "'''",
    "lines_to_next_cell": 2,
    "slideshow": {
     "slide_type": "slide"
    }
   },
   "source": [
    "### Take a break\n",
    "___\n",
    "## Day 5, Exercise 1\n",
    "- Link: https://python-bioinfo.bioshu.se/exercises.html"
   ]
  },
  {
   "cell_type": "markdown",
   "metadata": {
    "slideshow": {
     "slide_type": "slide"
    }
   },
   "source": [
    "## Introduction to AI assisted programming"
   ]
  },
  {
   "cell_type": "markdown",
   "metadata": {
    "slideshow": {
     "slide_type": "skip"
    }
   },
   "source": [
    "The field of Artificial Intelligence (AI) has experienced a remarkable surge in popularity, largely driven by breakthroughs in Large Language Models (LLMs). ChatGPT, developed by OpenAI, stands out as one of the most prominent examples of this technology. Similarly, China's tech ecosystem has introduced its own formidable AI chatbot, Wenxin Yiyan, showcasing the global interest and advancements in AI.\n",
    "\n",
    "Just as search engines like Google have made traditional library searches and leafing through dictionaries obsolete, AI systems, epitomized by platforms like ChatGPT, are set to fundamentally transform our methods of working, learning, and teaching.\n",
    "\n",
    "As these tools become an integral part of the technological landscape, embracing and integrating them into our practices is not only beneficial—it's imperative for staying at the forefront of innovation. Let's explore how AI can enhance the bioinformatics field and how we can harness its full potential in our work."
   ]
  },
  {
   "cell_type": "markdown",
   "metadata": {
    "slideshow": {
     "slide_type": "slide"
    }
   },
   "source": [
    "### (AI) Artificial Intelligence: A Global Phenomenon\n",
    "\n",
    "<img src=\"img/Chatgpt-Users-Growth.png\" alt=\"User Growth\" style=\"floating: right;width: 500px;\"/> "
   ]
  },
  {
   "cell_type": "markdown",
   "metadata": {
    "slideshow": {
     "slide_type": "skip"
    }
   },
   "source": [
    "- The market price for Nvidia has once overtake Microsoft and became the most valuable company in the world.\n",
    "- Every grant application has a higher chance to be accepted if it talks about AI\n",
    "- The number of users has reached over 100 million now\n",
    "- Threads is a social media conversation tool backed up by Facebook instgram etc"
   ]
  },
  {
   "cell_type": "markdown",
   "metadata": {
    "slideshow": {
     "slide_type": "slide"
    }
   },
   "source": [
    "## What AI can do\n",
    "- Helping with decision-making, automation, and data analysis.\n",
    "- Creating Art work\n",
    "- Assisting in health care\n",
    "- Self-driving car \n",
    "- Serving as a good friend, mentor\n",
    "- __Helping with programmming__ (this is what we care in this course)"
   ]
  },
  {
   "cell_type": "markdown",
   "metadata": {
    "slideshow": {
     "slide_type": "skip"
    }
   },
   "source": [
    "Note: Let's take a look at the function that we have used as example during the course \n",
    "get_seqlen\n",
    "\n",
    "I copy the instruction in the AI bot\n"
   ]
  },
  {
   "cell_type": "markdown",
   "metadata": {
    "slideshow": {
     "slide_type": "slide"
    }
   },
   "source": [
    "## AI can program when instructed with natural language\n",
    "\n",
    "### Task:\n",
    "\n",
    "Write a Python script that calculate sequence length given a fasta file\n",
    "\n",
    "#### input the above instruction to both Baidu WenXinYiYan and ChatGPT. "
   ]
  },
  {
   "cell_type": "markdown",
   "metadata": {
    "slideshow": {
     "slide_type": "slide"
    }
   },
   "source": [
    "## Rephrase the prompt run again\n",
    "\n",
    "I have a sequence file in fasta format. The file may contain multiple sequences. Write a Python script that can take the sequence as an argument from the command line and print the result in the following format\n",
    "\n",
    "seqid seqlength"
   ]
  },
  {
   "cell_type": "markdown",
   "metadata": {
    "slideshow": {
     "slide_type": "slide"
    }
   },
   "source": [
    "## For more complicated tasks, AI may not generate the code that you can directly use\n",
    "\n",
    "### Task:\n",
    "\n",
    "I have sequenced the whole genome of a patient using Illumina. The raw data are in these fastq files. \n",
    "Write python script to assemble these into a whole genome and annotate it.\n",
    "also find all biomarkers that are related to type 2 diabetes.\n",
    "\n",
    "\n"
   ]
  },
  {
   "cell_type": "markdown",
   "metadata": {
    "slideshow": {
     "slide_type": "slide"
    }
   },
   "source": [
    "### A practical procedure \n",
    "\n",
    "<img src=\"img/work-with-AI-flowchart.png\" alt=\"AI flowchart\" style=\"floating: right;width: 500px;\"/> "
   ]
  },
  {
   "cell_type": "markdown",
   "metadata": {
    "slideshow": {
     "slide_type": "fragment"
    }
   },
   "source": [
    "- There is actually a type of job: __prompt engineer__ - designs and refines prompts for LLMs to accomplish the tasks "
   ]
  },
  {
   "cell_type": "markdown",
   "metadata": {
    "slideshow": {
     "slide_type": "slide"
    }
   },
   "source": [
    "### AI can be integrated into the text editors, e.g. \n",
    "\n",
    "- Github Copilot\n",
    "    - developed by GitHub in collab with OpenAI\n",
    "    - provides context-aware code suggestions \n",
    "    - help writing code, debugging\n",
    "- IntelliCode\n",
    "    - by Microsoft\n",
    "    - provides context-aware code suggestions\n",
    "- Tabnine\n",
    "    - code completion tool\n",
    "- Kite\n",
    "    - helps with code completion, error correction, and code navigation\n",
    "\n",
    "It can generate or predict the code while you are programming \n"
   ]
  },
  {
   "cell_type": "markdown",
   "metadata": {
    "slideshow": {
     "slide_type": "slide"
    }
   },
   "source": [
    "### Demo with Github Copilot using VScode"
   ]
  },
  {
   "cell_type": "markdown",
   "metadata": {
    "slideshow": {
     "slide_type": "skip"
    }
   },
   "source": [
    "Code from WenXinYiDian does not use the seqID properly, instead if used the whole description line as SeqID\n",
    "\n",
    "ChatGPT not only show the code with BioPython properly but also give explanations and exampels. \n",
    "\n",
    "Understanding the fundamentals of Python, or any programming language, remains crucial even in the era of AI-assisted coding. Here are several reasons why:"
   ]
  },
  {
   "cell_type": "markdown",
   "metadata": {
    "slideshow": {
     "slide_type": "slide"
    }
   },
   "source": [
    "### Why do we still need to learn Python if AI can program?\n",
    "\n",
    "- AI has limitations and can generate incorrect or suboptimal code\n",
    "    - Understanding the fundamentals allows you to identify, troubleshoot, and fix these issues.\n",
    "- Learning programming fundamentals helps develop problem-solving skills and algorithmic thinking\n",
    "    - You need to guide AI with algorithmic thinking so that AI can generate expected result\n",
    "- AI still lacks true innovation \n",
    "    - It generates code based on existing patterns and data"
   ]
  },
  {
   "cell_type": "markdown",
   "metadata": {
    "slideshow": {
     "slide_type": "skip"
    }
   },
   "source": [
    "Note: if all programmars are soly dependent on AI, code will be more and more alike\n",
    "\n",
    "researchers can directly practice their idea with programs without the need to have laborous programming training"
   ]
  },
  {
   "cell_type": "markdown",
   "metadata": {
    "slideshow": {
     "slide_type": "slide"
    }
   },
   "source": [
    "### Pros\n",
    "- Increased productivity\n",
    "- Improved accuracy - many typos and obvious errors will be eliminated\n",
    "- AI makes programming accessible to those have little or no programming skills\n",
    "  - Researcher without a solid programming trainning can directly practice their ideas with programs. \n",
    "### Cons\n",
    "- Limited creativity\n",
    "- Bias and inaccuracy \n",
    "- Replying too much on AI can cause people lack of imaginagtion and cirtical thinking. That is especially risky in education."
   ]
  },
  {
   "cell_type": "markdown",
   "metadata": {
    "slideshow": {
     "slide_type": "skip"
    }
   },
   "source": [
    "Note: do you still remember these figures I showed at the beginning of the course "
   ]
  },
  {
   "cell_type": "markdown",
   "metadata": {
    "slideshow": {
     "slide_type": "slide"
    }
   },
   "source": [
    "<div style=\"display: flex; flex-direction: column; align-items: center;\">\n",
    "  <img src=\"img/research_fields.png\" style=\"max-width: 100%; height: auto; margin-bottom: 10px;\" />\n",
    "</div>\n"
   ]
  },
  {
   "cell_type": "markdown",
   "metadata": {},
   "source": [
    "  <div style=\"display: flex; width: 100%; justify-content: space-between;\">\n",
    "    <img src=\"img/programming_experience.png\" style=\"floating: left; width: 300px;\" />\n",
    "    <img src=\"img/bioinformatics_experience.png\" style=\"floating: right; width: 450px;\" />\n",
    "  </div>"
   ]
  },
  {
   "cell_type": "markdown",
   "metadata": {
    "slideshow": {
     "slide_type": "slide"
    }
   },
   "source": [
    "## Exercise (15 min)\n",
    "Create the same figure using AI, given the Excel file <a href=\"python-bioinfo.bioshu.se/lectures/student_survey.xlsx\">python-bioinfo.bioshu.se/lectures/student_survey.xlsx</a>\n",
    "\n",
    "___\n",
    "#### Take a short break before summary"
   ]
  },
  {
   "cell_type": "markdown",
   "metadata": {
    "slideshow": {
     "slide_type": "slide"
    }
   },
   "source": [
    "## Summary"
   ]
  },
  {
   "cell_type": "markdown",
   "metadata": {
    "slideshow": {
     "slide_type": "-"
    }
   },
   "source": [
    "You have learned the fundermentals of Python and now you should be able to \n",
    "\n",
    "- Know how to write a Python script to acheive basic bioinformatics tasks \n",
    "- Know how to use the Python modules and packages to facilitate your coding task\n",
    "- Know basics of data analysis and plotting with the Pandas module\n",
    "- Know how to further develop your Python skills with numeras online tutorials and documentation"
   ]
  },
  {
   "cell_type": "markdown",
   "metadata": {
    "slideshow": {
     "slide_type": "slide"
    }
   },
   "source": [
    "### Learning programming in the post-AI era\n",
    "\n",
    "- With the emergency of AI tools, memorizing numerous modules and methods is less important than before (unless efficiency is key).\n",
    "- The ability of decomposing tasks with algorithm thinking is more important. \n",
    "- A broad domain knowledge is essential for effectively instructing and leveraging AI tools.\n"
   ]
  },
  {
   "cell_type": "markdown",
   "metadata": {
    "slideshow": {
     "slide_type": "skip"
    }
   },
   "source": [
    "Note:\n",
    "- With the emergence of AI chatbot like ChatGPT, the effort to memorize the usage of numerous modules and methods is meaningless, unless efficiency is the main target of your programming.\n",
    "- The ability to raise the question and suggest steps to solve the question is more important.\n",
    "- It is important to build a broad domain knowledge to effectively instruct and leverage AI tools."
   ]
  },
  {
   "cell_type": "markdown",
   "metadata": {
    "slideshow": {
     "slide_type": "slide"
    }
   },
   "source": [
    "### The learning and forgetting curve\n",
    "<img src=\"img/learning_curve.png\" style=\"width: 600px;\" />"
   ]
  },
  {
   "cell_type": "markdown",
   "metadata": {
    "slideshow": {
     "slide_type": "fragment"
    }
   },
   "source": [
    "- Use it in your research\n",
    "- Discuss it with your colleagues\n",
    "- AI as your learning parter\n"
   ]
  },
  {
   "cell_type": "markdown",
   "metadata": {
    "slideshow": {
     "slide_type": "slide"
    }
   },
   "source": [
    "# Thank you!"
   ]
  },
  {
   "cell_type": "markdown",
   "metadata": {
    "slideshow": {
     "slide_type": "skip"
    }
   },
   "source": [
    "Note: many thanks to the organiers, to all the brillant TAs and to you all who have been actively involved in learning and discussion during the past 5 days. Thank you very much!"
   ]
  }
 ],
 "metadata": {
  "celltoolbar": "Slideshow",
  "jupytext": {
   "cell_markers": "'''"
  },
  "kernelspec": {
   "display_name": "Python 3 (ipykernel)",
   "language": "python",
   "name": "python3"
  },
  "language_info": {
   "codemirror_mode": {
    "name": "ipython",
    "version": 3
   },
   "file_extension": ".py",
   "mimetype": "text/x-python",
   "name": "python",
   "nbconvert_exporter": "python",
   "pygments_lexer": "ipython3",
   "version": "3.11.0"
  },
  "rise": {
   "height": 1000,
   "scroll": true,
   "width": 1280
  }
 },
 "nbformat": 4,
 "nbformat_minor": 4
}
