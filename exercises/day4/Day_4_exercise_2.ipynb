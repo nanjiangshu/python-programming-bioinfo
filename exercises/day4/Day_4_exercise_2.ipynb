{
 "cells": [
  {
   "cell_type": "markdown",
   "id": "595a91b1",
   "metadata": {},
   "source": [
    "# Day 4, Exercise 2 - module, documentation and biopython\n",
    "\n",
    "### There are 2 parts to this exercise, with answers listed under each part.\n",
    "\n",
    "\n",
    "1. Create a module from previouse exercises and use it\n",
    "2. Use Biopython to rewrite the script that calculates the length of sequences (optional).\n",
    "\n",
    "There are various ways to write the code for these tasks. Here, we present one solution in the answers, but if you have written a different one, that's perfectly fine. Just ensure that you test your code to confirm that it performs as expected."
   ]
  },
  {
   "cell_type": "markdown",
   "id": "6871a68b",
   "metadata": {},
   "source": [
    "<hr style=\"border: 2px solid #000080;\">"
   ]
  },
  {
   "cell_type": "markdown",
   "id": "89ef841b",
   "metadata": {},
   "source": [
    "## 1.  Create a module from previouse exercises and use it\n",
    "\n",
    "### Description:\n",
    "A Python module is a file containing Python code (functions, classes, variables) which you can import and use in other Python scripts. This allows for better organization and reusability of your code. You import a module using the import statement.\n",
    "- __Note__: `class` is out of scope for this course.\n",
    "\n",
    "### Tasks:\n",
    "\n",
    "#### Save functions to a module\n",
    "- Save the functions you created from `Day 3, Exercise 2` (calculating the length of sequences and GC content) into a file called `dnatools.py` \n",
    "\n",
    "#### Add Documentation\n",
    "- Add module-level documentation (a docstring at the beginning of the file) describing what the module is about.\n",
    "- For each function, write a help message (a docstring directly under the function definition line, starting with def).\n",
    "\n",
    "#### Testing the module \n",
    "\n",
    "1. Import the module \n",
    "\n",
    "2. Show the help message of the module `dnatools`\n",
    "\n",
    "3. Show the help message of the function `get_seqlength`\n",
    "\n",
    "4. Write a test script called `test_dnatools.py` that tests the functions `get_seqlength`, `read_seq` and `get_gc_content` using the sequence file `one_dna_sequence.fa`\n",
    "\n",
    "5. Create a Python script called `./cal_seqlen_3.py` that perform the same functionality as the script `./cal_seqlen_2.py` you created at the `Bonus task of Day3, Exercise2` (copy the code from the answers if you haven't done it yet). However, this time you will use the function imported from the module `dnatools`.\n",
    "\n",
    "Try different ways to import the function from the module, e.g., \n",
    "```python\n",
    "from dnatools import get_seqlength\n",
    "# Import only the function get_seqlength from the module dnatools\n",
    "# The function can be called directly as get_seqlength(seqfile)\n",
    "```\n",
    "\n",
    "or\n",
    "\n",
    "```python\n",
    "import dnatools\n",
    "# Import the whole module under the namespace dnatools.\n",
    "# The function can be called by dnatools.get_seqlength(seqfile)\n",
    "# This approach can be slower and take more memory if the module is large.\n",
    "```\n",
    "\n",
    "or \n",
    "```python\n",
    "from dnatools import *\n",
    "# Import all functions and variables from the module dnatools.\n",
    "# All functions and variables can be used directly in the script.\n",
    "# This approach can be less efficient and make the code harder to debug if the module is large.\n",
    "```\n",
    "\n",
    "\n",
    "### Tips:\n",
    "- You don't need to add `#!/usr/bin/env python` at the beginning of the moudle file since this python script is not supposed to be execuated directlly in the command line \n",
    "\n",
    "___\n"
   ]
  },
  {
   "cell_type": "markdown",
   "id": "c7c10877",
   "metadata": {},
   "source": [
    "### The answers"
   ]
  },
  {
   "cell_type": "markdown",
   "id": "91a0b2d1",
   "metadata": {},
   "source": [
    "#### Save functions in a module and add the documentation\n",
    "- the content of the file `dnatools.py` are shown below"
   ]
  },
  {
   "cell_type": "code",
   "execution_count": null,
   "id": "1eabe14c",
   "metadata": {},
   "outputs": [],
   "source": [
    "\"\"\"\n",
    "dnatools.py\n",
    "\n",
    "This module provides tools for working with DNA sequences. The main functionalities include:\n",
    "- Calculating the length of a DNA sequence.\n",
    "- Reading a DNA sequence from a file.\n",
    "- Calculating the GC content of a DNA sequence.\n",
    "- Checking the GC content level of a DNA sequence against specified thresholds.\n",
    "\n",
    "Functions:\n",
    "- get_seqlength(seqfile): Calculates the length of a DNA sequence.\n",
    "- readseq(seqfile): Reads a DNA sequence from a file and returns it in uppercase.\n",
    "- get_gc_content(seq): Calculates the GC content of a DNA sequence as a percentage.\n",
    "- check_gc_content_level(seqfile, threshold_high=60.0, threshold_low=40.0): Checks the GC content level of a DNA sequence and categorizes it as high, low, or moderate.\n",
    "\"\"\"\n",
    "\n",
    "def get_seqlength(seqfile):\n",
    "    \"\"\"\n",
    "    Calculate the length of a DNA sequence.\n",
    "\n",
    "    Args:\n",
    "        seqfile (str): The path to the sequence file.\n",
    "\n",
    "    Returns:\n",
    "        int: The length of the DNA sequence.\n",
    "    \"\"\"\n",
    "    with open(seqfile, \"r\", encoding=\"utf-8\") as fpin:\n",
    "        seqlength = 0\n",
    "        for line in fpin:\n",
    "            if not line.startswith(\">\"):\n",
    "                seqlength += len(line.strip())\n",
    "    return seqlength\n",
    "\n",
    "def readseq(seqfile):\n",
    "    \"\"\"\n",
    "    Read a DNA sequence from a file and return it in uppercase.\n",
    "\n",
    "    Args:\n",
    "        seqfile (str): The path to the sequence file.\n",
    "\n",
    "    Returns:\n",
    "        str: The DNA sequence in uppercase.\n",
    "    \"\"\"\n",
    "    with open(seqfile, \"r\", encoding=\"utf-8\") as fpin:\n",
    "        seq = \"\"\n",
    "        for line in fpin:\n",
    "            if not line.startswith(\">\"):\n",
    "                seq += line.strip()\n",
    "    return seq.upper()\n",
    "\n",
    "def get_gc_content(seq):\n",
    "    \"\"\"\n",
    "    Calculate the GC content of a DNA sequence as a percentage.\n",
    "\n",
    "    Args:\n",
    "        seq (str): The DNA sequence.\n",
    "\n",
    "    Returns:\n",
    "        float: The GC content percentage of the DNA sequence.\n",
    "    \"\"\"\n",
    "    return (seq.count('G') + seq.count('C')) / len(seq) * 100\n",
    "\n",
    "def check_gc_content_level(seqfile, threshold_high=60.0, threshold_low=40.0):\n",
    "    \"\"\"\n",
    "    Check the GC content level of a DNA sequence and categorize it as high, \n",
    "    low, or moderate based on specified thresholds.\n",
    "\n",
    "    Args:\n",
    "        seqfile (str): The path to the sequence file.\n",
    "        threshold_high (float, optional): The threshold for high GC content. Default is 60.0.\n",
    "        threshold_low (float, optional): The threshold for low GC content. Default is 40.0.\n",
    "\n",
    "    Returns:\n",
    "        str: A message indicating the GC content percentage and its level (high, low, or moderate).\n",
    "    \"\"\"\n",
    "    seq = readseq(seqfile)\n",
    "    gc_content = get_gc_content(seq)\n",
    "    if gc_content >= threshold_high:\n",
    "        return f\"The GC content of the sequence from {seqfile} is {gc_content:.2f}%, level is high\"\n",
    "    elif gc_content <= threshold_low:\n",
    "        return f\"The GC content of the sequence from {seqfile} is {gc_content:.2f}%, level is low\"\n",
    "    else:\n",
    "        return f\"The GC content of the sequence from {seqfile} is {gc_content:.2f}%, level is moderate\""
   ]
  },
  {
   "cell_type": "markdown",
   "id": "35dee07c",
   "metadata": {},
   "source": [
    "__Import the module__"
   ]
  },
  {
   "cell_type": "code",
   "execution_count": null,
   "id": "bea7313b",
   "metadata": {},
   "outputs": [],
   "source": [
    "import dnatools"
   ]
  },
  {
   "cell_type": "markdown",
   "id": "2612e926",
   "metadata": {},
   "source": [
    "__Show the help message of the module dnatools__"
   ]
  },
  {
   "cell_type": "code",
   "execution_count": null,
   "id": "7e2e58e0",
   "metadata": {
    "scrolled": true
   },
   "outputs": [],
   "source": [
    "help(dnatools)"
   ]
  },
  {
   "cell_type": "markdown",
   "id": "cd6d07b5",
   "metadata": {},
   "source": [
    "__Show the help message of the function `get_seqlength`__"
   ]
  },
  {
   "cell_type": "code",
   "execution_count": null,
   "id": "577cd70c",
   "metadata": {},
   "outputs": [],
   "source": [
    "help(dnatools.get_seqlength)"
   ]
  },
  {
   "cell_type": "markdown",
   "id": "426feba6",
   "metadata": {},
   "source": [
    "__Write a test script called `test_dnatools.py` that tests the functions `get_seqlength`, `read_seq` and `get_gc_content` using the sequence file `one_dna_sequence.fa`__"
   ]
  },
  {
   "cell_type": "code",
   "execution_count": null,
   "id": "6425e246",
   "metadata": {},
   "outputs": [],
   "source": [
    "#!/usr/bin/env python\n",
    "import os\n",
    "from dnatools import get_seqlength, readseq, get_gc_content\n",
    "\n",
    "# Create a test sequence file\n",
    "seqfile = \"../downloads/one_dna_sequence.fa\" # replace with the actual path to the file\n",
    "\n",
    "\n",
    "# Test get_seqlength function\n",
    "print(\"\\nTesting get_seqlength()\")\n",
    "seq_length = get_seqlength(seqfile)\n",
    "print(f\"Length of {seqfile}: {seq_length}\")\n",
    "\n",
    "\n",
    "# Test readseq function\n",
    "print(\"\\nTesting readseq()\")\n",
    "sequence = readseq(seqfile)\n",
    "print(f\"sequence in the file {seqfile}: {sequence}\")\n",
    "\n",
    "# Test get_gc_content function\n",
    "print(\"\\nTesting get_gc_content()\")\n",
    "gc_content = get_gc_content(sequence)\n",
    "print(f\"GC content of {sequence}: {gc_content:.2f}%\")"
   ]
  },
  {
   "cell_type": "markdown",
   "id": "c3db9a74",
   "metadata": {},
   "source": [
    "__Create a Python script called `./cal_seqlen_3.py` that perform the same functionality as the script `./cal_seqlen_2.py` you created at the `Bonus task of Day3, Exercise2` (copy the code from the answers if you haven't done it yet). However, this time you will use the function imported from the module `dnatools`.__"
   ]
  },
  {
   "cell_type": "code",
   "execution_count": null,
   "id": "4447a050",
   "metadata": {},
   "outputs": [],
   "source": [
    "#!/usr/bin/env python\n",
    "\n",
    "import sys\n",
    "from dnatools import get_seqlength\n",
    "\n",
    "usage = f\"USAGE: {sys.argv[0]} SEQFILE [SEQFILE ...]\\n\"\n",
    "if len(sys.argv) < 2:\n",
    "    print(usage)\n",
    "    sys.exit(1)\n",
    "for seqfile in sys.argv[1:]:\n",
    "    print(f\"Length of {seqfile}: {get_seqlength(seqfile)}\") "
   ]
  },
  {
   "cell_type": "markdown",
   "id": "04c4e448",
   "metadata": {},
   "source": [
    "<hr style=\"border: 2px solid #000080;\">"
   ]
  },
  {
   "cell_type": "markdown",
   "id": "84abfc79",
   "metadata": {},
   "source": [
    "## 2. Use Biopython to rewrite the script that calculates the length of sequences (optional)\n",
    "\n",
    "### Description:\n",
    "Biopython is a collection of Python libraries and tools designed to facilitate biological computations. It provides functionalities for reading and writing different sequence formats, working with sequence alignments, performing various biological computations, and interfacing with popular bioinformatics databases and tools. Biopython aims to simplify the development of scripts and applications for bioinformatics research by offering a flexible and powerful toolkit.\n",
    "\n",
    "### Tasks:\n",
    "\n",
    "1. Create a Python script called `./cal_seqlen_4.py` that perform similar functionality as the script `./cal_seqlen.py` you created at the `Bonus task of Day3, Exercise2` (copy the code from the answers if you haven't done it yet). However, this time you will use the module `SeqIO` from Biopython to parse the sequence file.\n",
    "\n",
    "    - Output the result in the format\n",
    "```\n",
    "Sequence {i} in {filename}, ID: {sequence id}, Length: {length}\n",
    "```\n",
    "\n",
    "2. Run the script on both the single sequence file `one_dna_sequence.fa` and the multiple sequence file `Ecoli-10seq.fna` (the file can be found in the downloads folder or <a href=\"https://python-bioinfo.bioshu.se/downloads/Ecoli-10seq.fna\">here</a>).\n",
    "\n",
    "    - Consider whether it would be an easy task to achieve this without using Biopython.\n",
    "\n",
    "___"
   ]
  },
  {
   "cell_type": "markdown",
   "id": "044884d3",
   "metadata": {},
   "source": [
    "### The answers"
   ]
  },
  {
   "cell_type": "code",
   "execution_count": null,
   "id": "121767e6",
   "metadata": {},
   "outputs": [],
   "source": [
    "#!/usr/bin/env python\n",
    "import sys\n",
    "from Bio import SeqIO\n",
    "\n",
    "\n",
    "usage = f\"USAGE: {sys.argv[0]} SEQFILE\\n\"\n",
    "if len(sys.argv) < 2:\n",
    "    print(usage)\n",
    "    sys.exit(1)\n",
    "\n",
    "seqfile = sys.argv[1]\n",
    "\n",
    "with open(seqfile, \"r\") as handle:\n",
    "    i = 1\n",
    "    for record in SeqIO.parse(handle, \"fasta\"):\n",
    "        print(f\"Sequence {i} in {seqfile}, ID: {record.id}, Length: {len(record.seq)}\")\n",
    "        i += 1   "
   ]
  },
  {
   "cell_type": "markdown",
   "id": "36f45cc0",
   "metadata": {},
   "source": [
    "__Run the script__\n",
    "```bash\n",
    "python cal_seqlen_4.py ../downloads/one_dna_sequence.fa \n",
    "python cal_seqlen_4.py ../downloads/Ecoli-10seq.fna \n",
    "```"
   ]
  },
  {
   "cell_type": "markdown",
   "id": "8033b026",
   "metadata": {},
   "source": [
    "___"
   ]
  }
 ],
 "metadata": {
  "kernelspec": {
   "display_name": "Python 3 (ipykernel)",
   "language": "python",
   "name": "python3"
  },
  "language_info": {
   "codemirror_mode": {
    "name": "ipython",
    "version": 3
   },
   "file_extension": ".py",
   "mimetype": "text/x-python",
   "name": "python",
   "nbconvert_exporter": "python",
   "pygments_lexer": "ipython3",
   "version": "3.11.0"
  }
 },
 "nbformat": 4,
 "nbformat_minor": 5
}
