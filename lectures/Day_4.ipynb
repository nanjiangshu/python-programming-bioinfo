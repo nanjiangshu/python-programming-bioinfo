{
 "cells": [
  {
   "cell_type": "code",
   "execution_count": null,
   "metadata": {
    "slideshow": {
     "slide_type": "skip"
    }
   },
   "outputs": [],
   "source": [
    "from IPython.display import Image\n",
    "from IPython.display import clear_output\n",
    "from IPython.display import FileLink, FileLinks"
   ]
  },
  {
   "cell_type": "markdown",
   "metadata": {
    "cell_marker": "'''",
    "slideshow": {
     "slide_type": "slide"
    }
   },
   "source": [
    "<img src=\"img/python-logo-master-flat.png\" alt=\"Python Logo\" style=\"width: 120px; float: right; margin: 0 0 10px 10px;\" />\n",
    "\n",
    "## Introduction to Python with Application in Bioinformatics\n",
    "\n",
    "\n",
    "\n",
    "### Nanjiang Shu\n",
    "\n",
    "#### 2024-07-18 (Day 4)"
   ]
  },
  {
   "cell_type": "markdown",
   "metadata": {
    "slideshow": {
     "slide_type": "slide"
    }
   },
   "source": [
    "## Review of Day 3\n",
    "- Functions and methods\n",
    "    - A function is a block of code that performs a specific task\n",
    "    - A method is a function that is associated with an object\n",
    "    - `function_name()` vs `object.method_name()`\n",
    "- How to write your own functions\n",
    "```python\n",
    "        def function_name(parameters):\n",
    "            # block of code\n",
    "            return result\n",
    "```\n",
    "- How to write a script that can take arguments from the command line using `sys.argv`\n",
    "  - outcome: a software that can be reused by others\n",
    "  "
   ]
  },
  {
   "cell_type": "markdown",
   "metadata": {
    "slideshow": {
     "slide_type": "slide"
    }
   },
   "source": [
    "## Review of the quiz from Day 3\n",
    "- <a href=\"https://forms.office.com/Pages/DesignPageV2.aspx?origin=NeoPortalPage&subpage=design&id=DQSIkWdsW0yxEjajBLZtrQAAAAAAAAAAAAa__Yehr4dUQkIwRUdDVjBGOElETlNPMERKRTUzNlpMTS4u&analysis=true\">Link to the quiz statistics</a>"
   ]
  },
  {
   "cell_type": "markdown",
   "metadata": {
    "slideshow": {
     "slide_type": "slide"
    }
   },
   "source": [
    "### Question 5\n",
    "For a list `my_list`, what does `my_list.sort()` do?\n",
    "```\n",
    "  A: Prints a sorted copy of the list.\n",
    "  B: Returns a new list that is sorted.\n",
    "✔ C: Sorts the list in place and does not return a value.\n",
    "  D: Sorts the list and returns the sorted list.\n",
    "```\n",
    "Many answered `D`"
   ]
  },
  {
   "cell_type": "code",
   "execution_count": 206,
   "metadata": {},
   "outputs": [
    {
     "name": "stdout",
     "output_type": "stream",
     "text": [
      "my_list: [1, 2, 3, 5]\n",
      "return_value: None\n"
     ]
    }
   ],
   "source": [
    "my_list = [1, 3, 5, 2]\n",
    "return_value = my_list.sort()\n",
    "print(f\"my_list: {my_list}\")\n",
    "print(f\"return_value: {return_value}\")"
   ]
  },
  {
   "cell_type": "markdown",
   "metadata": {
    "slideshow": {
     "slide_type": "slide"
    }
   },
   "source": [
    "### Question 8\n",
    "Which is a common use case for defining a function in Python?\n",
    "```\n",
    "✔  A: To break code into reusable blocks.\n",
    "   B: To store data like variables do.\n",
    "   C: To increase the speed of the program.\n",
    "   D: To create a new module.\n",
    "```\n",
    "Many answered `D`\n",
    "#### In Python, a module is a file that contains a collections of related functions, classes and other attributes"
   ]
  },
  {
   "cell_type": "markdown",
   "metadata": {
    "cell_marker": "'''",
    "slideshow": {
     "slide_type": "slide"
    }
   },
   "source": [
    "### Day 4\n",
    "\n",
    "- __Session 1__: More on functions\n",
    "    - Scop of variables - global vs local\n",
    "    - Positional arguments and keyword arguments\n",
    "    - `return` statement\n",
    "- __Session 2__\n",
    "    - Comments and documentation\n",
    "    - Importing modules for using libraries\n",
    "    - Brief introduction to SeqIO module of Biopython\n",
    "#### Project time after lunch"
   ]
  },
  {
   "cell_type": "markdown",
   "metadata": {
    "slideshow": {
     "slide_type": "slide"
    }
   },
   "source": [
    "## Scope of variables - global vs local \n"
   ]
  },
  {
   "cell_type": "markdown",
   "metadata": {
    "slideshow": {
     "slide_type": "slide"
    }
   },
   "source": [
    "#### Variables defined inside the function are local variables"
   ]
  },
  {
   "cell_type": "code",
   "execution_count": 208,
   "metadata": {},
   "outputs": [
    {
     "name": "stdout",
     "output_type": "stream",
     "text": [
      "host inside the function = local\n"
     ]
    }
   ],
   "source": [
    "def show_host():\n",
    "    host = \"local\"\n",
    "    print(f'host inside the function = {host}')\n",
    "    \n",
    "show_host()\n",
    "del host"
   ]
  },
  {
   "cell_type": "code",
   "execution_count": 209,
   "metadata": {
    "slideshow": {
     "slide_type": "fragment"
    }
   },
   "outputs": [
    {
     "ename": "NameError",
     "evalue": "name 'host' is not defined",
     "output_type": "error",
     "traceback": [
      "\u001b[0;31m---------------------------------------------------------------------------\u001b[0m",
      "\u001b[0;31mNameError\u001b[0m                                 Traceback (most recent call last)",
      "Cell \u001b[0;32mIn[209], line 5\u001b[0m\n\u001b[1;32m      2\u001b[0m     host \u001b[38;5;241m=\u001b[39m \u001b[38;5;124m\"\u001b[39m\u001b[38;5;124mlocal\u001b[39m\u001b[38;5;124m\"\u001b[39m\n\u001b[1;32m      3\u001b[0m     \u001b[38;5;28mprint\u001b[39m(\u001b[38;5;124mf\u001b[39m\u001b[38;5;124m'\u001b[39m\u001b[38;5;124mhost inside the function: \u001b[39m\u001b[38;5;132;01m{\u001b[39;00mhost\u001b[38;5;132;01m}\u001b[39;00m\u001b[38;5;124m'\u001b[39m)\n\u001b[0;32m----> 5\u001b[0m \u001b[38;5;28mprint\u001b[39m(\u001b[38;5;124mf\u001b[39m\u001b[38;5;124m'\u001b[39m\u001b[38;5;124mhost outside the function: \u001b[39m\u001b[38;5;132;01m{\u001b[39;00mhost\u001b[38;5;132;01m}\u001b[39;00m\u001b[38;5;124m'\u001b[39m)\n",
      "\u001b[0;31mNameError\u001b[0m: name 'host' is not defined"
     ]
    }
   ],
   "source": [
    "def show_host():\n",
    "    host = \"local\"\n",
    "    print(f'host inside the function: {host}')\n",
    "    \n",
    "print(f'host outside the function: {host}')"
   ]
  },
  {
   "cell_type": "markdown",
   "metadata": {
    "slideshow": {
     "slide_type": "slide"
    }
   },
   "source": [
    "#### Global variables can be accessed both inside and outside of the function"
   ]
  },
  {
   "cell_type": "code",
   "execution_count": 210,
   "metadata": {},
   "outputs": [
    {
     "name": "stdout",
     "output_type": "stream",
     "text": [
      "host inside the function = global\n",
      "host outside the function = global\n"
     ]
    }
   ],
   "source": [
    "def show_host():\n",
    "    print(f'host inside the function = {host}')\n",
    "\n",
    "host = \"global\"\n",
    "show_host()\n",
    "print(f'host outside the function = {host}')\n"
   ]
  },
  {
   "cell_type": "markdown",
   "metadata": {
    "slideshow": {
     "slide_type": "slide"
    }
   },
   "source": [
    "#### Change the value from inside the function will not change the value of a global variable"
   ]
  },
  {
   "cell_type": "code",
   "execution_count": 213,
   "metadata": {
    "scrolled": true
   },
   "outputs": [
    {
     "name": "stdout",
     "output_type": "stream",
     "text": [
      "address of host outside =4307542256\n",
      "host outside the function before change = global\n",
      "address of host inside = 4307054320\n",
      "host inside the function = local\n",
      "address of host outside = 4307542256\n",
      "host outside the function after change  = global\n"
     ]
    }
   ],
   "source": [
    "def change_host():\n",
    "    host = 'local'\n",
    "    print(f\"address of host inside = {id(host)}\")\n",
    "    print(f'host inside the function = {host}')\n",
    "    \n",
    "host = 'global'\n",
    "print(f\"address of host outside ={id(host)}\")\n",
    "print(f'host outside the function before change = {host}')\n",
    "change_host()\n",
    "print(f\"address of host outside = {id(host)}\")\n",
    "print(f'host outside the function after change  = {host}')"
   ]
  },
  {
   "cell_type": "markdown",
   "metadata": {
    "slideshow": {
     "slide_type": "fragment"
    }
   },
   "source": [
    "#### Actually, a new local variable with the same name was created. "
   ]
  },
  {
   "cell_type": "markdown",
   "metadata": {
    "slideshow": {
     "slide_type": "slide"
    }
   },
   "source": [
    "#### Use the `global` keyword to modify the value of a global variable from inside the function"
   ]
  },
  {
   "cell_type": "code",
   "execution_count": 214,
   "metadata": {},
   "outputs": [
    {
     "name": "stdout",
     "output_type": "stream",
     "text": [
      "host outside the function before change: global\n",
      "host inside the function: modified\n",
      "host outside the function: modified\n"
     ]
    }
   ],
   "source": [
    "def change_host():\n",
    "    global host\n",
    "    host = 'modified'  # This modifies the global variable\n",
    "    print(f'host inside the function: {host}')\n",
    "    \n",
    "host = 'global'\n",
    "print(f'host outside the function before change: {host}')\n",
    "change_host()\n",
    "print(f'host outside the function: {host}')"
   ]
  },
  {
   "cell_type": "markdown",
   "metadata": {
    "slideshow": {
     "slide_type": "fragment"
    }
   },
   "source": [
    "####  Using the `global` keyword is not recommended, unless you know what you are doing!"
   ]
  },
  {
   "cell_type": "markdown",
   "metadata": {
    "slideshow": {
     "slide_type": "slide"
    }
   },
   "source": [
    "### Using mutable objects, e.g. `lists` as global variables"
   ]
  },
  {
   "cell_type": "code",
   "execution_count": 215,
   "metadata": {},
   "outputs": [
    {
     "name": "stdout",
     "output_type": "stream",
     "text": [
      "gene_ids outside the function before change = ['COX1', 'COX2']\n",
      "gene_ids inside the function = ['COX3', 'COX4']\n",
      "gene_ids outside the function after change  = ['COX1', 'COX2']\n"
     ]
    }
   ],
   "source": [
    "def change_genes():\n",
    "    gene_ids = ['COX3', 'COX4'] # a new local variable gene_ids is created\n",
    "    print(f'gene_ids inside the function = {gene_ids}')\n",
    "\n",
    "gene_ids = ['COX1', 'COX2']\n",
    "print(f'gene_ids outside the function before change = {gene_ids}')\n",
    "change_genes()\n",
    "print(f'gene_ids outside the function after change  = {gene_ids}')"
   ]
  },
  {
   "cell_type": "code",
   "execution_count": 216,
   "metadata": {
    "scrolled": true
   },
   "outputs": [
    {
     "name": "stdout",
     "output_type": "stream",
     "text": [
      "gene_ids outside the function before change = ['COX1', 'COX2']\n",
      "gene_ids inside the function = ['COX1', 'COX2', 'COX3', 'COX4']\n",
      "gene_ids outside the function after change  = ['COX1', 'COX2', 'COX3', 'COX4']\n"
     ]
    }
   ],
   "source": [
    "def change_genes():\n",
    "    gene_ids.extend(['COX3', 'COX4']) # call the global variable gene_ids\n",
    "    print(f'gene_ids inside the function = {gene_ids}')\n",
    "\n",
    "gene_ids = ['COX1', 'COX2']\n",
    "print(f'gene_ids outside the function before change = {gene_ids}')\n",
    "change_genes()\n",
    "print(f'gene_ids outside the function after change  = {gene_ids}')"
   ]
  },
  {
   "cell_type": "markdown",
   "metadata": {
    "slideshow": {
     "slide_type": "slide"
    }
   },
   "source": [
    "### Summary: \n",
    "- Variables defined inside the function are local variables and are alive only within the function.\n",
    "- Global variables can be accessed both from inside and outside of functions - __that is convenient__.\n",
    "- One can use the `global` keyword to declear a global variable within the function, but it is not recommended for beginners.\n",
    "- Be careful to use mutable objects as global variables due to their complexity and potential unintended side effects."
   ]
  },
  {
   "cell_type": "markdown",
   "metadata": {
    "cell_marker": "'''",
    "lines_to_next_cell": 1,
    "slideshow": {
     "slide_type": "slide"
    }
   },
   "source": [
    "### `return` statement\n",
    "\n",
    "```python\n",
    "def function_name(parameters):\n",
    "    # block of code\n",
    "    return result\n",
    "```\n",
    "\n",
    "#### Functions that `return` are easier to repurpose than those that `print` their result"
   ]
  },
  {
   "cell_type": "code",
   "execution_count": 217,
   "metadata": {
    "scrolled": true,
    "slideshow": {
     "slide_type": "slide"
    }
   },
   "outputs": [
    {
     "name": "stdout",
     "output_type": "stream",
     "text": [
      "7\n",
      "5\n"
     ]
    }
   ],
   "source": [
    "def get_seqlen(sequence):\n",
    "    length = len(sequence)\n",
    "    print(length)\n",
    "\n",
    "seq1 = \"ATCGACC\"\n",
    "seq2 = \"CAAAG\"\n",
    "\n",
    "get_seqlen(seq1)\n",
    "get_seqlen(seq2)"
   ]
  },
  {
   "cell_type": "code",
   "execution_count": 218,
   "metadata": {
    "slideshow": {
     "slide_type": "-"
    }
   },
   "outputs": [
    {
     "name": "stdout",
     "output_type": "stream",
     "text": [
      "7\n",
      "5\n"
     ]
    },
    {
     "ename": "TypeError",
     "evalue": "unsupported operand type(s) for +: 'NoneType' and 'NoneType'",
     "output_type": "error",
     "traceback": [
      "\u001b[0;31m---------------------------------------------------------------------------\u001b[0m",
      "\u001b[0;31mTypeError\u001b[0m                                 Traceback (most recent call last)",
      "Cell \u001b[0;32mIn[218], line 1\u001b[0m\n\u001b[0;32m----> 1\u001b[0m get_seqlen(seq1) \u001b[38;5;241m+\u001b[39m get_seqlen(seq2)\n",
      "\u001b[0;31mTypeError\u001b[0m: unsupported operand type(s) for +: 'NoneType' and 'NoneType'"
     ]
    }
   ],
   "source": [
    "get_seqlen(seq1) + get_seqlen(seq2) "
   ]
  },
  {
   "cell_type": "code",
   "execution_count": 219,
   "metadata": {
    "slideshow": {
     "slide_type": "slide"
    }
   },
   "outputs": [
    {
     "name": "stdout",
     "output_type": "stream",
     "text": [
      "7\n",
      "5\n"
     ]
    }
   ],
   "source": [
    "def get_seqlen(sequence):\n",
    "    length = len(sequence)\n",
    "    return length\n",
    "\n",
    "print(get_seqlen(seq1))\n",
    "print(get_seqlen(seq2))"
   ]
  },
  {
   "cell_type": "code",
   "execution_count": 220,
   "metadata": {},
   "outputs": [
    {
     "data": {
      "text/plain": [
       "12"
      ]
     },
     "execution_count": 220,
     "metadata": {},
     "output_type": "execute_result"
    }
   ],
   "source": [
    "get_seqlen(seq1) + get_seqlen(seq2)\n",
    "\n"
   ]
  },
  {
   "cell_type": "markdown",
   "metadata": {
    "slideshow": {
     "slide_type": "slide"
    }
   },
   "source": [
    "#### Functions without any `return` statement or without returning any value return `None`\n"
   ]
  },
  {
   "cell_type": "code",
   "execution_count": 221,
   "metadata": {
    "scrolled": true
   },
   "outputs": [
    {
     "name": "stdout",
     "output_type": "stream",
     "text": [
      "Return value of get_seqlen() = None\n"
     ]
    }
   ],
   "source": [
    "def get_seqlen(sequence):\n",
    "    length = len(sequence)\n",
    "    \n",
    "r = get_seqlen(\"A\")\n",
    "print(f'Return value of get_seqlen() = {r}')"
   ]
  },
  {
   "cell_type": "code",
   "execution_count": 222,
   "metadata": {},
   "outputs": [
    {
     "name": "stdout",
     "output_type": "stream",
     "text": [
      "Return value of get_seqlen() = None\n"
     ]
    }
   ],
   "source": [
    "def get_seqlen(sequence):\n",
    "    length = len(sequence)\n",
    "    return \n",
    "    \n",
    "r = get_seqlen(\"A\")\n",
    "print(f'Return value of get_seqlen() = {r}')"
   ]
  },
  {
   "cell_type": "markdown",
   "metadata": {
    "slideshow": {
     "slide_type": "slide"
    }
   },
   "source": [
    "### Summary\n",
    "Use `return` for all values that you might want to use later in your program"
   ]
  },
  {
   "cell_type": "markdown",
   "metadata": {
    "cell_marker": "'''",
    "slideshow": {
     "slide_type": "slide"
    }
   },
   "source": [
    "### Keyword arguments and positional arguments"
   ]
  },
  {
   "cell_type": "code",
   "execution_count": 223,
   "metadata": {},
   "outputs": [],
   "source": [
    "def sum3(a, b, c):\n",
    "    print(f\"a={a}\")\n",
    "    print(f\"b={b}\")\n",
    "    print(f\"c={c}\")\n",
    "    return a+b+c"
   ]
  },
  {
   "cell_type": "code",
   "execution_count": 227,
   "metadata": {},
   "outputs": [
    {
     "name": "stdout",
     "output_type": "stream",
     "text": [
      "a=1\n",
      "b=5\n",
      "c=4\n"
     ]
    },
    {
     "data": {
      "text/plain": [
       "10"
      ]
     },
     "execution_count": 227,
     "metadata": {},
     "output_type": "execute_result"
    }
   ],
   "source": [
    "sum3(1, c=4, b=5)"
   ]
  },
  {
   "cell_type": "markdown",
   "metadata": {
    "slideshow": {
     "slide_type": "slide"
    }
   },
   "source": [
    "### We have used keyword arguments and positional arguments already"
   ]
  },
  {
   "cell_type": "code",
   "execution_count": 229,
   "metadata": {
    "slideshow": {
     "slide_type": "-"
    }
   },
   "outputs": [
    {
     "data": {
      "text/plain": [
       "[5, 3, 2, 1]"
      ]
     },
     "execution_count": 229,
     "metadata": {},
     "output_type": "execute_result"
    }
   ],
   "source": [
    "sorted([1, 3, 2, 5], reverse=True)"
   ]
  },
  {
   "cell_type": "code",
   "execution_count": 232,
   "metadata": {},
   "outputs": [
    {
     "data": {
      "text/plain": [
       "['gene_id', '\"unknown gene\"']"
      ]
     },
     "execution_count": 232,
     "metadata": {},
     "output_type": "execute_result"
    }
   ],
   "source": [
    "attribute = 'gene_id \"unknown gene\"'\n",
    "attribute.split(' ', maxsplit=1)"
   ]
  },
  {
   "cell_type": "code",
   "execution_count": 234,
   "metadata": {},
   "outputs": [
    {
     "name": "stdout",
     "output_type": "stream",
     "text": [
      "x=1\n"
     ]
    }
   ],
   "source": [
    "# print(value, ..., sep=' ', end='\\n', file=sys.stdout, flush=False)\n",
    "print('x=', end='')\n",
    "print('1')"
   ]
  },
  {
   "cell_type": "markdown",
   "metadata": {
    "slideshow": {
     "slide_type": "slide"
    }
   },
   "source": [
    "## Properties of keyword arguments and positional arguments"
   ]
  },
  {
   "cell_type": "markdown",
   "metadata": {
    "cell_marker": "'''",
    "slideshow": {
     "slide_type": "slide"
    }
   },
   "source": [
    "### Arguments can be used in both ways, with or without keyword, if there is no ambiguity\n",
    "- When used with keyword, they are keyword arguments\n",
    "- When used without keyword, they are positional arguments"
   ]
  },
  {
   "cell_type": "code",
   "execution_count": null,
   "metadata": {},
   "outputs": [],
   "source": [
    "def sum3(a, b, c):\n",
    "    print(f\"a={a}\")\n",
    "    print(f\"b={b}\")\n",
    "    print(f\"c={c}\")\n",
    "    return a+b+c"
   ]
  },
  {
   "cell_type": "code",
   "execution_count": null,
   "metadata": {},
   "outputs": [],
   "source": [
    "sum3(1, 5, 8)"
   ]
  },
  {
   "cell_type": "code",
   "execution_count": null,
   "metadata": {},
   "outputs": [],
   "source": [
    "sum3(1, b=5, c=8)"
   ]
  },
  {
   "cell_type": "markdown",
   "metadata": {
    "cell_marker": "'''",
    "slideshow": {
     "slide_type": "slide"
    }
   },
   "source": [
    "### The order of keyword arguments can be switched"
   ]
  },
  {
   "cell_type": "code",
   "execution_count": 235,
   "metadata": {},
   "outputs": [
    {
     "name": "stdout",
     "output_type": "stream",
     "text": [
      "a=1\n",
      "b=5\n",
      "c=8\n"
     ]
    },
    {
     "data": {
      "text/plain": [
       "14"
      ]
     },
     "execution_count": 235,
     "metadata": {},
     "output_type": "execute_result"
    }
   ],
   "source": [
    "sum3(1, b=5, c=8)"
   ]
  },
  {
   "cell_type": "code",
   "execution_count": 236,
   "metadata": {},
   "outputs": [
    {
     "name": "stdout",
     "output_type": "stream",
     "text": [
      "a=1\n",
      "b=5\n",
      "c=8\n"
     ]
    },
    {
     "data": {
      "text/plain": [
       "14"
      ]
     },
     "execution_count": 236,
     "metadata": {},
     "output_type": "execute_result"
    }
   ],
   "source": [
    "sum3(1, c=8, b=5)"
   ]
  },
  {
   "cell_type": "markdown",
   "metadata": {
    "cell_marker": "'''",
    "slideshow": {
     "slide_type": "slide"
    }
   },
   "source": [
    "### Positional arguments must be in front of keyword arguments"
   ]
  },
  {
   "cell_type": "code",
   "execution_count": 237,
   "metadata": {},
   "outputs": [
    {
     "ename": "SyntaxError",
     "evalue": "positional argument follows keyword argument (3010964451.py, line 1)",
     "output_type": "error",
     "traceback": [
      "\u001b[0;36m  Cell \u001b[0;32mIn[237], line 1\u001b[0;36m\u001b[0m\n\u001b[0;31m    sum(1, b=5, 8)\u001b[0m\n\u001b[0m                 ^\u001b[0m\n\u001b[0;31mSyntaxError\u001b[0m\u001b[0;31m:\u001b[0m positional argument follows keyword argument\n"
     ]
    }
   ],
   "source": [
    "sum(1, b=5, 8)"
   ]
  },
  {
   "cell_type": "markdown",
   "metadata": {
    "cell_marker": "'''",
    "lines_to_next_cell": 1,
    "slideshow": {
     "slide_type": "slide"
    }
   },
   "source": [
    "### How to define functions taking keyword arguments\n",
    "\n",
    "- Just define them as usual:"
   ]
  },
  {
   "cell_type": "code",
   "execution_count": 238,
   "metadata": {},
   "outputs": [
    {
     "name": "stdout",
     "output_type": "stream",
     "text": [
      "The lecture is ongoing.\n",
      "The lecture is ongoing!\n",
      "The lecture is ongoing...\n"
     ]
    }
   ],
   "source": [
    "def format_sentence(subject, value, end):\n",
    "    return f\"The {subject} is {value}{end}\"\n",
    "\n",
    "print(format_sentence('lecture', 'ongoing', '.'))\n",
    "\n",
    "print(format_sentence('lecture', 'ongoing', end='!'))\n",
    "\n",
    "print(format_sentence(subject='lecture', value='ongoing', end='...'))"
   ]
  },
  {
   "cell_type": "markdown",
   "metadata": {
    "cell_marker": "'''",
    "lines_to_next_cell": 1,
    "slideshow": {
     "slide_type": "slide"
    }
   },
   "source": [
    "### Defining functions with default arguments"
   ]
  },
  {
   "cell_type": "code",
   "execution_count": 239,
   "metadata": {},
   "outputs": [
    {
     "name": "stdout",
     "output_type": "stream",
     "text": [
      "The lecture is ongoing.\n",
      "The lecture is ongoing...\n"
     ]
    }
   ],
   "source": [
    "def format_sentence(subject, value, end='.'):\n",
    "    return f\"The {subject} is {value}{end}\"\n",
    "\n",
    "print(format_sentence('lecture', 'ongoing'))\n",
    "\n",
    "print(format_sentence('lecture', 'ongoing', '...'))"
   ]
  },
  {
   "cell_type": "markdown",
   "metadata": {
    "cell_marker": "'''",
    "lines_to_next_cell": 1,
    "slideshow": {
     "slide_type": "slide"
    }
   },
   "source": [
    "### Defining functions with optional arguments\n",
    "\n",
    "- Convention: use the object `None`"
   ]
  },
  {
   "cell_type": "code",
   "execution_count": 240,
   "metadata": {},
   "outputs": [
    {
     "name": "stdout",
     "output_type": "stream",
     "text": [
      "The lecture is ongoing.\n",
      "The lecture is ongoing and self-referential!\n"
     ]
    }
   ],
   "source": [
    "def format_sentence(subject, value, end='.', second_value=None):\n",
    "    if second_value is None:\n",
    "        return f\"The {subject} is {value}{end}\"\n",
    "    else:\n",
    "        return f\"The {subject} is {value} and {second_value}{end}\"\n",
    "\n",
    "print(format_sentence('lecture', 'ongoing'))\n",
    "\n",
    "print(format_sentence('lecture', 'ongoing', second_value='self-referential', end='!'))"
   ]
  },
  {
   "cell_type": "markdown",
   "metadata": {
    "cell_marker": "'''",
    "slideshow": {
     "slide_type": "slide"
    }
   },
   "source": [
    "#### Small detour: Python's value for missing values: `None`\n",
    "- It is the default value for optional arguments\n",
    "- It is also the implicit return value of functions without a `return`\n",
    "- `None` is `None`, not anything else"
   ]
  },
  {
   "cell_type": "code",
   "execution_count": null,
   "metadata": {},
   "outputs": [],
   "source": [
    "bool(None)"
   ]
  },
  {
   "cell_type": "code",
   "execution_count": 241,
   "metadata": {},
   "outputs": [
    {
     "data": {
      "text/plain": [
       "False"
      ]
     },
     "execution_count": 241,
     "metadata": {},
     "output_type": "execute_result"
    }
   ],
   "source": [
    "None == False"
   ]
  },
  {
   "cell_type": "code",
   "execution_count": 242,
   "metadata": {},
   "outputs": [
    {
     "data": {
      "text/plain": [
       "False"
      ]
     },
     "execution_count": 242,
     "metadata": {},
     "output_type": "execute_result"
    }
   ],
   "source": [
    "None == 0"
   ]
  },
  {
   "cell_type": "code",
   "execution_count": 243,
   "metadata": {},
   "outputs": [
    {
     "data": {
      "text/plain": [
       "False"
      ]
     },
     "execution_count": 243,
     "metadata": {},
     "output_type": "execute_result"
    }
   ],
   "source": [
    "None == ''"
   ]
  },
  {
   "cell_type": "code",
   "execution_count": null,
   "metadata": {},
   "outputs": [],
   "source": [
    "type(None)"
   ]
  },
  {
   "cell_type": "markdown",
   "metadata": {
    "slideshow": {
     "slide_type": "slide"
    }
   },
   "source": [
    "### Special rules for defining positional arguments and keyword arguments"
   ]
  },
  {
   "cell_type": "code",
   "execution_count": 246,
   "metadata": {
    "collapsed": true
   },
   "outputs": [
    {
     "ename": "TypeError",
     "evalue": "sorted expected 1 argument, got 2",
     "output_type": "error",
     "traceback": [
      "\u001b[0;31m---------------------------------------------------------------------------\u001b[0m",
      "\u001b[0;31mTypeError\u001b[0m                                 Traceback (most recent call last)",
      "Cell \u001b[0;32mIn[246], line 1\u001b[0m\n\u001b[0;32m----> 1\u001b[0m \u001b[38;5;28msorted\u001b[39m([\u001b[38;5;241m1\u001b[39m, \u001b[38;5;241m3\u001b[39m, \u001b[38;5;241m2\u001b[39m, \u001b[38;5;241m5\u001b[39m], \u001b[38;5;28;01mTrue\u001b[39;00m)\n",
      "\u001b[0;31mTypeError\u001b[0m: sorted expected 1 argument, got 2"
     ]
    }
   ],
   "source": [
    "sorted([1, 3, 2, 5], True)"
   ]
  },
  {
   "cell_type": "code",
   "execution_count": 247,
   "metadata": {
    "slideshow": {
     "slide_type": "fragment"
    }
   },
   "outputs": [
    {
     "name": "stdout",
     "output_type": "stream",
     "text": [
      "Help on built-in function sorted in module builtins:\n",
      "\n",
      "sorted(iterable, /, *, key=None, reverse=False)\n",
      "    Return a new list containing all items from the iterable in ascending order.\n",
      "    \n",
      "    A custom key function can be supplied to customize the sort order, and the\n",
      "    reverse flag can be set to request the result in descending order.\n",
      "\n"
     ]
    }
   ],
   "source": [
    "help(sorted)"
   ]
  },
  {
   "cell_type": "markdown",
   "metadata": {
    "slideshow": {
     "slide_type": "fragment"
    }
   },
   "source": [
    "- Parameters before the slash symbol `/` are positional-only. \n",
    "- Parameters after the asterisk symbol `*` are keyword-only.\n",
    "- These rules are applied to enforce clarity and reduce errors in its usage."
   ]
  },
  {
   "cell_type": "markdown",
   "metadata": {
    "cell_marker": "'''",
    "slideshow": {
     "slide_type": "slide"
    }
   },
   "source": [
    "### Day 4, Exercise 1\n",
    "- Link: https://python-bioinfo.bioshu.se/exercises.html\n",
    "- Extra reading:\n",
    "    - https://able.bio/rhett/python-functions-and-best-practices--78aclaa\n",
    "___\n",
    "#### Take a break after the exercise"
   ]
  },
  {
   "cell_type": "markdown",
   "metadata": {
    "slideshow": {
     "slide_type": "slide"
    }
   },
   "source": [
    "## Session 2: Moudles and Documentaiton"
   ]
  },
  {
   "cell_type": "markdown",
   "metadata": {
    "cell_marker": "'''",
    "slideshow": {
     "slide_type": "slide"
    }
   },
   "source": [
    "### Code structure\n",
    "\n",
    "- functions\n",
    "- modules (files)"
   ]
  },
  {
   "cell_type": "markdown",
   "metadata": {
    "slideshow": {
     "slide_type": "fragment"
    }
   },
   "source": [
    "- Documentation"
   ]
  },
  {
   "cell_type": "markdown",
   "metadata": {
    "cell_marker": "'''",
    "slideshow": {
     "slide_type": "slide"
    }
   },
   "source": [
    "### Why functions?\n",
    "- Cleaner code\n",
    "- Better defined tasks in code\n",
    "- Re-usability\n",
    "- Better structure"
   ]
  },
  {
   "cell_type": "markdown",
   "metadata": {
    "cell_marker": "'''",
    "slideshow": {
     "slide_type": "slide"
    }
   },
   "source": [
    "### Why modules?\n",
    "\n",
    "- Cleaner code\n",
    "- Better defined tasks in code\n",
    "- Re-usability\n",
    "- Better structure"
   ]
  },
  {
   "cell_type": "markdown",
   "metadata": {
    "cell_marker": "'''",
    "slideshow": {
     "slide_type": "fragment"
    }
   },
   "source": [
    "- Collect all related functions in one file\n",
    "- Import a module to use its functions\n",
    "- Only need to understand what the functions do, not how"
   ]
  },
  {
   "cell_type": "markdown",
   "metadata": {
    "cell_marker": "'''",
    "slideshow": {
     "slide_type": "slide"
    }
   },
   "source": [
    "#### Example of modules"
   ]
  },
  {
   "cell_type": "code",
   "execution_count": null,
   "metadata": {},
   "outputs": [],
   "source": [
    "import sys\n",
    "\n",
    "sys.argv"
   ]
  },
  {
   "cell_type": "code",
   "execution_count": 248,
   "metadata": {},
   "outputs": [
    {
     "name": "stdout",
     "output_type": "stream",
     "text": [
      "2024-07-18 10:35:07.506254\n"
     ]
    }
   ],
   "source": [
    "from datetime import datetime\n",
    "print(datetime.now())"
   ]
  },
  {
   "cell_type": "markdown",
   "metadata": {
    "cell_marker": "'''",
    "slideshow": {
     "slide_type": "slide"
    }
   },
   "source": [
    "### Python standard modules\n",
    "\n",
    "Check out the [module index](https://docs.python.org/3/py-modindex.html)"
   ]
  },
  {
   "cell_type": "markdown",
   "metadata": {
    "cell_marker": "'''",
    "slideshow": {
     "slide_type": "slide"
    }
   },
   "source": [
    "How to find the right module?\n",
    "\n",
    "How to understand it?"
   ]
  },
  {
   "cell_type": "markdown",
   "metadata": {
    "cell_marker": "'''",
    "slideshow": {
     "slide_type": "slide"
    }
   },
   "source": [
    "### How to find the right module?\n",
    "\n",
    "- Look at the Python Module Index (https://docs.python.org/3/py-modindex.html)\n",
    "- Python tutorial at w3school (https://www.w3schools.com/python/default.asp)\n",
    "- Search in the Python Package Index (https://pypi.org)\n",
    "- Ask your colleagues\n",
    "- Search the web\n",
    "- Ask AI"
   ]
  },
  {
   "cell_type": "markdown",
   "metadata": {
    "slideshow": {
     "slide_type": "slide"
    }
   },
   "source": [
    "- Standard modules: no installation needed\n",
    "\n",
    "- Other libraries: install with e.g. \n",
    "    - `pip install` \n",
    "    - `conda install`"
   ]
  },
  {
   "cell_type": "markdown",
   "metadata": {
    "cell_marker": "'''",
    "slideshow": {
     "slide_type": "skip"
    }
   },
   "source": [
    "### How to understand it?\n",
    "- E.g. I want to know how to split a string by the separator `,`"
   ]
  },
  {
   "cell_type": "code",
   "execution_count": null,
   "metadata": {
    "slideshow": {
     "slide_type": "skip"
    }
   },
   "outputs": [],
   "source": [
    "text = 'Programming,is,cool'\n",
    "help(dummy)"
   ]
  },
  {
   "cell_type": "code",
   "execution_count": null,
   "metadata": {
    "slideshow": {
     "slide_type": "skip"
    }
   },
   "outputs": [],
   "source": [
    "text.split(sep=',')"
   ]
  },
  {
   "cell_type": "markdown",
   "metadata": {
    "slideshow": {
     "slide_type": "skip"
    }
   },
   "source": [
    "- For slightly more complicated problems, e.g. how to download Python logo from internet with `urllib`\n",
    "- URL: https://www.python.org/static/img/python-logo@2x.png"
   ]
  },
  {
   "cell_type": "code",
   "execution_count": null,
   "metadata": {
    "scrolled": true,
    "slideshow": {
     "slide_type": "skip"
    }
   },
   "outputs": [],
   "source": [
    "import urllib\n",
    "\n"
   ]
  },
  {
   "cell_type": "markdown",
   "metadata": {
    "slideshow": {
     "slide_type": "skip"
    }
   },
   "source": [
    "- Sometimes easier to find the answer by searching the web"
   ]
  },
  {
   "cell_type": "code",
   "execution_count": null,
   "metadata": {
    "slideshow": {
     "slide_type": "skip"
    }
   },
   "outputs": [],
   "source": [
    "import urllib\n",
    "url = 'https://www.python.org/static/img/python-logo@2x.png'\n",
    "urllib.request.urlretrieve(url, 'files/python-logo.png')"
   ]
  },
  {
   "cell_type": "code",
   "execution_count": null,
   "metadata": {
    "slideshow": {
     "slide_type": "skip"
    }
   },
   "outputs": [],
   "source": [
    "help(math.sqrt)"
   ]
  },
  {
   "cell_type": "code",
   "execution_count": null,
   "metadata": {
    "slideshow": {
     "slide_type": "skip"
    }
   },
   "outputs": [],
   "source": [
    "math.sqrt(3)"
   ]
  },
  {
   "cell_type": "markdown",
   "metadata": {
    "cell_marker": "'''",
    "slideshow": {
     "slide_type": "slide"
    }
   },
   "source": [
    "### Various ways of importing"
   ]
  },
  {
   "cell_type": "code",
   "execution_count": 250,
   "metadata": {
    "collapsed": true,
    "slideshow": {
     "slide_type": "-"
    }
   },
   "outputs": [
    {
     "data": {
      "text/plain": [
       "1.7320508075688772"
      ]
     },
     "execution_count": 250,
     "metadata": {},
     "output_type": "execute_result"
    }
   ],
   "source": [
    "import math \n",
    "\n",
    "math.sqrt(3)"
   ]
  },
  {
   "cell_type": "code",
   "execution_count": 251,
   "metadata": {
    "collapsed": true,
    "slideshow": {
     "slide_type": "fragment"
    }
   },
   "outputs": [
    {
     "data": {
      "text/plain": [
       "1.7320508075688772"
      ]
     },
     "execution_count": 251,
     "metadata": {},
     "output_type": "execute_result"
    }
   ],
   "source": [
    "import pandas as pd\n",
    "m.sqrt(3)"
   ]
  },
  {
   "cell_type": "code",
   "execution_count": 254,
   "metadata": {
    "slideshow": {
     "slide_type": "fragment"
    }
   },
   "outputs": [
    {
     "data": {
      "text/plain": [
       "3.141592653589793"
      ]
     },
     "execution_count": 254,
     "metadata": {},
     "output_type": "execute_result"
    }
   ],
   "source": [
    "from math import *\n",
    "pi"
   ]
  },
  {
   "cell_type": "code",
   "execution_count": null,
   "metadata": {
    "slideshow": {
     "slide_type": "skip"
    }
   },
   "outputs": [],
   "source": [
    "from pprint import pprint"
   ]
  },
  {
   "cell_type": "markdown",
   "metadata": {
    "cell_marker": "'''",
    "slideshow": {
     "slide_type": "slide"
    }
   },
   "source": [
    "### Documentation and commenting your code\n",
    "\n",
    "\n",
    "Remember `help()`?"
   ]
  },
  {
   "cell_type": "code",
   "execution_count": 256,
   "metadata": {
    "slideshow": {
     "slide_type": "-"
    }
   },
   "outputs": [
    {
     "name": "stdout",
     "output_type": "stream",
     "text": [
      "Help on built-in function sorted in module builtins:\n",
      "\n",
      "sorted(iterable, /, *, key=None, reverse=False)\n",
      "    Return a new list containing all items from the iterable in ascending order.\n",
      "    \n",
      "    A custom key function can be supplied to customize the sort order, and the\n",
      "    reverse flag can be set to request the result in descending order.\n",
      "\n"
     ]
    }
   ],
   "source": [
    "help(sorted)"
   ]
  },
  {
   "cell_type": "markdown",
   "metadata": {
    "cell_marker": "'''",
    "slideshow": {
     "slide_type": "fragment"
    }
   },
   "source": [
    "- This works because somebody else has documented their code!"
   ]
  },
  {
   "cell_type": "markdown",
   "metadata": {
    "slideshow": {
     "slide_type": "slide"
    }
   },
   "source": [
    "#### The help message for functions can be added directly under the function definition line"
   ]
  },
  {
   "cell_type": "code",
   "execution_count": 259,
   "metadata": {
    "slideshow": {
     "slide_type": "-"
    }
   },
   "outputs": [],
   "source": [
    "def process_file(filename, chrom, pos):\n",
    "    \"\"\"\n",
    "    Read VCF file and print all samples that match the specified chromosome and position\n",
    "    \n",
    "    Input arguments: VCF file name, chromosome, position\n",
    "    \"\"\"\n",
    "    for line in open(filename):\n",
    "        # Line started with '#' are ingored\n",
    "        if not line.startswith('#'):\n",
    "            col = line.split('\\t') # VCF is tab delimited\n",
    "            if col[0] == chrom and int(col[1]) == pos: \n",
    "                print(col[9:]) # samples are started from 10th column"
   ]
  },
  {
   "cell_type": "code",
   "execution_count": 260,
   "metadata": {
    "slideshow": {
     "slide_type": "-"
    }
   },
   "outputs": [
    {
     "name": "stdout",
     "output_type": "stream",
     "text": [
      "Help on function process_file in module __main__:\n",
      "\n",
      "process_file(filename, chrom, pos)\n",
      "    Read VCF file and print all samples that match the specified chromosome and position\n",
      "    \n",
      "    Input arguments: VCF file name, chromosome, position\n",
      "\n"
     ]
    }
   ],
   "source": [
    "help(process_file)"
   ]
  },
  {
   "cell_type": "markdown",
   "metadata": {
    "cell_marker": "'''",
    "slideshow": {
     "slide_type": "slide"
    }
   },
   "source": [
    "### Your code may have two types of users:\n",
    "\n",
    "- library users\n",
    "- maintainers (maybe yourself!)"
   ]
  },
  {
   "cell_type": "markdown",
   "metadata": {
    "cell_marker": "'''",
    "slideshow": {
     "slide_type": "slide"
    }
   },
   "source": [
    "### Write documentation for both of them!\n",
    "\n",
    "- #### Library users (docstrings):\n",
    "  ```python\n",
    "  \"\"\"\n",
    "  What does this function do?\n",
    "  \"\"\"\n",
    "  ```\n",
    "- #### Maintainers (comments):\n",
    "  ```python\n",
    "  # implementation details\n",
    "  ```\n",
    "Add comment when the code needs additional explanation\n",
    "  ```python\n",
    "    my_list[5] += other_list[3]  # explain why you do this!\n",
    "    ```"
   ]
  },
  {
   "cell_type": "code",
   "execution_count": null,
   "metadata": {
    "slideshow": {
     "slide_type": "skip"
    }
   },
   "outputs": [],
   "source": [
    "def process_file(filename, chrom, pos):\n",
    "    \"\"\"Read a vcf file, search for lines matching \n",
    "    chromosome chrom and position pos.\n",
    "\n",
    "    Print the genotypes of the matching lines.\n",
    "    \"\"\"\n",
    "    for line in open(filename):\n",
    "        if not line.startswith('#'):  # skip comments\n",
    "            col = line.split('\\t')  # file is tab separated\n",
    "            # Check if chrom and pos match\n",
    "            if col[0] == chrom and col[1] == pos:\n",
    "                # genotype starts at column index 9\n",
    "                print(col[9:])"
   ]
  },
  {
   "cell_type": "markdown",
   "metadata": {
    "cell_marker": "'''",
    "slideshow": {
     "slide_type": "slide"
    }
   },
   "source": [
    "### Places for documentation:\n",
    "#### 1. Add module documentation at the beginning of the file\n",
    "```python\n",
    "     \"\"\"\n",
    "     This module provides functions for ...\n",
    "     \"\"\"\n",
    "```\n",
    "#### 2. Add function documentation at every function definition under `def` \n",
    "```python\n",
    "    def function_name(parameters):\n",
    "        \"\"\"\n",
    "        This function performs ...\n",
    "        \"\"\"\n",
    "        # code block\n",
    "        return value\n",
    "```"
   ]
  },
  {
   "cell_type": "markdown",
   "metadata": {
    "slideshow": {
     "slide_type": "skip"
    }
   },
   "source": [
    "Note: Live coding, show an example of writing documentation\n",
    "\n",
    "create an empty file and named it as dna.py\n",
    "first, write a docstring at the beginning of the file"
   ]
  },
  {
   "cell_type": "markdown",
   "metadata": {
    "slideshow": {
     "slide_type": "slide"
    }
   },
   "source": [
    "### Demo, create a Python module called `dna.py` with documentation"
   ]
  },
  {
   "cell_type": "code",
   "execution_count": 271,
   "metadata": {
    "slideshow": {
     "slide_type": "fragment"
    }
   },
   "outputs": [
    {
     "name": "stdout",
     "output_type": "stream",
     "text": [
      "Help on function cal_gc_content in module dna:\n",
      "\n",
      "cal_gc_content(sequence)\n",
      "    Return the GC content in percentage given a DNA sequence\n",
      "    \n",
      "    Input: DNA sequence (string)\n",
      "    Output: gc_content in percentage (float)\n",
      "\n"
     ]
    },
    {
     "data": {
      "text/plain": [
       "40.0"
      ]
     },
     "execution_count": 271,
     "metadata": {},
     "output_type": "execute_result"
    }
   ],
   "source": [
    "# Input the module we have just created and show the help message\n",
    "import importlib\n",
    "importlib.reload(dna)\n",
    "import dna\n",
    "from dna import get_seqlen\n",
    "\n",
    "help(dna.cal_gc_content)\n",
    "dna.cal_gc_content(\"AAACGCGCG\") \n",
    "dna.cal_gc_content(\"AACGT\")"
   ]
  },
  {
   "cell_type": "markdown",
   "metadata": {
    "cell_marker": "'''",
    "slideshow": {
     "slide_type": "slide"
    }
   },
   "source": [
    "### Read more about documentation and comment:\n",
    "\n",
    "https://realpython.com/documenting-python-code/\n",
    "\n",
    "https://www.python.org/dev/peps/pep-0008/?#comments"
   ]
  },
  {
   "cell_type": "markdown",
   "metadata": {
    "slideshow": {
     "slide_type": "slide"
    }
   },
   "source": [
    "### Introduction to SeqIO in Biopython\n",
    "- An open-source collection of tools for biological computation.\n",
    "- Provides functionalities for reading, writing, and analyzing biological data.\n",
    "\n",
    "#### Installing biopython\n",
    "```bash\n",
    "pip install biopython\n",
    "# or\n",
    "conda install -c conda-forge biopython\n",
    "```\n"
   ]
  },
  {
   "cell_type": "markdown",
   "metadata": {
    "slideshow": {
     "slide_type": "skip"
    }
   },
   "source": [
    "Note: yesterday we have showed a python script to read DNA sequences from file and calculate the length of sequence. here I have modified the code slightly so that readseq is packed in a function readseq()"
   ]
  },
  {
   "cell_type": "code",
   "execution_count": 273,
   "metadata": {
    "slideshow": {
     "slide_type": "slide"
    }
   },
   "outputs": [
    {
     "name": "stdout",
     "output_type": "stream",
     "text": [
      "Length of DNA sequence: 9312\n"
     ]
    }
   ],
   "source": [
    "def get_seqlen_from_file(seqfile):\n",
    "    \"\"\"Read the sequence in fasta format, return the sequence in string\"\"\"\n",
    "    with open(seqfile, \"r\") as file:\n",
    "        seqlength = 0\n",
    "        for line in file:\n",
    "            line = line.strip()\n",
    "            if not line.startswith(\">\"):\n",
    "                seqlength += len(line)\n",
    "    return seqlength\n",
    "seqlength = get_seqlen_from_file(\"../downloads/Ecoli-10seq.fna\")\n",
    "print(f\"Length of DNA sequence: {str(seqlength)}\")"
   ]
  },
  {
   "cell_type": "markdown",
   "metadata": {
    "slideshow": {
     "slide_type": "slide"
    }
   },
   "source": [
    "### How to do that with Biopython"
   ]
  },
  {
   "cell_type": "markdown",
   "metadata": {
    "slideshow": {
     "slide_type": "skip"
    }
   },
   "source": [
    "SeqIO.parse support many formats, such as \n",
    "- fastaq: Extension of FASTA with quality scores.\n",
    "- genebank: Rich format that combines sequence data and annotation.\n",
    "- Stockholm: Used for multiple sequence alignments.\n",
    "- PIR: protein sequence database format"
   ]
  },
  {
   "cell_type": "code",
   "execution_count": 275,
   "metadata": {},
   "outputs": [
    {
     "name": "stdout",
     "output_type": "stream",
     "text": [
      "Length of DNA sequence: 170\n"
     ]
    }
   ],
   "source": [
    "from Bio import SeqIO\n",
    "for record in SeqIO.parse(\"../files/one_dna_sequence.fa\", \"fasta\"): \n",
    "    seqlength = len(record.seq)\n",
    "print(f\"Length of DNA sequence: {str(seqlength)}\")"
   ]
  },
  {
   "cell_type": "code",
   "execution_count": 276,
   "metadata": {},
   "outputs": [
    {
     "name": "stdout",
     "output_type": "stream",
     "text": [
      "id: random_sequence_1\n",
      "description: random_sequence_1 | Random generated DNA sequence of length 125\n",
      "seq: ATGGGACTGCTAGGACTAGCTAGCTCTAGGACTGATCGTAGCTAGCTAGGCTAGCCTAGCAGTCTAGCTAGGACGATCGTAGCCCATAGCGGCTAGCTAGTACTGATCGTGCTAGCTAGCTAGCTGACTAGCTGCGTAGCTAGCTGACTGCTAGGACTAGTTGCGCTAGC\n"
     ]
    }
   ],
   "source": [
    "from Bio import SeqIO\n",
    "for record in SeqIO.parse(\"../downloads/one_dna_sequence.fa\", \"fasta\"): \n",
    "    print(f\"id: {record.id}\") # characters after '>' until the first white space \n",
    "    print(f\"description: {record.description}\") # characters after '>'\n",
    "    print(f\"seq: {record.seq}\")"
   ]
  },
  {
   "cell_type": "markdown",
   "metadata": {
    "slideshow": {
     "slide_type": "slide"
    }
   },
   "source": [
    "### It works with sequences files with multiple sequences as well"
   ]
  },
  {
   "cell_type": "code",
   "execution_count": null,
   "metadata": {},
   "outputs": [],
   "source": [
    "!cat ../downloads/Ecoli-10seq.fna"
   ]
  },
  {
   "cell_type": "code",
   "execution_count": 278,
   "metadata": {
    "scrolled": true
   },
   "outputs": [
    {
     "name": "stdout",
     "output_type": "stream",
     "text": [
      "Length of lcl|NC_000913.3_cds_YP_025308.1_1724: 2262\n",
      "Length of lcl|NC_000913.3_cds_NP_416194.1_1672: 417\n",
      "Length of lcl|NC_000913.3_cds_NP_418217.1_3710: 264\n",
      "Length of lcl|NC_000913.3_cds_NP_418490.1_3983: 1293\n",
      "Length of lcl|NC_000913.3_cds_NP_416901.1_2381: 1257\n",
      "Length of lcl|NC_000913.3_cds_NP_417887.1_3363: 1434\n",
      "Length of lcl|NC_000913.3_cds_NP_418643.1_4139: 342\n",
      "Length of lcl|NC_000913.3_cds_NP_414712.1_172: 852\n",
      "Length of lcl|NC_000913.3_cds_NP_416467.1_1950: 918\n",
      "Length of lcl|NC_000913.3_cds_NP_416274.1_1752: 273\n"
     ]
    }
   ],
   "source": [
    "from Bio import SeqIO\n",
    "for record in SeqIO.parse(\"../downloads/Ecoli-10seq.fna\", \"fasta\"): \n",
    "    print(f\"Length of {record.id}: {len(record.seq)}\")"
   ]
  },
  {
   "cell_type": "markdown",
   "metadata": {
    "slideshow": {
     "slide_type": "skip"
    }
   },
   "source": [
    "### Fetch biological data from the database seamlinglessly"
   ]
  },
  {
   "cell_type": "code",
   "execution_count": null,
   "metadata": {
    "slideshow": {
     "slide_type": "skip"
    }
   },
   "outputs": [],
   "source": [
    "from Bio import Entrez\n",
    "\n",
    "# Always tell NCBI who you are\n",
    "Entrez.email = \"nanjiang.shu@scilifelab.se\"\n",
    "\n",
    "# Fetch a nucleotide sequence\n",
    "handle = Entrez.efetch(db=\"nucleotide\", id=\"NM_000546\", rettype=\"fasta\", retmode=\"text\")\n",
    "print(handle.read())\n"
   ]
  },
  {
   "cell_type": "markdown",
   "metadata": {
    "slideshow": {
     "slide_type": "slide"
    }
   },
   "source": [
    "### Further resources\n",
    "- Biopython Tutorial and Cookbook: http://biopython.org/DIST/docs/tutorial/Tutorial.html\n",
    "- Biopython Documentation: https://biopython.org/wiki/Documentation"
   ]
  },
  {
   "cell_type": "markdown",
   "metadata": {
    "slideshow": {
     "slide_type": "slide"
    }
   },
   "source": [
    "### Day 2, Exercise 2\n",
    "- Link: https://python-bioinfo.bioshu.se/exercises.html\n",
    "___\n",
    "##### Break\n",
    "___\n",
    "### Quiz of Day 2\n",
    "- Link: https://python-bioinfo.bioshu.se/quiz.html\n",
    "___\n",
    "#### Lunch\n",
    "___\n",
    "### Project time after lunch"
   ]
  }
 ],
 "metadata": {
  "celltoolbar": "Slideshow",
  "jupytext": {
   "cell_markers": "'''"
  },
  "kernelspec": {
   "display_name": "Python 3 (ipykernel)",
   "language": "python",
   "name": "python3"
  },
  "language_info": {
   "codemirror_mode": {
    "name": "ipython",
    "version": 3
   },
   "file_extension": ".py",
   "mimetype": "text/x-python",
   "name": "python",
   "nbconvert_exporter": "python",
   "pygments_lexer": "ipython3",
   "version": "3.11.0"
  },
  "rise": {
   "height": 1000,
   "scroll": true,
   "width": 1280
  }
 },
 "nbformat": 4,
 "nbformat_minor": 4
}
