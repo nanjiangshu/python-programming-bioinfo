{
 "cells": [
  {
   "cell_type": "markdown",
   "metadata": {},
   "source": [
    "# Day 3, Exercise 2 - writing functions and Python scripts with argument processing\n",
    "\n",
    "### There are 4 parts to this exercise, with answers listed under each part.\n",
    "1. Get sequence length\n",
    "2. Check GC content level for DNA sequences (optional)\n",
    "3. Use functions to solve Day 2, Exercise 2 (optional)\n",
    "4. Create a standalone Python program that can calculate sequence length \n",
    "\n",
    "There are various ways to write the code for these tasks. Here, we present one solution in the answers, but if you have written a different one, that's perfectly fine. Just ensure that you test your code to confirm that it performs as expected."
   ]
  },
  {
   "cell_type": "markdown",
   "metadata": {},
   "source": [
    "<hr style=\"border: 2px solid #000080;\">"
   ]
  },
  {
   "cell_type": "markdown",
   "metadata": {},
   "source": [
    "## 1. Get sequence length\n",
    "\n",
    "Write a function that takes a sequence file in Fasta format (with only one sequence) as input and return its length\n",
    "### Tips:\n",
    "- You can start with the code from Day 2, Exercise 1\n",
    "\n",
    "---"
   ]
  },
  {
   "cell_type": "markdown",
   "metadata": {},
   "source": [
    "### The answer"
   ]
  },
  {
   "cell_type": "code",
   "execution_count": 26,
   "metadata": {},
   "outputs": [
    {
     "name": "stdout",
     "output_type": "stream",
     "text": [
      "170\n"
     ]
    }
   ],
   "source": [
    "def get_seqlength(seqfile):   \n",
    "    with open(seqfile, \"r\") as fpin:\n",
    "        seqlength = 0\n",
    "        for line in fpin:\n",
    "            if not line.startswith(\">\"):\n",
    "                seqlength += len(line.strip())\n",
    "    return seqlength\n",
    "# check if the function works as expected\n",
    "length = get_seqlength(\"../../downloads/one_dna_sequence.fa\")\n",
    "print(length)"
   ]
  },
  {
   "cell_type": "markdown",
   "metadata": {},
   "source": [
    "<hr style=\"border: 2px solid #000080;\">"
   ]
  },
  {
   "cell_type": "markdown",
   "metadata": {},
   "source": [
    "## 2. Check GC content level for DNA sequences (optional)\n",
    "\n",
    "Write a function that takes three arguments as input\n",
    "1. A sequence file in Fasta format (with only one sequence) \n",
    "2. Two thresholds, `threshold_low` and `threshold_high`, that determines whether the GC content of the DNA sequence is high (>=60%), low (<=40%) or moderate (between 40% and 60%) \n",
    "and return the message in the following format\n",
    "```\n",
    "The GC content of the sequence from {filename} is {gc_content}%, level is high \n",
    "```\n",
    "The gc_content should be printed with 2 decimals\n",
    "### Tips:\n",
    "- You can start with the code from Day 2, Exercise 1\n",
    "- You may write more than one functions\n",
    "\n",
    "___"
   ]
  },
  {
   "cell_type": "markdown",
   "metadata": {},
   "source": [
    "### The answer"
   ]
  },
  {
   "cell_type": "code",
   "execution_count": 27,
   "metadata": {},
   "outputs": [
    {
     "name": "stdout",
     "output_type": "stream",
     "text": [
      "The GC content of the sequence from ../../downloads/one_dna_sequence.fa is 53.53%, level is moderate\n"
     ]
    }
   ],
   "source": [
    "def readseq(seqfile): #    \n",
    "    with open(seqfile, \"r\") as fpin:\n",
    "        seq = \"\"\n",
    "        for line in fpin:\n",
    "            if not line.startswith(\">\"):\n",
    "                seq += line.strip()\n",
    "    return seq.upper()\n",
    "\n",
    "def get_gc_content(seq):\n",
    "    return (seq.count('G') + seq.count('C')) / len(seq) * 100\n",
    "\n",
    "def check_gc_content_level(seqfile, threshold_high, threshold_low):\n",
    "    seq = readseq(seqfile)\n",
    "    gc_content = get_gc_content(seq)\n",
    "    if gc_content >= threshold_high:\n",
    "        return f\"The GC content of the sequence from {seqfile} is {gc_content:.2f}%, level is high\"\n",
    "    elif gc_content <= threshold_low:\n",
    "        return f\"The GC content of the sequence from {seqfile} is {gc_content:.2f}%, level is low\"\n",
    "    else:\n",
    "        return f\"The GC content of the sequence from {seqfile} is {gc_content:.2f}%, level is moderate\"\n",
    "            \n",
    "# check if the function works as expected\n",
    "threshold_low = 40.0\n",
    "threshold_high = 60.0\n",
    "level_message = check_gc_content_level(\"../../downloads/one_dna_sequence.fa\", threshold_high, threshold_low)\n",
    "print(level_message)"
   ]
  },
  {
   "cell_type": "markdown",
   "metadata": {},
   "source": [
    "<hr style=\"border: 2px solid #000080;\">"
   ]
  },
  {
   "cell_type": "markdown",
   "metadata": {},
   "source": [
    "## 3. Use functions to solve Day 2, Exercise 2 (optional)\n",
    "\n",
    "\n",
    "In the Exercise 2 on Day 2, we have used the following code to solve a frequency analysis of SNP rs4988235 in VCF data."
   ]
  },
  {
   "cell_type": "code",
   "execution_count": 28,
   "metadata": {},
   "outputs": [
    {
     "name": "stdout",
     "output_type": "stream",
     "text": [
      "The frequency of the rs4988235 SNP is: 0.783\n"
     ]
    }
   ],
   "source": [
    "vcf_file = '../../downloads/genotypes_small.vcf' # set this to the actual path on your computer\n",
    "with open(vcf_file, 'r') as fh:\n",
    "\n",
    "    wt  = 0      # Remember to initialize the counting outside the loop, otherwise it will reset for every iteration\n",
    "    het = 0\n",
    "    hom = 0\n",
    "\n",
    "    for line in fh:\n",
    "        if not line.startswith('#'):\n",
    "            cols  = line.strip().split('\\t')\n",
    "            chrom = cols[0]                          # This is the chromosome\n",
    "            pos   = cols[1]                          # This is the position of the SNP on the chromsome\n",
    "            if chrom == '2' and pos == '136608646':  # Check if chrom and pos match. Notice the type! python reads all as strings!\n",
    "                for geno in cols[9:]:                # Loop over the items in cols, starting from index 9\n",
    "                    alleles = geno[0:3]              # Here we take the first 3 characters in the string geno\n",
    "                    if alleles == '0/0':             # Conditional to test whether alleles matches '0/0'\n",
    "                        wt += 1                      # If match, wt is increased by 1\n",
    "                    elif alleles == '0/1' or alleles == \"1/0\":\n",
    "                        het += 1\n",
    "                    elif alleles == '1/1':        \n",
    "                        hom += 1\n",
    "\n",
    "    freq = (2*hom + het)/((wt+hom+het)*2)                       # Calculate the alllele frequency\n",
    "    print('The frequency of the rs4988235 SNP is: '+str(round(freq,3)))  # Print a nice message and format freq to a string before printing"
   ]
  },
  {
   "cell_type": "markdown",
   "metadata": {},
   "source": [
    "Now rewrite the above code by use the following functions"
   ]
  },
  {
   "cell_type": "code",
   "execution_count": null,
   "metadata": {},
   "outputs": [],
   "source": [
    "def update_counts(#inputs):\n",
    "    # put code here\n",
    "    return wt, het, hom\n",
    "\n",
    "\n",
    "def calculate_freq(#inputs):\n",
    "    # put code here\n",
    "    return freq\n",
    "\n",
    "\n",
    "def format_nicely(#inputs):\n",
    "    # put code here\n",
    "    return formatted\n",
    "\n",
    "\n"
   ]
  },
  {
   "cell_type": "markdown",
   "metadata": {},
   "source": [
    "After that, your code will look like this"
   ]
  },
  {
   "cell_type": "code",
   "execution_count": 29,
   "metadata": {},
   "outputs": [
    {
     "name": "stdout",
     "output_type": "stream",
     "text": [
      "The frequency of the rs4988235 SNP is 0.78\n"
     ]
    }
   ],
   "source": [
    "vcf_file = '../../downloads/genotypes_small.vcf' # set this to the actual path on your computer\n",
    "with open(vcf_file, 'r') as fh:\n",
    "    wt  = 0      \n",
    "    het = 0\n",
    "    hom = 0\n",
    "\n",
    "    for line in fh:\n",
    "        if not line.startswith('#'):\n",
    "            cols  = line.strip().split('\\t')\n",
    "            chrom = cols[0]                         \n",
    "            pos   = cols[1]                          \n",
    "            if chrom == '2' and pos == '136608646':  \n",
    "                for geno in cols[9:]:               \n",
    "                    wt, het, hom = update_counts(geno[0:3], wt, het, hom)             \n",
    "\n",
    "    freq = calculate_freq(wt, het, hom)                     \n",
    "    print(f\"The frequency of the rs4988235 SNP is {format_nicely(freq)}\")  # print result with 2 decimals"
   ]
  },
  {
   "cell_type": "markdown",
   "metadata": {},
   "source": [
    "___"
   ]
  },
  {
   "cell_type": "markdown",
   "metadata": {},
   "source": [
    "### The answers"
   ]
  },
  {
   "cell_type": "code",
   "execution_count": 32,
   "metadata": {
    "scrolled": false
   },
   "outputs": [
    {
     "name": "stdout",
     "output_type": "stream",
     "text": [
      "The frequency of the rs4988235 SNP is 0.78\n"
     ]
    }
   ],
   "source": [
    "def update_counts(geno, wt, het, hom):\n",
    "    geno = geno_col.split(\":\")[0]    # Here we get the first item from geno_col, split by ':'\n",
    "    allele_list = geno.split('/') # Here we get each allele and convert the number to integer\n",
    "    allele_1 = int(allele_list[0])\n",
    "    allele_2 = int(allele_list[1])\n",
    "    if allele_1 == 0 and allele_2 == 0: # Conditional to test whether both alleles are 0\n",
    "        wt += 1                      # If match, wt is increased by 1\n",
    "    elif allele_1 > 0 and allele_2 > 0:\n",
    "        hom += 1\n",
    "    else:        \n",
    "        het += 1\n",
    "    return wt, het, hom\n",
    "\n",
    "\n",
    "def calculate_freq(wt, het, hom):\n",
    "    freq = (2*hom + het) / ((wt + hom + het) * 2) \n",
    "    return freq\n",
    "\n",
    "\n",
    "def format_nicely(freq):\n",
    "    formatted = f\"{freq:.2f}\" # Round the floating value to 2 decimal places.\n",
    "    return formatted\n",
    "\n",
    "\n",
    "\n",
    "vcf_file = '../../downloads/genotypes_small.vcf' # set this to the actual path on your computer\n",
    "with open(vcf_file, 'r') as fh:\n",
    "    wt  = 0      \n",
    "    het = 0\n",
    "    hom = 0\n",
    "\n",
    "    for line in fh:\n",
    "        if not line.startswith('#'):\n",
    "            cols  = line.strip().split('\\t')\n",
    "            chrom = cols[0]                         \n",
    "            pos   = cols[1]                          \n",
    "            if chrom == '2' and pos == '136608646':  \n",
    "                for geno_col in cols[9:]:               \n",
    "                    wt, het, hom = update_counts(geno_col.split(\":\")[0], wt, het, hom)             \n",
    "\n",
    "    freq = calculate_freq(wt, het, hom)                     \n",
    "    print(f\"The frequency of the rs4988235 SNP is {format_nicely(freq)}\")  # print result with 2 decimals"
   ]
  },
  {
   "cell_type": "markdown",
   "metadata": {},
   "source": [
    "<hr style=\"border: 2px solid #000080;\">"
   ]
  },
  {
   "cell_type": "markdown",
   "metadata": {},
   "source": [
    "## 4. Create a standalone Python program that can calculate sequence length\n",
    "\n",
    "### Task:\n",
    "Base on the first exercise, write a standalone Python program that can be run in the command line with \n",
    "```bash\n",
    "python cal_seqlen.py seqfile # for Windows users\n",
    "\n",
    "./cal_seqlen.py seqfile # for Linux and Mac users\n",
    "```\n",
    "\n",
    "and output  \n",
    "```\n",
    "Length of {filename}: {length}\n",
    "```\n",
    "\n",
    "#### Bonus task:\n",
    "Extend the Python program (and named it as `cal_seqlen_2.py`) so that it can accept arbitary number of sequence files from the command line, e.g.\n",
    "```bash\n",
    "python cal_seqlen_2.py seqfile1 seqfile2 seqfile3 ... # for Windows users\n",
    "\n",
    "./cal_seqlen_2.py seqfile1 seqfile2 seqfile3 ... # for Linux and Mac users\n",
    "\n",
    "```\n",
    "___"
   ]
  },
  {
   "cell_type": "markdown",
   "metadata": {},
   "source": [
    "### The answers"
   ]
  },
  {
   "cell_type": "markdown",
   "metadata": {},
   "source": [
    "Save the following code in a file named `cal_seqlen.py` \n",
    "\n",
    "___\n",
    "\n",
    "#### The instructions below are only for Linux or Mac users\n",
    "\n",
    "make the file `cal_seqlen.py` executable by running \n",
    "```bash\n",
    "chmod +x cal_seqlen.py\n",
    "```\n",
    "in the command line\n",
    "\n",
    "__Note__: Adding `#!/usr/bin/env python` at the beginning of a Python script allows it to be executed as a standalone executable without explicitly invoking the Python interpreter. However, you can always run the script with:\n",
    "\n",
    "```bash\n",
    "python ./cal_seqlen.py\n",
    "```\n",
    "whether the script contains this line or not.\n",
    "\n",
    "Test the script by e.g. \n",
    "\n",
    "```bash\n",
    "./cal_seqlen.py downloads/one_dna_sequence.fa\n",
    "```"
   ]
  },
  {
   "cell_type": "code",
   "execution_count": null,
   "metadata": {},
   "outputs": [],
   "source": [
    "#!/usr/bin/env python\n",
    "\n",
    "import sys\n",
    "\n",
    "def get_seqlength(seqfile):   \n",
    "    with open(seqfile, \"r\") as fpin:\n",
    "        seqlength = 0\n",
    "        for line in fpin:\n",
    "            if not line.startswith(\">\"):\n",
    "                seqlength += len(line.strip())\n",
    "    return seqlength\n",
    "\n",
    "usage = f\"USAGE: {sys.argv[0]} SEQFILE\\n\"\n",
    "if len(sys.argv) < 2:\n",
    "    print(usage)\n",
    "    sys.exit(1)\n",
    "\n",
    "seqfile = sys.argv[1]\n",
    "print(f\"Length of {seqfile}: {get_seqlength(seqfile)}\")"
   ]
  },
  {
   "cell_type": "markdown",
   "metadata": {},
   "source": [
    "### Answer for the bonus task:"
   ]
  },
  {
   "cell_type": "markdown",
   "metadata": {},
   "source": [
    "Save the following code in a file named `cal_seqlen_2.py` \n",
    "\n",
    "___\n",
    "#### The instructions below are only for Linux or Mac users\n",
    "\n",
    "Make the file `cal_seqlen_2.py` executable by running \n",
    "```bash\n",
    "chmod +x cal_seqlen_2.py\n",
    "```\n",
    "in the command line\n",
    "\n",
    "Test the script by e.g. \n",
    "\n",
    "```bash\n",
    "./cal_seqlen_2.py ./downloads/DNAseqs/Ecoli-10seq_*.fna\n",
    "```\n",
    "\n",
    "Note: the wild card `*` in the command line will return all files matching the pattern and in this case, all 10 DNA sequence files will be provided in the command line."
   ]
  },
  {
   "cell_type": "code",
   "execution_count": null,
   "metadata": {},
   "outputs": [],
   "source": [
    "#!/usr/bin/env python\n",
    "\n",
    "import sys\n",
    "\n",
    "def get_seqlength(seqfile):   \n",
    "    with open(seqfile, \"r\") as fpin:\n",
    "        seqlength = 0\n",
    "        for line in fpin:\n",
    "            if not line.startswith(\">\"):\n",
    "                seqlength += len(line.strip())\n",
    "    return seqlength\n",
    "\n",
    "usage = f\"USAGE: {sys.argv[0]} SEQFILE [SEQFILE ...]\\n\"\n",
    "if len(sys.argv) < 2:\n",
    "    print(usage)\n",
    "    sys.exit(1)\n",
    "for seqfile in sys.argv[1:]:\n",
    "    print(f\"Length of {seqfile}: {get_seqlength(seqfile)}\")"
   ]
  },
  {
   "cell_type": "markdown",
   "metadata": {},
   "source": [
    "- `sys.argv[1:]` returns all command line arguments except the first one. \n",
    "- Note that the above script does not include proper error handling (which is beyond the scope of this course). Therefore, if the file does not exist, you may see many unwanted error messages."
   ]
  }
 ],
 "metadata": {
  "kernelspec": {
   "display_name": "Python 3 (ipykernel)",
   "language": "python",
   "name": "python3"
  },
  "language_info": {
   "codemirror_mode": {
    "name": "ipython",
    "version": 3
   },
   "file_extension": ".py",
   "mimetype": "text/x-python",
   "name": "python",
   "nbconvert_exporter": "python",
   "pygments_lexer": "ipython3",
   "version": "3.11.0"
  }
 },
 "nbformat": 4,
 "nbformat_minor": 2
}
