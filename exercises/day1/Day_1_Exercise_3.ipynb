{
 "cells": [
  {
   "cell_type": "markdown",
   "metadata": {},
   "source": [
    "## Day 1,  Exercise 3 - loops\n",
    "\n",
    "### There are three parts to this exercise, with answers listed under each part.\n",
    "1. For loops\n",
    "2. While loops\n",
    "3. Bonus exercise (optional)\n",
    "\n"
   ]
  },
  {
   "cell_type": "markdown",
   "metadata": {},
   "source": [
    "<hr style=\"border: 2px solid #000080;\">"
   ]
  },
  {
   "cell_type": "markdown",
   "metadata": {},
   "source": [
    "## 1. For loops\n"
   ]
  },
  {
   "cell_type": "markdown",
   "metadata": {},
   "source": [
    "- Write a `for loop` that prints each item in the list `[\"TP53\", \"BRCA1\", \"TP53\", \"EGFR\", \"MYC\", \"EGFR\", \"PTEN\"]`\n",
    "\n",
    "- Now modify your code so that it prints only the second character in each item in lower case.\n",
    "___"
   ]
  },
  {
   "cell_type": "markdown",
   "metadata": {},
   "source": [
    "### The answers\n"
   ]
  },
  {
   "cell_type": "code",
   "execution_count": 4,
   "metadata": {},
   "outputs": [
    {
     "name": "stdout",
     "output_type": "stream",
     "text": [
      "TP53\n",
      "BRCA1\n",
      "TP53\n",
      "EGFR\n",
      "MYC\n",
      "TP53\n",
      "PTEN\n"
     ]
    }
   ],
   "source": [
    "# Print every item of the list with a for loop\n",
    "gene_ids = [\"TP53\", \"BRCA1\", \"TP53\", \"EGFR\", \"MYC\", \"TP53\", \"PTEN\"]\n",
    "for gene_id in gene_ids:\n",
    "    print(gene_id) "
   ]
  },
  {
   "cell_type": "code",
   "execution_count": 5,
   "metadata": {
    "scrolled": false
   },
   "outputs": [
    {
     "name": "stdout",
     "output_type": "stream",
     "text": [
      "p\n",
      "r\n",
      "p\n",
      "g\n",
      "y\n",
      "p\n",
      "t\n"
     ]
    }
   ],
   "source": [
    "# Print the lower case of the second character of every item of the list\n",
    "gene_ids = [\"TP53\", \"BRCA1\", \"TP53\", \"EGFR\", \"MYC\", \"TP53\", \"PTEN\"]\n",
    "for gene_id in gene_ids:\n",
    "    print(gene_id[1].lower()) # string index starts from position 0, so [1] points to the second element"
   ]
  },
  {
   "cell_type": "markdown",
   "metadata": {},
   "source": [
    "<hr style=\"border: 2px solid #000080;\">"
   ]
  },
  {
   "cell_type": "markdown",
   "metadata": {},
   "source": [
    "## 2. While loops"
   ]
  },
  {
   "cell_type": "markdown",
   "metadata": {},
   "source": [
    "- Write a `while loop` that prints each item in the list `[\"TP53\", \"BRCA1\", \"TP53\", \"EGFR\", \"MYC\", \"EGFR\", \"PTEN\"]`\n",
    "\n",
    "- Modify your script so that it prints each item in the list plus which position it has in the list in the format `TP53 has position 0 in the list`\n",
    "\n",
    "---"
   ]
  },
  {
   "cell_type": "markdown",
   "metadata": {},
   "source": [
    "### The answers\n"
   ]
  },
  {
   "cell_type": "code",
   "execution_count": 11,
   "metadata": {},
   "outputs": [
    {
     "name": "stdout",
     "output_type": "stream",
     "text": [
      "TP53\n",
      "BRCA1\n",
      "TP53\n",
      "EGFR\n",
      "MYC\n",
      "TP53\n",
      "PTEN\n"
     ]
    }
   ],
   "source": [
    "# Print every item of the list with a 'while' loop\n",
    "gene_ids = [\"TP53\", \"BRCA1\", \"TP53\", \"EGFR\", \"MYC\", \"TP53\", \"PTEN\"]\n",
    "i = 0                                  # Set a counter on where to start in the list (0)\n",
    "while i < len(gene_ids):               # Run loop as long as this statement is true. \n",
    "    print(gene_ids[i])                 # Use i for index of languages\n",
    "    i += 1                             # Don't forget to increase i with 1, otherwise you have an infinite loop"
   ]
  },
  {
   "cell_type": "code",
   "execution_count": 13,
   "metadata": {},
   "outputs": [
    {
     "name": "stdout",
     "output_type": "stream",
     "text": [
      "TP53 has position 0 in the list\n",
      "BRCA1 has position 1 in the list\n",
      "TP53 has position 2 in the list\n",
      "EGFR has position 3 in the list\n",
      "MYC has position 4 in the list\n",
      "TP53 has position 5 in the list\n",
      "PTEN has position 6 in the list\n"
     ]
    }
   ],
   "source": [
    "# Print every item with it's position\n",
    "gene_ids = [\"TP53\", \"BRCA1\", \"TP53\", \"EGFR\", \"MYC\", \"TP53\", \"PTEN\"]\n",
    "i = 0                                          \n",
    "while i < len(gene_ids):                         \n",
    "    print(gene_ids[i]+' has position '+str(i)+' in the list')  # Use the counter i to print the position\n",
    "    i = i + 1                                  "
   ]
  },
  {
   "cell_type": "markdown",
   "metadata": {},
   "source": [
    "<hr style=\"border: 2px solid #000080;\">"
   ]
  },
  {
   "cell_type": "markdown",
   "metadata": {},
   "source": [
    "## 3. Bonus exercise (opertional)"
   ]
  },
  {
   "cell_type": "markdown",
   "metadata": {},
   "source": [
    "Here you will do a simple DNA sequence analysis\n",
    "You have a DNA sequence: `ATGCTAAGTCCGTTAGGCAAATCCTGCGTA`\n",
    "1. Count the occurrence of each nucleotide (A, T, G, C).\n",
    "2. Add a \"stop codon\" (TAA) at the end of the sequence if it doesn't already end in one.\n",
    "3. Reverse the sequence and create its complement. \n",
    "    - Uses string operations to map each nucleotide to its complement:\n",
    "        - 'A' to 'T'\n",
    "        - 'T' to 'A'\n",
    "        - 'G' to 'C'\n",
    "        - 'C' to 'G'\n",
    "\n",
    "___"
   ]
  },
  {
   "cell_type": "markdown",
   "metadata": {},
   "source": [
    "### The answers"
   ]
  },
  {
   "cell_type": "code",
   "execution_count": 19,
   "metadata": {},
   "outputs": [
    {
     "name": "stdout",
     "output_type": "stream",
     "text": [
      "\n",
      "Nucleotide Counts:\n",
      "A: 8\n",
      "T: 8\n",
      "G: 7\n",
      "C: 7\n"
     ]
    }
   ],
   "source": [
    "sequence = \"ATGCTAAGTCCGTTAGGCAAATCCTGCGTA\" # assign the DNA sequence to a variable\n",
    "\n",
    "# Count the number of occurrences of A, T, G, and C using a while loop\n",
    "a_count = 0\n",
    "t_count = 0\n",
    "g_count = 0\n",
    "c_count = 0\n",
    "\n",
    "index = 0\n",
    "while index < len(sequence):\n",
    "    a_count += sequence[index] == 'A' # integer + True  =  integer + 1, integer + False = integer \n",
    "    t_count += sequence[index] == 'T'  \n",
    "    g_count += sequence[index] == 'G'\n",
    "    c_count += sequence[index] == 'C'\n",
    "    index += 1\n",
    "\n",
    "print(\"\\nNucleotide Counts:\")\n",
    "print(f\"A: {a_count}\")\n",
    "print(f\"T: {t_count}\")\n",
    "print(f\"G: {g_count}\")\n",
    "print(f\"C: {c_count}\")"
   ]
  },
  {
   "cell_type": "code",
   "execution_count": 21,
   "metadata": {},
   "outputs": [
    {
     "name": "stdout",
     "output_type": "stream",
     "text": [
      "\n",
      "Sequence with Stop Codon:\n",
      "ATGCTAAGTCCGTTAGGCAAATCCTGCGTATAA\n"
     ]
    }
   ],
   "source": [
    "# The sequence must end in 'TAA', so we handle this by truncating the last three nucleotides and appending 'TAA'\n",
    "sequence_with_stop_codon = sequence + \"TAA\"\n",
    "print(\"\\nSequence with Stop Codon:\")\n",
    "print(sequence_with_stop_codon)"
   ]
  },
  {
   "cell_type": "code",
   "execution_count": 22,
   "metadata": {},
   "outputs": [
    {
     "name": "stdout",
     "output_type": "stream",
     "text": [
      "\n",
      "Reversed and Complemented Sequence:\n",
      "TTATACGCAGGATTTGCCTAACGGACTTAGCAT\n"
     ]
    }
   ],
   "source": [
    "# Reverse the sequence_with_stop_codon and create its complement. \n",
    "reversed_sequence = sequence_with_stop_codon[::-1] # get the string in reverse order, step = -1\n",
    "reversed_complement_sequence = \"\"\n",
    "for nuc in reversed_sequence:\n",
    "    # Map each nucleotide to its complement using string operations\n",
    "    # str * False = \"\"\n",
    "    # str * True = str\n",
    "    comp_dna = 'T' * (nuc == 'A') + 'A' * (nuc == 'T') + 'C' * (nuc == 'G') + 'G' * (nuc == 'C')\n",
    "    reversed_complement_sequence += comp_dna\n",
    "print(\"\\nReversed and Complemented Sequence:\")\n",
    "print(reversed_complement_sequence)"
   ]
  },
  {
   "cell_type": "code",
   "execution_count": null,
   "metadata": {},
   "outputs": [],
   "source": []
  }
 ],
 "metadata": {
  "kernelspec": {
   "display_name": "Python 3 (ipykernel)",
   "language": "python",
   "name": "python3"
  },
  "language_info": {
   "codemirror_mode": {
    "name": "ipython",
    "version": 3
   },
   "file_extension": ".py",
   "mimetype": "text/x-python",
   "name": "python",
   "nbconvert_exporter": "python",
   "pygments_lexer": "ipython3",
   "version": "3.11.0"
  }
 },
 "nbformat": 4,
 "nbformat_minor": 2
}
