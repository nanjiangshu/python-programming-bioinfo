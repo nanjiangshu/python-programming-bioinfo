{
 "cells": [
  {
   "cell_type": "code",
   "execution_count": 12,
   "metadata": {
    "slideshow": {
     "slide_type": "skip"
    }
   },
   "outputs": [
    {
     "data": {
      "text/html": [
       "\n",
       "<style>\n",
       "    h1 {\n",
       "        margin-top: 0 !important;\n",
       "    }\n",
       "    h2 {\n",
       "        margin-top: 0 !important;\n",
       "    }\n",
       "</style>\n"
      ],
      "text/plain": [
       "<IPython.core.display.HTML object>"
      ]
     },
     "metadata": {},
     "output_type": "display_data"
    }
   ],
   "source": [
    "from IPython.display import Image\n",
    "from IPython.display import clear_output\n",
    "from IPython.display import FileLink, FileLinks\n",
    "import matplotlib.pyplot as plt\n",
    "import pandas        as pd\n",
    "import os\n",
    "import time\n",
    "\n",
    "from IPython.display import HTML\n",
    "styles = \"\"\"\n",
    "<style>\n",
    "    h1 {\n",
    "        margin-top: 0 !important;\n",
    "    }\n",
    "    h2 {\n",
    "        margin-top: 0 !important;\n",
    "    }\n",
    "</style>\n",
    "\"\"\"\n",
    "HTML(styles)\n",
    "display(HTML(styles))"
   ]
  },
  {
   "cell_type": "markdown",
   "metadata": {
    "slideshow": {
     "slide_type": "slide"
    }
   },
   "source": [
    "<img src=\"img/python-logo-master-flat.png\" alt=\"Python Logo\" style=\"width: 120px; float: right; margin: 0 0 10px 10px;\" />\n",
    "\n",
    "## Introduction to Python with Application in Bioinformatics\n",
    "\n",
    "\n",
    "\n",
    "### Nanjiang Shu\n",
    "\n",
    "#### 2024-07-16 (Day 2)"
   ]
  },
  {
   "cell_type": "markdown",
   "metadata": {
    "slideshow": {
     "slide_type": "slide"
    }
   },
   "source": [
    "## Review of Day 1\n",
    "\n",
    "- Liternals and their associated data types, variables, and basic operations\n",
    "    - Four basic data types: Numeric, String, Boolean, None\n",
    "    - Collection of data types: List, Tuple, Set and Dictionary\n",
    "    - Naming of variables, rules and conventions\n",
    "- Built-in functions and operations\n",
    "    - print, type, len, max, sum \n",
    "- Loops\n",
    "    - `for` loop and `while` loop\n",
    "- How to use if/elif/else statements to control the logic of the code"
   ]
  },
  {
   "cell_type": "markdown",
   "metadata": {
    "slideshow": {
     "slide_type": "slide"
    }
   },
   "source": [
    "## Review of the quiz from yesterday\n",
    "\n",
    "- <a href=\"https://forms.office.com/Pages/DesignPageV2.aspx?origin=NeoPortalPage&subpage=design&id=DQSIkWdsW0yxEjajBLZtrQAAAAAAAAAAAAa__Yehr4dUMTZSRVUyRVMxMTQzODBTUk1IVVZOVk83Ti4u&analysis=true\">Link to the quiz statistics</a>"
   ]
  },
  {
   "cell_type": "markdown",
   "metadata": {
    "slideshow": {
     "slide_type": "slide"
    }
   },
   "source": [
    "# Questions?"
   ]
  },
  {
   "cell_type": "markdown",
   "metadata": {
    "slideshow": {
     "slide_type": "slide"
    }
   },
   "source": [
    "## Day 2\n",
    "\n",
    "- __Session 1__:\n",
    "    - Python Script: Dump your code into a script\n",
    "    - File I/O: Read and write files\n",
    "- __Session 2__:\n",
    "    - Variants identification with VCF (Exercise after lunch)\n",
    "- __Session 3__:\n",
    "    - Introduction to the Course Project\n",
    "- __Session 4__:\n",
    "    - Team building - Spaghetti tower"
   ]
  },
  {
   "cell_type": "markdown",
   "metadata": {
    "slideshow": {
     "slide_type": "slide"
    }
   },
   "source": [
    "## Session 1: Python script, File I/O"
   ]
  },
  {
   "cell_type": "markdown",
   "metadata": {
    "slideshow": {
     "slide_type": "slide"
    }
   },
   "source": [
    "## Python script\n",
    "\n",
    "A Python script is a file containing Python code that can be executed all at once.\n",
    "- File Extension: `.py`\n",
    "\n"
   ]
  },
  {
   "cell_type": "markdown",
   "metadata": {
    "slideshow": {
     "slide_type": "skip"
    }
   },
   "source": [
    "Note: for example, we have a list of gene IDs and and print then one line per record, can that can be run in Jupyter notebook or in Python prompt or in PyCharm. Now I can save it in a text file and save it as `myscript.py`"
   ]
  },
  {
   "cell_type": "code",
   "execution_count": 4,
   "metadata": {
    "collapsed": true
   },
   "outputs": [
    {
     "name": "stdout",
     "output_type": "stream",
     "text": [
      "TP53\n",
      "COX2\n",
      "EGFR\n",
      "MTOR\n"
     ]
    }
   ],
   "source": [
    "genotype = \"AG\"\n",
    "phenotype = \"expressed\"\n",
    "if genotype == \"AG\":\n",
    "    # Only check phenotype if genotype is \"AG\"\n",
    "    if phenotype == \"expressed\":\n",
    "        print(\"Variant is active and expressed.\")\n",
    "    else:\n",
    "        print(\"Variant is inactive.\")\n",
    "else:\n",
    "    print(\"Non-target variant.\")"
   ]
  },
  {
   "cell_type": "markdown",
   "metadata": {
    "slideshow": {
     "slide_type": "fragment"
    }
   },
   "source": [
    "#### Now we will save the code in a text file and try to run it in the terminal"
   ]
  },
  {
   "cell_type": "markdown",
   "metadata": {
    "slideshow": {
     "slide_type": "skip"
    }
   },
   "source": [
    "### Things to remember when working with scripts\n",
    "\n",
    "- Put _#!/usr/bin/env python_ in the beginning of the file\n",
    "- Make the file executable to run with `./script.py`\n",
    "- Otherwise run script with `python script.py`"
   ]
  },
  {
   "cell_type": "markdown",
   "metadata": {
    "slideshow": {
     "slide_type": "slide"
    }
   },
   "source": [
    "## 5 mins exercise\n",
    "Put some of your Python code you have written yesterday and save it in a Python script, run it in a terminal with either \n",
    "___\n",
    "```bash\n",
    "    python yourscript.py\n",
    "```\n",
    "\n",
    "or\n",
    "```bash\n",
    "    ./yourscript.py\n",
    "```\n",
    "___\n",
    "- Replace `yourscript.py` with the actual name you use\n",
    "- You need to add `#!/usr/bin/env python` at the beginning of the script and also make the script executable in order to run it with the second method "
   ]
  },
  {
   "cell_type": "markdown",
   "metadata": {
    "slideshow": {
     "slide_type": "skip"
    }
   },
   "source": [
    "### Note: for all the examples we have shown, data is provided directly in the code, but that is not very practial in many cases. We probably want to read the data from files, and we may also want to write the result to some output files. That will require file reading and writing with Python"
   ]
  },
  {
   "cell_type": "markdown",
   "metadata": {
    "slideshow": {
     "slide_type": "slide"
    }
   },
   "source": [
    "## File I/O - read from file and write to file"
   ]
  },
  {
   "cell_type": "markdown",
   "metadata": {
    "slideshow": {
     "slide_type": "slide"
    }
   },
   "source": [
    "### Read from file\n",
    "___\n",
    "```python\n",
    "file = open(\"filename.txt\", \"r\")\n",
    "content = file.read()\n",
    "file.close()\n",
    "```\n",
    "___\n",
    "`'r'` specifies the mode for opening the file as a read-only text file. If the file does not exist, a `FileNotFoundError` will be raised.\n",
    "\n",
    "Other types of mode:\n",
    "- `'rb'`: Opens the file as a binary file for reading.\n",
    "- `'r+`  : Opens the file for reading and writing.\n",
    "\n",
    "Extra reading: https://www.w3schools.com/python/python_file_handling.asp\n"
   ]
  },
  {
   "cell_type": "markdown",
   "metadata": {
    "slideshow": {
     "slide_type": "slide"
    }
   },
   "source": [
    "#### Use the `with` keyword to ensure the file handle be closed automatically"
   ]
  },
  {
   "cell_type": "markdown",
   "metadata": {},
   "source": [
    "```python\n",
    "file = open(\"filename.txt\", \"r\")\n",
    "content = file.read()\n",
    "file.close()\n",
    "```\n",
    "___"
   ]
  },
  {
   "cell_type": "markdown",
   "metadata": {
    "slideshow": {
     "slide_type": "-"
    }
   },
   "source": [
    "```python\n",
    "with open(\"filename.txt\", \"r\") as file:\n",
    "    content = file.read()\n",
    "```"
   ]
  },
  {
   "cell_type": "markdown",
   "metadata": {
    "slideshow": {
     "slide_type": "skip"
    }
   },
   "source": [
    "Note: ASCII stands for the American Standard Code for Information Interchange. It is a character encoding standard for electronic communication. "
   ]
  },
  {
   "cell_type": "markdown",
   "metadata": {
    "slideshow": {
     "slide_type": "slide"
    }
   },
   "source": [
    "#### Specify `encoding='utf-8'` when opening a file in Python to ensure proper handling of text files that contain non-ASCII characters, such as Chinese characters."
   ]
  },
  {
   "cell_type": "markdown",
   "metadata": {
    "slideshow": {
     "slide_type": "-"
    }
   },
   "source": [
    "```python\n",
    "with open (\"filename.txt\", \"r\", encoding='utf-8') as file\n",
    "    content = file.read()\n",
    "```"
   ]
  },
  {
   "cell_type": "markdown",
   "metadata": {
    "slideshow": {
     "slide_type": "skip"
    }
   },
   "source": [
    "Note: UTF-8 (Unicode Transformation Format - 8-bit) is one of the most widely used encoding schemes and can represent every character in the Unicode character set.\n",
    "\n",
    "UTF-8 can represent 1,112,064 valid code points\n",
    "over 143,000 characters have been assigned\n"
   ]
  },
  {
   "cell_type": "markdown",
   "metadata": {
    "slideshow": {
     "slide_type": "slide"
    }
   },
   "source": [
    "I have a file contains DNA sequences and want to use Python to read its content and then calculate the number of nucleotides, that is, get the length of the dna sequence."
   ]
  },
  {
   "cell_type": "code",
   "execution_count": 40,
   "metadata": {
    "slideshow": {
     "slide_type": "skip"
    }
   },
   "outputs": [
    {
     "name": "stdout",
     "output_type": "stream",
     "text": [
      "Length of DNA sequence: 386\n"
     ]
    }
   ],
   "source": [
    "seqfile = \"../files/one_dna_sequence.fa\"\n",
    "\n",
    "with open(seqfile, \"r\") as file:\n",
    "    seqlength = 0\n",
    "    for line in file:\n",
    "        line = line.strip()\n",
    "        if not line.startswith(\">\"):\n",
    "            seqlength += len(line)\n",
    "    print(\"Length of DNA sequence:\", total_count)  "
   ]
  },
  {
   "cell_type": "code",
   "execution_count": 38,
   "metadata": {
    "collapsed": true,
    "slideshow": {
     "slide_type": "fragment"
    }
   },
   "outputs": [
    {
     "name": "stdout",
     "output_type": "stream",
     "text": [
      ">SEQUENCE_1\n",
      "\n",
      "AGCTTAGCTAAGCTTAGCTAAGCTTAGCTAAGCTTAGCTAGCTAGCTAGCTTAGCTAAGC\n",
      "\n",
      "TTAGCTAAGCTTAGCTAAGCTTAGCTAGCTAGCTAGCTTAGCTAAGCTTAGCTAAGCTTA\n",
      "\n",
      "GCTAAGCTTAGCTAGCTAGCTAGCTTAGCTAAGCTTAGCTAAGCTTAGCTAAGCTTAGCT\n",
      "\n",
      "AGCTAGCTAGCTTAGCTAAGCTTAGCTAAGCTTAGCTAAGCTTAGCTAGCTAGCTAGCTT\n",
      "\n",
      "AGCTAAGCTTAGCTAAGCTTAGCTAAGCTTAGCTAGCTAGCTAGCTTAGCTAAGCTTAGC\n",
      "\n",
      "TAAGCTTAGCTAAGCTTAGCTAGCTAGCTAGCTTAGCTAAGCTTAGCTAAGCTTAGCTAA\n",
      "\n",
      "GCTTAGCTAGCTAGCTAGCTTAGCTA\n",
      "\n",
      "\n",
      "\n"
     ]
    }
   ],
   "source": [
    "seqfile = \"../files/one_dna_sequence.fa\"\n",
    "\n",
    "with open(seqfile, \"r\") as file:\n",
    "    for line in file:\n",
    "        print(line)"
   ]
  },
  {
   "cell_type": "markdown",
   "metadata": {
    "slideshow": {
     "slide_type": "slide"
    }
   },
   "source": [
    "### Detour: useful methods for `string`\n",
    "\n",
    "\n",
    "`'string'.strip()` &emsp; &emsp; &emsp; Removes whitespace  \n",
    "`'string'.split()` &emsp; &emsp; &emsp; Splits on whitespace into list  "
   ]
  },
  {
   "cell_type": "code",
   "execution_count": 27,
   "metadata": {
    "slideshow": {
     "slide_type": "fragment"
    }
   },
   "outputs": [
    {
     "data": {
      "text/plain": [
       "'an example string with whitespaces at both ends'"
      ]
     },
     "execution_count": 27,
     "metadata": {},
     "output_type": "execute_result"
    }
   ],
   "source": [
    "string1  = '  an example string with whitespaces at both ends   '\n",
    "string2 = string1.strip()\n",
    "string2"
   ]
  },
  {
   "cell_type": "code",
   "execution_count": 28,
   "metadata": {
    "slideshow": {
     "slide_type": "fragment"
    }
   },
   "outputs": [
    {
     "data": {
      "text/plain": [
       "['an', 'example', 'string', 'with', 'whitespaces', 'at', 'both', 'ends']"
      ]
     },
     "execution_count": 28,
     "metadata": {},
     "output_type": "execute_result"
    }
   ],
   "source": [
    "list1 = string2.split()\n",
    "list1"
   ]
  },
  {
   "cell_type": "code",
   "execution_count": 30,
   "metadata": {
    "slideshow": {
     "slide_type": "fragment"
    }
   },
   "outputs": [
    {
     "data": {
      "text/plain": [
       "['an', 'example', 'string', 'with', 'whitespaces', 'at', 'both', 'ends']"
      ]
     },
     "execution_count": 30,
     "metadata": {},
     "output_type": "execute_result"
    }
   ],
   "source": [
    "list2 = string1.strip().split()\n",
    "list2"
   ]
  },
  {
   "cell_type": "markdown",
   "metadata": {
    "slideshow": {
     "slide_type": "slide"
    }
   },
   "source": [
    "### Write to file\n",
    "___\n",
    "```python\n",
    "file = open(\"output.txt\", \"w\")\n",
    "file.write(\"Hello, Python!\")\n",
    "file.close()\n",
    "```\n",
    "___\n",
    "- `'w'`: Opens a file for writing only. If the file does not exist, it creates a new file. If the file exists, its previous content will be truncated, effectively deleting the content before the new write operations.\n",
    "\n",
    "Other modes:\n",
    "- `'a'`: Opens the file for writing, appending any new data you write to the end of the file's existing content, thus preserving the previous content.\n",
    "\n",
    "Extra reading: https://www.w3schools.com/python/python_file_handling.asp"
   ]
  },
  {
   "cell_type": "markdown",
   "metadata": {},
   "source": [
    "```python\n",
    "with open(\"output.txt\", \"w\") as file:\n",
    "    file.write(\"Hello, Python!\")\n",
    "```"
   ]
  },
  {
   "cell_type": "markdown",
   "metadata": {},
   "source": [
    "```python\n",
    "with open(\"output.txt\", \"w\", encoding = 'utf-8') as file:\n",
    "    file.write(\"Hello, Python!\")\n",
    "```"
   ]
  },
  {
   "cell_type": "code",
   "execution_count": 4,
   "metadata": {
    "slideshow": {
     "slide_type": "slide"
    }
   },
   "outputs": [],
   "source": [
    "seqfile = \"../files/one_dna_sequence.fa\"\n",
    "\n",
    "with open(seqfile, \"r\") as file:\n",
    "    seqlength = 0\n",
    "    for line in file:\n",
    "        line = line.strip()\n",
    "        if not line.startswith(\">\"):\n",
    "            seqlength += len(line)\n",
    "\n",
    "outfile = \"../files/output/length_of_dna_sequence.txt\"\n",
    "with open(outfile, \"w\") as file:\n",
    "    file.write(\"Length of DNA sequence: \" + str(seqlength))"
   ]
  },
  {
   "cell_type": "markdown",
   "metadata": {
    "slideshow": {
     "slide_type": "slide"
    }
   },
   "source": [
    "### Day 2,  Exercise 1\n",
    "Link: https://python-bioinfo.bioshu.se/exercises.html\n",
    "___\n",
    "\n",
    "#### Take a break after the exercise"
   ]
  },
  {
   "cell_type": "markdown",
   "metadata": {
    "slideshow": {
     "slide_type": "skip"
    }
   },
   "source": [
    "Note: In bioinformatics, the process of identifying differences (variants) between a particular DNA sequence and a reference sequence, is known as \"variant calling.\""
   ]
  },
  {
   "cell_type": "markdown",
   "metadata": {
    "slideshow": {
     "slide_type": "slide"
    }
   },
   "source": [
    "## Session 2: Variants identification with VCF\n",
    "- A VCF (Variant Call Format) file is a text file format used in bioinformatics for storing gene sequence variations. "
   ]
  },
  {
   "cell_type": "markdown",
   "metadata": {
    "slideshow": {
     "slide_type": "slide"
    }
   },
   "source": [
    "## Description of the task\n",
    "\n",
    "You have a VCF file with a number of samples. You are interested in only one of the samples (sample1) and one region (chr5, 1,200,000-1,300,000, including the start and end positions). What you want to know is whether this sample has any variants in this region, and if so, which variants.\n"
   ]
  },
  {
   "cell_type": "markdown",
   "metadata": {
    "slideshow": {
     "slide_type": "slide"
    }
   },
   "source": [
    "### What is your input? \n",
    "<img src=\"../img/vcf_header.png\" alt=\"Drawing\" style=\"width: 1000px;\"/> \n",
    "\n",
    "- __CHROM__: 1 (Chromosome 1)\n",
    "- __POS__: 10177 (Position 10177 on the chromosome)\n",
    "- __ID__: rs367896725 (Reference SNP ID)\n",
    "- __REF__: A (Reference allele is A)\n",
    "- __ALT__: AC (Alternative allele is AC)\n",
    "- __QUAL__: 50 (Quality score)\n",
    "- __FILTER__: PASS (status, meaning passed all quality control)\n",
    "- __FORMAT__: GT:DP:CB (Genotype, Depth, Cell Barcode)\n",
    "- __SAMPLES__: 0/1:30:SM(Sample genotypes and additional info)"
   ]
  },
  {
   "cell_type": "markdown",
   "metadata": {
    "slideshow": {
     "slide_type": "slide"
    }
   },
   "source": [
    "#### Genotype field\n",
    "<img src=\"../img/vcf_header.png\" alt=\"Drawing\" style=\"width: 1000px;\"/> "
   ]
  },
  {
   "cell_type": "markdown",
   "metadata": {},
   "source": [
    "__`0/1`__\n",
    "- For human, and many other organisms, there are two copies of genetic information, inherited from both parents.\n",
    "- `0` means DNA at this position is the same as reference allele (`A`), \n",
    "- `1` means has alternative allele, in this case `AC` \n",
    "\n",
    "__The notation of alternative allele is not always `1`__\n",
    "- `0/2`\n",
    "- `2` means it is the second alternative allele, i.e. `C` in this case"
   ]
  },
  {
   "cell_type": "markdown",
   "metadata": {
    "slideshow": {
     "slide_type": "slide"
    }
   },
   "source": [
    "## Start with pseudocode!\n",
    "- Pseudocode is a description of what you want to do without actually using proper syntax"
   ]
  },
  {
   "cell_type": "markdown",
   "metadata": {
    "slideshow": {
     "slide_type": "slide"
    }
   },
   "source": [
    "<img src=\"../img/vcf_header.png\" alt=\"Drawing\" style=\"width: 1000px;\"/> \n",
    "\n",
    "- Open the file and loop over lines (ignore lines with started with `#`)\n",
    "- Identify lines where chromosome is equal to `5` and position is between 1,200,000 and 1,300,000\n",
    "- Isolate the column that contains the genotype for sample1, e.g. `0/1:30:SM`\n",
    "- Extract only the genotypes (e.g. `0/1`) from the column\n",
    "- Check if the genotype contains any alternate alleles, i.e., if not `0/0`.\n",
    "- Print any variants containing alternate alleles for this sample between specified region"
   ]
  },
  {
   "cell_type": "markdown",
   "metadata": {
    "slideshow": {
     "slide_type": "slide"
    }
   },
   "source": [
    "#### Open the file and loop over lines (ignore lines starting with `#`), and print the first record"
   ]
  },
  {
   "cell_type": "markdown",
   "metadata": {
    "slideshow": {
     "slide_type": "-"
    }
   },
   "source": [
    "<img src=\"../img/vcf_header.png\" alt=\"Drawing\" style=\"width: 1000px; margin:0px;\"/> "
   ]
  },
  {
   "cell_type": "code",
   "execution_count": 13,
   "metadata": {
    "collapsed": true,
    "slideshow": {
     "slide_type": "-"
    }
   },
   "outputs": [
    {
     "name": "stdout",
     "output_type": "stream",
     "text": [
      "1\t762969\trs115616822\tG\tA\t.\tPASS\tAA=g;AC=1;AN=120;DP=226;GP=1:773106;BN=132\tGT:DP:CB\t0/0:1:SMB\t0/0:6:SMB\t0/0:3:SMB\t0/0:5:SMB\t0/0:15:SMB\t0/0:6:SMB\t0/0:4:SMB\t0/0:1:SMB\t0/0:11:SMB\t0/0:0:SMB\t0/0:3:SMB\t0/0:3:SMB\t0/0:5:SMB\t0/0:2:SMB\t0/0:8:SMB\t0/0:2:SMB\t0/0:4:SMB\t0/0:2:SMB\t0/0:4:SMB\t0/0:1:SMB\t0/0:6:SMB\t0/0:3:SMB\t0/0:6:SMB\t0/0:1:SMB\t0/0:2:SMB\t0/0:6:SMB\t0/0:7:SMB\t0/0:0:SMB\t0/0:0:SMB\t0/0:3:SMB\t0/0:4:SMB\t0/0:3:SMB\t0/0:2:SB\t0/0:6:SMB\t0/0:6:SMB\t0/0:1:SMB\t0/0:1:SMB\t0/0:0:SMB\t0/0:8:SMB\t0/0:7:SMB\t0/0:0:SMB\t0/0:1:SMB\t0/0:3:SMB\t0/0:0:SMB\t0/0:8:SMB\t0/0:5:SMB\t0/0:4:SMB\t0/0:0:SMB\t0/0:8:SMB\t0/0:0:SMB\t0/0:4:SMB\t0/0:5:SMB\t0/0:7:SMB\t0/0:4:SMB\t0/0:2:SMB\t0/0:0:SMB\t0/0:2:SMB\t0/0:2:SMB\t0/0:5:SMB\t0/1:8:SMB\n"
     ]
    }
   ],
   "source": [
    "vcf_file = '../downloads/genotypes_small.vcf'\n",
    "with open(vcf_file, 'r', encoding='utf-8') as fh:\n",
    "    counter = 0\n",
    "    for line in fh:\n",
    "        if not line.startswith('#'):\n",
    "            line = line.strip()\n",
    "            print(line)\n",
    "            break\n",
    "# Next, find chromosome 5"
   ]
  },
  {
   "cell_type": "markdown",
   "metadata": {
    "slideshow": {
     "slide_type": "slide"
    }
   },
   "source": [
    "#### Identify lines where chromosome is `5`"
   ]
  },
  {
   "cell_type": "markdown",
   "metadata": {
    "slideshow": {
     "slide_type": "-"
    }
   },
   "source": [
    "<img src=\"../img/vcf_header.png\" alt=\"Drawing\" style=\"width: 1000px;\"/> "
   ]
  },
  {
   "cell_type": "code",
   "execution_count": 16,
   "metadata": {
    "slideshow": {
     "slide_type": "-"
    }
   },
   "outputs": [
    {
     "name": "stdout",
     "output_type": "stream",
     "text": [
      "['5', '106565', 'rs115608877', 'G', 'T', '.', 'PASS', 'AA=.;AC=7;AN=120;DP=91;GP=5:53565;BN=132', 'GT:DP:CB', '1/0:1:SM', '1/0:3:SM', '0/0:1:SM', '0/0:2:SM', '0/0:0:S', '0/0:0:SM', '0/0:0:SM', '0/0:1:S', '0/0:0:S', '0/0:0:S', '0/0:2:SM', '0/1:1:SM', '0/0:3:SM', '0/1:0:SM', '0/0:2:SM', '1/0:1:S', '0/0:1:SM', '0/0:0:SM', '0/0:2:SM', '0/0:1:SM', '0/0:5:SM', '0/0:0:S', '0/0:1:SM', '0/0:0:S', '0/0:1:SM', '0/0:1:SM', '0/1:1:SM', '0/1:1:SM', '0/0:2:SM', '0/0:3:SM', '0/0:2:SM', '0/0:8:SM', '0/0:0:SM', '0/0:7:SM', '0/0:4:SM', '0/0:0:S', '0/0:2:S', '0/0:0:SM', '0/0:3:SM', '0/0:2:SM', '0/0:1:SM', '0/0:2:SM', '0/0:3:S', '0/0:0:SM', '0/0:3:SM', '0/0:1:SM', '0/0:0:SM', '0/0:0:SM', '0/0:3:S', '0/0:1:SM', '0/0:0:SM', '0/0:0:SM', '0/0:3:SM', '0/0:4:SM', '0/0:2:SM', '0/0:1:SM', '0/0:0:SM', '0/0:0:SM', '0/0:1:SM', '0/0:2:SM']\n"
     ]
    }
   ],
   "source": [
    "vcf_file = '../downloads/genotypes_small.vcf'\n",
    "with open(vcf_file, 'r', encoding='utf-8') as fh:\n",
    "    for line in fh:\n",
    "        if not line.startswith('#'):\n",
    "            line = line.strip()\n",
    "            cols = line.split('\\t')\n",
    "            if cols[0] == '5':\n",
    "                print(cols)\n",
    "                break\n",
    "\n",
    "# Next, find the correct region"
   ]
  },
  {
   "cell_type": "markdown",
   "metadata": {
    "slideshow": {
     "slide_type": "slide"
    }
   },
   "source": [
    "#### Identify lines where chromosome is `5` and position is between `1,200,000` and `1,300,000`"
   ]
  },
  {
   "cell_type": "markdown",
   "metadata": {
    "slideshow": {
     "slide_type": "-"
    }
   },
   "source": [
    "<img src=\"../img/vcf_header.png\" alt=\"Drawing\" style=\"width: 1000px;\"/> "
   ]
  },
  {
   "cell_type": "code",
   "execution_count": 17,
   "metadata": {
    "slideshow": {
     "slide_type": "-"
    }
   },
   "outputs": [
    {
     "name": "stdout",
     "output_type": "stream",
     "text": [
      "['5', '1207129', 'rs111580366', 'G', 'A', '.', 'PASS', 'AA=G;AC=1;AN=120;DP=329;GP=5:1154129;BN=132', 'GT:DP:CB', '0/0:4:SMB', '0/1:17:SMB', '0/0:9:SMB', '0/0:9:SMB', '0/0:6:SMB', '0/0:8:SMB', '0/0:4:SMB', '0/0:4:SMB', '0/0:7:SMB', '0/0:1:SMB', '0/0:14:SMB', '0/0:3:SMB', '0/0:5:SMB', '0/0:7:SMB', '0/0:9:SMB', '0/0:10:SMB', '0/0:6:SMB', '0/0:2:SMB', '0/0:4:SMB', '0/0:5:SMB', '0/0:13:SMB', '0/0:2:SMB', '0/0:9:SMB', '0/0:3:SMB', '0/0:4:SMB', '0/0:4:SMB', '0/0:6:SMB', '0/0:5:SMB', '0/0:1:SMB', '0/0:6:SMB', '0/0:3:SMB', '0/0:3:SMB', '0/0:8:SMB', '0/0:5:SMB', '0/0:10:SMB', '0/0:2:SMB', '0/0:7:SMB', '0/0:0:SMB', '0/0:6:SMB', '0/0:3:SMB', '0/0:5:SMB', '0/0:5:SMB', '0/0:12:SMB', '0/0:8:SMB', '0/0:15:SMB', '0/0:5:SMB', '0/0:2:SMB', '0/0:1:SMB', '0/0:6:SMB', '0/0:2:SMB', '0/0:5:SMB', '0/0:1:SMB', '0/0:3:SMB', '0/0:6:SMB', '0/0:4:SMB', '0/0:5:SMB', '0/0:1:SMB', '0/0:3:SMB', '0/0:3:SMB', '0/0:3:SMB']\n"
     ]
    }
   ],
   "source": [
    "vcf_file = '../downloads/genotypes_small.vcf'\n",
    "with open(vcf_file, 'r', encoding='utf-8') as fh:\n",
    "    for line in fh:\n",
    "        if not line.startswith('#'):\n",
    "            line = line.strip()\n",
    "            cols = line.split('\\t')\n",
    "            chrom = cols[0]\n",
    "            pos = int(cols[1])\n",
    "            if chrom == '5' and (1200000 <= pos <= 1300000):\n",
    "                print(cols)\n",
    "                break\n",
    "# Next, find the genotypes for sample1"
   ]
  },
  {
   "cell_type": "markdown",
   "metadata": {
    "slideshow": {
     "slide_type": "slide"
    }
   },
   "source": [
    "#### Isolate the column that contains the genotype for sample1"
   ]
  },
  {
   "cell_type": "markdown",
   "metadata": {
    "slideshow": {
     "slide_type": "-"
    }
   },
   "source": [
    "<img src=\"../img/vcf_header.png\" alt=\"Drawing\" style=\"width: 1000px;\"/> "
   ]
  },
  {
   "cell_type": "code",
   "execution_count": 19,
   "metadata": {
    "slideshow": {
     "slide_type": "-"
    }
   },
   "outputs": [
    {
     "name": "stdout",
     "output_type": "stream",
     "text": [
      "0/0:4:SMB\n"
     ]
    }
   ],
   "source": [
    "vcf_file = '../downloads/genotypes_small.vcf'\n",
    "with open(vcf_file, 'r', encoding='utf-8') as fh:\n",
    "    for line in fh:\n",
    "        if not line.startswith('#'):\n",
    "            line = line.strip()\n",
    "            cols = line.split('\\t')\n",
    "            chrom = cols[0]\n",
    "            pos = int(cols[1])\n",
    "            if chrom == '5' and (1200000 <= pos <= 1300000):\n",
    "                geno_col = cols[9]\n",
    "                print(geno_col)\n",
    "                break\n",
    "                    \n",
    "# Next, extract the genotypes only"
   ]
  },
  {
   "cell_type": "markdown",
   "metadata": {
    "slideshow": {
     "slide_type": "skip"
    }
   },
   "source": [
    "Note:\n",
    "- 0/0: Genotype\n",
    "- 4: Read Depth (DP)\n",
    "- SMB: Custom field (e.g., called by S(Sanger), M(UMich), B(BI))\n",
    "\n",
    "Here's how the genotype format works:\n",
    "\n",
    "- 0 refers to the reference allele.\n",
    "- 1, 2, 3, etc., refer to the first, second, third, etc., alternative alleles listed in the ALT field of the VCF file."
   ]
  },
  {
   "cell_type": "markdown",
   "metadata": {
    "slideshow": {
     "slide_type": "slide"
    }
   },
   "source": [
    "#### Extract the genotypes only from the column"
   ]
  },
  {
   "cell_type": "markdown",
   "metadata": {
    "slideshow": {
     "slide_type": "-"
    }
   },
   "source": [
    "<img src=\"../img/vcf_header.png\" alt=\"Drawing\" style=\"width: 1000px;\"/> "
   ]
  },
  {
   "cell_type": "code",
   "execution_count": 20,
   "metadata": {
    "slideshow": {
     "slide_type": "-"
    }
   },
   "outputs": [
    {
     "name": "stdout",
     "output_type": "stream",
     "text": [
      "0/0\n"
     ]
    }
   ],
   "source": [
    "vcf_file = '../downloads/genotypes_small.vcf'\n",
    "with open(vcf_file, 'r', encoding='utf-8') as fh:\n",
    "    for line in fh:\n",
    "        if not line.startswith('#'):\n",
    "            line = line.strip()\n",
    "            cols = line.split('\\t')\n",
    "            chrom = cols[0]\n",
    "            pos = int(cols[1])\n",
    "            if chrom == '5' and (1200000 <= pos <= 1300000):\n",
    "                geno_col = cols[9]\n",
    "                geno = geno_col.split(':')[0]\n",
    "                print(geno)\n",
    "                break\n",
    "# Next, find in which positions sample1 has alternate alleles"
   ]
  },
  {
   "cell_type": "markdown",
   "metadata": {
    "slideshow": {
     "slide_type": "slide"
    }
   },
   "source": [
    "#### Check if the genotype contains any alternate alleles"
   ]
  },
  {
   "cell_type": "markdown",
   "metadata": {
    "slideshow": {
     "slide_type": "-"
    }
   },
   "source": [
    "<img src=\"../img/vcf_header.png\" alt=\"Drawing\" style=\"width: 1000px;\"/> "
   ]
  },
  {
   "cell_type": "code",
   "execution_count": 21,
   "metadata": {
    "slideshow": {
     "slide_type": "-"
    }
   },
   "outputs": [
    {
     "name": "stdout",
     "output_type": "stream",
     "text": [
      "1/1\n",
      "1/1\n"
     ]
    }
   ],
   "source": [
    "vcf_file = '../downloads/genotypes_small.vcf'\n",
    "with open(vcf_file, 'r', encoding='utf-8') as fh:\n",
    "    for line in fh:\n",
    "        if not line.startswith('#'):\n",
    "            line = line.strip()\n",
    "            cols = line.split('\\t')\n",
    "            chrom = cols[0]\n",
    "            pos = int(cols[1])\n",
    "            if chrom == '5' and (1200000 <= pos <= 1300000):\n",
    "                geno_col = cols[9]\n",
    "                geno = geno_col.split(':')[0]\n",
    "                if geno not in [\"0/0\"]:\n",
    "                    print(geno)\n",
    "#Next, print nicely"
   ]
  },
  {
   "cell_type": "markdown",
   "metadata": {
    "slideshow": {
     "slide_type": "slide"
    }
   },
   "source": [
    "#### Print any variants containing alternate alleles for this sample between specified region"
   ]
  },
  {
   "cell_type": "code",
   "execution_count": 26,
   "metadata": {
    "slideshow": {
     "slide_type": "-"
    }
   },
   "outputs": [
    {
     "name": "stdout",
     "output_type": "stream",
     "text": [
      "5:1235651_C-T has genotype: 1/1\n",
      "5:1277795_G-C has genotype: 1/1\n"
     ]
    }
   ],
   "source": [
    "vcf_file = '../downloads/genotypes_small.vcf'\n",
    "with open(vcf_file, 'r', encoding='utf-8') as fh:\n",
    "    for line in fh:\n",
    "        if not line.startswith('#'):\n",
    "            line = line.strip()\n",
    "            cols = line.split('\\t')\n",
    "            chrom = cols[0]\n",
    "            pos = int(cols[1])\n",
    "            if chrom == '5' and (1200000 <= pos <= 1300000):\n",
    "                geno_col = cols[9]\n",
    "                geno = geno_col.split(':')[0]\n",
    "                if geno not in [\"0/0\"]:\n",
    "                    ref = cols[3]\n",
    "                    alt = cols[4]\n",
    "                    info = chrom + \":\" + str(pos) + \"_\" + ref + \"-\" + alt + \" has genotype: \"+ geno\n",
    "                    print(info)"
   ]
  },
  {
   "cell_type": "markdown",
   "metadata": {
    "slideshow": {
     "slide_type": "slide"
    }
   },
   "source": [
    "## Take a break \n",
    "___\n",
    "## Quiz for Day 2\n",
    "- Link: https://python-bioinfo.bioshu.se/quiz.html\n",
    "___\n",
    "## Lunch"
   ]
  },
  {
   "cell_type": "markdown",
   "metadata": {
    "slideshow": {
     "slide_type": "slide"
    }
   },
   "source": [
    "## Afternoon session\n",
    "___\n",
    "### 1. Exercise 2 of Day 2\n",
    "__\n",
    "### 2. Introduction to the course project\n",
    "___\n",
    "##### Break\n",
    "___\n",
    "### 3. Team building"
   ]
  },
  {
   "cell_type": "markdown",
   "metadata": {
    "slideshow": {
     "slide_type": "slide"
    }
   },
   "source": [
    "## Day 2, Exercise 2\n",
    "\n",
    "- Link: https://python-bioinfo.bioshu.se/exercises.html"
   ]
  },
  {
   "cell_type": "markdown",
   "metadata": {
    "slideshow": {
     "slide_type": "slide"
    }
   },
   "source": [
    "# Introduction to the course project"
   ]
  },
  {
   "cell_type": "markdown",
   "metadata": {
    "slideshow": {
     "slide_type": "skip"
    }
   },
   "source": [
    "Note: Cystic fibrosis (CF) is a genetic (inherited) disease that causes sticky, thick mucus to build up in organs, including the lungs and the pancreas. In people who have CF, thick mucus clogs the airways and makes it difficult to breathe. Management includes ways of clearing lungs and a nutrition plan."
   ]
  },
  {
   "cell_type": "markdown",
   "metadata": {
    "slideshow": {
     "slide_type": "slide"
    }
   },
   "source": [
    "### Background\n",
    "<div style=\"overflow: auto;\">\n",
    "    <div style=\"float: left; margin-left: 20px; margin-top: 40px;\">\n",
    "        <img src=\"img/cystic_fibrosis.png\" alt=\"cystic fibrosis\" style=\"width: 500px;\"/>\n",
    "        <p style=\"font-size: 12px;\">source: mayoclinic.org</p>\n",
    "    </div>\n",
    "    <div style=\"font-size: 30px; float: right; margin-left: 0px; margin-top: 0px; max-width: 50%;\">\n",
    "        <h3>Cystic fibrosis (CF)</h3>\n",
    "        <ul>\n",
    "            <li>Genetic inherited disease</li>\n",
    "            <li>Produces thick and sticky mucus in organs, including lungs and the pancreas</li>\n",
    "            <li>Clogs the airways of patients and makes them difficult to breathe</li>\n",
    "            <li>No cure available but only symptom management, such as airway clearance</li>\n",
    "        </ul>\n",
    "    </div>\n",
    "</div>\n"
   ]
  },
  {
   "cell_type": "markdown",
   "metadata": {
    "slideshow": {
     "slide_type": "skip"
    }
   },
   "source": [
    "Note: CFTR usually makes a gate for chloride ions, a type of mineral with a negative electrical charge. Chloride moves out of the cell, taking water with it, which thins out mucus and makes it more slippery. In people with CF, gene mutations in CFTR prevent this from happening, so the mucus stays sticky and thick. m"
   ]
  },
  {
   "cell_type": "markdown",
   "metadata": {
    "slideshow": {
     "slide_type": "slide"
    }
   },
   "source": [
    "## Genomic facts of Cystic Fibrosis\n",
    "- CF is caused by mutations in Cystic Fibrosis Transmembrane Conductance Regulator (CFTR)\n",
    "- The CFTR protein is an ion channel protein, acting like gates in a cell membrane that control the traffic of molecules through the membrane\n",
    "- For normal people, CFTR makes a gate for chloride ions. When chloride moves out of the cell, taking water with it, and thus thins mucus\n",
    "- For CF patients, gene mutations in CFTR prevent this functionality, causing the mucus stays sticky and thick\n",
    "<img src=\"img/CFTR.jpg\" alt=\"cystic fibrosis\" style=\"width: 300px;\"/>\n",
    "<p style=\"font-size: 12px;\">source: cff.org</p>\n",
    "\n"
   ]
  },
  {
   "cell_type": "markdown",
   "metadata": {
    "slideshow": {
     "slide_type": "slide"
    }
   },
   "source": [
    "## More about the CFTR gene\n",
    "\n",
    "- CFTR gene is located on chromosome 7 of the human genome\n",
    "- Over 1,500 mutations known to cause CF\n",
    "- One type of mutations\n",
    "    - Non-synonymous (with amino acid changing) mutations that generate a premature termination codon (PTC), that further leads to a truncated CFTR protein (shortened length)."
   ]
  },
  {
   "cell_type": "markdown",
   "metadata": {
    "slideshow": {
     "slide_type": "slide"
    }
   },
   "source": [
    "## Goal of the project\n",
    "\n",
    "#### Write a python program that:\n",
    "- Extract the correct CFTR transcript from the human genome\n",
    "- Translate it into its corresponding amino acid sequence\n",
    "- Determine if one or more patients have a premature stop codon\n",
    "\n",
    "\n",
    "__You will be guided step by step towards the final goal__"
   ]
  },
  {
   "cell_type": "markdown",
   "metadata": {
    "slideshow": {
     "slide_type": "slide"
    }
   },
   "source": [
    "## Data\n",
    "\n",
    "- Human reference genome\n",
    "    - Chromosome 7 in fasta format\n",
    "    - Gene annotations in GTF (Gene Transfer Format) format\n",
    "- Genome sequencing data from five patients \n",
    "    - Chromosome 7 in fasta format"
   ]
  },
  {
   "cell_type": "markdown",
   "metadata": {
    "slideshow": {
     "slide_type": "slide"
    }
   },
   "source": [
    "## Fasta format\n",
    "```plaintext\n",
    ">MT dna:chromosome chromosome:GRCh38:MT:1:16569:1 REF\n",
    "GATCACAGGTCTATCACCCTATTAACCACTCACGGGAGCTCTCCATGCATTTGGTATTTT CGTCTGGGGGGTATGCACGCGATAGCATTGCGAGACGCTGGAGCCGGAGCACCCTATGTC GCAGTATCTGTCTTTGATTCCTGCCTCATCCTATTATTTATCGCACCTACGTTCAATATT ACAGGCGAACATACTTACTAAAGTGTGTTAATTAATTAATGCTTGTAGGACATAATAATA ACAATTGAATGTCTGCACAGCCACTTTCCACACAGACATCATAACAAAAAATTTCCACCA AACCCCCCCTCCCCCGCTTCTGGCCACAGCACTTAAACACATCTCTGCCAAACCCCAAAA ACAAAGAACCCTAACACCAGCCTAACCAGATTTCAAATTTTATCTTTTGGCGGTATGCAC TTTTAACAGTCACCCCCCAACTAACACATTATTTTCCCCTCCCACTCCCATACTACTAAT CTCATCAATACAACCCCCGCCCATCCTACCCAGCACACACACACCGCTGCTAACCCCATA CCCCGAACCAACCAAACCCCAAAGACACCCCCCACAGTTTATGTAGCTTACCTCCTCAAA\n",
    "```"
   ]
  },
  {
   "cell_type": "markdown",
   "metadata": {
    "slideshow": {
     "slide_type": "slide"
    }
   },
   "source": [
    "## GTF format\n",
    "- GTF stands for Gene Transfer Format\n",
    "- Holds information about gene structure\n",
    "- Tab-delimited\n",
    "- Based on the general feature format (GFF), additional structure specific to genes"
   ]
  },
  {
   "cell_type": "markdown",
   "metadata": {
    "slideshow": {
     "slide_type": "slide"
    }
   },
   "source": [
    "```\n",
    "<seqname> <source> <feature> <start> <end> <score> <strand> <frame> [attributes]\n",
    "```"
   ]
  },
  {
   "cell_type": "markdown",
   "metadata": {
    "slideshow": {
     "slide_type": "-"
    }
   },
   "source": [
    "- seqname: The name of the sequence (typically a chromosome).\n",
    "- source: The source of the annotation (e.g., ENSEMBL).\n",
    "- feature: The type of feature (e.g., gene, transcript, exon).\n",
    "- start: The starting position of the feature in the sequence.\n",
    "- end: The ending position of the feature in the sequence.\n",
    "- score: A score between 0 and 1000, or . if not applicable.\n",
    "- strand: The strand on which the feature is located (+ for the forward strand, - for the reverse strand).\n",
    "- frame: The reading frame, one of '0', '1' or '2', or `.` if not applicable.\n",
    "- attribute: A list of key-value pairs providing additional information about the feature."
   ]
  },
  {
   "cell_type": "markdown",
   "metadata": {
    "slideshow": {
     "slide_type": "slide"
    }
   },
   "source": [
    "## Attributes\n",
    "\n",
    "Some attributes (always semi-colon separated key-value pairs): \n",
    "- gene_id: The stable identifier for the gene\n",
    "- gene_version: The stable identifier version for the gene\n",
    "- gene_name: The official symbol of this gene\n",
    "- gene_source: The annotation source for this gene\n",
    "- transcript_id: The stable identifier for this transcript\n",
    "- transcript_name: The symbold for this transcript derived from the gene name\n",
    "- exon_id: The stable identifier for this exon"
   ]
  },
  {
   "cell_type": "markdown",
   "metadata": {
    "slideshow": {
     "slide_type": "slide"
    }
   },
   "source": [
    "```\n",
    "<seqname> <source> <feature> <start> <end> <score> <strand> <frame> [attributes]\n",
    "```\n",
    "```\n",
    "1\thavana\tgene\t11869\t14409\t.\t+\t.\tgene_id \"ENSG00000223972\"; gene_version \"5\"; gene_name \"DDX11L1\"; gene_source \"havana\"; gene_biotype \"transcribed_unprocessed_pseudogene\";\n",
    "\n",
    "```"
   ]
  },
  {
   "cell_type": "markdown",
   "metadata": {
    "slideshow": {
     "slide_type": "slide"
    }
   },
   "source": [
    "# Project page\n",
    "\n",
    "https://python-bioinfo.bioshu.se/project.html"
   ]
  }
 ],
 "metadata": {
  "celltoolbar": "Slideshow",
  "kernelspec": {
   "display_name": "Python 3 (ipykernel)",
   "language": "python",
   "name": "python3"
  },
  "language_info": {
   "codemirror_mode": {
    "name": "ipython",
    "version": 3
   },
   "file_extension": ".py",
   "mimetype": "text/x-python",
   "name": "python",
   "nbconvert_exporter": "python",
   "pygments_lexer": "ipython3",
   "version": "3.11.0"
  },
  "rise": {
   "height": 1000,
   "scroll": true,
   "width": 1280
  }
 },
 "nbformat": 4,
 "nbformat_minor": 2
}
