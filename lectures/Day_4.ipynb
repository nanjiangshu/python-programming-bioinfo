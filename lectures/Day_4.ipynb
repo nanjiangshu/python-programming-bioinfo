{
 "cells": [
  {
   "cell_type": "code",
   "execution_count": null,
   "metadata": {
    "slideshow": {
     "slide_type": "skip"
    }
   },
   "outputs": [],
   "source": [
    "from IPython.display import Image\n",
    "from IPython.display import clear_output\n",
    "from IPython.display import FileLink, FileLinks"
   ]
  },
  {
   "cell_type": "markdown",
   "metadata": {
    "cell_marker": "'''",
    "slideshow": {
     "slide_type": "slide"
    }
   },
   "source": [
    "<img src=\"img/python-logo-master-flat.png\" alt=\"Python Logo\" style=\"width: 120px; float: right; margin: 0 0 10px 10px;\" />\n",
    "\n",
    "## Introduction to Python with Application in Bioinformatics\n",
    "\n",
    "\n",
    "\n",
    "### Nanjiang Shu\n",
    "\n",
    "#### 2024-07-18 (Day 4)"
   ]
  },
  {
   "cell_type": "markdown",
   "metadata": {},
   "source": [
    "## Review of Day 3\n",
    "- Functions and methods\n",
    "  - `functionName()`\n",
    "  - `object.functionName()`\n",
    "- How to write your own functions\n",
    "- How to write a script that can take arguments from the command line using `sys.argv`\n",
    "  - outcome: a software that can be reused by others\n",
    "  "
   ]
  },
  {
   "cell_type": "markdown",
   "metadata": {},
   "source": [
    "## Review of quiz from yesterday"
   ]
  },
  {
   "cell_type": "markdown",
   "metadata": {
    "cell_marker": "'''",
    "slideshow": {
     "slide_type": "slide"
    }
   },
   "source": [
    "#### In what ways does the type of an object matter?\n",
    "-  Questions 1, 2 and 3"
   ]
  },
  {
   "cell_type": "code",
   "execution_count": null,
   "metadata": {},
   "outputs": [],
   "source": [
    "row = 'sofa|2000|buy|Uppsala'\n",
    "fields = row.split('|')\n",
    "price = fields[1]\n",
    "if price == 2000:\n",
    "    print('The price is a number!')\n",
    "if price == '2000':\n",
    "    print('The price is a string!')"
   ]
  },
  {
   "cell_type": "code",
   "execution_count": 36,
   "metadata": {},
   "outputs": [],
   "source": [
    "print(sorted([ 2000,   30,   100 ]))"
   ]
  },
  {
   "cell_type": "code",
   "execution_count": null,
   "metadata": {},
   "outputs": [],
   "source": [
    "print(sorted(['2000', '30', '100']))"
   ]
  },
  {
   "cell_type": "markdown",
   "metadata": {
    "cell_marker": "'''",
    "slideshow": {
     "slide_type": "slide"
    }
   },
   "source": [
    "#### In what ways does the type of an object matter?\n",
    "\n",
    "- Each type store a specific type of information\n",
    "    - `int` for integers,\n",
    "    - `float` for floating point values (decimals),\n",
    "    - `str` for strings,\n",
    "    - `list` for lists,\n",
    "    - `dict` for dictionaries.\n",
    "\n",
    "- Each type supports different operations, functions and methods."
   ]
  },
  {
   "cell_type": "markdown",
   "metadata": {
    "cell_marker": "'''",
    "lines_to_next_cell": 0,
    "slideshow": {
     "slide_type": "slide"
    }
   },
   "source": [
    "- Each type supports different **operations**"
   ]
  },
  {
   "cell_type": "code",
   "execution_count": null,
   "metadata": {
    "lines_to_next_cell": 0
   },
   "outputs": [],
   "source": [
    "30 > 2000"
   ]
  },
  {
   "cell_type": "code",
   "execution_count": null,
   "metadata": {
    "lines_to_next_cell": 0
   },
   "outputs": [],
   "source": [
    "'30' > '2000'"
   ]
  },
  {
   "cell_type": "code",
   "execution_count": null,
   "metadata": {},
   "outputs": [],
   "source": [
    "30 > int('2000')"
   ]
  },
  {
   "cell_type": "code",
   "execution_count": null,
   "metadata": {},
   "outputs": [],
   "source": [
    "'12345'[2]"
   ]
  },
  {
   "cell_type": "code",
   "execution_count": null,
   "metadata": {},
   "outputs": [],
   "source": [
    "12345[2]"
   ]
  },
  {
   "cell_type": "markdown",
   "metadata": {
    "cell_marker": "'''",
    "lines_to_next_cell": 0,
    "slideshow": {
     "slide_type": "slide"
    }
   },
   "source": [
    "- Each type supports different **functions**"
   ]
  },
  {
   "cell_type": "code",
   "execution_count": null,
   "metadata": {
    "lines_to_next_cell": 0
   },
   "outputs": [],
   "source": [
    "max('2000')"
   ]
  },
  {
   "cell_type": "code",
   "execution_count": null,
   "metadata": {
    "lines_to_next_cell": 0
   },
   "outputs": [],
   "source": [
    "max(2000)"
   ]
  },
  {
   "cell_type": "code",
   "execution_count": null,
   "metadata": {
    "lines_to_next_cell": 0
   },
   "outputs": [],
   "source": [
    "math.cos(3.14)"
   ]
  },
  {
   "cell_type": "code",
   "execution_count": null,
   "metadata": {
    "lines_to_next_cell": 0
   },
   "outputs": [],
   "source": [
    "math.cos('3.14')"
   ]
  },
  {
   "cell_type": "markdown",
   "metadata": {
    "cell_marker": "'''",
    "lines_to_next_cell": 0,
    "slideshow": {
     "slide_type": "slide"
    }
   },
   "source": [
    "- Each type supports different **methods**"
   ]
  },
  {
   "cell_type": "code",
   "execution_count": null,
   "metadata": {
    "lines_to_next_cell": 0
   },
   "outputs": [],
   "source": [
    "'ACTG'.lower()"
   ]
  },
  {
   "cell_type": "code",
   "execution_count": null,
   "metadata": {},
   "outputs": [],
   "source": [
    "[1, 2, 3].lower()"
   ]
  },
  {
   "cell_type": "code",
   "execution_count": null,
   "metadata": {},
   "outputs": [],
   "source": [
    "set([]).add('tiger')"
   ]
  },
  {
   "cell_type": "code",
   "execution_count": null,
   "metadata": {},
   "outputs": [],
   "source": [
    "[].add('tiger')"
   ]
  },
  {
   "cell_type": "markdown",
   "metadata": {
    "slideshow": {
     "slide_type": "fragment"
    }
   },
   "source": [
    "- How to find what methods are available: Python documentation, or `dir()`"
   ]
  },
  {
   "cell_type": "code",
   "execution_count": null,
   "metadata": {},
   "outputs": [],
   "source": [
    "dir('ACTG') # list all attributes"
   ]
  },
  {
   "cell_type": "code",
   "execution_count": null,
   "metadata": {
    "slideshow": {
     "slide_type": "skip"
    }
   },
   "outputs": [],
   "source": [
    "dir(str) # list all attributes"
   ]
  },
  {
   "cell_type": "markdown",
   "metadata": {
    "cell_marker": "'''",
    "slideshow": {
     "slide_type": "slide"
    }
   },
   "source": [
    "#### Convert string to number\n",
    "- Questions 4, 5 and 6\n"
   ]
  },
  {
   "cell_type": "code",
   "execution_count": null,
   "metadata": {},
   "outputs": [],
   "source": [
    "float('2000')"
   ]
  },
  {
   "cell_type": "code",
   "execution_count": null,
   "metadata": {},
   "outputs": [],
   "source": [
    "float('0.5')"
   ]
  },
  {
   "cell_type": "code",
   "execution_count": null,
   "metadata": {},
   "outputs": [],
   "source": [
    "float('1e9')"
   ]
  },
  {
   "cell_type": "code",
   "execution_count": null,
   "metadata": {
    "lines_to_next_cell": 2
   },
   "outputs": [],
   "source": [
    "float('1e-2')"
   ]
  },
  {
   "cell_type": "code",
   "execution_count": null,
   "metadata": {},
   "outputs": [],
   "source": [
    "int('2000')"
   ]
  },
  {
   "cell_type": "code",
   "execution_count": null,
   "metadata": {},
   "outputs": [],
   "source": [
    "int('1.5')"
   ]
  },
  {
   "cell_type": "code",
   "execution_count": null,
   "metadata": {
    "lines_to_next_cell": 2
   },
   "outputs": [],
   "source": [
    "int('1e9')"
   ]
  },
  {
   "cell_type": "markdown",
   "metadata": {
    "cell_marker": "'''",
    "slideshow": {
     "slide_type": "slide"
    }
   },
   "source": [
    "#### Convert to boolean: `1`, `0`, `'1'`, `'0'`, `''`, `{}`\n",
    "- Question 7\n"
   ]
  },
  {
   "cell_type": "code",
   "execution_count": null,
   "metadata": {
    "lines_to_next_cell": 0
   },
   "outputs": [],
   "source": [
    "bool(1)"
   ]
  },
  {
   "cell_type": "code",
   "execution_count": null,
   "metadata": {
    "lines_to_next_cell": 0
   },
   "outputs": [],
   "source": [
    "bool(0)"
   ]
  },
  {
   "cell_type": "code",
   "execution_count": null,
   "metadata": {
    "lines_to_next_cell": 0
   },
   "outputs": [],
   "source": [
    "bool('1')"
   ]
  },
  {
   "cell_type": "code",
   "execution_count": null,
   "metadata": {
    "lines_to_next_cell": 0
   },
   "outputs": [],
   "source": [
    "bool('0')"
   ]
  },
  {
   "cell_type": "code",
   "execution_count": null,
   "metadata": {
    "lines_to_next_cell": 0
   },
   "outputs": [],
   "source": [
    "bool('')"
   ]
  },
  {
   "cell_type": "code",
   "execution_count": null,
   "metadata": {},
   "outputs": [],
   "source": [
    "bool({})"
   ]
  },
  {
   "cell_type": "markdown",
   "metadata": {
    "cell_marker": "'''",
    "slideshow": {
     "slide_type": "slide"
    }
   },
   "source": [
    "- Python and the truth: true and false values"
   ]
  },
  {
   "cell_type": "code",
   "execution_count": null,
   "metadata": {
    "lines_to_next_cell": 2
   },
   "outputs": [],
   "source": [
    "values = [1, 0, '', '0', '1', [], [0]]\n",
    "for x in values:\n",
    "    if x:\n",
    "        print(repr(x), 'is true!')\n",
    "    else:\n",
    "        print(repr(x), 'is false!')"
   ]
  },
  {
   "cell_type": "markdown",
   "metadata": {
    "slideshow": {
     "slide_type": "fragment"
    }
   },
   "source": [
    "- `if x` is equivalent to `if bool(x)`"
   ]
  },
  {
   "cell_type": "markdown",
   "metadata": {
    "slideshow": {
     "slide_type": "slide"
    }
   },
   "source": [
    "- Is `1` equivalent to `True`?"
   ]
  },
  {
   "cell_type": "code",
   "execution_count": null,
   "metadata": {
    "lines_to_next_cell": 2
   },
   "outputs": [],
   "source": [
    "1 == True"
   ]
  },
  {
   "cell_type": "code",
   "execution_count": null,
   "metadata": {
    "lines_to_next_cell": 2
   },
   "outputs": [],
   "source": [
    "x = 1\n",
    "if x is True:\n",
    "    print(repr(x), 'is true!')\n",
    "else:\n",
    "    print(repr(x), 'is false!')"
   ]
  },
  {
   "cell_type": "code",
   "execution_count": null,
   "metadata": {
    "lines_to_next_cell": 2
   },
   "outputs": [],
   "source": [
    "x = 1\n",
    "if bool(x) is True:\n",
    "    print(repr(x), 'is true!')\n",
    "else:\n",
    "    print(repr(x), 'is false!')"
   ]
  },
  {
   "cell_type": "markdown",
   "metadata": {
    "slideshow": {
     "slide_type": "fragment"
    }
   },
   "source": [
    "- Be careful: `if x is True` is **not** equivalent to `if bool(x) is True`"
   ]
  },
  {
   "cell_type": "markdown",
   "metadata": {
    "cell_marker": "'''",
    "slideshow": {
     "slide_type": "slide"
    }
   },
   "source": [
    "#### Container types, when should you use which? (Question 8)\n",
    "\n",
    "- **lists**: when order is important\n",
    "- **dictionaries**: to keep track of the relation between keys and values\n",
    "- **sets**: to check for membership. No order, no duplicates."
   ]
  },
  {
   "cell_type": "code",
   "execution_count": 43,
   "metadata": {
    "lines_to_next_cell": 0
   },
   "outputs": [],
   "source": [
    "genre_list = [\"comedy\", \"drama\", \"drama\", \"sci-fi\"]\n",
    "genre_list"
   ]
  },
  {
   "cell_type": "code",
   "execution_count": 44,
   "metadata": {
    "lines_to_next_cell": 0
   },
   "outputs": [],
   "source": [
    "genres = set(genre_list)\n",
    "genres"
   ]
  },
  {
   "cell_type": "code",
   "execution_count": 45,
   "metadata": {},
   "outputs": [],
   "source": [
    "'drama' in genre_list\n",
    "'drama' in genres\n",
    "# which operation is faster?"
   ]
  },
  {
   "cell_type": "code",
   "execution_count": 46,
   "metadata": {
    "lines_to_next_cell": 0
   },
   "outputs": [],
   "source": [
    "genre_counts = {\"comedy\": 1, \"drama\": 2, \"sci-fi\": 1}\n",
    "genre_counts"
   ]
  },
  {
   "cell_type": "code",
   "execution_count": 47,
   "metadata": {},
   "outputs": [],
   "source": [
    "movie = {\"rating\": 10.0, \"title\": \"Toy Story\"}\n",
    "movie"
   ]
  },
  {
   "cell_type": "markdown",
   "metadata": {
    "cell_marker": "'''",
    "slideshow": {
     "slide_type": "slide"
    }
   },
   "source": [
    "#### Python syntax (Question 9)\n"
   ]
  },
  {
   "cell_type": "code",
   "execution_count": null,
   "metadata": {},
   "outputs": [],
   "source": [
    "def echo(message): # starts a new function definition\n",
    "    # this function echos the message \n",
    "    print(message) # print state of the variable\n",
    "    return message # return the value to end the function\n"
   ]
  },
  {
   "cell_type": "markdown",
   "metadata": {
    "cell_marker": "'''",
    "slideshow": {
     "slide_type": "slide"
    }
   },
   "source": [
    "#### Converting between strings and lists\n",
    "- Question 10"
   ]
  },
  {
   "cell_type": "code",
   "execution_count": null,
   "metadata": {},
   "outputs": [],
   "source": [
    "list(\"hello\")"
   ]
  },
  {
   "cell_type": "code",
   "execution_count": null,
   "metadata": {},
   "outputs": [],
   "source": [
    "str(['h', 'e', 'l', 'l', 'o'])"
   ]
  },
  {
   "cell_type": "code",
   "execution_count": null,
   "metadata": {},
   "outputs": [],
   "source": [
    "'_'.join(['h', 'e', 'l', 'l', 'o'])"
   ]
  },
  {
   "cell_type": "markdown",
   "metadata": {
    "cell_marker": "'''",
    "slideshow": {
     "slide_type": "slide"
    }
   },
   "source": [
    "#### What is a function?\n",
    "- A named piece of code that performs a specific task\n",
    "- A relation (mapping) between inputs (arguments) and output (return value)"
   ]
  },
  {
   "cell_type": "code",
   "execution_count": null,
   "metadata": {},
   "outputs": [],
   "source": [
    "def increment_by_two(number):\n",
    "    number += 2\n",
    "    return number\n",
    "\n",
    "print(increment_by_two(100))"
   ]
  },
  {
   "cell_type": "markdown",
   "metadata": {
    "cell_marker": "'''",
    "slideshow": {
     "slide_type": "slide"
    }
   },
   "source": [
    "### Day 4\n",
    "\n",
    "- More on functions:\n",
    "    - Scop of variables\n",
    "    - Positional arguments and keyword arguments\n",
    "    - `return` statement\n",
    "- Reusing code:\n",
    "    - Comments and documentation\n",
    "    - Importing modules: using libraries\n",
    "    - Brief introduction to Biopython\n"
   ]
  },
  {
   "cell_type": "markdown",
   "metadata": {
    "slideshow": {
     "slide_type": "slide"
    }
   },
   "source": [
    "### More on functions: scope - global vs local variables\n"
   ]
  },
  {
   "cell_type": "markdown",
   "metadata": {
    "slideshow": {
     "slide_type": "slide"
    }
   },
   "source": [
    "### Variables defined inside the function are local variables"
   ]
  },
  {
   "cell_type": "code",
   "execution_count": 10,
   "metadata": {},
   "outputs": [
    {
     "name": "stdout",
     "output_type": "stream",
     "text": [
      "host inside the function = local\n"
     ]
    }
   ],
   "source": [
    "def show_host():\n",
    "    host = \"local\"\n",
    "    print(f'host inside the function = {host}')\n",
    "show_host()"
   ]
  },
  {
   "cell_type": "code",
   "execution_count": 11,
   "metadata": {
    "slideshow": {
     "slide_type": "fragment"
    }
   },
   "outputs": [
    {
     "ename": "NameError",
     "evalue": "name 'host' is not defined",
     "output_type": "error",
     "traceback": [
      "\u001b[0;31m---------------------------------------------------------------------------\u001b[0m",
      "\u001b[0;31mNameError\u001b[0m                                 Traceback (most recent call last)",
      "Cell \u001b[0;32mIn[11], line 4\u001b[0m\n\u001b[1;32m      2\u001b[0m     host \u001b[38;5;241m=\u001b[39m \u001b[38;5;124m\"\u001b[39m\u001b[38;5;124mlocal\u001b[39m\u001b[38;5;124m\"\u001b[39m\n\u001b[1;32m      3\u001b[0m     \u001b[38;5;28mprint\u001b[39m(\u001b[38;5;124mf\u001b[39m\u001b[38;5;124m'\u001b[39m\u001b[38;5;124mhost inside the function: \u001b[39m\u001b[38;5;132;01m{\u001b[39;00mhost\u001b[38;5;132;01m}\u001b[39;00m\u001b[38;5;124m'\u001b[39m)\n\u001b[0;32m----> 4\u001b[0m \u001b[38;5;28mprint\u001b[39m(\u001b[38;5;124mf\u001b[39m\u001b[38;5;124m'\u001b[39m\u001b[38;5;124mhost outside the function: \u001b[39m\u001b[38;5;132;01m{\u001b[39;00mhost\u001b[38;5;132;01m}\u001b[39;00m\u001b[38;5;124m'\u001b[39m)\n",
      "\u001b[0;31mNameError\u001b[0m: name 'host' is not defined"
     ]
    }
   ],
   "source": [
    "def show_host():\n",
    "    host = \"local\"\n",
    "    print(f'host inside the function: {host}')\n",
    "print(f'host outside the function: {host}')"
   ]
  },
  {
   "cell_type": "markdown",
   "metadata": {
    "slideshow": {
     "slide_type": "slide"
    }
   },
   "source": [
    "### Global variables can be accessed both inside and outside of the function"
   ]
  },
  {
   "cell_type": "code",
   "execution_count": 13,
   "metadata": {},
   "outputs": [
    {
     "name": "stdout",
     "output_type": "stream",
     "text": [
      "host inside the function = global\n",
      "host outside the function = global\n"
     ]
    }
   ],
   "source": [
    "host = 'global'\n",
    "\n",
    "def show_host():\n",
    "    print(f'host inside the function = {host}')\n",
    "\n",
    "show_host()\n",
    "print(f'host outside the function = {host}')\n"
   ]
  },
  {
   "cell_type": "markdown",
   "metadata": {
    "slideshow": {
     "slide_type": "slide"
    }
   },
   "source": [
    "- Change in the function will not change the global variable"
   ]
  },
  {
   "cell_type": "code",
   "execution_count": 14,
   "metadata": {},
   "outputs": [
    {
     "name": "stdout",
     "output_type": "stream",
     "text": [
      "host outside the function before change = global\n",
      "host inside the function = local\n",
      "host outside the function after change  = global\n"
     ]
    }
   ],
   "source": [
    "host = 'global'\n",
    "\n",
    "def change_host():\n",
    "    host = 'local'\n",
    "    print(f'host inside the function = {host}')\n",
    "\n",
    "print(f'host outside the function before change = {host}')\n",
    "change_host()\n",
    "print(f'host outside the function after change  = {host}')"
   ]
  },
  {
   "cell_type": "markdown",
   "metadata": {
    "slideshow": {
     "slide_type": "slide"
    }
   },
   "source": [
    "- Pass global variable as argument"
   ]
  },
  {
   "cell_type": "code",
   "execution_count": null,
   "metadata": {},
   "outputs": [],
   "source": [
    "host = 'global'\n",
    "\n",
    "def change_host(host):\n",
    "    host = 'local'\n",
    "    print(f'host inside the function = {host}')\n",
    "\n",
    "print(f'host outside the function before change = {host}')\n",
    "change_host(host)\n",
    "print(f'host outside the function after change  = {host}')\n"
   ]
  },
  {
   "cell_type": "markdown",
   "metadata": {
    "slideshow": {
     "slide_type": "slide"
    }
   },
   "source": [
    "### More on functions: scope - global vs local variables cont.\n",
    "List as global variables\n"
   ]
  },
  {
   "cell_type": "code",
   "execution_count": 15,
   "metadata": {},
   "outputs": [
    {
     "name": "stdout",
     "output_type": "stream",
     "text": [
      "gene_ids outside the function before change = ['COX1', 'COX2']\n",
      "gene_ids inside the function = ['COX3', 'COX4']\n",
      "gene_ids outside the function after change  = ['COX1', 'COX2']\n"
     ]
    }
   ],
   "source": [
    "gene_ids = ['COX1', 'COX2']\n",
    "\n",
    "def change_genes():\n",
    "    gene_ids = ['COX3', 'COX4']\n",
    "    print(f'gene_ids inside the function = {gene_ids}')\n",
    "\n",
    "print(f'gene_ids outside the function before change = {gene_ids}')\n",
    "change_genes()\n",
    "print(f'gene_ids outside the function after change  = {gene_ids}')\n"
   ]
  },
  {
   "cell_type": "markdown",
   "metadata": {
    "slideshow": {
     "slide_type": "slide"
    }
   },
   "source": [
    "Will the global variable never to changed by function?"
   ]
  },
  {
   "cell_type": "code",
   "execution_count": 17,
   "metadata": {},
   "outputs": [
    {
     "name": "stdout",
     "output_type": "stream",
     "text": [
      "gene_ids outside the function before change = ['COX1', 'COX2']\n",
      "gene_ids inside the function = ['COX1', 'COX2', 'COX3', 'COX4']\n",
      "gene_ids outside the function after change  = ['COX1', 'COX2', 'COX3', 'COX4']\n"
     ]
    }
   ],
   "source": [
    "gene_ids = ['COX1', 'COX2']\n",
    "\n",
    "def change_genes():\n",
    "    gene_ids.extend([\"COX3\", \"COX4\"])\n",
    "    print(f'gene_ids inside the function = {gene_ids}')\n",
    "\n",
    "print(f'gene_ids outside the function before change = {gene_ids}')\n",
    "change_genes()\n",
    "print(f'gene_ids outside the function after change  = {gene_ids}')\n"
   ]
  },
  {
   "cell_type": "markdown",
   "metadata": {
    "slideshow": {
     "slide_type": "fragment"
    }
   },
   "source": [
    "Take away: be careful when using global variables. Do not use it unless you know what you are doing."
   ]
  },
  {
   "cell_type": "markdown",
   "metadata": {
    "cell_marker": "'''",
    "lines_to_next_cell": 1,
    "slideshow": {
     "slide_type": "slide"
    }
   },
   "source": [
    "### More on functions: `return` statement\n",
    "A function that counts the number of occurences of `'C'` in the argument string."
   ]
  },
  {
   "cell_type": "code",
   "execution_count": null,
   "metadata": {
    "lines_to_next_cell": 1
   },
   "outputs": [],
   "source": [
    "def cytosine_count(nucleotides):\n",
    "    count = 0\n",
    "    for x in nucleotides:\n",
    "        if x == 'c' or x == 'C':\n",
    "            count += 1\n",
    "    return count\n",
    "\n",
    "count1 = cytosine_count('CATATTAC')\n",
    "count2 = cytosine_count('tagtag')\n",
    "print(count1, count2)"
   ]
  },
  {
   "cell_type": "markdown",
   "metadata": {
    "cell_marker": "'''",
    "slideshow": {
     "slide_type": "slide"
    }
   },
   "source": [
    "Functions that `return` are easier to repurpose than those that `print` their result"
   ]
  },
  {
   "cell_type": "code",
   "execution_count": null,
   "metadata": {
    "lines_to_next_cell": 1
   },
   "outputs": [],
   "source": [
    "cytosine_count('catattac') + cytosine_count('tactactac')"
   ]
  },
  {
   "cell_type": "code",
   "execution_count": null,
   "metadata": {
    "scrolled": true
   },
   "outputs": [],
   "source": [
    "def print_cytosine_count(nucleotides):\n",
    "    count = 0\n",
    "    for x in nucleotides:\n",
    "        if x == 'c' or x == 'C':\n",
    "            count += 1\n",
    "    print(count)\n",
    "\n",
    "print_cytosine_count('CATATTAC')\n",
    "print_cytosine_count('tagtag')"
   ]
  },
  {
   "cell_type": "code",
   "execution_count": null,
   "metadata": {},
   "outputs": [],
   "source": [
    "print_cytosine_count('catattac') + print_cytosine_count('tactactac')"
   ]
  },
  {
   "cell_type": "markdown",
   "metadata": {
    "slideshow": {
     "slide_type": "slide"
    }
   },
   "source": [
    "- Functions without any `return` statement returns `None`\n"
   ]
  },
  {
   "cell_type": "code",
   "execution_count": null,
   "metadata": {
    "scrolled": true
   },
   "outputs": [],
   "source": [
    "def foo():\n",
    "    do_nothing = 1\n",
    "\n",
    "r = foo()\n",
    "print(f'Return value of foo() = {r}')"
   ]
  },
  {
   "cell_type": "markdown",
   "metadata": {
    "slideshow": {
     "slide_type": "fragment"
    }
   },
   "source": [
    "- Use `return` for all values that you might want to use later in your program"
   ]
  },
  {
   "cell_type": "markdown",
   "metadata": {
    "cell_marker": "'''",
    "slideshow": {
     "slide_type": "slide"
    }
   },
   "source": [
    "### Keyword arguments\n",
    "- A way to give a name explicitly to a function for clarity"
   ]
  },
  {
   "cell_type": "code",
   "execution_count": null,
   "metadata": {},
   "outputs": [],
   "source": [
    "sorted('file', reverse=True)"
   ]
  },
  {
   "cell_type": "code",
   "execution_count": null,
   "metadata": {},
   "outputs": [],
   "source": [
    "attribute = 'gene_id \"unknown gene\"'\n",
    "attribute.split(sep=' ', maxsplit=1)"
   ]
  },
  {
   "cell_type": "code",
   "execution_count": null,
   "metadata": {},
   "outputs": [],
   "source": [
    "# print(value, ..., sep=' ', end='\\n', file=sys.stdout, flush=False)\n",
    "print('x=', end='')\n",
    "print('1')"
   ]
  },
  {
   "cell_type": "markdown",
   "metadata": {
    "cell_marker": "'''",
    "slideshow": {
     "slide_type": "slide"
    }
   },
   "source": [
    "### Keyword arguments cont.\n",
    "- Can be used in both ways, with or without keyword, if there is no ambiguity\n",
    "- Arguments after `*` must be keyword arguments, e.g. sorted()"
   ]
  },
  {
   "cell_type": "code",
   "execution_count": null,
   "metadata": {},
   "outputs": [],
   "source": [
    "open('files/gene_ids.txt', 'w', encoding='utf-8')"
   ]
  },
  {
   "cell_type": "code",
   "execution_count": null,
   "metadata": {},
   "outputs": [],
   "source": [
    "open('files/gene_ids.txt',  mode='w', encoding='utf-8')"
   ]
  },
  {
   "cell_type": "markdown",
   "metadata": {
    "cell_marker": "'''",
    "slideshow": {
     "slide_type": "slide"
    }
   },
   "source": [
    "- The order of keyword arguments does not matter"
   ]
  },
  {
   "cell_type": "code",
   "execution_count": null,
   "metadata": {},
   "outputs": [],
   "source": [
    "open('files/gene_ids.txt', mode='w', encoding='utf-8')"
   ]
  },
  {
   "cell_type": "code",
   "execution_count": null,
   "metadata": {},
   "outputs": [],
   "source": [
    "open('files/gene_ids.txt', encoding='utf-8', mode='w')"
   ]
  },
  {
   "cell_type": "markdown",
   "metadata": {
    "cell_marker": "'''",
    "slideshow": {
     "slide_type": "slide"
    }
   },
   "source": [
    "- Positional arguments must be in front of keyword arguments"
   ]
  },
  {
   "cell_type": "code",
   "execution_count": null,
   "metadata": {},
   "outputs": [],
   "source": [
    "open('files/gene_ids.txt', encoding='utf-8', 'w')"
   ]
  },
  {
   "cell_type": "markdown",
   "metadata": {
    "cell_marker": "'''",
    "lines_to_next_cell": 1,
    "slideshow": {
     "slide_type": "slide"
    }
   },
   "source": [
    "### How to define functions taking keyword arguments\n",
    "\n",
    "- Just define them as usual:"
   ]
  },
  {
   "cell_type": "code",
   "execution_count": null,
   "metadata": {},
   "outputs": [],
   "source": [
    "def format_sentence(subject, value, end):\n",
    "    return 'The ' + subject + ' is ' + value + end\n",
    "\n",
    "print(format_sentence('lecture', 'ongoing', '.'))\n",
    "\n",
    "print(format_sentence('lecture', 'ongoing', end='!'))\n",
    "\n",
    "print(format_sentence(subject='lecture', value='ongoing', end='...'))"
   ]
  },
  {
   "cell_type": "markdown",
   "metadata": {
    "cell_marker": "'''",
    "lines_to_next_cell": 1,
    "slideshow": {
     "slide_type": "slide"
    }
   },
   "source": [
    "### Defining functions with default arguments"
   ]
  },
  {
   "cell_type": "code",
   "execution_count": null,
   "metadata": {},
   "outputs": [],
   "source": [
    "def format_sentence(subject, value, end='.'):\n",
    "    return 'The ' + subject + ' is ' + value + end\n",
    "\n",
    "print(format_sentence('lecture', 'ongoing'))\n",
    "\n",
    "print(format_sentence('lecture', 'ongoing', '...'))"
   ]
  },
  {
   "cell_type": "markdown",
   "metadata": {
    "cell_marker": "'''",
    "lines_to_next_cell": 1,
    "slideshow": {
     "slide_type": "slide"
    }
   },
   "source": [
    "### Defining functions with optional arguments\n",
    "\n",
    "- Convention: use the object `None`"
   ]
  },
  {
   "cell_type": "code",
   "execution_count": null,
   "metadata": {},
   "outputs": [],
   "source": [
    "def format_sentence(subject, value, end='.', second_value=None):\n",
    "    if second_value is None:\n",
    "        return 'The ' + subject + ' is ' + value + end\n",
    "    else:\n",
    "        return 'The ' + subject + ' is ' + value + ' and ' + second_value + end\n",
    "\n",
    "print(format_sentence('lecture', 'ongoing'))\n",
    "\n",
    "print(format_sentence('lecture', 'ongoing',\n",
    "                      second_value='self-referential', end='!'))"
   ]
  },
  {
   "cell_type": "markdown",
   "metadata": {
    "cell_marker": "'''",
    "slideshow": {
     "slide_type": "slide"
    }
   },
   "source": [
    "### Small detour: Python's value for missing values: `None`\n",
    "\n",
    "- Default value for optional arguments\n",
    "- Implicit return value of functions without a `return`\n",
    "- `None` is `None`, not anything else"
   ]
  },
  {
   "cell_type": "code",
   "execution_count": null,
   "metadata": {},
   "outputs": [],
   "source": [
    "bool(None)"
   ]
  },
  {
   "cell_type": "code",
   "execution_count": null,
   "metadata": {},
   "outputs": [],
   "source": [
    "None == False"
   ]
  },
  {
   "cell_type": "code",
   "execution_count": null,
   "metadata": {},
   "outputs": [],
   "source": [
    "None == 0"
   ]
  },
  {
   "cell_type": "code",
   "execution_count": null,
   "metadata": {},
   "outputs": [],
   "source": [
    "None == ''"
   ]
  },
  {
   "cell_type": "code",
   "execution_count": null,
   "metadata": {},
   "outputs": [],
   "source": [
    "type(None)"
   ]
  },
  {
   "cell_type": "markdown",
   "metadata": {
    "cell_marker": "'''",
    "slideshow": {
     "slide_type": "slide"
    }
   },
   "source": [
    "### Day 4, Exercise 1\n",
    "\n",
    "- Extra reading:\n",
    "    - https://realpython.com/python-kwargs-and-args/\n",
    "    - https://able.bio/rhett/python-functions-and-best-practices--78aclaa\n",
    "### Break"
   ]
  },
  {
   "cell_type": "markdown",
   "metadata": {},
   "source": [
    "## Session 2: Moudles and Documentaiton"
   ]
  },
  {
   "cell_type": "markdown",
   "metadata": {
    "cell_marker": "'''",
    "slideshow": {
     "slide_type": "slide"
    }
   },
   "source": [
    "### A short note on code structure\n",
    "\n",
    "- functions\n",
    "- modules (files)\n",
    "- documentation"
   ]
  },
  {
   "cell_type": "markdown",
   "metadata": {
    "cell_marker": "'''",
    "slideshow": {
     "slide_type": "slide"
    }
   },
   "source": [
    "#### Why functions?\n",
    "- Cleaner code\n",
    "- Better defined tasks in code\n",
    "- Re-usability\n",
    "- Better structure"
   ]
  },
  {
   "cell_type": "markdown",
   "metadata": {
    "cell_marker": "'''",
    "slideshow": {
     "slide_type": "slide"
    }
   },
   "source": [
    "#### Why modules?\n",
    "\n",
    "- Cleaner code\n",
    "- Better defined tasks in code\n",
    "- Re-usability\n",
    "- Better structure"
   ]
  },
  {
   "cell_type": "markdown",
   "metadata": {
    "cell_marker": "'''",
    "slideshow": {
     "slide_type": "fragment"
    }
   },
   "source": [
    "- Collect all related functions in one file\n",
    "- Import a module to use its functions\n",
    "- Only need to understand what the functions do, not how"
   ]
  },
  {
   "cell_type": "markdown",
   "metadata": {
    "cell_marker": "'''",
    "slideshow": {
     "slide_type": "slide"
    }
   },
   "source": [
    "#### Example of modules"
   ]
  },
  {
   "cell_type": "code",
   "execution_count": 5,
   "metadata": {},
   "outputs": [
    {
     "data": {
      "text/plain": [
       "['/Users/nanjiang/anaconda3/lib/python3.11/site-packages/ipykernel_launcher.py',\n",
       " '-f',\n",
       " '/Users/nanjiang/Library/Jupyter/runtime/kernel-2be64ec6-d847-441c-ae23-4d9f4aa2b710.json']"
      ]
     },
     "execution_count": 5,
     "metadata": {},
     "output_type": "execute_result"
    }
   ],
   "source": [
    "import sys\n",
    "\n",
    "sys.argv"
   ]
  },
  {
   "cell_type": "code",
   "execution_count": 314,
   "metadata": {},
   "outputs": [
    {
     "name": "stdout",
     "output_type": "stream",
     "text": [
      "2022-10-13 13:13:08.980977\n"
     ]
    }
   ],
   "source": [
    "from datetime import datetime\n",
    "print(datetime.now())"
   ]
  },
  {
   "cell_type": "markdown",
   "metadata": {
    "cell_marker": "'''",
    "slideshow": {
     "slide_type": "slide"
    }
   },
   "source": [
    "### Python standard modules\n",
    "\n",
    "Check out the [module index](https://docs.python.org/3/py-modindex.html)"
   ]
  },
  {
   "cell_type": "markdown",
   "metadata": {
    "cell_marker": "'''",
    "slideshow": {
     "slide_type": "slide"
    }
   },
   "source": [
    "How to find the right module?\n",
    "\n",
    "How to understand it?"
   ]
  },
  {
   "cell_type": "markdown",
   "metadata": {
    "cell_marker": "'''",
    "slideshow": {
     "slide_type": "slide"
    }
   },
   "source": [
    "### How to find the right module?\n",
    "\n",
    "- Look at the Python Module Index (https://docs.python.org/3/py-modindex.html)\n",
    "- Python tutorial at w3school (https://www.w3schools.com/python/default.asp)\n",
    "- Search in the Python Package Index (https://pypi.org)\n",
    "- Ask your colleagues\n",
    "- Search the web\n",
    "- Ask AI"
   ]
  },
  {
   "cell_type": "markdown",
   "metadata": {
    "slideshow": {
     "slide_type": "slide"
    }
   },
   "source": [
    "- Standard modules: no installation needed\n",
    "- Other libraries: install with `pip install` or `conda install`"
   ]
  },
  {
   "cell_type": "markdown",
   "metadata": {
    "cell_marker": "'''",
    "slideshow": {
     "slide_type": "skip"
    }
   },
   "source": [
    "### How to understand it?\n",
    "- E.g. I want to know how to split a string by the separator `,`"
   ]
  },
  {
   "cell_type": "code",
   "execution_count": 321,
   "metadata": {
    "slideshow": {
     "slide_type": "skip"
    }
   },
   "outputs": [
    {
     "ename": "NameError",
     "evalue": "name 'dummy' is not defined",
     "output_type": "error",
     "traceback": [
      "\u001b[0;31m---------------------------------------------------------------------------\u001b[0m",
      "\u001b[0;31mNameError\u001b[0m                                 Traceback (most recent call last)",
      "Input \u001b[0;32mIn [321]\u001b[0m, in \u001b[0;36m<cell line: 2>\u001b[0;34m()\u001b[0m\n\u001b[1;32m      1\u001b[0m text \u001b[38;5;241m=\u001b[39m \u001b[38;5;124m'\u001b[39m\u001b[38;5;124mProgramming,is,cool\u001b[39m\u001b[38;5;124m'\u001b[39m\n\u001b[0;32m----> 2\u001b[0m help(\u001b[43mdummy\u001b[49m)\n",
      "\u001b[0;31mNameError\u001b[0m: name 'dummy' is not defined"
     ]
    }
   ],
   "source": [
    "text = 'Programming,is,cool'\n",
    "help(dummy)"
   ]
  },
  {
   "cell_type": "code",
   "execution_count": 317,
   "metadata": {
    "slideshow": {
     "slide_type": "skip"
    }
   },
   "outputs": [
    {
     "data": {
      "text/plain": [
       "['Programming', 'is', 'cool']"
      ]
     },
     "execution_count": 317,
     "metadata": {},
     "output_type": "execute_result"
    }
   ],
   "source": [
    "text.split(sep=',')"
   ]
  },
  {
   "cell_type": "markdown",
   "metadata": {
    "slideshow": {
     "slide_type": "skip"
    }
   },
   "source": [
    "- For slightly more complicated problems, e.g. how to download Python logo from internet with `urllib`\n",
    "- URL: https://www.python.org/static/img/python-logo@2x.png"
   ]
  },
  {
   "cell_type": "code",
   "execution_count": null,
   "metadata": {
    "scrolled": true,
    "slideshow": {
     "slide_type": "skip"
    }
   },
   "outputs": [],
   "source": [
    "import urllib\n",
    "\n"
   ]
  },
  {
   "cell_type": "markdown",
   "metadata": {
    "slideshow": {
     "slide_type": "skip"
    }
   },
   "source": [
    "- Sometimes easier to find the answer by searching the web"
   ]
  },
  {
   "cell_type": "code",
   "execution_count": null,
   "metadata": {
    "slideshow": {
     "slide_type": "skip"
    }
   },
   "outputs": [],
   "source": [
    "import urllib\n",
    "url = 'https://www.python.org/static/img/python-logo@2x.png'\n",
    "urllib.request.urlretrieve(url, 'files/python-logo.png')"
   ]
  },
  {
   "cell_type": "code",
   "execution_count": null,
   "metadata": {
    "slideshow": {
     "slide_type": "skip"
    }
   },
   "outputs": [],
   "source": [
    "help(math.sqrt)"
   ]
  },
  {
   "cell_type": "code",
   "execution_count": null,
   "metadata": {
    "slideshow": {
     "slide_type": "skip"
    }
   },
   "outputs": [],
   "source": [
    "math.sqrt(3)"
   ]
  },
  {
   "cell_type": "markdown",
   "metadata": {
    "cell_marker": "'''",
    "slideshow": {
     "slide_type": "slide"
    }
   },
   "source": [
    "### Various ways of importing"
   ]
  },
  {
   "cell_type": "code",
   "execution_count": 333,
   "metadata": {
    "slideshow": {
     "slide_type": "-"
    }
   },
   "outputs": [
    {
     "data": {
      "text/plain": [
       "1.7320508075688772"
      ]
     },
     "execution_count": 333,
     "metadata": {},
     "output_type": "execute_result"
    }
   ],
   "source": [
    "import math \n",
    "\n",
    "math.sqrt(3)"
   ]
  },
  {
   "cell_type": "code",
   "execution_count": 21,
   "metadata": {
    "slideshow": {
     "slide_type": "fragment"
    }
   },
   "outputs": [
    {
     "data": {
      "text/plain": [
       "1.7320508075688772"
      ]
     },
     "execution_count": 21,
     "metadata": {},
     "output_type": "execute_result"
    }
   ],
   "source": [
    "import math as m\n",
    "m.sqrt(3)"
   ]
  },
  {
   "cell_type": "code",
   "execution_count": 335,
   "metadata": {
    "slideshow": {
     "slide_type": "fragment"
    }
   },
   "outputs": [
    {
     "data": {
      "text/plain": [
       "1.7320508075688772"
      ]
     },
     "execution_count": 335,
     "metadata": {},
     "output_type": "execute_result"
    }
   ],
   "source": [
    "from math import sqrt \n"
   ]
  },
  {
   "cell_type": "code",
   "execution_count": null,
   "metadata": {
    "slideshow": {
     "slide_type": "skip"
    }
   },
   "outputs": [],
   "source": [
    "from pprint import pprint"
   ]
  },
  {
   "cell_type": "markdown",
   "metadata": {
    "cell_marker": "'''",
    "slideshow": {
     "slide_type": "slide"
    }
   },
   "source": [
    "### Documentation and commenting your code\n",
    "\n",
    "\n",
    "Remember `help()`?"
   ]
  },
  {
   "cell_type": "code",
   "execution_count": 22,
   "metadata": {
    "collapsed": true,
    "slideshow": {
     "slide_type": "-"
    }
   },
   "outputs": [
    {
     "name": "stdout",
     "output_type": "stream",
     "text": [
      "Help on built-in function print in module builtins:\n",
      "\n",
      "print(*args, sep=' ', end='\\n', file=None, flush=False)\n",
      "    Prints the values to a stream, or to sys.stdout by default.\n",
      "    \n",
      "    sep\n",
      "      string inserted between values, default a space.\n",
      "    end\n",
      "      string appended after the last value, default a newline.\n",
      "    file\n",
      "      a file-like object (stream); defaults to the current sys.stdout.\n",
      "    flush\n",
      "      whether to forcibly flush the stream.\n",
      "\n"
     ]
    }
   ],
   "source": [
    "help(print)"
   ]
  },
  {
   "cell_type": "markdown",
   "metadata": {
    "cell_marker": "'''",
    "slideshow": {
     "slide_type": "fragment"
    }
   },
   "source": [
    "- This works because somebody else has documented their code!"
   ]
  },
  {
   "cell_type": "code",
   "execution_count": 41,
   "metadata": {
    "slideshow": {
     "slide_type": "slide"
    }
   },
   "outputs": [],
   "source": [
    "def process_file(filename, chrom, pos):\n",
    "    \"\"\"\n",
    "    Read VCF file and print all samples that match the specified chromosome and position\n",
    "    \"\"\"\n",
    "    for line in open(filename):\n",
    "        # Line started with '#' are ingored\n",
    "        if not line.startswith('#'):\n",
    "            col = line.split('\\t') # VCF is tab delimited\n",
    "            if col[0] == chrom and int(col[1]) == pos: \n",
    "                print(col[9:]) # samples are started from 10th column"
   ]
  },
  {
   "cell_type": "code",
   "execution_count": 40,
   "metadata": {
    "slideshow": {
     "slide_type": "-"
    }
   },
   "outputs": [
    {
     "name": "stdout",
     "output_type": "stream",
     "text": [
      "Help on function process_file in module __main__:\n",
      "\n",
      "process_file(filename, chrom, pos)\n",
      "    Read VCF file and print all samples that match the specified chromosome and position\n",
      "\n"
     ]
    }
   ],
   "source": [
    "help(process_file)"
   ]
  },
  {
   "cell_type": "markdown",
   "metadata": {
    "cell_marker": "'''",
    "slideshow": {
     "slide_type": "slide"
    }
   },
   "source": [
    "### Your code may have two types of users:\n",
    "\n",
    "- library users\n",
    "- maintainers (maybe yourself!)"
   ]
  },
  {
   "cell_type": "markdown",
   "metadata": {
    "cell_marker": "'''",
    "slideshow": {
     "slide_type": "slide"
    }
   },
   "source": [
    "#### Write documentation for both of them!\n",
    "\n",
    "- __library users (docstrings)__:\n",
    "  ```python\n",
    "  \"\"\"\n",
    "  What does this function do?\n",
    "  \"\"\"\n",
    "  ```\n",
    "- __maintainers (comments)__:\n",
    "  ```python\n",
    "  # implementation details\n",
    "  ```\n",
    "Add comment when the code needs additional explanation\n",
    "  ```python\n",
    "    my_list[5] += other_list[3]  # explain why you do this!\n",
    "    ```"
   ]
  },
  {
   "cell_type": "code",
   "execution_count": null,
   "metadata": {
    "slideshow": {
     "slide_type": "skip"
    }
   },
   "outputs": [],
   "source": [
    "def process_file(filename, chrom, pos):\n",
    "    \"\"\"Read a vcf file, search for lines matching \n",
    "    chromosome chrom and position pos.\n",
    "\n",
    "    Print the genotypes of the matching lines.\n",
    "    \"\"\"\n",
    "    for line in open(filename):\n",
    "        if not line.startswith('#'):  # skip comments\n",
    "            col = line.split('\\t')  # file is tab separated\n",
    "            # Check if chrom and pos match\n",
    "            if col[0] == chrom and col[1] == pos:\n",
    "                # genotype starts at column index 9\n",
    "                print(col[9:])"
   ]
  },
  {
   "cell_type": "markdown",
   "metadata": {
    "cell_marker": "'''",
    "slideshow": {
     "slide_type": "slide"
    }
   },
   "source": [
    "### Places for documentation:"
   ]
  },
  {
   "cell_type": "markdown",
   "metadata": {
    "cell_marker": "'''"
   },
   "source": [
    "#### 1. At the beginning of the file\n",
    "```python\n",
    "     \"\"\"\n",
    "     This module provides functions for ...\n",
    "     \"\"\"\n",
    "```"
   ]
  },
  {
   "cell_type": "markdown",
   "metadata": {
    "cell_marker": "'''",
    "slideshow": {
     "slide_type": "-"
    }
   },
   "source": [
    "#### 2. At every function definition under `def` \n",
    "```python\n",
    "    def function_name(parameters):\n",
    "        \"\"\"*\n",
    "        This function performs ...\n",
    "        \"\"\"\n",
    "        # code block\n",
    "        return value\n",
    "```"
   ]
  },
  {
   "cell_type": "markdown",
   "metadata": {
    "slideshow": {
     "slide_type": "skip"
    }
   },
   "source": [
    "Note: Live coding, show an example of writing documentation\n",
    "\n",
    "create an empty file and named it as dna.py\n",
    "first, write a docstring at the beginning of the file"
   ]
  },
  {
   "cell_type": "markdown",
   "metadata": {
    "slideshow": {
     "slide_type": "slide"
    }
   },
   "source": [
    "### Demo, create a Python module with documentation"
   ]
  },
  {
   "cell_type": "code",
   "execution_count": 64,
   "metadata": {
    "collapsed": true,
    "slideshow": {
     "slide_type": "-"
    }
   },
   "outputs": [
    {
     "name": "stdout",
     "output_type": "stream",
     "text": [
      "Help on function get_seqlen in module dna:\n",
      "\n",
      "get_seqlen(seq)\n",
      "    Calculate the length of the given DNA sequence and return the length\n",
      "\n",
      "15\n",
      "15\n"
     ]
    }
   ],
   "source": [
    "# Input the module we have just created and show the help message\n",
    "import importlib\n",
    "importlib.reload(dna)\n",
    "import dna\n",
    "from dna import get_seqlen\n",
    "help(dna.get_seqlen)\n",
    "print(dna.get_seqlen(\"AAAAAACCCCTGTGG\"))\n",
    "print(get_seqlen(\"AAAAAACCCCTGTGG\"))"
   ]
  },
  {
   "cell_type": "markdown",
   "metadata": {
    "cell_marker": "'''",
    "slideshow": {
     "slide_type": "slide"
    }
   },
   "source": [
    "### Read more about documentation and comment:\n",
    "\n",
    "https://realpython.com/documenting-python-code/\n",
    "\n",
    "https://www.python.org/dev/peps/pep-0008/?#comments"
   ]
  },
  {
   "cell_type": "markdown",
   "metadata": {
    "slideshow": {
     "slide_type": "slide"
    }
   },
   "source": [
    "### Introduction to Biopython\n",
    "- An open-source collection of tools for biological computation.\n",
    "- Provides functionalities for reading, writing, and analyzing biological data.\n",
    "\n",
    "#### Installing biopython\n",
    "```bash\n",
    "pip install biopython\n",
    "# or\n",
    "conda install -c conda-forge biopython\n",
    "```\n"
   ]
  },
  {
   "cell_type": "markdown",
   "metadata": {
    "slideshow": {
     "slide_type": "skip"
    }
   },
   "source": [
    "Note: yesterday we have showed a python script to read DNA sequences from file and calculate the length of sequence. here I have modified the code slightly so that readseq is packed in a function readseq()"
   ]
  },
  {
   "cell_type": "code",
   "execution_count": 68,
   "metadata": {
    "slideshow": {
     "slide_type": "slide"
    }
   },
   "outputs": [
    {
     "name": "stdout",
     "output_type": "stream",
     "text": [
      "Length of DNA sequence: 386\n"
     ]
    }
   ],
   "source": [
    "def get_seqlen(seqfile):\n",
    "    \"\"\"Read the sequence in fasta format, return the sequence in string\"\"\"\n",
    "    with open(seqfile, \"r\") as file:\n",
    "        seqlength = 0\n",
    "        for line in file:\n",
    "            line = line.strip()\n",
    "            if not line.startswith(\">\"):\n",
    "                seqlength += len(line)\n",
    "    return seqlength\n",
    "seqlength = get_seqlen(\"../files/one_dna_sequence.fa\")\n",
    "print(f\"Length of DNA sequence: {str(seqlength)}\")"
   ]
  },
  {
   "cell_type": "markdown",
   "metadata": {
    "slideshow": {
     "slide_type": "slide"
    }
   },
   "source": [
    "### How to do that with Biopython"
   ]
  },
  {
   "cell_type": "markdown",
   "metadata": {
    "slideshow": {
     "slide_type": "skip"
    }
   },
   "source": [
    "SeqIO.parse support many formats, such as \n",
    "- fastaq: Extension of FASTA with quality scores.\n",
    "- genebank: Rich format that combines sequence data and annotation.\n",
    "- Stockholm: Used for multiple sequence alignments.\n",
    "- PIR: protein sequence database format"
   ]
  },
  {
   "cell_type": "code",
   "execution_count": 87,
   "metadata": {},
   "outputs": [
    {
     "name": "stdout",
     "output_type": "stream",
     "text": [
      "Length of DNA sequence: 170\n"
     ]
    }
   ],
   "source": [
    "from Bio import SeqIO\n",
    "for record in SeqIO.parse(\"../files/one_dna_sequence.fa\", \"fasta\"): \n",
    "    seqlength = len(record.seq)\n",
    "print(f\"Length of DNA sequence: {str(seqlength)}\")"
   ]
  },
  {
   "cell_type": "code",
   "execution_count": 90,
   "metadata": {},
   "outputs": [
    {
     "name": "stdout",
     "output_type": "stream",
     "text": [
      "id: random_sequence_1\n",
      "description: random_sequence_1 | Random generated DNA sequence of length 125\n",
      "seq: ATGGGACTGCTAGGACTAGCTAGCTCTAGGACTGATCGTAGCTAGCTAGGCTAGCCTAGCAGTCTAGCTAGGACGATCGTAGCCCATAGCGGCTAGCTAGTACTGATCGTGCTAGCTAGCTAGCTGACTAGCTGCGTAGCTAGCTGACTGCTAGGACTAGTTGCGCTAGC\n"
     ]
    }
   ],
   "source": [
    "from Bio import SeqIO\n",
    "for record in SeqIO.parse(\"../downloads/one_dna_sequence.fa\", \"fasta\"): \n",
    "    print(f\"id: {record.id}\") # characters after '>' until the first white space \n",
    "    print(f\"description: {record.description}\") # characters after '>'\n",
    "    print(f\"seq: {record.seq}\")"
   ]
  },
  {
   "cell_type": "markdown",
   "metadata": {
    "slideshow": {
     "slide_type": "slide"
    }
   },
   "source": [
    "### It works with sequences files with multiple sequences as well"
   ]
  },
  {
   "cell_type": "code",
   "execution_count": 93,
   "metadata": {},
   "outputs": [
    {
     "name": "stdout",
     "output_type": "stream",
     "text": [
      ">seq_1 Random generated DNA sequence 1\r\n",
      "CGTACGTAGCTAGCTAGCTAGCTAGCTGATCGTAGCTAGCTAGCTGATCGTA\r\n",
      ">seq_2 Random generated DNA sequence 2\r\n",
      "GACCTAGCTGACTGATCGTAGCTAGCTAGCTGACTAGCTAGCTGACTGA\r\n",
      ">seq_3 Random generated DNA sequence 3\r\n",
      "TAGAGCTAGCTAGCTGATCGTAGCTAGCTAGCTAGCTGATCGTAGCTAGCTAG\r\n",
      "TAGGATCGTAGCTAGCTAGCTAGC\r\n",
      ">seq_4 Random generated DNA sequence 4\r\n",
      "GCTCTGATCGTAGCCTGACTAGCTAGCTGATCGTAGCTAGCTAGCT\r\n"
     ]
    }
   ],
   "source": [
    "!cat ../downloads/dna_sequences.fa"
   ]
  },
  {
   "cell_type": "code",
   "execution_count": 94,
   "metadata": {
    "scrolled": true
   },
   "outputs": [
    {
     "name": "stdout",
     "output_type": "stream",
     "text": [
      "Length of seq_1: 52\n",
      "Length of seq_2: 49\n",
      "Length of seq_3: 77\n",
      "Length of seq_4: 46\n"
     ]
    }
   ],
   "source": [
    "from Bio import SeqIO\n",
    "for record in SeqIO.parse(\"../downloads/dna_sequences.fa\", \"fasta\"): \n",
    "    print(f\"Length of {record.id}: {len(record.seq)}\")"
   ]
  },
  {
   "cell_type": "markdown",
   "metadata": {
    "slideshow": {
     "slide_type": "slide"
    }
   },
   "source": [
    "### Fetch biological data from the database seamlinglessly"
   ]
  },
  {
   "cell_type": "code",
   "execution_count": 97,
   "metadata": {
    "collapsed": true
   },
   "outputs": [
    {
     "name": "stdout",
     "output_type": "stream",
     "text": [
      ">NM_000546.6 Homo sapiens tumor protein p53 (TP53), transcript variant 1, mRNA\n",
      "CTCAAAAGTCTAGAGCCACCGTCCAGGGAGCAGGTAGCTGCTGGGCTCCGGGGACACTTTGCGTTCGGGC\n",
      "TGGGAGCGTGCTTTCCACGACGGTGACACGCTTCCCTGGATTGGCAGCCAGACTGCCTTCCGGGTCACTG\n",
      "CCATGGAGGAGCCGCAGTCAGATCCTAGCGTCGAGCCCCCTCTGAGTCAGGAAACATTTTCAGACCTATG\n",
      "GAAACTACTTCCTGAAAACAACGTTCTGTCCCCCTTGCCGTCCCAAGCAATGGATGATTTGATGCTGTCC\n",
      "CCGGACGATATTGAACAATGGTTCACTGAAGACCCAGGTCCAGATGAAGCTCCCAGAATGCCAGAGGCTG\n",
      "CTCCCCCCGTGGCCCCTGCACCAGCAGCTCCTACACCGGCGGCCCCTGCACCAGCCCCCTCCTGGCCCCT\n",
      "GTCATCTTCTGTCCCTTCCCAGAAAACCTACCAGGGCAGCTACGGTTTCCGTCTGGGCTTCTTGCATTCT\n",
      "GGGACAGCCAAGTCTGTGACTTGCACGTACTCCCCTGCCCTCAACAAGATGTTTTGCCAACTGGCCAAGA\n",
      "CCTGCCCTGTGCAGCTGTGGGTTGATTCCACACCCCCGCCCGGCACCCGCGTCCGCGCCATGGCCATCTA\n",
      "CAAGCAGTCACAGCACATGACGGAGGTTGTGAGGCGCTGCCCCCACCATGAGCGCTGCTCAGATAGCGAT\n",
      "GGTCTGGCCCCTCCTCAGCATCTTATCCGAGTGGAAGGAAATTTGCGTGTGGAGTATTTGGATGACAGAA\n",
      "ACACTTTTCGACATAGTGTGGTGGTGCCCTATGAGCCGCCTGAGGTTGGCTCTGACTGTACCACCATCCA\n",
      "CTACAACTACATGTGTAACAGTTCCTGCATGGGCGGCATGAACCGGAGGCCCATCCTCACCATCATCACA\n",
      "CTGGAAGACTCCAGTGGTAATCTACTGGGACGGAACAGCTTTGAGGTGCGTGTTTGTGCCTGTCCTGGGA\n",
      "GAGACCGGCGCACAGAGGAAGAGAATCTCCGCAAGAAAGGGGAGCCTCACCACGAGCTGCCCCCAGGGAG\n",
      "CACTAAGCGAGCACTGCCCAACAACACCAGCTCCTCTCCCCAGCCAAAGAAGAAACCACTGGATGGAGAA\n",
      "TATTTCACCCTTCAGATCCGTGGGCGTGAGCGCTTCGAGATGTTCCGAGAGCTGAATGAGGCCTTGGAAC\n",
      "TCAAGGATGCCCAGGCTGGGAAGGAGCCAGGGGGGAGCAGGGCTCACTCCAGCCACCTGAAGTCCAAAAA\n",
      "GGGTCAGTCTACCTCCCGCCATAAAAAACTCATGTTCAAGACAGAAGGGCCTGACTCAGACTGACATTCT\n",
      "CCACTTCTTGTTCCCCACTGACAGCCTCCCACCCCCATCTCTCCCTCCCCTGCCATTTTGGGTTTTGGGT\n",
      "CTTTGAACCCTTGCTTGCAATAGGTGTGCGTCAGAAGCACCCAGGACTTCCATTTGCTTTGTCCCGGGGC\n",
      "TCCACTGAACAAGTTGGCCTGCACTGGTGTTTTGTTGTGGGGAGGAGGATGGGGAGTAGGACATACCAGC\n",
      "TTAGATTTTAAGGTTTTTACTGTGAGGGATGTTTGGGAGATGTAAGAAATGTTCTTGCAGTTAAGGGTTA\n",
      "GTTTACAATCAGCCACATTCTAGGTAGGGGCCCACTTCACCGTACTAACCAGGGAAGCTGTCCCTCACTG\n",
      "TTGAATTTTCTCTAACTTCAAGGCCCATATCTGTGAAATGCTGGCATTTGCACCTACCTCACAGAGTGCA\n",
      "TTGTGAGGGTTAATGAAATAATGTACATCTGGCCTTGAAACCACCTTTTATTACATGGGGTCTAGAACTT\n",
      "GACCCCCTTGAGGGTGCTTGTTCCCTCTCCCTGTTGGTCGGTGGGTTGGTAGTTTCTACAGTTGGGCAGC\n",
      "TGGTTAGGTAGAGGGAGTTGTCAAGTCTCTGCTGGCCCAGCCAAACCCTGTCTGACAACCTCTTGGTGAA\n",
      "CCTTAGTACCTAAAAGGAAATCTCACCCCATCCCACACCCTGGAGGATTTCATCTCTTGTATATGATGAT\n",
      "CTGGATCCACCAAGACTTGTTTTATGCTCAGGGTCAATTTCTTTTTTCTTTTTTTTTTTTTTTTTTCTTT\n",
      "TTCTTTGAGACTGGGTCTCGCTTTGTTGCCCAGGCTGGAGTGGAGTGGCGTGATCTTGGCTTACTGCAGC\n",
      "CTTTGCCTCCCCGGCTCGAGCAGTCCTGCCTCAGCCTCCGGAGTAGCTGGGACCACAGGTTCATGCCACC\n",
      "ATGGCCAGCCAACTTTTGCATGTTTTGTAGAGATGGGGTCTCACAGTGTTGCCCAGGCTGGTCTCAAACT\n",
      "CCTGGGCTCAGGCGATCCACCTGTCTCAGCCTCCCAGAGTGCTGGGATTACAATTGTGAGCCACCACGTC\n",
      "CAGCTGGAAGGGTCAACATCTTTTACATTCTGCAAGCACATCTGCATTTTCACCCCACCCTTCCCCTCCT\n",
      "TCTCCCTTTTTATATCCCATTTTTATATCGATCTCTTATTTTACAATAAAACTTTGCTGCCA\n",
      "\n",
      "\n"
     ]
    }
   ],
   "source": [
    "from Bio import Entrez\n",
    "\n",
    "# Always tell NCBI who you are\n",
    "Entrez.email = \"nanjiang.shu@scilifelab.se\"\n",
    "\n",
    "# Fetch a nucleotide sequence\n",
    "handle = Entrez.efetch(db=\"nucleotide\", id=\"NM_000546\", rettype=\"fasta\", retmode=\"text\")\n",
    "print(handle.read())\n"
   ]
  },
  {
   "cell_type": "markdown",
   "metadata": {
    "slideshow": {
     "slide_type": "slide"
    }
   },
   "source": [
    "### Further resources\n",
    "- Biopython Tutorial and Cookbook: http://biopython.org/DIST/docs/tutorial/Tutorial.html\n",
    "- Biopython Documentation: https://biopython.org/wiki/Documentation"
   ]
  },
  {
   "cell_type": "markdown",
   "metadata": {
    "slideshow": {
     "slide_type": "skip"
    }
   },
   "source": [
    "## Day 2, Exercise 2\n",
    "\n",
    "## Break\n",
    "\n",
    "## Quiz\n",
    "\n",
    "## Project time after lunch"
   ]
  }
 ],
 "metadata": {
  "celltoolbar": "Slideshow",
  "jupytext": {
   "cell_markers": "'''"
  },
  "kernelspec": {
   "display_name": "Python 3 (ipykernel)",
   "language": "python",
   "name": "python3"
  },
  "language_info": {
   "codemirror_mode": {
    "name": "ipython",
    "version": 3
   },
   "file_extension": ".py",
   "mimetype": "text/x-python",
   "name": "python",
   "nbconvert_exporter": "python",
   "pygments_lexer": "ipython3",
   "version": "3.11.0"
  },
  "rise": {
   "height": 1000,
   "scroll": true,
   "width": 1280
  }
 },
 "nbformat": 4,
 "nbformat_minor": 4
}
