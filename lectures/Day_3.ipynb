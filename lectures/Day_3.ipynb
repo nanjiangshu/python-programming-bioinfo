{
 "cells": [
  {
   "cell_type": "code",
   "execution_count": 1,
   "metadata": {
    "slideshow": {
     "slide_type": "skip"
    }
   },
   "outputs": [],
   "source": [
    "from IPython.display import Image\n",
    "from IPython.display import clear_output\n",
    "from IPython.display import FileLink, FileLinks"
   ]
  },
  {
   "cell_type": "markdown",
   "metadata": {
    "slideshow": {
     "slide_type": "slide"
    }
   },
   "source": [
    "<img src=\"img/python-logo-master-flat.png\" alt=\"Python Logo\" style=\"width: 120px; float: right; margin: 0 0 10px 10px;\" />\n",
    "\n",
    "## Introduction to Python with Application in Bioinformatics\n",
    "\n",
    "\n",
    "\n",
    "### Nanjiang Shu\n",
    "\n",
    "#### 2024-07-17 (Day 3)"
   ]
  },
  {
   "cell_type": "markdown",
   "metadata": {
    "slideshow": {
     "slide_type": "slide"
    }
   },
   "source": [
    "## Review of Day 2\n",
    "\n",
    "- Writing and running the Python script\n",
    "  - File extension: `.py`\n",
    "  - Execution: use `python myscript.py` or `./myscript.py`\n",
    "- How to read and write files\n",
    "- Practised file processing and data maniputation with a VCF file \n",
    "- Introduced the course project"
   ]
  },
  {
   "cell_type": "markdown",
   "metadata": {
    "slideshow": {
     "slide_type": "slide"
    }
   },
   "source": [
    "## Review of the quiz from yesterday\n",
    "<a href=\"https://forms.office.com/Pages/DesignPageV2.aspx?origin=NeoPortalPage&subpage=design&id=DQSIkWdsW0yxEjajBLZtrQAAAAAAAAAAAAa__Yehr4dURVQ1UU9YSjMzUkdUVEtWMEg4V0VaQ1pXMy4u&analysis=true\">Link to the quiz statistics</a>"
   ]
  },
  {
   "cell_type": "markdown",
   "metadata": {
    "slideshow": {
     "slide_type": "slide"
    }
   },
   "source": [
    "## Day 3\n",
    "\n",
    "- __Session 1__\n",
    "    - Functions and methods\n",
    "    - Difference of functions and methods\n",
    "    - Introduction to some useful functions and methods\n",
    "- __Session 2__    \n",
    "    - How to write you own functions\n",
    "    - How to pass arguments from command line using `sys.argv`\n",
    "    - String formatting\n",
    "- __Project time__ in the afternoon"
   ]
  },
  {
   "cell_type": "markdown",
   "metadata": {
    "slideshow": {
     "slide_type": "slide"
    }
   },
   "source": [
    "## Session 1: Functions and Methods"
   ]
  },
  {
   "cell_type": "markdown",
   "metadata": {
    "slideshow": {
     "slide_type": "slide"
    }
   },
   "source": [
    "### What is a function\n",
    "\n",
    "- A function is a block of code that performs a specific task.\n",
    "- It can take input (parameters) and return output (results).\n",
    "- Functions help to reuse code and make programs more modular and readable."
   ]
  },
  {
   "cell_type": "markdown",
   "metadata": {
    "slideshow": {
     "slide_type": "-"
    }
   },
   "source": [
    "```python\n",
    "def function_name(parameters):\n",
    "    # Block of code\n",
    "    return result\n",
    "```"
   ]
  },
  {
   "cell_type": "code",
   "execution_count": 14,
   "metadata": {
    "collapsed": true,
    "slideshow": {
     "slide_type": "fragment"
    }
   },
   "outputs": [
    {
     "name": "stdout",
     "output_type": "stream",
     "text": [
      "Hello Python\n"
     ]
    }
   ],
   "source": [
    "print(\"Hello Python\")"
   ]
  },
  {
   "cell_type": "code",
   "execution_count": 16,
   "metadata": {
    "collapsed": true,
    "slideshow": {
     "slide_type": "fragment"
    }
   },
   "outputs": [
    {
     "name": "stdout",
     "output_type": "stream",
     "text": [
      "14\n"
     ]
    }
   ],
   "source": [
    "len(\"ACCCCTTGAACCCC\")"
   ]
  },
  {
   "cell_type": "code",
   "execution_count": 17,
   "metadata": {
    "collapsed": true,
    "slideshow": {
     "slide_type": "fragment"
    }
   },
   "outputs": [
    {
     "data": {
      "text/plain": [
       "147"
      ]
     },
     "execution_count": 17,
     "metadata": {},
     "output_type": "execute_result"
    }
   ],
   "source": [
    "max([87, 131, 69, 112, 147, 55, 68, 130, 119, 50])"
   ]
  },
  {
   "cell_type": "code",
   "execution_count": 85,
   "metadata": {
    "slideshow": {
     "slide_type": "skip"
    }
   },
   "outputs": [
    {
     "name": "stdout",
     "output_type": "stream",
     "text": [
      "64.28571428571429\n"
     ]
    }
   ],
   "source": [
    "def gc_content(seq):\n",
    "    seq = seq.upper()\n",
    "    gc_count = seq.count(\"G\") + seq.count(\"C\")\n",
    "    return (gc_count / len(seq)) * 100\n",
    "\n",
    "sequence = \"ACCCCTTGAACCCC\"\n",
    "gc_content = gc_content(sequence)\n",
    "print(gc_content)"
   ]
  },
  {
   "cell_type": "markdown",
   "metadata": {
    "slideshow": {
     "slide_type": "skip"
    }
   },
   "source": [
    "## Note: we will describe more about how to define a function in the next session"
   ]
  },
  {
   "cell_type": "markdown",
   "metadata": {
    "slideshow": {
     "slide_type": "slide"
    }
   },
   "source": [
    "### What is a method\n",
    "- A method is a function that is associated with objects (instances of class)\n",
    "    - All data types in Python are objects"
   ]
  },
  {
   "cell_type": "markdown",
   "metadata": {
    "slideshow": {
     "slide_type": "skip"
    }
   },
   "source": [
    "Note: A method is a function associated with an object, which is defined as a class. We will not introduce how to program with class in this beginners course, but if you are interested, you can find more information in Python documentation."
   ]
  },
  {
   "cell_type": "code",
   "execution_count": 68,
   "metadata": {
    "collapsed": true
   },
   "outputs": [
    {
     "name": "stdout",
     "output_type": "stream",
     "text": [
      "I love Python\n"
     ]
    }
   ],
   "source": [
    "class MyClass:\n",
    "    def my_method(self):\n",
    "        return \"I love Python\"\n",
    "\n",
    "obj = MyClass()\n",
    "print(obj.my_method())"
   ]
  },
  {
   "cell_type": "code",
   "execution_count": 69,
   "metadata": {
    "collapsed": true,
    "slideshow": {
     "slide_type": "fragment"
    }
   },
   "outputs": [
    {
     "data": {
      "text/plain": [
       "'acccgggt'"
      ]
     },
     "execution_count": 69,
     "metadata": {},
     "output_type": "execute_result"
    }
   ],
   "source": [
    "\"ACCCGGGT\".lower()"
   ]
  },
  {
   "cell_type": "code",
   "execution_count": 71,
   "metadata": {
    "collapsed": true,
    "slideshow": {
     "slide_type": "fragment"
    }
   },
   "outputs": [
    {
     "name": "stdout",
     "output_type": "stream",
     "text": [
      "[1, 5, 13, 13, 25]\n"
     ]
    }
   ],
   "source": [
    "mylist = [5, 13, 1, 13, 25]\n",
    "mylist.sort()\n",
    "print(mylist)"
   ]
  },
  {
   "cell_type": "code",
   "execution_count": 72,
   "metadata": {
    "collapsed": true,
    "slideshow": {
     "slide_type": "fragment"
    }
   },
   "outputs": [
    {
     "data": {
      "text/plain": [
       "True"
      ]
     },
     "execution_count": 72,
     "metadata": {},
     "output_type": "execute_result"
    }
   ],
   "source": [
    "# A floating number also has methods\n",
    "5.0.is_integer()"
   ]
  },
  {
   "cell_type": "markdown",
   "metadata": {
    "slideshow": {
     "slide_type": "slide"
    }
   },
   "source": [
    "\n",
    "\n",
    "### What is the difference of a `function` and a `method`?\n",
    "| __Function__                      | __Method__                                                |\n",
    "|-------------------------------|-------------------------------------------------------|\n",
    "| Standalone block of code      | Function associated with an object                    |\n",
    "| Called independently          | Called on an instance of a class                      |\n",
    "| Not tied to any object or class | Tied to the objects they are called on                |\n",
    "| Defined outside of a class    | Defined within a class                                |\n",
    "|\n"
   ]
  },
  {
   "cell_type": "markdown",
   "metadata": {
    "slideshow": {
     "slide_type": "slide"
    }
   },
   "source": [
    "### What does it matter to me?\n",
    "\n",
    "For now, you only need to know the different syntaxes of using a function and a method:\n",
    "\n",
    "__A function:__  \n",
    "`functionName()`\n",
    "\n",
    "__A method:__  \n",
    "```<object>.methodName()```\n"
   ]
  },
  {
   "cell_type": "markdown",
   "metadata": {
    "slideshow": {
     "slide_type": "slide"
    }
   },
   "source": [
    "### Introduction to some useful functions\n",
    "[Python Built-in functions](https://docs.python.org/3/library/functions.html#)"
   ]
  },
  {
   "cell_type": "markdown",
   "metadata": {
    "slideshow": {
     "slide_type": "-"
    }
   },
   "source": [
    "<img src=\"img/built-in_functions.png\" alt=\"Drawing\" style=\"width: 800px;\"/> "
   ]
  },
  {
   "cell_type": "markdown",
   "metadata": {
    "slideshow": {
     "slide_type": "slide"
    }
   },
   "source": [
    "### `help`"
   ]
  },
  {
   "cell_type": "code",
   "execution_count": 43,
   "metadata": {},
   "outputs": [
    {
     "name": "stdout",
     "output_type": "stream",
     "text": [
      "Help on built-in function max in module builtins:\n",
      "\n",
      "max(...)\n",
      "    max(iterable, *[, default=obj, key=func]) -> value\n",
      "    max(arg1, arg2, *args, *[, key=func]) -> value\n",
      "    \n",
      "    With a single iterable argument, return its biggest item. The\n",
      "    default keyword-only argument specifies an object to return if\n",
      "    the provided iterable is empty.\n",
      "    With two or more arguments, return the largest argument.\n",
      "\n"
     ]
    }
   ],
   "source": [
    "help(max)"
   ]
  },
  {
   "cell_type": "markdown",
   "metadata": {
    "slideshow": {
     "slide_type": "skip"
    }
   },
   "source": [
    "Note: we have talked about the `range()` function and have used it in the for loop. for example, \n",
    "It has more flexibility and be used in many other ways, "
   ]
  },
  {
   "cell_type": "markdown",
   "metadata": {
    "slideshow": {
     "slide_type": "slide"
    }
   },
   "source": [
    "### `range`"
   ]
  },
  {
   "cell_type": "code",
   "execution_count": 42,
   "metadata": {
    "scrolled": true,
    "slideshow": {
     "slide_type": "-"
    }
   },
   "outputs": [
    {
     "name": "stdout",
     "output_type": "stream",
     "text": [
      "0\n",
      "1\n",
      "2\n",
      "3\n",
      "4\n"
     ]
    }
   ],
   "source": [
    "for i in range(5):\n",
    "    print(i)"
   ]
  },
  {
   "cell_type": "code",
   "execution_count": 174,
   "metadata": {
    "slideshow": {
     "slide_type": "fragment"
    }
   },
   "outputs": [
    {
     "name": "stdout",
     "output_type": "stream",
     "text": [
      "1\n",
      "3\n",
      "5\n",
      "7\n",
      "9\n"
     ]
    }
   ],
   "source": [
    "# range(start, stop, step)\n",
    "for i in range(1, 10, 2):\n",
    "    print(i)"
   ]
  },
  {
   "cell_type": "markdown",
   "metadata": {
    "slideshow": {
     "slide_type": "slide"
    }
   },
   "source": [
    "### `sorted`"
   ]
  },
  {
   "cell_type": "code",
   "execution_count": 46,
   "metadata": {
    "slideshow": {
     "slide_type": "-"
    }
   },
   "outputs": [
    {
     "name": "stdout",
     "output_type": "stream",
     "text": [
      "[1, 3, 4, 5, 10, 13, 13]\n"
     ]
    }
   ],
   "source": [
    "li = [5, 4, 1, 3, 10, 13, 13]\n",
    "print(sorted(li))"
   ]
  },
  {
   "cell_type": "code",
   "execution_count": 47,
   "metadata": {
    "slideshow": {
     "slide_type": "fragment"
    }
   },
   "outputs": [
    {
     "name": "stdout",
     "output_type": "stream",
     "text": [
      "[13, 13, 10, 5, 4, 3, 1]\n"
     ]
    }
   ],
   "source": [
    "print(sorted(li, reverse=True))"
   ]
  },
  {
   "cell_type": "markdown",
   "metadata": {
    "slideshow": {
     "slide_type": "slide"
    }
   },
   "source": [
    "### `dir`: return a list of names comprising the attributes of the given objet"
   ]
  },
  {
   "cell_type": "code",
   "execution_count": 78,
   "metadata": {
    "collapsed": true
   },
   "outputs": [
    {
     "data": {
      "text/plain": [
       "['In',\n",
       " 'MyClass',\n",
       " 'Out',\n",
       " '_',\n",
       " '_1',\n",
       " '_10',\n",
       " '_11',\n",
       " '_12',\n",
       " '_15',\n",
       " '_17',\n",
       " '_18',\n",
       " '_19',\n",
       " '_2',\n",
       " '_20',\n",
       " '_21',\n",
       " '_23',\n",
       " '_25',\n",
       " '_3',\n",
       " '_4',\n",
       " '_48',\n",
       " '_5',\n",
       " '_50',\n",
       " '_52',\n",
       " '_53',\n",
       " '_54',\n",
       " '_56',\n",
       " '_57',\n",
       " '_59',\n",
       " '_6',\n",
       " '_60',\n",
       " '_62',\n",
       " '_63',\n",
       " '_65',\n",
       " '_69',\n",
       " '_7',\n",
       " '_72',\n",
       " '_77',\n",
       " '_8',\n",
       " '_9',\n",
       " '__',\n",
       " '___',\n",
       " '__builtin__',\n",
       " '__builtins__',\n",
       " '__doc__',\n",
       " '__loader__',\n",
       " '__name__',\n",
       " '__package__',\n",
       " '__spec__',\n",
       " '_dh',\n",
       " '_i',\n",
       " '_i1',\n",
       " '_i10',\n",
       " '_i11',\n",
       " '_i12',\n",
       " '_i13',\n",
       " '_i14',\n",
       " '_i15',\n",
       " '_i16',\n",
       " '_i17',\n",
       " '_i18',\n",
       " '_i19',\n",
       " '_i2',\n",
       " '_i20',\n",
       " '_i21',\n",
       " '_i22',\n",
       " '_i23',\n",
       " '_i24',\n",
       " '_i25',\n",
       " '_i26',\n",
       " '_i27',\n",
       " '_i28',\n",
       " '_i29',\n",
       " '_i3',\n",
       " '_i30',\n",
       " '_i31',\n",
       " '_i32',\n",
       " '_i33',\n",
       " '_i34',\n",
       " '_i35',\n",
       " '_i36',\n",
       " '_i37',\n",
       " '_i38',\n",
       " '_i39',\n",
       " '_i4',\n",
       " '_i40',\n",
       " '_i41',\n",
       " '_i42',\n",
       " '_i43',\n",
       " '_i44',\n",
       " '_i45',\n",
       " '_i46',\n",
       " '_i47',\n",
       " '_i48',\n",
       " '_i49',\n",
       " '_i5',\n",
       " '_i50',\n",
       " '_i51',\n",
       " '_i52',\n",
       " '_i53',\n",
       " '_i54',\n",
       " '_i55',\n",
       " '_i56',\n",
       " '_i57',\n",
       " '_i58',\n",
       " '_i59',\n",
       " '_i6',\n",
       " '_i60',\n",
       " '_i61',\n",
       " '_i62',\n",
       " '_i63',\n",
       " '_i64',\n",
       " '_i65',\n",
       " '_i66',\n",
       " '_i67',\n",
       " '_i68',\n",
       " '_i69',\n",
       " '_i7',\n",
       " '_i70',\n",
       " '_i71',\n",
       " '_i72',\n",
       " '_i73',\n",
       " '_i74',\n",
       " '_i75',\n",
       " '_i76',\n",
       " '_i77',\n",
       " '_i78',\n",
       " '_i8',\n",
       " '_i9',\n",
       " '_ih',\n",
       " '_ii',\n",
       " '_iii',\n",
       " '_oh',\n",
       " 'atexit',\n",
       " 'exit',\n",
       " 'get_ipython',\n",
       " 'historyPath',\n",
       " 'i',\n",
       " 'length',\n",
       " 'li',\n",
       " 'mylist',\n",
       " 'obj',\n",
       " 'open',\n",
       " 'os',\n",
       " 'quit',\n",
       " 'readline',\n",
       " 'rlcompleter',\n",
       " 'save_history',\n",
       " 'sys']"
      ]
     },
     "execution_count": 78,
     "metadata": {},
     "output_type": "execute_result"
    }
   ],
   "source": [
    "dir()"
   ]
  },
  {
   "cell_type": "markdown",
   "metadata": {
    "slideshow": {
     "slide_type": "slide"
    }
   },
   "source": [
    "### Introduction to some userful methods\n",
    "\n",
    "####  Operations on strings\n",
    "\n",
    "<img src=\"img/string_methods.png\" alt=\"Drawing\" style=\"width: 600px;\"/> "
   ]
  },
  {
   "cell_type": "markdown",
   "metadata": {
    "slideshow": {
     "slide_type": "slide"
    }
   },
   "source": [
    "#### ```str.split()```"
   ]
  },
  {
   "cell_type": "code",
   "execution_count": 86,
   "metadata": {
    "slideshow": {
     "slide_type": "-"
    }
   },
   "outputs": [
    {
     "data": {
      "text/plain": [
       "['split', 'a', 'string', 'into', 'a', 'list']"
      ]
     },
     "execution_count": 86,
     "metadata": {},
     "output_type": "execute_result"
    }
   ],
   "source": [
    "a = '  split a string into a list '\n",
    "a.split()"
   ]
  },
  {
   "cell_type": "code",
   "execution_count": 88,
   "metadata": {
    "slideshow": {
     "slide_type": "fragment"
    }
   },
   "outputs": [
    {
     "data": {
      "text/plain": [
       "['split', 'a', 'string', 'into a list ']"
      ]
     },
     "execution_count": 88,
     "metadata": {},
     "output_type": "execute_result"
    }
   ],
   "source": [
    "a.split(maxsplit=3)"
   ]
  },
  {
   "cell_type": "markdown",
   "metadata": {
    "slideshow": {
     "slide_type": "slide"
    }
   },
   "source": [
    "#### `str.join`"
   ]
  },
  {
   "cell_type": "markdown",
   "metadata": {
    "slideshow": {
     "slide_type": "skip"
    }
   },
   "source": [
    "<img src=\"img/join.png\" alt=\"Drawing\" style=\"width: 800px;\"/> "
   ]
  },
  {
   "cell_type": "code",
   "execution_count": 92,
   "metadata": {
    "slideshow": {
     "slide_type": "-"
    }
   },
   "outputs": [
    {
     "data": {
      "text/plain": [
       "'a,b,c,d'"
      ]
     },
     "execution_count": 92,
     "metadata": {},
     "output_type": "execute_result"
    }
   ],
   "source": [
    "','.join([\"a\", \"b\", \"c\", \"d\"]) # convert to comma separated"
   ]
  },
  {
   "cell_type": "markdown",
   "metadata": {
    "slideshow": {
     "slide_type": "slide"
    }
   },
   "source": [
    "### Useful operations on mutable sequences, e.g. list, set\n",
    "\n",
    "<br></br>\n",
    "\n",
    "<img src=\"img/list_methods.png\" alt=\"Drawing\" style=\"width: 400px;\"/> "
   ]
  },
  {
   "cell_type": "code",
   "execution_count": 98,
   "metadata": {
    "collapsed": true,
    "slideshow": {
     "slide_type": "slide"
    }
   },
   "outputs": [
    {
     "data": {
      "text/plain": [
       "[1, 2, 3, 4, 5, 5, 5, 5, 6]"
      ]
     },
     "execution_count": 98,
     "metadata": {},
     "output_type": "execute_result"
    }
   ],
   "source": [
    "a = [1, 2, 3, 4, 5, 5, 5, 5]\n",
    "a.append(6)\n",
    "a"
   ]
  },
  {
   "cell_type": "code",
   "execution_count": 99,
   "metadata": {
    "collapsed": true
   },
   "outputs": [
    {
     "data": {
      "text/plain": [
       "[1, 3, 4, 5, 5, 5, 5, 6]"
      ]
     },
     "execution_count": 99,
     "metadata": {},
     "output_type": "execute_result"
    }
   ],
   "source": [
    "a.pop(1)\n",
    "a"
   ]
  },
  {
   "cell_type": "code",
   "execution_count": 100,
   "metadata": {
    "collapsed": true
   },
   "outputs": [
    {
     "data": {
      "text/plain": [
       "[6, 5, 5, 5, 5, 4, 3, 1]"
      ]
     },
     "execution_count": 100,
     "metadata": {},
     "output_type": "execute_result"
    }
   ],
   "source": [
    "a.reverse()\n",
    "a"
   ]
  },
  {
   "cell_type": "code",
   "execution_count": 107,
   "metadata": {
    "collapsed": true
   },
   "outputs": [
    {
     "data": {
      "text/plain": [
       "[5, 5, 4, 3, 1]"
      ]
     },
     "execution_count": 107,
     "metadata": {},
     "output_type": "execute_result"
    }
   ],
   "source": [
    "a.remove(5)\n",
    "a"
   ]
  },
  {
   "cell_type": "code",
   "execution_count": 159,
   "metadata": {
    "collapsed": true
   },
   "outputs": [
    {
     "data": {
      "text/plain": [
       "[13, 6, 5, 13, 5, 5, 4, 3, 2, 1, 0, 0]"
      ]
     },
     "execution_count": 159,
     "metadata": {},
     "output_type": "execute_result"
    }
   ],
   "source": [
    "a.insert(0, 13)\n",
    "a"
   ]
  },
  {
   "cell_type": "code",
   "execution_count": 108,
   "metadata": {
    "collapsed": true
   },
   "outputs": [
    {
     "ename": "AttributeError",
     "evalue": "'tuple' object has no attribute 'pop'",
     "output_type": "error",
     "traceback": [
      "\u001b[0;31m---------------------------------------------------------------------------\u001b[0m",
      "\u001b[0;31mAttributeError\u001b[0m                            Traceback (most recent call last)",
      "Cell \u001b[0;32mIn[108], line 3\u001b[0m\n\u001b[1;32m      1\u001b[0m \u001b[38;5;66;03m### Tuples are immutable\u001b[39;00m\n\u001b[1;32m      2\u001b[0m a \u001b[38;5;241m=\u001b[39m (\u001b[38;5;241m2\u001b[39m, \u001b[38;5;241m3\u001b[39m, \u001b[38;5;241m4\u001b[39m, \u001b[38;5;241m15\u001b[39m)\n\u001b[0;32m----> 3\u001b[0m a\u001b[38;5;241m.\u001b[39mpop()\n",
      "\u001b[0;31mAttributeError\u001b[0m: 'tuple' object has no attribute 'pop'"
     ]
    }
   ],
   "source": [
    "### Tuples are immutable\n",
    "a = (2, 3, 4, 15)\n",
    "a.pop()"
   ]
  },
  {
   "cell_type": "markdown",
   "metadata": {
    "slideshow": {
     "slide_type": "skip"
    }
   },
   "source": [
    "Note: do you still remmeber the Dictionary data type we talked aobut at the first day?"
   ]
  },
  {
   "cell_type": "markdown",
   "metadata": {
    "slideshow": {
     "slide_type": "slide"
    }
   },
   "source": [
    "### Dictionary\n",
    "- A dictionary is an unordered, mutable collection of key-value pairs. \n",
    "- Each key in a dictionary must be unique and immutable (e.g., strings, numbers, or tuples), while the values associated with keys can be of any data type and can be duplicated."
   ]
  },
  {
   "cell_type": "code",
   "execution_count": null,
   "metadata": {},
   "outputs": [],
   "source": [
    "sequence_info = {  # a dictionary\n",
    "    \"gene\": \"TP53\",\n",
    "    \"species\": \"Homo sapiens\",\n",
    "    \"length\": 2000\n",
    "}"
   ]
  },
  {
   "cell_type": "markdown",
   "metadata": {
    "slideshow": {
     "slide_type": "-"
    }
   },
   "source": [
    "__Syntax__:  \n",
    "`a = {}` (create empty dictionary)  \n",
    "`d = {'key1':value1, 'key2':value2, 'key3':value3}`"
   ]
  },
  {
   "cell_type": "markdown",
   "metadata": {
    "slideshow": {
     "slide_type": "slide"
    }
   },
   "source": [
    "### Userful operations on Dictionaries"
   ]
  },
  {
   "cell_type": "markdown",
   "metadata": {
    "slideshow": {
     "slide_type": "-"
    }
   },
   "source": [
    "<img src=\"img/dictionary.png\" alt=\"Drawing\" style=\"width: 600px;\"/>  "
   ]
  },
  {
   "cell_type": "code",
   "execution_count": 109,
   "metadata": {
    "slideshow": {
     "slide_type": "slide"
    }
   },
   "outputs": [
    {
     "data": {
      "text/plain": [
       "{'gene': 'TP53', 'species': 'Homo sapiens', 'length': 2000}"
      ]
     },
     "execution_count": 109,
     "metadata": {},
     "output_type": "execute_result"
    }
   ],
   "source": [
    "sequence_info = {  # a dictionary\n",
    "    \"gene\": \"TP53\",\n",
    "    \"species\": \"Homo sapiens\",\n",
    "    \"length\": 2000\n",
    "}\n",
    "sequence_info"
   ]
  },
  {
   "cell_type": "code",
   "execution_count": 116,
   "metadata": {},
   "outputs": [
    {
     "data": {
      "text/plain": [
       "3"
      ]
     },
     "execution_count": 116,
     "metadata": {},
     "output_type": "execute_result"
    }
   ],
   "source": [
    "len(sequence_info)"
   ]
  },
  {
   "cell_type": "code",
   "execution_count": 110,
   "metadata": {},
   "outputs": [
    {
     "data": {
      "text/plain": [
       "'TP53'"
      ]
     },
     "execution_count": 110,
     "metadata": {},
     "output_type": "execute_result"
    }
   ],
   "source": [
    "# Access the value for a given key\n",
    "gene_id = sequence_info['gene']\n",
    "print(gene_id)"
   ]
  },
  {
   "cell_type": "code",
   "execution_count": null,
   "metadata": {
    "slideshow": {
     "slide_type": "fragment"
    }
   },
   "outputs": [],
   "source": [
    "sequence_info_list = [\"TP53\", \"Homo sapiens\", 2000]\n",
    "gene_id = sequence_info_list[0]\n",
    "# think if you have dozens of items in a list, and refer to them by indexes"
   ]
  },
  {
   "cell_type": "markdown",
   "metadata": {
    "slideshow": {
     "slide_type": "slide"
    }
   },
   "source": [
    "#### Value of a key can be modified"
   ]
  },
  {
   "cell_type": "code",
   "execution_count": 111,
   "metadata": {},
   "outputs": [
    {
     "data": {
      "text/plain": [
       "{'gene': 'COX2', 'species': 'Homo sapiens', 'length': 2000}"
      ]
     },
     "execution_count": 111,
     "metadata": {},
     "output_type": "execute_result"
    }
   ],
   "source": [
    "sequence_info['gene'] = \"COX2\"\n",
    "sequence_info"
   ]
  },
  {
   "cell_type": "markdown",
   "metadata": {
    "slideshow": {
     "slide_type": "slide"
    }
   },
   "source": [
    "#### Check membership"
   ]
  },
  {
   "cell_type": "code",
   "execution_count": 124,
   "metadata": {},
   "outputs": [
    {
     "data": {
      "text/plain": [
       "True"
      ]
     },
     "execution_count": 124,
     "metadata": {},
     "output_type": "execute_result"
    }
   ],
   "source": [
    "# check membership for keys\n",
    "'gene' in sequence_info"
   ]
  },
  {
   "cell_type": "code",
   "execution_count": 126,
   "metadata": {},
   "outputs": [
    {
     "data": {
      "text/plain": [
       "True"
      ]
     },
     "execution_count": 126,
     "metadata": {},
     "output_type": "execute_result"
    }
   ],
   "source": [
    "# check membership for values\n",
    "2000 in sequence_info.values()"
   ]
  },
  {
   "cell_type": "markdown",
   "metadata": {
    "slideshow": {
     "slide_type": "slide"
    }
   },
   "source": [
    "#### Loop through a dictionary"
   ]
  },
  {
   "cell_type": "code",
   "execution_count": 118,
   "metadata": {},
   "outputs": [
    {
     "name": "stdout",
     "output_type": "stream",
     "text": [
      "gene\n",
      "species\n",
      "length\n"
     ]
    }
   ],
   "source": [
    "for key in sequence_info.keys():\n",
    "    print(key)"
   ]
  },
  {
   "cell_type": "code",
   "execution_count": 120,
   "metadata": {
    "slideshow": {
     "slide_type": "fragment"
    }
   },
   "outputs": [
    {
     "name": "stdout",
     "output_type": "stream",
     "text": [
      "COX2\n",
      "Homo sapiens\n",
      "2000\n"
     ]
    }
   ],
   "source": [
    "for value in sequence_info.values():\n",
    "    print(value)"
   ]
  },
  {
   "cell_type": "code",
   "execution_count": 127,
   "metadata": {
    "slideshow": {
     "slide_type": "fragment"
    }
   },
   "outputs": [
    {
     "name": "stdout",
     "output_type": "stream",
     "text": [
      "gene COX2\n",
      "species Homo sapiens\n",
      "length 2000\n"
     ]
    }
   ],
   "source": [
    "for key, value in sequence_info.items():\n",
    "    print(key, value)"
   ]
  },
  {
   "cell_type": "markdown",
   "metadata": {
    "slideshow": {
     "slide_type": "slide"
    }
   },
   "source": [
    "#### Be aware: key must be immutable, value can be any data type"
   ]
  },
  {
   "cell_type": "code",
   "execution_count": 114,
   "metadata": {
    "collapsed": true
   },
   "outputs": [],
   "source": [
    "mydict = {\n",
    "    \"simple list\": [1, 2, 3]\n",
    "}"
   ]
  },
  {
   "cell_type": "code",
   "execution_count": 115,
   "metadata": {},
   "outputs": [
    {
     "ename": "TypeError",
     "evalue": "unhashable type: 'list'",
     "output_type": "error",
     "traceback": [
      "\u001b[0;31m---------------------------------------------------------------------------\u001b[0m",
      "\u001b[0;31mTypeError\u001b[0m                                 Traceback (most recent call last)",
      "Cell \u001b[0;32mIn[115], line 1\u001b[0m\n\u001b[0;32m----> 1\u001b[0m mydict \u001b[38;5;241m=\u001b[39m {\n\u001b[1;32m      2\u001b[0m     [\u001b[38;5;241m1\u001b[39m, \u001b[38;5;241m2\u001b[39m, \u001b[38;5;241m3\u001b[39m]: \u001b[38;5;124m\"\u001b[39m\u001b[38;5;124msimple list\u001b[39m\u001b[38;5;124m\"\u001b[39m\n\u001b[1;32m      3\u001b[0m }\n",
      "\u001b[0;31mTypeError\u001b[0m: unhashable type: 'list'"
     ]
    }
   ],
   "source": [
    "mydict = {\n",
    "    [1, 2, 3]: \"simple list\"\n",
    "}"
   ]
  },
  {
   "cell_type": "markdown",
   "metadata": {
    "slideshow": {
     "slide_type": "slide"
    }
   },
   "source": [
    "## Summary\n",
    "\n",
    "- A method always belongs to an object of a specific class, a function does not have to\n",
    "- The official Python documentation describes the syntax for all built-in functions and methods\n",
    "  - https://docs.python.org/3.9/"
   ]
  },
  {
   "cell_type": "markdown",
   "metadata": {
    "slideshow": {
     "slide_type": "slide"
    }
   },
   "source": [
    "## Day 3, Exercise 1\n",
    "- Link: https://python-bioinfo.bioshu.se/exercises.html\n",
    "___\n",
    "### Take a break after the exercise"
   ]
  },
  {
   "cell_type": "markdown",
   "metadata": {
    "slideshow": {
     "slide_type": "slide"
    }
   },
   "source": [
    "## Session 2: \n",
    "- How to define your own function\n",
    "- How we pass arguments from the command line to the Python script - sys.argv\n",
    "- String formatting"
   ]
  },
  {
   "cell_type": "markdown",
   "metadata": {
    "slideshow": {
     "slide_type": "skip"
    }
   },
   "source": [
    "Note: when we are talking about the conditional statement, we have showned this example\n",
    "The program check whether a genotype is active or not by comparing it to the target variant, and if true, further check if the phenotype is \"expressed\" or not, \n",
    "\n",
    "The outcome will be determine the status of the variant. \n",
    "\n",
    "If I want to check for another genotype or phenotype, I have to change the value in the code\n"
   ]
  },
  {
   "cell_type": "code",
   "execution_count": 142,
   "metadata": {
    "collapsed": true,
    "slideshow": {
     "slide_type": "slide"
    }
   },
   "outputs": [
    {
     "name": "stdout",
     "output_type": "stream",
     "text": [
      "Variant AG is active and expressed.\n"
     ]
    }
   ],
   "source": [
    "# Use nested conditionals to categorize genetic variants based on multiple attributes.\n",
    "genotype = \"AG\"\n",
    "phenotype = \"expressed\"\n",
    "if genotype == \"AG\":\n",
    "    # Only check phenotype if genotype is \"AG\"\n",
    "    if phenotype == \"expressed\":\n",
    "        print(\"Variant \" + genotype + \" is active and expressed.\")\n",
    "    else:\n",
    "        print(\"Variant \" + genotype + \" is active but not expressed.\")\n",
    "else:\n",
    "    print(\"Variant \" + genotype + \" is a non-target variant.\")"
   ]
  },
  {
   "cell_type": "markdown",
   "metadata": {
    "slideshow": {
     "slide_type": "slide"
    }
   },
   "source": [
    "### Syntax of function\n",
    "```python\n",
    "def function_name(arg1, arg2, ...):\n",
    "    # Block of code\n",
    "    return result\n",
    "```"
   ]
  },
  {
   "cell_type": "markdown",
   "metadata": {
    "slideshow": {
     "slide_type": "skip"
    }
   },
   "source": [
    "Note: live coding to define the function"
   ]
  },
  {
   "cell_type": "code",
   "execution_count": 142,
   "metadata": {
    "collapsed": true,
    "slideshow": {
     "slide_type": "-"
    }
   },
   "outputs": [
    {
     "name": "stdout",
     "output_type": "stream",
     "text": [
      "Variant AG is active and expressed.\n"
     ]
    }
   ],
   "source": [
    "# Let's start with the previous code\n",
    "genotype = \"AG\"\n",
    "phenotype = \"expressed\"\n",
    "if genotype == \"AG\":\n",
    "    # Only check phenotype if genotype is \"AG\"\n",
    "    if phenotype == \"expressed\":\n",
    "        print(\"Variant \" + genotype + \" is active and expressed.\")\n",
    "    else:\n",
    "        print(\"Variant \" + genotype + \" is active but not expressed.\")\n",
    "else:\n",
    "    print(\"Variant \" + genotype + \" is a non-target variant.\")"
   ]
  },
  {
   "cell_type": "code",
   "execution_count": 134,
   "metadata": {
    "collapsed": true,
    "slideshow": {
     "slide_type": "skip"
    }
   },
   "outputs": [
    {
     "name": "stdout",
     "output_type": "stream",
     "text": [
      "Variant AG is active and expressed.\n"
     ]
    }
   ],
   "source": [
    "def check_geno_pheno(genotype, phenotype):\n",
    "    if genotype == \"AG\":\n",
    "        # Only check phenotype if genotype is \"AG\"\n",
    "        if phenotype == \"expressed\":\n",
    "            print(\"Variant \" + genotype + \" is active and expressed.\")\n",
    "        else:\n",
    "            print(\"Variant \" + genotype + \" is active but not expressed.\")\n",
    "    else:\n",
    "        print(\"Variant \" + genotype + \" is a non-target variant.\")\n",
    "    \n",
    "check_geno_pheno(\"AG\", \"expressed\")"
   ]
  },
  {
   "cell_type": "code",
   "execution_count": 135,
   "metadata": {
    "collapsed": true,
    "slideshow": {
     "slide_type": "fragment"
    }
   },
   "outputs": [
    {
     "name": "stdout",
     "output_type": "stream",
     "text": [
      "Variant A is a non-target variant.\n",
      "Variant AC is a non-target variant.\n"
     ]
    }
   ],
   "source": [
    "check_geno_pheno(\"A\", \"expressed\")\n",
    "check_geno_pheno(\"AC\", \"nonexpressed\")"
   ]
  },
  {
   "cell_type": "markdown",
   "metadata": {
    "slideshow": {
     "slide_type": "skip"
    }
   },
   "source": [
    "Note the return statement"
   ]
  },
  {
   "cell_type": "markdown",
   "metadata": {
    "slideshow": {
     "slide_type": "slide"
    }
   },
   "source": [
    "### Syntax of function\n",
    "```python\n",
    "def function_name(arg1, arg2, ...):\n",
    "    # Block of code\n",
    "    return result\n",
    "```"
   ]
  },
  {
   "cell_type": "code",
   "execution_count": 138,
   "metadata": {},
   "outputs": [
    {
     "name": "stdout",
     "output_type": "stream",
     "text": [
      "Variant A is a non-target variant.\n",
      "result =  None\n"
     ]
    }
   ],
   "source": [
    "result = check_geno_pheno(\"A\", \"expressed\")\n",
    "print(\"result = \", result)"
   ]
  },
  {
   "cell_type": "markdown",
   "metadata": {
    "slideshow": {
     "slide_type": "skip"
    }
   },
   "source": [
    "Note: live coding to modify the following code, so it return the message"
   ]
  },
  {
   "cell_type": "code",
   "execution_count": null,
   "metadata": {
    "slideshow": {
     "slide_type": "slide"
    }
   },
   "outputs": [],
   "source": [
    "# re-define this function so that it return a meaningful value\n",
    "def check_geno_pheno(genotype, phenotype):\n",
    "    if genotype == \"AG\":\n",
    "        # Only check phenotype if genotype is \"AG\"\n",
    "        if phenotype == \"expressed\":\n",
    "            print(\"Variant \" + genotype + \" is active and expressed.\")\n",
    "        else:\n",
    "            print(\"Variant \" + genotype + \" is active but not expressed.\")\n",
    "    else:\n",
    "        print(\"Variant \" + genotype + \" is a non-target variant.\")\n",
    "    \n",
    "check_geno_pheno(\"AG\", \"expressed\")"
   ]
  },
  {
   "cell_type": "code",
   "execution_count": 139,
   "metadata": {
    "slideshow": {
     "slide_type": "skip"
    }
   },
   "outputs": [],
   "source": [
    "# redefine the function so that it return a meaningful value\n",
    "def check_geno_pheno(genotype, phenotype):\n",
    "    result = \"\"\n",
    "    if genotype == \"AG\":\n",
    "        # Only check phenotype if genotype is \"AG\"\n",
    "        if phenotype == \"expressed\":\n",
    "            result = \"Variant \" + genotype + \" is active and expressed.\"\n",
    "        else:\n",
    "            result = \"Variant \" + genotype + \" is active but not expressed.\"\n",
    "    else:\n",
    "        result = \"Variant \" + genotype + \" is a non-target variant.\"\n",
    "    \n",
    "    return result\n",
    "# live coding"
   ]
  },
  {
   "cell_type": "code",
   "execution_count": 140,
   "metadata": {
    "collapsed": true,
    "slideshow": {
     "slide_type": "fragment"
    }
   },
   "outputs": [
    {
     "name": "stdout",
     "output_type": "stream",
     "text": [
      "result =  Variant A is a non-target variant.\n"
     ]
    }
   ],
   "source": [
    "result = check_geno_pheno(\"A\", \"expressed\")\n",
    "print(\"result = \", result)"
   ]
  },
  {
   "cell_type": "code",
   "execution_count": 141,
   "metadata": {
    "collapsed": true,
    "slideshow": {
     "slide_type": "fragment"
    }
   },
   "outputs": [
    {
     "name": "stdout",
     "output_type": "stream",
     "text": [
      "result 1 =  Variant AG is active and expressed.\n",
      "result 2 =  Variant A is a non-target variant.\n"
     ]
    }
   ],
   "source": [
    "r1 = check_geno_pheno(\"AG\", \"expressed\")\n",
    "r2 = check_geno_pheno(\"A\", \"expressed\")\n",
    "print(\"result 1 = \", r1)\n",
    "print(\"result 2 = \", r2)"
   ]
  },
  {
   "cell_type": "markdown",
   "metadata": {
    "slideshow": {
     "slide_type": "slide"
    }
   },
   "source": [
    "## Why use functions?\n",
    "\n",
    "- Cleaner code\n",
    "- Better defined tasks in code\n",
    "- Re-usability\n",
    "- Better structure"
   ]
  },
  {
   "cell_type": "markdown",
   "metadata": {
    "slideshow": {
     "slide_type": "slide"
    }
   },
   "source": [
    "### 5 min exercise\n",
    "\n",
    "Write a function that calculate the length of sequence\n",
    "- Name of the function, `get_seq_len`\n",
    "- Input parameter: `sequence` (String)\n",
    "- Return value: `length` (Int)"
   ]
  },
  {
   "cell_type": "markdown",
   "metadata": {
    "slideshow": {
     "slide_type": "slide"
    }
   },
   "source": [
    "## How to pass arguments to Python script from the command line"
   ]
  },
  {
   "cell_type": "markdown",
   "metadata": {
    "slideshow": {
     "slide_type": "skip"
    }
   },
   "source": [
    "Note: yesterday we talked about how to read data from a file and showed this example.\n",
    "Now we will switch to a terminal "
   ]
  },
  {
   "cell_type": "code",
   "execution_count": null,
   "metadata": {
    "slideshow": {
     "slide_type": "slide"
    }
   },
   "outputs": [],
   "source": [
    "seqfile = \"../files/one_dna_sequence.fa\"\n",
    "\n",
    "with open(seqfile, \"r\") as file:\n",
    "    seqlength = 0\n",
    "    for line in file:\n",
    "        line = line.strip()\n",
    "        if not line.startswith(\">\"):\n",
    "            seqlength += len(line)\n",
    "\n",
    "outfile = \"../files/output/length_of_dna_sequence.txt\"\n",
    "with open(outfile, \"w\") as file:\n",
    "    file.write(\"Length of DNA sequence: \" + str(seqlength))"
   ]
  },
  {
   "cell_type": "markdown",
   "metadata": {
    "slideshow": {
     "slide_type": "slide"
    }
   },
   "source": [
    "### `sys.argv`\n",
    "- `sys.argv` is a list in the `sys` module, it contains the command line arguments passed to the script\n",
    "    - Position 0: the program name\n",
    "    - Position 1: the first argument\n",
    "    - Position 2: the second argument\n",
    "    - etc"
   ]
  },
  {
   "cell_type": "markdown",
   "metadata": {
    "slideshow": {
     "slide_type": "slide"
    }
   },
   "source": [
    "### How to use it\n",
    "```python\n",
    "import sys\n",
    "\n",
    "program_name = sys.argv[0]\n",
    "arg1 = sys.argv[1] # index error if the first argument is not provided in the command\n",
    "arg2 = sys.argv[2] # index error if the second argument is not provided in the command\n",
    "```\n",
    "\n",
    "In Python, the `import` statement is used to include external modules and libraries into your current script or module."
   ]
  },
  {
   "cell_type": "markdown",
   "metadata": {
    "slideshow": {
     "slide_type": "skip"
    }
   },
   "source": [
    "Note: we will talk more about modules and how to use them tomorrow. Now we will switch to the terminal again"
   ]
  },
  {
   "cell_type": "markdown",
   "metadata": {
    "slideshow": {
     "slide_type": "slide"
    }
   },
   "source": [
    "#### Try out `sys.argv`\n",
    "\n",
    "Python script is called `print_argv.py` in the download folder"
   ]
  },
  {
   "cell_type": "code",
   "execution_count": null,
   "metadata": {
    "slideshow": {
     "slide_type": "slide"
    }
   },
   "outputs": [],
   "source": [
    "# Modify this code so that it takes command line arguments\n",
    "seqfile = \"../files/one_dna_sequence.fa\"\n",
    "\n",
    "with open(seqfile, \"r\") as file:\n",
    "    seqlength = 0\n",
    "    for line in file:\n",
    "        line = line.strip()\n",
    "        if not line.startswith(\">\"):\n",
    "            seqlength += len(line)\n",
    "\n",
    "outfile = \"../files/output/length_of_dna_sequence.txt\"\n",
    "with open(outfile, \"w\") as file:\n",
    "    file.write(\"Length of DNA sequence: \" + str(seqlength))"
   ]
  },
  {
   "cell_type": "code",
   "execution_count": null,
   "metadata": {
    "slideshow": {
     "slide_type": "skip"
    }
   },
   "outputs": [],
   "source": [
    "#!/usr/bin/env python\n",
    "# answer\n",
    "import sys\n",
    "\n",
    "if len(sys.argv) > 2:\n",
    "    seqfile = sys.argv[1]\n",
    "    outfile = sys.argv[2]\n",
    "else:\n",
    "    print(\"USAGE: \" + sys.argv[0] + \" seqfile outfile\")\n",
    "    sys.exit(1)\n",
    "    \n",
    "with open(seqfile, \"r\") as file:\n",
    "    seqlength = 0\n",
    "    for line in file:\n",
    "        line = line.strip()\n",
    "        if not line.startswith(\">\"):\n",
    "            seqlength += len(line)\n",
    "\n",
    "# outfile = \"../files/output/length_of_dna_sequence.txt\"\n",
    "with open(outfile, \"w\") as file:\n",
    "    file.write(\"Length of DNA sequence: \" + str(seqlength))\n",
    "print(\"Result has been output to \", outfile)"
   ]
  },
  {
   "cell_type": "markdown",
   "metadata": {
    "slideshow": {
     "slide_type": "skip"
    }
   },
   "source": [
    "Note: Can you answer, why we use arguments from the command line"
   ]
  },
  {
   "cell_type": "markdown",
   "metadata": {
    "slideshow": {
     "slide_type": "slide"
    }
   },
   "source": [
    "### Why use arguments from the command line\n"
   ]
  },
  {
   "cell_type": "markdown",
   "metadata": {
    "slideshow": {
     "slide_type": "fragment"
    }
   },
   "source": [
    "- Avoid hardcoding the filename in the code\n",
    "- Easier to re-use code for different input files"
   ]
  },
  {
   "cell_type": "markdown",
   "metadata": {
    "slideshow": {
     "slide_type": "slide"
    }
   },
   "source": [
    "## String formatting\n",
    "\n",
    "Format text for printing or for writing to file.\n",
    "\n",
    "What we have been doing so far:"
   ]
  },
  {
   "cell_type": "code",
   "execution_count": 176,
   "metadata": {
    "slideshow": {
     "slide_type": "fragment"
    }
   },
   "outputs": [
    {
     "name": "stdout",
     "output_type": "stream",
     "text": [
      "5:1235651_C-T has genotype: 1/1\n"
     ]
    }
   ],
   "source": [
    "chrom = \"5\"\n",
    "pos = 1235651\n",
    "ref = \"C\"\n",
    "alt = \"T\"\n",
    "geno = \"1/1\"\n",
    "info = chrom + \":\" + str(pos) + \"_\" + ref + \"-\" + alt + \" has genotype: \"+ geno\n",
    "print(info)"
   ]
  },
  {
   "cell_type": "markdown",
   "metadata": {
    "slideshow": {
     "slide_type": "slide"
    }
   },
   "source": [
    "### Other (better) ways of formatting strings:\n",
    "\n",
    "__f-strings (since python 3.6)__"
   ]
  },
  {
   "cell_type": "code",
   "execution_count": 177,
   "metadata": {
    "slideshow": {
     "slide_type": "-"
    }
   },
   "outputs": [
    {
     "name": "stdout",
     "output_type": "stream",
     "text": [
      "5:1235651_C-T has genotype: 1/1\n"
     ]
    }
   ],
   "source": [
    "chrom = \"5\"\n",
    "pos = 1235651\n",
    "ref = \"C\"\n",
    "alt = \"T\"\n",
    "geno = \"1/1\"\n",
    "info = f\"{chrom}:{pos}_{ref}-{alt} has genotype: {geno}\"\n",
    "print(info)"
   ]
  },
  {
   "cell_type": "code",
   "execution_count": null,
   "metadata": {
    "slideshow": {
     "slide_type": "fragment"
    }
   },
   "outputs": [],
   "source": [
    "info = chrom + \":\" + str(pos) + \"_\" + ref + \"-\" + alt + \" has genotype: \"+ geno"
   ]
  },
  {
   "cell_type": "markdown",
   "metadata": {
    "slideshow": {
     "slide_type": "slide"
    }
   },
   "source": [
    "#### `format` method"
   ]
  },
  {
   "cell_type": "code",
   "execution_count": 178,
   "metadata": {
    "slideshow": {
     "slide_type": "-"
    }
   },
   "outputs": [
    {
     "name": "stdout",
     "output_type": "stream",
     "text": [
      "5:1235651_C-T has genotype: 1/1\n"
     ]
    }
   ],
   "source": [
    "chrom = \"5\"\n",
    "pos = 1235651\n",
    "ref = \"C\"\n",
    "alt = \"T\"\n",
    "geno = \"1/1\"\n",
    "info = \"{}:{}_{}-{} has genotype: {}\".format(chrom, pos, ref, alt, geno)\n",
    "print(info)"
   ]
  },
  {
   "cell_type": "markdown",
   "metadata": {
    "slideshow": {
     "slide_type": "slide"
    }
   },
   "source": [
    "#### `f-strings\" formatting is recommended \n"
   ]
  },
  {
   "cell_type": "markdown",
   "metadata": {
    "slideshow": {
     "slide_type": "slide"
    }
   },
   "source": [
    "#### It works for other data types as well"
   ]
  },
  {
   "cell_type": "code",
   "execution_count": 180,
   "metadata": {},
   "outputs": [
    {
     "name": "stdout",
     "output_type": "stream",
     "text": [
      "Lengths of genes ['TP53', 'COX2'] are [355, 458]\n"
     ]
    }
   ],
   "source": [
    "genes = [\"TP53\", \"COX2\"]\n",
    "lengths = [355,  458]\n",
    "print(f\"Lengths of genes {genes} are {lengths}\")"
   ]
  },
  {
   "cell_type": "code",
   "execution_count": 160,
   "metadata": {
    "slideshow": {
     "slide_type": "fragment"
    }
   },
   "outputs": [
    {
     "name": "stdout",
     "output_type": "stream",
     "text": [
      "Expression level of gene COX1 is 45.123253\n"
     ]
    }
   ],
   "source": [
    "gene = \"COX1\"\n",
    "exp_level = 45.123253\n",
    "print(f\"Expression level of gene {gene} is {exp_level}\")"
   ]
  },
  {
   "cell_type": "code",
   "execution_count": 171,
   "metadata": {
    "slideshow": {
     "slide_type": "fragment"
    }
   },
   "outputs": [
    {
     "name": "stdout",
     "output_type": "stream",
     "text": [
      "Expression level of gene COX1 is 45.12\n"
     ]
    }
   ],
   "source": [
    "print(f\"Expression level of gene {gene} is {exp_level:.2f}\")"
   ]
  },
  {
   "cell_type": "markdown",
   "metadata": {
    "slideshow": {
     "slide_type": "skip"
    }
   },
   "source": [
    "__The ancient way (python 2)__"
   ]
  },
  {
   "cell_type": "code",
   "execution_count": 156,
   "metadata": {
    "slideshow": {
     "slide_type": "skip"
    }
   },
   "outputs": [
    {
     "name": "stdout",
     "output_type": "stream",
     "text": [
      "Variant AG is active and expressed.\n"
     ]
    }
   ],
   "source": [
    "genotype = \"AG\"\n",
    "result = \"Variant %s is active and expressed.\"%(genotype)\n",
    "print(result)"
   ]
  },
  {
   "cell_type": "markdown",
   "metadata": {
    "slideshow": {
     "slide_type": "slide"
    }
   },
   "source": [
    "## Summary\n",
    "\n",
    "- A function is a block of organized, reusable code that is used to perform a single, related action\n",
    "- Use `sys.argv` to deal with arguments passed to the python script from the command line\n",
    "    - `sys.argv[0]` is the program name\n",
    "    - `sys.argv[1]` is is the first argument and so on\n",
    "- `f-strings` formatting is a convenient and recommended way to format the string\n",
    "    - Extra reading about string formatting: https://www.w3schools.com/python/python_string_formatting.asp"
   ]
  },
  {
   "cell_type": "markdown",
   "metadata": {
    "slideshow": {
     "slide_type": "slide"
    }
   },
   "source": [
    "## Day 3, Exercise 2\n",
    "- Link: https://python-bioinfo.bioshu.se/exercises.html\n",
    "___\n",
    "##### Break\n",
    "___\n",
    "\n",
    "### Quiz for Day 3\n",
    "- Link: https://python-bioinfo.bioshu.se/quiz.html\n",
    "___\n",
    "\n",
    "### Lunch \n",
    "___\n",
    "## Project time after lunch"
   ]
  },
  {
   "cell_type": "code",
   "execution_count": null,
   "metadata": {
    "slideshow": {
     "slide_type": "slide"
    }
   },
   "outputs": [],
   "source": []
  }
 ],
 "metadata": {
  "celltoolbar": "Slideshow",
  "kernelspec": {
   "display_name": "Python 3 (ipykernel)",
   "language": "python",
   "name": "python3"
  },
  "language_info": {
   "codemirror_mode": {
    "name": "ipython",
    "version": 3
   },
   "file_extension": ".py",
   "mimetype": "text/x-python",
   "name": "python",
   "nbconvert_exporter": "python",
   "pygments_lexer": "ipython3",
   "version": "3.11.0"
  },
  "rise": {
   "height": 1000,
   "scroll": true,
   "width": 1280
  }
 },
 "nbformat": 4,
 "nbformat_minor": 2
}
