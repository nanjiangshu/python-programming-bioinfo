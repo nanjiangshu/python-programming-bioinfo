{
 "cells": [
  {
   "cell_type": "markdown",
   "id": "595a91b1",
   "metadata": {},
   "source": [
    "# Day 2, Exercise 1 - file reading and writing\n",
    "### There are 2 parts to this exercise, with the answers written under each section\n",
    "1. Count the length of 10 DNA sequences\n",
    "2. Calculate the GC content (optional)\n",
    "\n",
    "There are various ways to write the code for these tasks. Here, we present one solution in the answers, but if you have written a different one, that's perfectly fine. Just ensure that you test your code to confirm that it performs as expected."
   ]
  },
  {
   "cell_type": "markdown",
   "id": "1148aa88",
   "metadata": {},
   "source": [
    "<hr style=\"border: 2px solid #000080;\">"
   ]
  },
  {
   "cell_type": "markdown",
   "id": "89ef841b",
   "metadata": {},
   "source": [
    "##  1. Count the length of 10 DNA sequences \n",
    "```\n",
    "Ecoli-10seq_0.fna\n",
    "Ecoli-10seq_1.fna\n",
    "Ecoli-10seq_2.fna\n",
    "Ecoli-10seq_3.fna\n",
    "Ecoli-10seq_4.fna\n",
    "Ecoli-10seq_5.fna\n",
    "Ecoli-10seq_6.fna\n",
    "Ecoli-10seq_7.fna\n",
    "Ecoli-10seq_8.fna\n",
    "Ecoli-10seq_9.fna\n",
    "```\n",
    "from `E.coli` and output the result to a file in the following tab-seperated format, tab seperated, with one result per line:\n",
    "```\n",
    "SeqID Length\n",
    "```\n",
    "#### SeqID can be extracted as the first word from the annotation line in the sequence file, i.e. the line started with `>`\n",
    "For example, for the annotation line \n",
    "```\n",
    ">lcl|NC_000913.3_cds_YP_025308.1_1724 [gene=katE] [locus_tag=b1732] [db_xref=UniProtKB/Swiss-Prot:P21179] [protein=catalase HPII] [protein_id=YP_025308.1] [location=1813867..1816128] [gbkey=CDS]\n",
    "```\n",
    "The SeqID should be `lcl|NC_000913.3_cds_YP_025308.1_1724`\n",
    "#### Tips\n",
    "- Sequences can be found in the folder `downloads/DNAseqs`. Download the zip file from <a href=\"https://python-bioinfo.bioshu.se/downloads.zip\">here</a> if you haven't done it yet.\n",
    "- You may need to use the following `string` methods\n",
    "    - `string.lstrip()`       Remove the substring from left side of the string\n",
    "    - `string.strip()`        Remove the white spaces from both ends of the string\n",
    "    - `string.startswith()`   Check whether the string is started with certain substring \n",
    "    - `string.split()`        Convert the string to a list\n",
    "\n",
    "- Use loops to iterate over files when reading and processing files\n",
    "---"
   ]
  },
  {
   "cell_type": "markdown",
   "id": "994f2ae4",
   "metadata": {},
   "source": [
    "### The answer"
   ]
  },
  {
   "cell_type": "code",
   "execution_count": 15,
   "id": "22f06221",
   "metadata": {},
   "outputs": [],
   "source": [
    "results = []  # Create an empty list to store the results\n",
    "\n",
    "# Loop through 10 sequence files\n",
    "for i in range(10):\n",
    "    seqfile = \"../../downloads/DNAseqs/Ecoli-10seq_\" + str(i) + \".fna\"\n",
    "    with open(seqfile, \"r\") as fpin:\n",
    "        seqlength = 0\n",
    "        seqid = \"\"\n",
    "        for line in fpin:\n",
    "            if line.startswith(\">\"):  # Identify the sequence ID line\n",
    "                line = line.lstrip(\">\")\n",
    "                seqid = line.split()[0]\n",
    "            else:\n",
    "                seqlength += len(line.strip())  # Accumulate the length of the sequence\n",
    "            \n",
    "        results.append((seqid, seqlength))  # Append the sequence ID and its length to results\n",
    "                                            # Note: (seqid, seqlength) is a tuple\n",
    "                                            # so results is a list of tuples\n",
    "\n",
    "# Ensure the output directory exists, if not, create it by `mkdir output`\n",
    "output_dir = \"output\"\n",
    "\n",
    "outfile = output_dir + \"/\" + \"length_of_dna_seqs.txt\"\n",
    "\n",
    "# Write the results to the output file\n",
    "with open(outfile, \"w\", encoding=\"utf-8\") as fpout:\n",
    "    for seqid, seqlength in results:\n",
    "        fpout.write(seqid + \"\\t\" + str(seqlength) + \"\\n\") # unlike print(), the newline '\\n' needs to be added\n",
    "                                                          # literally for the `write` method"
   ]
  },
  {
   "cell_type": "code",
   "execution_count": 16,
   "id": "0363d6f9",
   "metadata": {},
   "outputs": [
    {
     "name": "stdout",
     "output_type": "stream",
     "text": [
      "lcl|NC_000913.3_cds_YP_025308.1_1724\t2262\r\n",
      "lcl|NC_000913.3_cds_NP_416194.1_1672\t417\r\n",
      "lcl|NC_000913.3_cds_NP_418217.1_3710\t264\r\n",
      "lcl|NC_000913.3_cds_NP_418490.1_3983\t1293\r\n",
      "lcl|NC_000913.3_cds_NP_416901.1_2381\t1257\r\n",
      "lcl|NC_000913.3_cds_NP_417887.1_3363\t1434\r\n",
      "lcl|NC_000913.3_cds_NP_418643.1_4139\t342\r\n",
      "lcl|NC_000913.3_cds_NP_414712.1_172\t852\r\n",
      "lcl|NC_000913.3_cds_NP_416467.1_1950\t918\r\n",
      "lcl|NC_000913.3_cds_NP_416274.1_1752\t273\r\n"
     ]
    }
   ],
   "source": [
    "# check the content of the file by \n",
    "! cat ./output/length_of_dna_seqs.txt"
   ]
  },
  {
   "cell_type": "markdown",
   "id": "435811ab",
   "metadata": {},
   "source": [
    "<hr style=\"border: 2px solid #000080;\">"
   ]
  },
  {
   "cell_type": "markdown",
   "id": "5bf8fdee",
   "metadata": {},
   "source": [
    "## 2. Calculate the GC content (optional)\n",
    "\n",
    "### Background:\n",
    "\n",
    "In bioinformatics, the GC content is an important measure of the composition of DNA sequences. GC content is the percentage of nucleotides in a DNA sequence that are either guanine (G) or cytosine (C). This metric can provide insights into the properties of the DNA, such as its stability and melting temperature, and can differ between different organisms or genomic regions.\n",
    "\n",
    "### Objective:\n",
    "\n",
    "Write a script to calculate the GC content of the 10 DNA sequences used in the first exercise. Output the results to a file in the following format, tab separated, with one result per line:\n",
    "```\n",
    "SeqID GC_content\n",
    "```\n",
    "\n",
    "Write a script to calculate the GC content of the 10 DNA sequences used in the first exercise. Output the results to a file in the following tab-separated format, with one result per line:\n",
    "\n",
    "\n",
    "### Tips\n",
    "\n",
    "- The GC content is calculated using the following formula:\n",
    "    - `GC_content = (count_of_G + count_of_C) / sequence_length * 100`\n",
    "- Use if/else statement and loops\n",
    "___"
   ]
  },
  {
   "cell_type": "markdown",
   "id": "b59e49fc",
   "metadata": {},
   "source": [
    "###  The answer"
   ]
  },
  {
   "cell_type": "code",
   "execution_count": 18,
   "id": "f9e17562",
   "metadata": {},
   "outputs": [],
   "source": [
    "results = []  # List to store results (SeqID, GC_content)\n",
    "\n",
    "# Loop through 10 DNA sequence files\n",
    "for i in range(10):\n",
    "    seqfile = f\"../../downloads/DNAseqs/Ecoli-10seq_{i}.fna\"\n",
    "    \n",
    "    with open(seqfile, \"r\") as fpin:\n",
    "        seqlength = 0\n",
    "        gc_count = 0\n",
    "        seqid = \"\"\n",
    "\n",
    "        for line in fpin:\n",
    "            if line.startswith(\">\"):  # Identify the sequence ID line\n",
    "                line = line.lstrip(\">\")\n",
    "                seqid = line.split()[0]\n",
    "            else:\n",
    "                line = line.strip()\n",
    "                seqlength += len(line)\n",
    "                gc_count += line.count('G') + line.count('C') # use the \"count\" method to count the number of \n",
    "                                                              # G and C\n",
    "        \n",
    "        if seqlength > 0:\n",
    "            gc_content = (gc_count / seqlength) * 100  # Calculate GC content\n",
    "        else:\n",
    "            gc_content = 0\n",
    "\n",
    "        results.append((seqid, gc_content))  # Append the SeqID and GC_content to results\n",
    "\n",
    "# Ensure the output directory exists, if not, create it by `mkdir output`\n",
    "output_dir = \"output\"\n",
    "\n",
    "# Output file for GC content\n",
    "outfile = os.path.join(output_dir, \"gc_content_of_dna_seqs.txt\")\n",
    "\n",
    "# Write the GC contents to the output file\n",
    "with open(outfile, \"w\", encoding=\"utf-8\") as fpout:\n",
    "    for seqid, gc_content in results:\n",
    "        fpout.write(seqid + \"\\t\" + str(gc_content) + \"\\n\")"
   ]
  },
  {
   "cell_type": "code",
   "execution_count": 19,
   "id": "a258b370",
   "metadata": {},
   "outputs": [
    {
     "name": "stdout",
     "output_type": "stream",
     "text": [
      "lcl|NC_000913.3_cds_YP_025308.1_1724\t52.07780725022104\r\n",
      "lcl|NC_000913.3_cds_NP_416194.1_1672\t48.6810551558753\r\n",
      "lcl|NC_000913.3_cds_NP_418217.1_3710\t49.24242424242424\r\n",
      "lcl|NC_000913.3_cds_NP_418490.1_3983\t32.94663573085847\r\n",
      "lcl|NC_000913.3_cds_NP_416901.1_2381\t48.050914876690534\r\n",
      "lcl|NC_000913.3_cds_NP_417887.1_3363\t54.95118549511855\r\n",
      "lcl|NC_000913.3_cds_NP_418643.1_4139\t51.461988304093566\r\n",
      "lcl|NC_000913.3_cds_NP_414712.1_172\t49.88262910798122\r\n",
      "lcl|NC_000913.3_cds_NP_416467.1_1950\t53.05010893246187\r\n",
      "lcl|NC_000913.3_cds_NP_416274.1_1752\t50.54945054945055\r\n"
     ]
    }
   ],
   "source": [
    "# check the content of the file by \n",
    "! cat ./output/gc_content_of_dna_seqs.txt"
   ]
  },
  {
   "cell_type": "code",
   "execution_count": null,
   "id": "d42f74d8",
   "metadata": {},
   "outputs": [],
   "source": []
  }
 ],
 "metadata": {
  "kernelspec": {
   "display_name": "Python 3 (ipykernel)",
   "language": "python",
   "name": "python3"
  },
  "language_info": {
   "codemirror_mode": {
    "name": "ipython",
    "version": 3
   },
   "file_extension": ".py",
   "mimetype": "text/x-python",
   "name": "python",
   "nbconvert_exporter": "python",
   "pygments_lexer": "ipython3",
   "version": "3.11.0"
  }
 },
 "nbformat": 4,
 "nbformat_minor": 5
}
