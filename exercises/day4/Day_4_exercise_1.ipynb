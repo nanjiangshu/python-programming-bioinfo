{
 "cells": [
  {
   "cell_type": "markdown",
   "id": "595a91b1",
   "metadata": {},
   "source": [
    "# Day 4, Exercise 1 - scope of variables, positional and keyword arguments\n",
    "\n",
    "### There are 3 parts to this exercise, with answers listed under each part.\n",
    "\n",
    "\n",
    "1. Redo the exercise Day3_Exercise2_2 (check GC content level for DNA sequences) by using global variables \n",
    "2. Rewrite the function `check_gc_content_level` with default values\n",
    "3. Extra exercise: Write any function you like and experiment with positional and keyword arguments (optional)"
   ]
  },
  {
   "cell_type": "markdown",
   "id": "6871a68b",
   "metadata": {},
   "source": [
    "<hr style=\"border: 2px solid #000080;\">"
   ]
  },
  {
   "cell_type": "markdown",
   "id": "89ef841b",
   "metadata": {},
   "source": [
    "## 1.  Redo the exercise Day3_Exercise2_2 (check GC content level for DNA sequences) by using global variables \n",
    "\n",
    "Get the code from the answers of second exercise of Day 3, Exercise 2 if you haven't done it yet. Use threshold_low and threshold_high as global variables. Save the code in a script file and run it. Think about the advantages and disadvantages of using the global variables.\n",
    "\n",
    "___\n"
   ]
  },
  {
   "cell_type": "markdown",
   "id": "c7c10877",
   "metadata": {},
   "source": [
    "### The answers"
   ]
  },
  {
   "cell_type": "code",
   "execution_count": 2,
   "id": "1eabe14c",
   "metadata": {},
   "outputs": [
    {
     "name": "stdout",
     "output_type": "stream",
     "text": [
      "The GC content of the sequence from ../../downloads/one_dna_sequence.fa is 53.53%, level is moderate\n"
     ]
    }
   ],
   "source": [
    "# Define global variables for GC content thresholds\n",
    "THRESHOLD_LOW = 40.0 # It's a convention that global variables are defined using uppercase letters.\n",
    "THRESHOLD_HIGH = 60.0 # These variables are accessible throughout the module.\n",
    "\n",
    "def readseq(seqfile):\n",
    "    with open(seqfile, \"r\", encoding=\"utf-8\") as fpin:\n",
    "        seq = \"\"\n",
    "        for line in fpin:\n",
    "            if not line.startswith(\">\"):\n",
    "                seq += line.strip()\n",
    "    return seq.upper()\n",
    "\n",
    "def get_gc_content(seq):\n",
    "    return (seq.count('G') + seq.count('C')) / len(seq) * 100\n",
    "\n",
    "def check_gc_content_level(seqfile): # global variables can be accessed within the function\n",
    "    seq = readseq(seqfile)\n",
    "    gc_content = get_gc_content(seq)\n",
    "    if gc_content >= THRESHOLD_HIGH:\n",
    "        return f\"The GC content of the sequence from {seqfile} is {gc_content:.2f}%, level is high\"\n",
    "    elif gc_content <= THRESHOLD_LOW:\n",
    "        return f\"The GC content of the sequence from {seqfile} is {gc_content:.2f}%, level is low\"\n",
    "    else:\n",
    "        return f\"The GC content of the sequence from {seqfile} is {gc_content:.2f}%, level is moderate\"\n",
    "\n",
    "# Test the function to see if it works as expected\n",
    "level_message = check_gc_content_level(\"../../downloads/one_dna_sequence.fa\")\n",
    "print(level_message)"
   ]
  },
  {
   "cell_type": "markdown",
   "id": "a74c4e53",
   "metadata": {},
   "source": [
    "___\n",
    "Using global variables in a Python program has both advantages and disadvantages when compared to passing variables explicitly through function arguments. \n",
    "\n",
    "#### Global Variables are:\n",
    "\n",
    "- Best for smaller scripts or when there's a clear and fixed set of configuration values needed across multiple functions. By doing so, the code is easier to read and write because you don't have to pass the same parameters around multiple functions.\n",
    "- Although it can lead to simpler function signatures but add potential for bugs and maintenance issues.\n",
    "\n",
    "#### Explicit Passing:\n",
    "\n",
    "- Recommended for larger, more complex programs where maintainability, readability, and testability are key concerns.\n",
    "- In this way, functions remain modular, reusable, and easier to test, but may require more verbose code."
   ]
  },
  {
   "cell_type": "markdown",
   "id": "04c4e448",
   "metadata": {},
   "source": [
    "<hr style=\"border: 2px solid #000080;\">"
   ]
  },
  {
   "cell_type": "markdown",
   "id": "84abfc79",
   "metadata": {},
   "source": [
    "## 2. Rewrite the function `check_gc_content_level` with default values\n"
   ]
  },
  {
   "cell_type": "markdown",
   "id": "6ef4389b",
   "metadata": {},
   "source": [
    "The function `check_gc_content_level` takes three arguments, set default values to `threshold_high` and `threshold_low` with default values and try to call the function with as many variations as possible"
   ]
  },
  {
   "cell_type": "code",
   "execution_count": null,
   "id": "38a152ce",
   "metadata": {},
   "outputs": [],
   "source": [
    "def check_gc_content_level(seqfile, threshold_high, threshold_low):\n",
    "    seq = readseq(seqfile)\n",
    "    gc_content = get_gc_content(seq)\n",
    "    if gc_content >= threshold_high:\n",
    "        return f\"The GC content of the sequence from {seqfile} is {gc_content:.2f}%, level is high\"\n",
    "    elif gc_content <= threshold_low:\n",
    "        return f\"The GC content of the sequence from {seqfile} is {gc_content:.2f}%, level is low\"\n",
    "    else:\n",
    "        return f\"The GC content of the sequence from {seqfile} is {gc_content:.2f}%, level is moderate\""
   ]
  },
  {
   "cell_type": "markdown",
   "id": "853ba142",
   "metadata": {},
   "source": [
    "___"
   ]
  },
  {
   "cell_type": "markdown",
   "id": "0051d80a",
   "metadata": {},
   "source": [
    "### The answers"
   ]
  },
  {
   "cell_type": "code",
   "execution_count": 17,
   "id": "5a16eff2",
   "metadata": {},
   "outputs": [
    {
     "name": "stdout",
     "output_type": "stream",
     "text": [
      "The GC content of the sequence from ../../downloads/one_dna_sequence.fa is 53.53%, level is moderate\n",
      "The GC content of the sequence from ../../downloads/one_dna_sequence.fa is 53.53%, level is high\n",
      "The GC content of the sequence from ../../downloads/one_dna_sequence.fa is 53.53%, level is low\n",
      "The GC content of the sequence from ../../downloads/one_dna_sequence.fa is 53.53%, level is low\n",
      "The GC content of the sequence from ../../downloads/one_dna_sequence.fa is 53.53%, level is high\n",
      "The GC content of the sequence from ../../downloads/one_dna_sequence.fa is 53.53%, level is high\n"
     ]
    }
   ],
   "source": [
    "def readseq(seqfile): #    \n",
    "    with open(seqfile, \"r\", encoding=\"utf-8\") as fpin:\n",
    "        seq = \"\"\n",
    "        for line in fpin:\n",
    "            if not line.startswith(\">\"):\n",
    "                seq += line.strip()\n",
    "    return seq.upper()\n",
    "\n",
    "def get_gc_content(seq):\n",
    "    return (seq.count('G') + seq.count('C')) / len(seq) * 100\n",
    "\n",
    "def check_gc_content_level(seqfile, threshold_high=60.0, threshold_low=40.0):\n",
    "    seq = readseq(seqfile)\n",
    "    gc_content = get_gc_content(seq)\n",
    "    if gc_content >= threshold_high:\n",
    "        return f\"The GC content of the sequence from {seqfile} is {gc_content:.2f}%, level is high\"\n",
    "    elif gc_content <= threshold_low:\n",
    "        return f\"The GC content of the sequence from {seqfile} is {gc_content:.2f}%, level is low\"\n",
    "    else:\n",
    "        return f\"The GC content of the sequence from {seqfile} is {gc_content:.2f}%, level is moderate\"\n",
    "            \n",
    "# You can call it without providing the last two arguments\n",
    "level_message = check_gc_content_level(\"../../downloads/one_dna_sequence.fa\")\n",
    "print(level_message)\n",
    "\n",
    "# Providing only threshold_high as a keyword argument, threshold_low uses the default value\n",
    "level_message = check_gc_content_level(\"../../downloads/one_dna_sequence.fa\", threshold_high=50.0)\n",
    "print(level_message)\n",
    "\n",
    "# Providing only threshold_low as a keyword argument, threshold_high uses the default value\n",
    "level_message = check_gc_content_level(\"../../downloads/one_dna_sequence.fa\", threshold_low=55.0)\n",
    "print(level_message)\n",
    "\n",
    "# Providing both threshold_low and threshold_high as keyword arguments, but swap the order\n",
    "level_message = check_gc_content_level(\"../../downloads/one_dna_sequence.fa\", threshold_low=55, threshold_high=60)\n",
    "print(level_message)\n",
    "\n",
    "# Providing both threshold_high and threshold_low as positional arguments\n",
    "level_message = check_gc_content_level(\"../../downloads/one_dna_sequence.fa\", 53, 40)\n",
    "print(level_message)\n",
    "\n",
    "# Providing only threshold_high as a positional argument, threshold_low uses the default value\n",
    "# non-recommeneded usage\n",
    "level_message = check_gc_content_level(\"../../downloads/one_dna_sequence.fa\", 53)\n",
    "print(level_message)\n",
    "\n",
    "# Providing threshold_high as a positional argument and threshold_low as a keyword argument\n",
    "# This overrides the default value for threshold_low while using a positional argument for threshold_high\n",
    "# non-recommeneded usage\n",
    "level_message = check_gc_content_level(\"../../downloads/one_dna_sequence.fa\", 53, threshold_low=40)\n",
    "print(level_message)"
   ]
  },
  {
   "cell_type": "code",
   "execution_count": 19,
   "id": "92d79b74",
   "metadata": {},
   "outputs": [
    {
     "ename": "SyntaxError",
     "evalue": "positional argument follows keyword argument (3674942016.py, line 1)",
     "output_type": "error",
     "traceback": [
      "\u001b[0;36m  Cell \u001b[0;32mIn[19], line 1\u001b[0;36m\u001b[0m\n\u001b[0;31m    level_message = check_gc_content_level(\"../../downloads/one_dna_sequence.fa\", threshold_low=40, 65)\u001b[0m\n\u001b[0m                                                                                                      ^\u001b[0m\n\u001b[0;31mSyntaxError\u001b[0m\u001b[0;31m:\u001b[0m positional argument follows keyword argument\n"
     ]
    }
   ],
   "source": [
    "# This call will raise a SyntaxError because keyword arguments must come after positional arguments\n",
    "# Correct order: Positional arguments first, followed by keyword arguments (if any)\n",
    "level_message = check_gc_content_level(\"../../downloads/one_dna_sequence.fa\", threshold_low=40, 65)\n",
    "print(level_message)"
   ]
  },
  {
   "cell_type": "code",
   "execution_count": 20,
   "id": "49626372",
   "metadata": {},
   "outputs": [
    {
     "ename": "TypeError",
     "evalue": "check_gc_content_level() got multiple values for argument 'threshold_high'",
     "output_type": "error",
     "traceback": [
      "\u001b[0;31m---------------------------------------------------------------------------\u001b[0m",
      "\u001b[0;31mTypeError\u001b[0m                                 Traceback (most recent call last)",
      "Cell \u001b[0;32mIn[20], line 1\u001b[0m\n\u001b[0;32m----> 1\u001b[0m level_message \u001b[38;5;241m=\u001b[39m check_gc_content_level(\u001b[38;5;124m\"\u001b[39m\u001b[38;5;124m../../downloads/one_dna_sequence.fa\u001b[39m\u001b[38;5;124m\"\u001b[39m, \u001b[38;5;241m40\u001b[39m, threshold_high\u001b[38;5;241m=\u001b[39m\u001b[38;5;241m65\u001b[39m)\n\u001b[1;32m      2\u001b[0m \u001b[38;5;28mprint\u001b[39m(level_message)\n",
      "\u001b[0;31mTypeError\u001b[0m: check_gc_content_level() got multiple values for argument 'threshold_high'"
     ]
    }
   ],
   "source": [
    "# This call will raise a TypeError because the function definition expects threshold_high as the second argument.\n",
    "# You cannot provide threshold_high after threshold_low as a keyword argument, as both need to be positional.\n",
    "# Correct order: threshold_high followed by threshold_low.\n",
    "\n",
    "level_message = check_gc_content_level(\"../../downloads/one_dna_sequence.fa\", 40, threshold_high=65)\n",
    "print(level_message)"
   ]
  },
  {
   "cell_type": "markdown",
   "id": "ca9f75fd",
   "metadata": {},
   "source": [
    "<hr style=\"border: 2px solid #000080;\">"
   ]
  },
  {
   "cell_type": "markdown",
   "id": "996447d9",
   "metadata": {},
   "source": [
    "## 3. Extra exercise: Write any function you like and experiment with positional and keyword arguments (optional)\n",
    "\n",
    "Free style\n",
    "\n",
    "___"
   ]
  }
 ],
 "metadata": {
  "kernelspec": {
   "display_name": "Python 3 (ipykernel)",
   "language": "python",
   "name": "python3"
  },
  "language_info": {
   "codemirror_mode": {
    "name": "ipython",
    "version": 3
   },
   "file_extension": ".py",
   "mimetype": "text/x-python",
   "name": "python",
   "nbconvert_exporter": "python",
   "pygments_lexer": "ipython3",
   "version": "3.11.0"
  }
 },
 "nbformat": 4,
 "nbformat_minor": 5
}
