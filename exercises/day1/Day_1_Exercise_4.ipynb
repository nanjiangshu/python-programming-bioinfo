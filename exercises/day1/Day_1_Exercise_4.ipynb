{
 "cells": [
  {
   "cell_type": "markdown",
   "metadata": {},
   "source": [
    "# Day 1, Exercise 4 - conditional statement"
   ]
  },
  {
   "cell_type": "markdown",
   "metadata": {},
   "source": [
    "### There are 2 parts to this exercise, with answers listed under each part.\n",
    "1. Check nucleotide type\n",
    "2. Calculate sequence alignment score (optional)\n"
   ]
  },
  {
   "cell_type": "markdown",
   "metadata": {},
   "source": [
    "<hr style=\"border: 2px solid #000080;\">"
   ]
  },
  {
   "cell_type": "markdown",
   "metadata": {},
   "source": [
    "## 1. Check nucleotide type\n",
    "Given a DNA sequence `AGCTAGCXTA`, for every nucleotide, print `{nucleotide} at position {position} is a purine` when it's an A or G, `{nucleotide} at position {position} is a pyrimidine}` when it's a C or T, and `{nucleotide} is not a valid nucleotide` when it's none of AGCT. Example output for the first nucleotide:\n",
    "```\n",
    "A at position 0 is a pruine`\n",
    "```\n",
    "___"
   ]
  },
  {
   "cell_type": "markdown",
   "metadata": {},
   "source": [
    "### Answer"
   ]
  },
  {
   "cell_type": "code",
   "execution_count": 4,
   "metadata": {
    "scrolled": false
   },
   "outputs": [
    {
     "name": "stdout",
     "output_type": "stream",
     "text": [
      "A at position 0 is a purine.\n",
      "G at position 1 is a purine.\n",
      "C at position 2 is a pyrimidine.\n",
      "T at position 3 is a pyrimidine.\n",
      "A at position 4 is a purine.\n",
      "G at position 5 is a purine.\n",
      "C at position 6 is a pyrimidine.\n",
      "X at position 7 is not a valid nucleotide.\n",
      "T at position 8 is a pyrimidine.\n",
      "A at position 9 is a purine.\n"
     ]
    }
   ],
   "source": [
    "# Given nucleotide\n",
    "sequence = \"AGCTAGCXTA\"\n",
    "\n",
    "# Check and print if the nucleotide is a purine or pyrimidine and it's position\n",
    "i = 0 # Keep a counter to the position and initilize it with 0\n",
    "for nuc in sequence:  \n",
    "    if nuc in ['A', 'G']: # membership checking\n",
    "        print(nuc + \" at position \" + str(i) + \" is a purine.\")\n",
    "    elif nuc in ['C', 'T']:\n",
    "        print(nuc + \" at position \" + str(i) + \" is a pyrimidine.\")\n",
    "    else:\n",
    "        print(nuc + \" at position \" + str(i) + \" is not a valid nucleotide.\")\n",
    "    i += 1 # don't forget to increase the counter by 1"
   ]
  },
  {
   "cell_type": "markdown",
   "metadata": {},
   "source": [
    "<hr style=\"border: 2px solid #000080;\">"
   ]
  },
  {
   "cell_type": "markdown",
   "metadata": {},
   "source": [
    "## 2. Calculate sequence alignemnt score"
   ]
  },
  {
   "cell_type": "markdown",
   "metadata": {},
   "source": [
    "### Background: \n",
    "Sequence alignment is a fundamental concept in bioinformatics used for identifying regions of similarity between sequences. These sequences can be DNA, RNA, or protein sequences. The similarities can help infer functional, structural, or evolutionary relationships between the sequences.\n",
    "\n",
    "There are generally three components for a sequence alignemnt:\n",
    "- Match: Identical nucleotides or amino acids in both sequences.\n",
    "- Mismatch: Non-identical nucleotides or amino acids.\n",
    "- Gap (-): Insertion or deletion (indel) in one sequence to maximize the alignment.\n",
    "\n",
    "And the aligment score is usually defined as follows:\n",
    "\n",
    "- Match: Usually assigned positive scores.\n",
    "- Mismatch: Assigned negative scores.\n",
    "- Gap: Penalties that can also be negative scores, often to deter excessive gaps.\n",
    "\n",
    "### Task:\n",
    "\n",
    "Here you have an alignment of two DNA sequences\n",
    "```\n",
    "sequence 1: ATGCT-CAGA\n",
    "sequence 2: ATG-GTCGG-\n",
    "```\n",
    "That is, `A` in sequence 1 is aligned to `A` in sequence 2, `T` in sequence 1 is aligned to `T` in sequence 2 and so on.\n",
    "\n",
    "Use the following scoring system:\n",
    "\n",
    "- Match: +2\n",
    "- Mismatch: -1\n",
    "- Gap: -2\n",
    "\n",
    "write a Python program to calculate the alignment score (sum of the score for every aligned position) of the given alignment. \n",
    "\n",
    "___"
   ]
  },
  {
   "cell_type": "markdown",
   "metadata": {},
   "source": [
    "### The answer"
   ]
  },
  {
   "cell_type": "code",
   "execution_count": 7,
   "metadata": {},
   "outputs": [
    {
     "name": "stdout",
     "output_type": "stream",
     "text": [
      "Alignemnt score =  2\n"
     ]
    }
   ],
   "source": [
    "seq1 = \"ATGCT-CAGA\"\n",
    "seq2 = \"ATG-GTCGG-\"\n",
    "\n",
    "match = 2      # set the score for a match\n",
    "mismatch = -1  # set the score for a mismatch\n",
    "gap = -2       # set the score for a gap\n",
    "\n",
    "score = 0      # initilize the score to 0\n",
    "i = 0          # initilize the counter for sequence\n",
    "while i < len(seq1):\n",
    "    if seq1[i] == seq2[i]: # if the aligned position has identical nucleotide, add the score with a match score\n",
    "        score += match\n",
    "    elif seq1[i] == '-' or seq2[i] == '-': # if the aligned position has a gap, add the score with a gap score\n",
    "        score += gap\n",
    "    else:\n",
    "        score += mismatch    # otherwise, it should be a mismatch, and add the score with a mismatch score\n",
    "    i += 1 # remember to increase the counter by 1 for the while loop\n",
    "print(\"Alignemnt score = \", score)"
   ]
  },
  {
   "cell_type": "code",
   "execution_count": null,
   "metadata": {},
   "outputs": [],
   "source": []
  }
 ],
 "metadata": {
  "kernelspec": {
   "display_name": "Python 3 (ipykernel)",
   "language": "python",
   "name": "python3"
  },
  "language_info": {
   "codemirror_mode": {
    "name": "ipython",
    "version": 3
   },
   "file_extension": ".py",
   "mimetype": "text/x-python",
   "name": "python",
   "nbconvert_exporter": "python",
   "pygments_lexer": "ipython3",
   "version": "3.11.0"
  }
 },
 "nbformat": 4,
 "nbformat_minor": 2
}
