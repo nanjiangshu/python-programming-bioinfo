{
 "cells": [
  {
   "cell_type": "code",
   "execution_count": null,
   "metadata": {
    "slideshow": {
     "slide_type": "skip"
    }
   },
   "outputs": [],
   "source": [
    "from IPython.display import Image\n",
    "from IPython.display import clear_output\n",
    "from IPython.display import FileLink, FileLinks"
   ]
  },
  {
   "cell_type": "markdown",
   "metadata": {
    "slideshow": {
     "slide_type": "slide"
    }
   },
   "source": [
    "<img src=\"img/python-logo-master-flat.png\" alt=\"Python Logo\" style=\"width: 120px; float: right; margin: 0 0 10px 10px;\" />\n",
    "\n",
    "## Introduction to Python with Application in Bioinformatics\n",
    "\n",
    "\n",
    "\n",
    "### Nanjiang Shu\n",
    "\n",
    "#### 2024-07-17 (Day 3)"
   ]
  },
  {
   "cell_type": "markdown",
   "metadata": {
    "slideshow": {
     "slide_type": "slide"
    }
   },
   "source": [
    "## Review of Day 2\n",
    "\n",
    "- Writing and running the Python script\n",
    "    - File extension: `.py`\n",
    "    - Execution: use `python myscript.py` \n",
    "- How to read and write files\n",
    "    - Read file: `open(filename, \"r\")`\n",
    "    - Write file: `open(filename, \"w\")`\n",
    "    - `with` statement: `with open(filename, \"r\") as file:`\n",
    "- Practised file processing and data maniputation with a VCF file \n",
    "    - Write pseudocode before the actual coding \n",
    "- Introduced the course project"
   ]
  },
  {
   "cell_type": "markdown",
   "metadata": {
    "slideshow": {
     "slide_type": "slide"
    }
   },
   "source": [
    "## Review of the quiz from yesterday\n",
    "<a href=\"https://forms.office.com/Pages/DesignPageV2.aspx?origin=NeoPortalPage&subpage=design&id=DQSIkWdsW0yxEjajBLZtrQAAAAAAAAAAAAa__Yehr4dURVQ1UU9YSjMzUkdUVEtWMEg4V0VaQ1pXMy4u&analysis=true\">Link to the quiz statistics</a>"
   ]
  },
  {
   "cell_type": "markdown",
   "metadata": {
    "slideshow": {
     "slide_type": "slide"
    }
   },
   "source": [
    "### Question 6\n",
    "Which statement correctly checks if a list lst is empty?\n",
    "```python\n",
    "A: if not lst:\n",
    "B: if lst == []:\n",
    "C: len(lst) == 0:\n",
    "D: All of the above\n",
    "```"
   ]
  },
  {
   "cell_type": "code",
   "execution_count": null,
   "metadata": {},
   "outputs": [],
   "source": [
    "# create an empty list\n",
    "lst = []\n",
    "if not lst:\n",
    "    print(\"lst is empty\")\n",
    "if lst == []:\n",
    "    print(\"lst is empty\")\n",
    "if len(lst) == 0:\n",
    "    print(\"lst is empty\")"
   ]
  },
  {
   "cell_type": "markdown",
   "metadata": {
    "slideshow": {
     "slide_type": "fragment"
    }
   },
   "source": [
    "#### `if x` is equivalent to `if bool(x)`"
   ]
  },
  {
   "cell_type": "markdown",
   "metadata": {
    "slideshow": {
     "slide_type": "slide"
    }
   },
   "source": [
    "### Bool of numeric numbers"
   ]
  },
  {
   "cell_type": "code",
   "execution_count": null,
   "metadata": {
    "slideshow": {
     "slide_type": "-"
    }
   },
   "outputs": [],
   "source": [
    "bool(1)"
   ]
  },
  {
   "cell_type": "code",
   "execution_count": null,
   "metadata": {
    "slideshow": {
     "slide_type": "-"
    }
   },
   "outputs": [],
   "source": [
    "bool(0)"
   ]
  },
  {
   "cell_type": "markdown",
   "metadata": {
    "slideshow": {
     "slide_type": "slide"
    }
   },
   "source": [
    "### Bool of strings"
   ]
  },
  {
   "cell_type": "code",
   "execution_count": null,
   "metadata": {
    "slideshow": {
     "slide_type": "-"
    }
   },
   "outputs": [],
   "source": [
    "bool(\"\")"
   ]
  },
  {
   "cell_type": "code",
   "execution_count": null,
   "metadata": {},
   "outputs": [],
   "source": [
    "bool(\"1\")"
   ]
  },
  {
   "cell_type": "code",
   "execution_count": null,
   "metadata": {},
   "outputs": [],
   "source": [
    "bool(\"0\")"
   ]
  },
  {
   "cell_type": "markdown",
   "metadata": {
    "slideshow": {
     "slide_type": "slide"
    }
   },
   "source": [
    "### Bool of collections\n"
   ]
  },
  {
   "cell_type": "code",
   "execution_count": null,
   "metadata": {},
   "outputs": [],
   "source": [
    "bool([])"
   ]
  },
  {
   "cell_type": "code",
   "execution_count": null,
   "metadata": {},
   "outputs": [],
   "source": [
    "bool([0])"
   ]
  },
  {
   "cell_type": "code",
   "execution_count": null,
   "metadata": {},
   "outputs": [],
   "source": [
    "bool({})"
   ]
  },
  {
   "cell_type": "code",
   "execution_count": null,
   "metadata": {},
   "outputs": [],
   "source": [
    "bool({0})"
   ]
  },
  {
   "cell_type": "code",
   "execution_count": null,
   "metadata": {},
   "outputs": [],
   "source": [
    "bool(set())"
   ]
  },
  {
   "cell_type": "code",
   "execution_count": null,
   "metadata": {
    "scrolled": true
   },
   "outputs": [],
   "source": [
    "bool(set([0]))"
   ]
  },
  {
   "cell_type": "markdown",
   "metadata": {
    "slideshow": {
     "slide_type": "slide"
    }
   },
   "source": [
    "### Question 8: \n",
    "How do you remove the last item from a list called `my_list`?\n",
    "(May have multiple answers)\n",
    "```python\n",
    "A: my_list.pop()\n",
    "B: my_list.remove(-1)\n",
    "C: my_list.delete()\n",
    "D: del my_list[-1]\n",
    "```\n",
    "\n",
    "A and D are correct\n",
    "\n",
    "- `.remove(value)` not the index\n",
    "- List does not have the method `delete`"
   ]
  },
  {
   "cell_type": "markdown",
   "metadata": {
    "slideshow": {
     "slide_type": "slide"
    }
   },
   "source": [
    "### Question 9\n",
    "```python\n",
    "my_list = [1, 2, 3]\n",
    "<missing code>\n",
    "print(my_list)\n",
    "```\n",
    "What should be the `<missing code>` so that the above code will output \n",
    "`[3, 2, 1]`\n",
    "```python\n",
    "A: my_list.reverse()\n",
    "B: reversed(my_list)\n",
    "C: my_list=reversed(my_list)\n",
    "D: my_list[::-1]\n",
    "```"
   ]
  },
  {
   "cell_type": "code",
   "execution_count": null,
   "metadata": {
    "slideshow": {
     "slide_type": "-"
    }
   },
   "outputs": [],
   "source": [
    "my_list = [1, 2, 3]\n",
    "my_list.reverse()\n",
    "print(my_list)"
   ]
  },
  {
   "cell_type": "code",
   "execution_count": null,
   "metadata": {},
   "outputs": [],
   "source": [
    "my_list = [1, 2, 3]\n",
    "print(my_list[::-1])\n",
    "print(my_list)"
   ]
  },
  {
   "cell_type": "markdown",
   "metadata": {
    "slideshow": {
     "slide_type": "slide"
    }
   },
   "source": [
    "### Question 10\n",
    "What does the following code do?"
   ]
  },
  {
   "cell_type": "code",
   "execution_count": null,
   "metadata": {},
   "outputs": [],
   "source": [
    "text = \"Lorem ipsum dolor sit amet, consectetuer adipiscing elit. Ut purus elit, vestibulum ut, placerat ac, adipiscing vitae, felis. Curabitur dictum gravida mauris. Nam arcu libero, nonummy eget, consectetuer id, vulputate a, magna. Donec vehicula augue eu neque. Pellentesque habitant morbi tristique senectus et netus et malesuada fames ac turpis egestas. Mauris ut leo. Cras viverra metus rhoncus sem. Nulla et lectus vestibulum urna fringilla ultrices. Phasellus eu tellus sit amet tortor gravida placerat. Integer sapien est, iaculis in, pretium quis, viverra ac, nunc. Praesent eget sem vel leo ultrices bibendum. Aenean faucibus. Morbi dolor nulla, malesuada eu, pulvinar at, mollis ac, nulla. Curabitur auctor semper nulla. Donec varius orci eget risus. Duis nibh mi, congue eu, accumsan eleifend, sagittis quis, diam. Duis eget orci sit amet orci dignissim rutrum.\" \n",
    "\n",
    "counts = {}  \n",
    "for letter in \"abcdefghijklmnopqrstuvwxyz\":\n",
    "    counts[letter] = 0\n",
    "\n",
    "for letter in \"ABCDEFGHIJKLMNOPQRSTUVWXYZ\":\n",
    "    counts[letter] = 0\n",
    "    \n",
    "for letter in text:   \n",
    "    if letter != \".\" and letter != \",\": \n",
    "        counts[letter] += 1"
   ]
  },
  {
   "cell_type": "markdown",
   "metadata": {
    "slideshow": {
     "slide_type": "slide"
    }
   },
   "source": [
    "- A: It crashes because it encounters unexpected characters\n",
    "- B: It crashes because it tries to count punctuation marks but they are not added as keys to the dictionary\n",
    "- C: It counts all the letters in the text\n",
    "- D: It counts only upper-case letters in the text\n",
    "- E: In counts only lower-case letters in the text"
   ]
  },
  {
   "cell_type": "markdown",
   "metadata": {
    "slideshow": {
     "slide_type": "slide"
    }
   },
   "source": [
    "### How should I rewrite the code so that it counts all letters in the text?"
   ]
  },
  {
   "cell_type": "code",
   "execution_count": null,
   "metadata": {},
   "outputs": [],
   "source": [
    "text = \"Lorem ipsum dolor sit amet, consectetuer adipiscing elit. Ut purus elit, vestibulum ut, placerat ac, adipiscing vitae, felis. Curabitur dictum gravida mauris. Nam arcu libero, nonummy eget, consectetuer id, vulputate a, magna. Donec vehicula augue eu neque. Pellentesque habitant morbi tristique senectus et netus et malesuada fames ac turpis egestas. Mauris ut leo. Cras viverra metus rhoncus sem. Nulla et lectus vestibulum urna fringilla ultrices. Phasellus eu tellus sit amet tortor gravida placerat. Integer sapien est, iaculis in, pretium quis, viverra ac, nunc. Praesent eget sem vel leo ultrices bibendum. Aenean faucibus. Morbi dolor nulla, malesuada eu, pulvinar at, mollis ac, nulla. Curabitur auctor semper nulla. Donec varius orci eget risus. Duis nibh mi, congue eu, accumsan eleifend, sagittis quis, diam. Duis eget orci sit amet orci dignissim rutrum.\" \n",
    "\n",
    "counts = {} \n",
    "\n",
    "for letter in text:\n",
    "    if letter in counts:\n",
    "        counts[letter] += 1\n",
    "    else:\n",
    "        counts[letter] = 0\n",
    "print(counts)\n",
    "            "
   ]
  },
  {
   "cell_type": "markdown",
   "metadata": {
    "slideshow": {
     "slide_type": "slide"
    }
   },
   "source": [
    "## Day 3\n",
    "\n",
    "- __Session 1__\n",
    "    - Functions and methods\n",
    "    - Difference of functions and methods\n",
    "    - Introduction to some useful functions and methods\n",
    "- __Session 2__    \n",
    "    - How to write you own functions\n",
    "    - How to pass arguments from command line using `sys.argv`\n",
    "    - String formatting\n",
    "- __Project time__ in the afternoon"
   ]
  },
  {
   "cell_type": "markdown",
   "metadata": {
    "slideshow": {
     "slide_type": "slide"
    }
   },
   "source": [
    "## Session 1: Functions and Methods"
   ]
  },
  {
   "cell_type": "markdown",
   "metadata": {
    "slideshow": {
     "slide_type": "slide"
    }
   },
   "source": [
    "### We have used many built-in functions"
   ]
  },
  {
   "cell_type": "code",
   "execution_count": null,
   "metadata": {
    "slideshow": {
     "slide_type": "-"
    }
   },
   "outputs": [],
   "source": [
    "print(\"Hello Python\")"
   ]
  },
  {
   "cell_type": "code",
   "execution_count": null,
   "metadata": {
    "slideshow": {
     "slide_type": "-"
    }
   },
   "outputs": [],
   "source": [
    "len(\"ACCCCTTGAACCCC\")"
   ]
  },
  {
   "cell_type": "code",
   "execution_count": null,
   "metadata": {
    "slideshow": {
     "slide_type": "-"
    }
   },
   "outputs": [],
   "source": [
    "max([87, 131, 69, 112, 147, 55, 68, 130, 119, 50])"
   ]
  },
  {
   "cell_type": "markdown",
   "metadata": {
    "slideshow": {
     "slide_type": "slide"
    }
   },
   "source": [
    "### What is a function\n",
    "\n",
    "- A function is a block of code that performs a specific task.\n",
    "- It can take input (parameters) and return output (results).\n",
    "- Functions help to reuse code and make programs more modular and readable.\n",
    "- With a function, you only need to know how to use it, but not how it's implemented."
   ]
  },
  {
   "cell_type": "code",
   "execution_count": null,
   "metadata": {},
   "outputs": [],
   "source": [
    "\n",
    "def function_name(parameters):\n",
    "    # block of code\n",
    "    return result"
   ]
  },
  {
   "cell_type": "code",
   "execution_count": null,
   "metadata": {
    "slideshow": {
     "slide_type": "skip"
    }
   },
   "outputs": [],
   "source": [
    "import inspect\n",
    "print(inspect.getfile(max))\n",
    "\n",
    "# it does not work with built-in functions or C extensions"
   ]
  },
  {
   "cell_type": "code",
   "execution_count": null,
   "metadata": {
    "slideshow": {
     "slide_type": "skip"
    }
   },
   "outputs": [],
   "source": [
    "def gc_content(seq):\n",
    "    seq = seq.upper()\n",
    "    gc_count = seq.count(\"G\") + seq.count(\"C\")\n",
    "    return (gc_count / len(seq)) * 100\n",
    "\n",
    "sequence = \"ACCCCTTGAACCCC\"\n",
    "gc_content = gc_content(sequence)\n",
    "print(gc_content)"
   ]
  },
  {
   "cell_type": "markdown",
   "metadata": {
    "slideshow": {
     "slide_type": "skip"
    }
   },
   "source": [
    "#### Note: we will describe more about how to define a function in the next session"
   ]
  },
  {
   "cell_type": "markdown",
   "metadata": {
    "slideshow": {
     "slide_type": "slide"
    }
   },
   "source": [
    "### We have also used many built-in methods"
   ]
  },
  {
   "cell_type": "code",
   "execution_count": null,
   "metadata": {
    "slideshow": {
     "slide_type": "-"
    }
   },
   "outputs": [],
   "source": [
    "\"   ACCCGGGT  \".strip()"
   ]
  },
  {
   "cell_type": "code",
   "execution_count": null,
   "metadata": {
    "slideshow": {
     "slide_type": "-"
    }
   },
   "outputs": [],
   "source": [
    "\" I am a string with many words \".split()"
   ]
  },
  {
   "cell_type": "code",
   "execution_count": null,
   "metadata": {
    "slideshow": {
     "slide_type": "-"
    }
   },
   "outputs": [],
   "source": [
    "li = [1, 2, 3, 4, 5]\n",
    "li.append(108)\n",
    "li"
   ]
  },
  {
   "cell_type": "markdown",
   "metadata": {
    "slideshow": {
     "slide_type": "slide"
    }
   },
   "source": [
    "### What is a method\n",
    "- A method is a function that is associated with objects (instances of class)\n",
    "    - All data types in Python are objects"
   ]
  },
  {
   "cell_type": "markdown",
   "metadata": {
    "slideshow": {
     "slide_type": "skip"
    }
   },
   "source": [
    "Note: A method is a function associated with an object, which is defined as a class. We will not introduce how to program with class in this beginners course, but if you are interested, you can find more information in Python documentation."
   ]
  },
  {
   "cell_type": "code",
   "execution_count": null,
   "metadata": {},
   "outputs": [],
   "source": [
    "class MyClass:\n",
    "    def my_method(self):\n",
    "        return \"I love Python\"\n",
    "\n",
    "obj = MyClass()\n",
    "print(obj.my_method())"
   ]
  },
  {
   "cell_type": "markdown",
   "metadata": {
    "slideshow": {
     "slide_type": "skip"
    }
   },
   "source": [
    "Note: self is the convention for the naming of the first parameter of the methods defined within the class. And python will automatically pass the instance of the class as the first parameter to the methods defined within it. "
   ]
  },
  {
   "cell_type": "markdown",
   "metadata": {
    "slideshow": {
     "slide_type": "slide"
    }
   },
   "source": [
    "\n",
    "\n",
    "### What are the differences between a `function` and a `method`?\n",
    "| __Function__                      | __Method__                                                |\n",
    "|-------------------------------|-------------------------------------------------------|\n",
    "| Standalone block of code      | Function associated with an object                    |\n",
    "| Called independently, e.g. `functionName()`         | Called on an instance of a class, e.g. `obj.methodName()`   |\n",
    "| Not tied to any object or class | Tied to the objects they are called on                |\n",
    "| Defined outside of a class    | Defined within a class                                |\n",
    "|\n"
   ]
  },
  {
   "cell_type": "markdown",
   "metadata": {
    "slideshow": {
     "slide_type": "slide"
    }
   },
   "source": [
    "### What does it matter to me?\n",
    "\n",
    "For now, you only need to know the different syntaxes of using a function and a method:\n",
    "\n",
    "__A function:__  \n",
    "`functionName()`\n",
    "\n",
    "__A method:__  \n",
    "```obj.methodName()```\n"
   ]
  },
  {
   "cell_type": "markdown",
   "metadata": {
    "slideshow": {
     "slide_type": "slide"
    }
   },
   "source": [
    "### Python built-in functions: \n",
    "https://docs.python.org/3/library/functions.html"
   ]
  },
  {
   "cell_type": "markdown",
   "metadata": {
    "slideshow": {
     "slide_type": "-"
    }
   },
   "source": [
    "<img src=\"img/built-in_functions.png\" alt=\"Drawing\" style=\"width: 800px;\"/> "
   ]
  },
  {
   "cell_type": "markdown",
   "metadata": {
    "slideshow": {
     "slide_type": "slide"
    }
   },
   "source": [
    "### Introduction to some useful functions\n",
    "\n",
    "#### `help`"
   ]
  },
  {
   "cell_type": "code",
   "execution_count": null,
   "metadata": {
    "scrolled": true
   },
   "outputs": [],
   "source": [
    "help(len)"
   ]
  },
  {
   "cell_type": "code",
   "execution_count": null,
   "metadata": {},
   "outputs": [],
   "source": [
    "a = 5\n",
    "help(a)"
   ]
  },
  {
   "cell_type": "markdown",
   "metadata": {
    "slideshow": {
     "slide_type": "skip"
    }
   },
   "source": [
    "Note: we have talked about the `range()` function and have used it in the for loop. for example, \n",
    "It has more flexibility and be used in many other ways, "
   ]
  },
  {
   "cell_type": "markdown",
   "metadata": {
    "slideshow": {
     "slide_type": "slide"
    }
   },
   "source": [
    "### `range`"
   ]
  },
  {
   "cell_type": "code",
   "execution_count": null,
   "metadata": {
    "slideshow": {
     "slide_type": "-"
    }
   },
   "outputs": [],
   "source": [
    "for i in range(5):\n",
    "    print(i)"
   ]
  },
  {
   "cell_type": "code",
   "execution_count": null,
   "metadata": {
    "slideshow": {
     "slide_type": "fragment"
    }
   },
   "outputs": [],
   "source": [
    "# range(start, stop, step)\n",
    "# generate a series of odd number\n",
    "for i in range(1, 10, 2):\n",
    "    print(i)"
   ]
  },
  {
   "cell_type": "code",
   "execution_count": null,
   "metadata": {
    "slideshow": {
     "slide_type": "fragment"
    }
   },
   "outputs": [],
   "source": [
    "# negative step\n",
    "for i in range(10, 1, -2):\n",
    "    print(i)"
   ]
  },
  {
   "cell_type": "markdown",
   "metadata": {
    "slideshow": {
     "slide_type": "slide"
    }
   },
   "source": [
    "### `sorted`"
   ]
  },
  {
   "cell_type": "code",
   "execution_count": null,
   "metadata": {
    "slideshow": {
     "slide_type": "-"
    }
   },
   "outputs": [],
   "source": [
    "li = [5, 4, 1, 3, 10, 13, 13]\n",
    "print(sorted(li))"
   ]
  },
  {
   "cell_type": "code",
   "execution_count": null,
   "metadata": {
    "slideshow": {
     "slide_type": "fragment"
    }
   },
   "outputs": [],
   "source": [
    "print(sorted(li, reverse=True))"
   ]
  },
  {
   "cell_type": "code",
   "execution_count": null,
   "metadata": {
    "slideshow": {
     "slide_type": "fragment"
    }
   },
   "outputs": [],
   "source": [
    "# sorted does not change the content in place\n",
    "li = [5, 4, 1, 3, 10, 13, 13]\n",
    "print(sorted(li))\n",
    "print(li)"
   ]
  },
  {
   "cell_type": "markdown",
   "metadata": {
    "slideshow": {
     "slide_type": "slide"
    }
   },
   "source": [
    "### `dir`: \n",
    "return a list of names comprising the attributes of the given objet"
   ]
  },
  {
   "cell_type": "code",
   "execution_count": null,
   "metadata": {},
   "outputs": [],
   "source": [
    "dir(str)"
   ]
  },
  {
   "cell_type": "code",
   "execution_count": null,
   "metadata": {},
   "outputs": [],
   "source": [
    "a = \"This is an ongoing course\".strip().split().index('an')\n",
    "dir(a)"
   ]
  },
  {
   "cell_type": "markdown",
   "metadata": {
    "slideshow": {
     "slide_type": "slide"
    }
   },
   "source": [
    "### Some userful methods for Strings\n",
    "\n",
    "<img src=\"img/string_methods.png\" alt=\"Drawing\" style=\"width: 600px;\"/> "
   ]
  },
  {
   "cell_type": "markdown",
   "metadata": {
    "slideshow": {
     "slide_type": "slide"
    }
   },
   "source": [
    "#### ```str.split()```"
   ]
  },
  {
   "cell_type": "code",
   "execution_count": null,
   "metadata": {
    "slideshow": {
     "slide_type": "-"
    }
   },
   "outputs": [],
   "source": [
    "a = '  split a string into a list '\n",
    "a.split()"
   ]
  },
  {
   "cell_type": "code",
   "execution_count": null,
   "metadata": {
    "slideshow": {
     "slide_type": "fragment"
    }
   },
   "outputs": [],
   "source": [
    "a.split(maxsplit=3)"
   ]
  },
  {
   "cell_type": "markdown",
   "metadata": {
    "slideshow": {
     "slide_type": "slide"
    }
   },
   "source": [
    "#### `str.join`"
   ]
  },
  {
   "cell_type": "markdown",
   "metadata": {
    "slideshow": {
     "slide_type": "skip"
    }
   },
   "source": [
    "<img src=\"img/join.png\" alt=\"Drawing\" style=\"width: 800px;\"/> "
   ]
  },
  {
   "cell_type": "code",
   "execution_count": null,
   "metadata": {
    "slideshow": {
     "slide_type": "-"
    }
   },
   "outputs": [],
   "source": [
    "','.join([\"a\", \"b\", \"c\", \"d\"]) # convert a list to string separated by comma ','"
   ]
  },
  {
   "cell_type": "markdown",
   "metadata": {
    "slideshow": {
     "slide_type": "slide"
    }
   },
   "source": [
    "### Some userful methods for Lists\n",
    "<img src=\"img/list_methods.png\" alt=\"Drawing\" style=\"width: 400px;\"/> "
   ]
  },
  {
   "cell_type": "code",
   "execution_count": null,
   "metadata": {
    "slideshow": {
     "slide_type": "slide"
    }
   },
   "outputs": [],
   "source": [
    "a = [1, 2, 3, 4, 5, 5, 5, 5]\n",
    "a.append(6)\n",
    "a"
   ]
  },
  {
   "cell_type": "code",
   "execution_count": null,
   "metadata": {},
   "outputs": [],
   "source": [
    "a.pop()\n",
    "a"
   ]
  },
  {
   "cell_type": "code",
   "execution_count": null,
   "metadata": {},
   "outputs": [],
   "source": [
    "a.pop(1)\n",
    "a"
   ]
  },
  {
   "cell_type": "code",
   "execution_count": null,
   "metadata": {},
   "outputs": [],
   "source": [
    "a.reverse()\n",
    "a"
   ]
  },
  {
   "cell_type": "code",
   "execution_count": null,
   "metadata": {},
   "outputs": [],
   "source": [
    "a.remove(5)\n",
    "a"
   ]
  },
  {
   "cell_type": "code",
   "execution_count": null,
   "metadata": {},
   "outputs": [],
   "source": [
    "a.insert(0, 13)\n",
    "a"
   ]
  },
  {
   "cell_type": "code",
   "execution_count": null,
   "metadata": {},
   "outputs": [],
   "source": [
    "### Tuples are immutable\n",
    "a = (2, 3, 4, 15)\n",
    "a.pop()"
   ]
  },
  {
   "cell_type": "markdown",
   "metadata": {
    "slideshow": {
     "slide_type": "skip"
    }
   },
   "source": [
    "Note: do you still remmeber the Dictionary data type we talked aobut at the first day?"
   ]
  },
  {
   "cell_type": "markdown",
   "metadata": {
    "slideshow": {
     "slide_type": "slide"
    }
   },
   "source": [
    "### Dictionary\n",
    "- A dictionary is an unordered, mutable collection of key-value pairs. \n",
    "- Each key in a dictionary must be unique and immutable (e.g., strings, numbers, or tuples), while the values associated with keys can be of any data type and can be duplicated."
   ]
  },
  {
   "cell_type": "code",
   "execution_count": null,
   "metadata": {},
   "outputs": [],
   "source": [
    "sequence_info = {  # a dictionary\n",
    "    \"gene\": \"TP53\",\n",
    "    \"species\": \"Homo sapiens\",\n",
    "    \"length\": 2000\n",
    "}"
   ]
  },
  {
   "cell_type": "markdown",
   "metadata": {
    "slideshow": {
     "slide_type": "-"
    }
   },
   "source": [
    "__Syntax__:  \n",
    "`a = {}` (create empty dictionary)  \n",
    "`d = {'key1':value1, 'key2':value2, 'key3':value3}`"
   ]
  },
  {
   "cell_type": "markdown",
   "metadata": {
    "slideshow": {
     "slide_type": "slide"
    }
   },
   "source": [
    "### Userful operations on Dictionaries"
   ]
  },
  {
   "cell_type": "markdown",
   "metadata": {
    "slideshow": {
     "slide_type": "-"
    }
   },
   "source": [
    "<img src=\"img/dictionary.png\" alt=\"Drawing\" style=\"width: 600px;\"/>  "
   ]
  },
  {
   "cell_type": "code",
   "execution_count": null,
   "metadata": {
    "slideshow": {
     "slide_type": "slide"
    }
   },
   "outputs": [],
   "source": [
    "sequence_info = {  # a dictionary\n",
    "    \"gene\": \"TP53\",\n",
    "    \"species\": \"Homo sapiens\",\n",
    "    \"length\": 2000\n",
    "}\n",
    "sequence_info"
   ]
  },
  {
   "cell_type": "code",
   "execution_count": null,
   "metadata": {},
   "outputs": [],
   "source": [
    "len(sequence_info)"
   ]
  },
  {
   "cell_type": "code",
   "execution_count": null,
   "metadata": {},
   "outputs": [],
   "source": [
    "# Access the value for a given key\n",
    "gene_id = sequence_info['gene']\n",
    "print(gene_id)"
   ]
  },
  {
   "cell_type": "code",
   "execution_count": null,
   "metadata": {
    "slideshow": {
     "slide_type": "fragment"
    }
   },
   "outputs": [],
   "source": [
    "sequence_info_list = [\"TP53\", \"Homo sapiens\", 2000]\n",
    "gene_id = sequence_info_list[0]\n",
    "# If you have dozens or even hundreds of items in a list, \n",
    "# referring to them by indices will be a nightmare."
   ]
  },
  {
   "cell_type": "markdown",
   "metadata": {
    "slideshow": {
     "slide_type": "slide"
    }
   },
   "source": [
    "#### Value of a key can be modified"
   ]
  },
  {
   "cell_type": "code",
   "execution_count": null,
   "metadata": {},
   "outputs": [],
   "source": [
    "sequence_info['gene'] = \"COX2\"\n",
    "sequence_info"
   ]
  },
  {
   "cell_type": "markdown",
   "metadata": {
    "slideshow": {
     "slide_type": "slide"
    }
   },
   "source": [
    "#### Check membership"
   ]
  },
  {
   "cell_type": "code",
   "execution_count": null,
   "metadata": {},
   "outputs": [],
   "source": [
    "# check membership for keys\n",
    "'gene' in sequence_info"
   ]
  },
  {
   "cell_type": "code",
   "execution_count": null,
   "metadata": {},
   "outputs": [],
   "source": [
    "# check membership for values\n",
    "2000 in sequence_info.values()"
   ]
  },
  {
   "cell_type": "markdown",
   "metadata": {
    "slideshow": {
     "slide_type": "slide"
    }
   },
   "source": [
    "#### Loop through a dictionary"
   ]
  },
  {
   "cell_type": "code",
   "execution_count": null,
   "metadata": {},
   "outputs": [],
   "source": [
    "for key in sequence_info.keys():\n",
    "    print(key)"
   ]
  },
  {
   "cell_type": "code",
   "execution_count": null,
   "metadata": {
    "slideshow": {
     "slide_type": "fragment"
    }
   },
   "outputs": [],
   "source": [
    "for value in sequence_info.values():\n",
    "    print(value)"
   ]
  },
  {
   "cell_type": "code",
   "execution_count": null,
   "metadata": {
    "slideshow": {
     "slide_type": "fragment"
    }
   },
   "outputs": [],
   "source": [
    "for key, value in sequence_info.items():\n",
    "    print(key, value)"
   ]
  },
  {
   "cell_type": "markdown",
   "metadata": {
    "slideshow": {
     "slide_type": "slide"
    }
   },
   "source": [
    "#### Be aware: key must be immutable, value can be any data type"
   ]
  },
  {
   "cell_type": "code",
   "execution_count": null,
   "metadata": {},
   "outputs": [],
   "source": [
    "mydict = {\n",
    "    \"simple list\": [1, 2, 3]\n",
    "}"
   ]
  },
  {
   "cell_type": "code",
   "execution_count": null,
   "metadata": {},
   "outputs": [],
   "source": [
    "mydict = {\n",
    "    [1, 2, 3]: \"simple list\"\n",
    "}"
   ]
  },
  {
   "cell_type": "code",
   "execution_count": null,
   "metadata": {
    "slideshow": {
     "slide_type": "fragment"
    }
   },
   "outputs": [],
   "source": [
    "# What about this one?\n",
    "mydict = {\n",
    "    (1, 2, 3): \"simple list\"\n",
    "}"
   ]
  },
  {
   "cell_type": "markdown",
   "metadata": {
    "slideshow": {
     "slide_type": "slide"
    }
   },
   "source": [
    "## Summary\n",
    "\n",
    "- A method always belongs to an object of a specific class, a function does not have to\n",
    "    - call a function by `functionName(args)`\n",
    "    - call a method by `obj.methodName(args)`\n",
    "- The official Python documentation describes the syntax for all built-in functions and methods\n",
    "  - https://docs.python.org/3.9/"
   ]
  },
  {
   "cell_type": "markdown",
   "metadata": {
    "slideshow": {
     "slide_type": "slide"
    }
   },
   "source": [
    "## Day 3, Exercise 1\n",
    "- Link: https://python-bioinfo.bioshu.se/exercises.html\n",
    "___\n",
    "### Take a break after the exercise"
   ]
  },
  {
   "cell_type": "markdown",
   "metadata": {
    "slideshow": {
     "slide_type": "slide"
    }
   },
   "source": [
    "## Session 2: \n",
    "- How to define your own function\n",
    "- How we pass arguments from the command line to the Python script - `sys.argv`\n",
    "- String formatting"
   ]
  },
  {
   "cell_type": "markdown",
   "metadata": {
    "slideshow": {
     "slide_type": "skip"
    }
   },
   "source": [
    "Note: when we are talking about the conditional statement, we have showned this example\n",
    "The program check whether a genotype is active or not by comparing it to the target variant, and if true, further check if the phenotype is \"expressed\" or not, \n",
    "\n",
    "The outcome will be determine the status of the variant. \n",
    "\n",
    "If I want to check for another genotype or phenotype, I have to change the value in the code\n"
   ]
  },
  {
   "cell_type": "code",
   "execution_count": null,
   "metadata": {
    "slideshow": {
     "slide_type": "slide"
    }
   },
   "outputs": [],
   "source": [
    "# Use nested conditionals to categorize genetic variants based on multiple attributes.\n",
    "genotype = \"AG\"\n",
    "phenotype = \"expressed\"\n",
    "if genotype == \"AG\":\n",
    "    # Only check phenotype if genotype is \"AG\"\n",
    "    if phenotype == \"expressed\":\n",
    "        print(\"Variant \" + genotype + \" is active and expressed.\")\n",
    "    else:\n",
    "        print(\"Variant \" + genotype + \" is active but not expressed.\")\n",
    "else:\n",
    "    print(\"Variant \" + genotype + \" is a non-target variant.\")"
   ]
  },
  {
   "cell_type": "markdown",
   "metadata": {
    "slideshow": {
     "slide_type": "slide"
    }
   },
   "source": [
    "### Syntax of function\n",
    "```python\n",
    "def function_name(arg1, arg2, ...):\n",
    "    # Block of code\n",
    "    return result\n",
    "```"
   ]
  },
  {
   "cell_type": "markdown",
   "metadata": {
    "slideshow": {
     "slide_type": "skip"
    }
   },
   "source": [
    "Note: live coding to define the function"
   ]
  },
  {
   "cell_type": "code",
   "execution_count": null,
   "metadata": {
    "slideshow": {
     "slide_type": "-"
    }
   },
   "outputs": [],
   "source": [
    "# Let's start with the previous code, and define a function called check_geno_pheno\n",
    "genotype = \"AG\"\n",
    "phenotype = \"expressed\"\n",
    "if genotype == \"AG\":\n",
    "    # Only check phenotype if genotype is \"AG\"\n",
    "    if phenotype == \"expressed\":\n",
    "        print(\"Variant \" + genotype + \" is active and expressed.\")\n",
    "    else:\n",
    "        print(\"Variant \" + genotype + \" is active but not expressed.\")\n",
    "else:\n",
    "    print(\"Variant \" + genotype + \" is a non-target variant.\")"
   ]
  },
  {
   "cell_type": "code",
   "execution_count": null,
   "metadata": {
    "slideshow": {
     "slide_type": "skip"
    }
   },
   "outputs": [],
   "source": [
    "def check_geno_pheno(genotype, phenotype):\n",
    "    if genotype == \"AG\":\n",
    "        # Only check phenotype if genotype is \"AG\"\n",
    "        if phenotype == \"expressed\":\n",
    "            print(\"Variant \" + genotype + \" is active and expressed.\")\n",
    "        else:\n",
    "            print(\"Variant \" + genotype + \" is active but not expressed.\")\n",
    "    else:\n",
    "        print(\"Variant \" + genotype + \" is a non-target variant.\")\n",
    "    \n",
    "check_geno_pheno(\"AG\", \"expressed\")"
   ]
  },
  {
   "cell_type": "code",
   "execution_count": null,
   "metadata": {
    "slideshow": {
     "slide_type": "fragment"
    }
   },
   "outputs": [],
   "source": [
    "check_geno_pheno(\"A\", \"expressed\")\n",
    "check_geno_pheno(\"AC\", \"nonexpressed\")"
   ]
  },
  {
   "cell_type": "markdown",
   "metadata": {
    "slideshow": {
     "slide_type": "skip"
    }
   },
   "source": [
    "Note the return statement"
   ]
  },
  {
   "cell_type": "markdown",
   "metadata": {
    "slideshow": {
     "slide_type": "slide"
    }
   },
   "source": [
    "### Syntax of function\n",
    "```python\n",
    "def function_name(arg1, arg2, ...):\n",
    "    # Block of code\n",
    "    return result\n",
    "```"
   ]
  },
  {
   "cell_type": "code",
   "execution_count": null,
   "metadata": {},
   "outputs": [],
   "source": [
    "result = check_geno_pheno(\"A\", \"expressed\")\n",
    "print(\"result = \", result)"
   ]
  },
  {
   "cell_type": "markdown",
   "metadata": {
    "slideshow": {
     "slide_type": "skip"
    }
   },
   "source": [
    "Note: live coding to modify the following code, so it return the message"
   ]
  },
  {
   "cell_type": "code",
   "execution_count": null,
   "metadata": {
    "slideshow": {
     "slide_type": "slide"
    }
   },
   "outputs": [],
   "source": [
    "# re-define this function so that it return a meaningful value\n",
    "def check_geno_pheno(genotype, phenotype):\n",
    "    if genotype == \"AG\":\n",
    "        # Only check phenotype if genotype is \"AG\"\n",
    "        if phenotype == \"expressed\":\n",
    "            print(\"Variant \" + genotype + \" is active and expressed.\")\n",
    "        else:\n",
    "            print(\"Variant \" + genotype + \" is active but not expressed.\")\n",
    "    else:\n",
    "        print(\"Variant \" + genotype + \" is a non-target variant.\")\n",
    "    \n",
    "check_geno_pheno(\"AG\", \"expressed\")"
   ]
  },
  {
   "cell_type": "code",
   "execution_count": null,
   "metadata": {
    "slideshow": {
     "slide_type": "skip"
    }
   },
   "outputs": [],
   "source": [
    "# redefine the function so that it return a meaningful value\n",
    "def check_geno_pheno(genotype, phenotype):\n",
    "    result = \"\"\n",
    "    if genotype == \"AG\":\n",
    "        # Only check phenotype if genotype is \"AG\"\n",
    "        if phenotype == \"expressed\":\n",
    "            result = \"Variant \" + genotype + \" is active and expressed.\"\n",
    "        else:\n",
    "            result = \"Variant \" + genotype + \" is active but not expressed.\"\n",
    "    else:\n",
    "        result = \"Variant \" + genotype + \" is a non-target variant.\"\n",
    "    \n",
    "    return result\n",
    "# live coding"
   ]
  },
  {
   "cell_type": "code",
   "execution_count": null,
   "metadata": {
    "slideshow": {
     "slide_type": "fragment"
    }
   },
   "outputs": [],
   "source": [
    "result = check_geno_pheno(\"A\", \"expressed\")\n",
    "print(\"result = \", result)"
   ]
  },
  {
   "cell_type": "code",
   "execution_count": null,
   "metadata": {
    "slideshow": {
     "slide_type": "fragment"
    }
   },
   "outputs": [],
   "source": [
    "r1 = check_geno_pheno(\"AG\", \"expressed\")\n",
    "r2 = check_geno_pheno(\"A\", \"expressed\")\n",
    "print(\"result 1 = \", r1)\n",
    "print(\"result 2 = \", r2)"
   ]
  },
  {
   "cell_type": "markdown",
   "metadata": {
    "slideshow": {
     "slide_type": "slide"
    }
   },
   "source": [
    "## Why use functions?\n",
    "\n",
    "- Cleaner code\n",
    "- Better defined tasks in code\n",
    "- Re-usability\n",
    "- Better structure"
   ]
  },
  {
   "cell_type": "markdown",
   "metadata": {
    "slideshow": {
     "slide_type": "slide"
    }
   },
   "source": [
    "### 5 min exercise\n",
    "\n",
    "Write a function that calculate the length of sequence\n",
    "- Name of the function, `get_seqlen`\n",
    "- Input parameter: `sequence` (String)\n",
    "- Return value: `length` (Int)\n",
    "\n",
    "```python\n",
    "def get_seqlen(sequence):\n",
    "    # block of code to calculate the length\n",
    "    return length\n",
    "```\n",
    "\n",
    "__Test the function with__\n",
    "```python\n",
    "get_seqlen(\"ATCG\")\n",
    "get_seqlen(<your-own-sequence>)\n",
    "```"
   ]
  },
  {
   "cell_type": "markdown",
   "metadata": {
    "slideshow": {
     "slide_type": "slide"
    }
   },
   "source": [
    "### How to pass arguments to Python script from the command line?\n",
    "\n",
    "#### Not just \n",
    "```bash\n",
    "    python myscript.py\n",
    "```\n",
    "\n",
    "#### But also\n",
    "\n",
    "```bash\n",
    "    python myscript.py arg1 arg2\n",
    "```"
   ]
  },
  {
   "cell_type": "markdown",
   "metadata": {
    "slideshow": {
     "slide_type": "skip"
    }
   },
   "source": [
    "Note: yesterday we talked about how to read data from a file and showed this example.\n",
    "Now we will switch to a terminal "
   ]
  },
  {
   "cell_type": "markdown",
   "metadata": {
    "slideshow": {
     "slide_type": "slide"
    }
   },
   "source": [
    "### `sys.argv`\n",
    "- `sys.argv` is a list in the `sys` module, it contains the command line arguments passed to the script\n",
    "    - Position 0: the program name\n",
    "    - Position 1: the first argument\n",
    "    - Position 2: the second argument\n",
    "    - etc"
   ]
  },
  {
   "cell_type": "markdown",
   "metadata": {
    "slideshow": {
     "slide_type": "slide"
    }
   },
   "source": [
    "### How to use it\n",
    "```python\n",
    "import sys\n",
    "\n",
    "program_name = sys.argv[0]\n",
    "arg1 = sys.argv[1] # index error if the first argument is not provided in the command\n",
    "arg2 = sys.argv[2] # index error if the second argument is not provided in the command\n",
    "```\n",
    "\n",
    "In Python, the `import` statement is used to include external modules and libraries into your current script or module."
   ]
  },
  {
   "cell_type": "markdown",
   "metadata": {
    "slideshow": {
     "slide_type": "skip"
    }
   },
   "source": [
    "Note: we will talk more about modules and how to use them tomorrow. Now we will switch to the terminal again"
   ]
  },
  {
   "cell_type": "markdown",
   "metadata": {
    "slideshow": {
     "slide_type": "slide"
    }
   },
   "source": [
    "### Try out `sys.argv`\n",
    "\n",
    "Python script is called `print_argv.py` and can be found in the downloads folder, or download from https://python-bioinfo.bioshu.se/downloads/print_argv.py\n",
    "\n",
    "#### Run the following commands in the terminal\n",
    "```bash\n",
    "python print_argv.py\n",
    "python print_argv.py 1 \n",
    "python print_argv.py arg1 arg2 arg3\n",
    "```"
   ]
  },
  {
   "cell_type": "code",
   "execution_count": null,
   "metadata": {
    "slideshow": {
     "slide_type": "slide"
    }
   },
   "outputs": [],
   "source": [
    "# Modify this code so that it takes command line arguments\n",
    "seqfile = \"../downloads/one_dna_sequence.fa\"\n",
    "\n",
    "with open(seqfile, \"r\") as file:\n",
    "    seqlength = 0\n",
    "    for line in file:\n",
    "        line = line.strip()\n",
    "        if not line.startswith(\">\"):\n",
    "            seqlength += len(line)\n",
    "\n",
    "outfile = \"../newproject/length_of_dna_sequence.txt\"\n",
    "with open(outfile, \"w\") as file:\n",
    "    file.write(\"Length of DNA sequence: \" + str(seqlength))"
   ]
  },
  {
   "cell_type": "code",
   "execution_count": null,
   "metadata": {
    "slideshow": {
     "slide_type": "skip"
    }
   },
   "outputs": [],
   "source": [
    "#!/usr/bin/env python\n",
    "# answer\n",
    "import sys\n",
    "\n",
    "if len(sys.argv) > 2:\n",
    "    seqfile = sys.argv[1]\n",
    "    outfile = sys.argv[2]\n",
    "else:\n",
    "    print(\"USAGE: \" + sys.argv[0] + \" seqfile outfile\")\n",
    "    sys.exit(1)\n",
    "    \n",
    "with open(seqfile, \"r\") as file:\n",
    "    seqlength = 0\n",
    "    for line in file:\n",
    "        line = line.strip()\n",
    "        if not line.startswith(\">\"):\n",
    "            seqlength += len(line)\n",
    "\n",
    "# outfile = \"../files/output/length_of_dna_sequence.txt\"\n",
    "with open(outfile, \"w\") as file:\n",
    "    file.write(\"Length of DNA sequence: \" + str(seqlength))\n",
    "print(\"Result has been output to \", outfile)"
   ]
  },
  {
   "cell_type": "markdown",
   "metadata": {
    "slideshow": {
     "slide_type": "skip"
    }
   },
   "source": [
    "Note: Can you answer, why we use arguments from the command line"
   ]
  },
  {
   "cell_type": "markdown",
   "metadata": {
    "slideshow": {
     "slide_type": "slide"
    }
   },
   "source": [
    "### Why use arguments from the command line\n"
   ]
  },
  {
   "cell_type": "markdown",
   "metadata": {
    "slideshow": {
     "slide_type": "fragment"
    }
   },
   "source": [
    "- Avoid hardcoding the filename in the code\n",
    "- Easier to re-use code for different input files"
   ]
  },
  {
   "cell_type": "markdown",
   "metadata": {
    "slideshow": {
     "slide_type": "slide"
    }
   },
   "source": [
    "## String formatting\n",
    "\n",
    "Format text for printing or for writing to file.\n",
    "\n",
    "What we have been doing so far:"
   ]
  },
  {
   "cell_type": "code",
   "execution_count": null,
   "metadata": {
    "slideshow": {
     "slide_type": "fragment"
    }
   },
   "outputs": [],
   "source": [
    "chrom = \"5\"\n",
    "pos = 1235651\n",
    "ref = \"C\"\n",
    "alt = \"T\"\n",
    "geno = \"1/1\"\n",
    "info = chrom + \":\" + str(pos) + \"_\" + ref + \"-\" + alt + \" has genotype: \"+ geno\n",
    "print(info)"
   ]
  },
  {
   "cell_type": "markdown",
   "metadata": {
    "slideshow": {
     "slide_type": "slide"
    }
   },
   "source": [
    "### Other (better) ways of formatting strings:\n",
    "\n",
    "__f-strings (since python 3.6)__"
   ]
  },
  {
   "cell_type": "code",
   "execution_count": null,
   "metadata": {
    "slideshow": {
     "slide_type": "-"
    }
   },
   "outputs": [],
   "source": [
    "chrom = \"5\"\n",
    "pos = 1235651\n",
    "ref = \"C\"\n",
    "alt = \"T\"\n",
    "geno = \"1/1\"\n",
    "info = f\"{chrom}:{pos}_{ref}-{alt} has genotype: {geno}\"\n",
    "print(info)"
   ]
  },
  {
   "cell_type": "code",
   "execution_count": null,
   "metadata": {
    "slideshow": {
     "slide_type": "fragment"
    }
   },
   "outputs": [],
   "source": [
    "info = chrom + \":\" + str(pos) + \"_\" + ref + \"-\" + alt + \" has genotype: \"+ geno"
   ]
  },
  {
   "cell_type": "markdown",
   "metadata": {
    "slideshow": {
     "slide_type": "slide"
    }
   },
   "source": [
    "#### `format` method"
   ]
  },
  {
   "cell_type": "code",
   "execution_count": null,
   "metadata": {
    "slideshow": {
     "slide_type": "-"
    }
   },
   "outputs": [],
   "source": [
    "chrom = \"5\"\n",
    "pos = 1235651\n",
    "ref = \"C\"\n",
    "alt = \"T\"\n",
    "geno = \"1/1\"\n",
    "info = \"{}:{}_{}-{} has genotype: {}\".format(chrom, pos, ref, alt, geno)\n",
    "print(info)"
   ]
  },
  {
   "cell_type": "markdown",
   "metadata": {
    "slideshow": {
     "slide_type": "slide"
    }
   },
   "source": [
    "#### `f-strings\" formatting is recommended \n"
   ]
  },
  {
   "cell_type": "markdown",
   "metadata": {
    "slideshow": {
     "slide_type": "slide"
    }
   },
   "source": [
    "#### It works for other data types as well"
   ]
  },
  {
   "cell_type": "code",
   "execution_count": null,
   "metadata": {},
   "outputs": [],
   "source": [
    "genes = [\"TP53\", \"COX2\"]\n",
    "lengths = [355,  458]\n",
    "print(f\"Lengths of genes {genes} are {lengths}\")"
   ]
  },
  {
   "cell_type": "code",
   "execution_count": null,
   "metadata": {
    "slideshow": {
     "slide_type": "fragment"
    }
   },
   "outputs": [],
   "source": [
    "gene = \"COX1\"\n",
    "exp_level = 45.123253\n",
    "print(f\"Expression level of gene {gene} is {exp_level}\")"
   ]
  },
  {
   "cell_type": "code",
   "execution_count": null,
   "metadata": {
    "slideshow": {
     "slide_type": "fragment"
    }
   },
   "outputs": [],
   "source": [
    "print(f\"Expression level of gene {gene} is {exp_level:.2f}\")"
   ]
  },
  {
   "cell_type": "markdown",
   "metadata": {
    "slideshow": {
     "slide_type": "slide"
    }
   },
   "source": [
    " #### It works for functions and operations as well"
   ]
  },
  {
   "cell_type": "code",
   "execution_count": null,
   "metadata": {},
   "outputs": [],
   "source": [
    "seq = \"ATCGTAGCCCATAGC\"\n",
    "print(f\"The length of sequence {seq} is {len(seq)}\")"
   ]
  },
  {
   "cell_type": "code",
   "execution_count": null,
   "metadata": {},
   "outputs": [],
   "source": [
    "text = \"a string with many words  \"\n",
    "print(f\"the text \\\"{text}\\\" is divided in to a list {text.split()}, \" \n",
    "      f\"and it has {len(text.split())} elements\")"
   ]
  },
  {
   "cell_type": "markdown",
   "metadata": {
    "slideshow": {
     "slide_type": "skip"
    }
   },
   "source": [
    "__The ancient way (python 2)__"
   ]
  },
  {
   "cell_type": "code",
   "execution_count": null,
   "metadata": {
    "slideshow": {
     "slide_type": "skip"
    }
   },
   "outputs": [],
   "source": [
    "genotype = \"AG\"\n",
    "result = \"Variant %s is active and expressed.\"%(genotype)\n",
    "print(result)"
   ]
  },
  {
   "cell_type": "markdown",
   "metadata": {
    "slideshow": {
     "slide_type": "slide"
    }
   },
   "source": [
    "## Summary\n",
    "\n",
    "- A function is a block of organized, reusable code that is used to perform a single, related action\n",
    "- Use `sys.argv` to deal with arguments passed to the python script from the command line\n",
    "    - `sys.argv[0]` is the program name\n",
    "    - `sys.argv[1]` is is the first argument and so on\n",
    "- `f-strings` formatting is a convenient and recommended way to format the string\n",
    "    - Extra reading about string formatting: https://www.w3schools.com/python/python_string_formatting.asp"
   ]
  },
  {
   "cell_type": "markdown",
   "metadata": {
    "slideshow": {
     "slide_type": "slide"
    }
   },
   "source": [
    "## Day 3, Exercise 2\n",
    "- Link: https://python-bioinfo.bioshu.se/exercises.html\n",
    "___\n",
    "##### Break\n",
    "___\n",
    "\n",
    "### Quiz for Day 3\n",
    "- Link: https://python-bioinfo.bioshu.se/quiz.html\n",
    "___\n",
    "\n",
    "### Lunch \n",
    "___\n",
    "## Project time after lunch"
   ]
  }
 ],
 "metadata": {
  "celltoolbar": "Slideshow",
  "kernelspec": {
   "display_name": "Python 3 (ipykernel)",
   "language": "python",
   "name": "python3"
  },
  "language_info": {
   "codemirror_mode": {
    "name": "ipython",
    "version": 3
   },
   "file_extension": ".py",
   "mimetype": "text/x-python",
   "name": "python",
   "nbconvert_exporter": "python",
   "pygments_lexer": "ipython3",
   "version": "3.11.0"
  },
  "rise": {
   "height": 1000,
   "scroll": true,
   "width": 1280
  }
 },
 "nbformat": 4,
 "nbformat_minor": 2
}
