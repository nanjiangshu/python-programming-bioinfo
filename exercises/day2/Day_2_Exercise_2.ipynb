{
 "cells": [
  {
   "cell_type": "markdown",
   "metadata": {
    "slideshow": {
     "slide_type": "slide"
    }
   },
   "source": [
    "# Day 2, Exercise 2 - frequency analysis of SNP rs4988235 in VCF data"
   ]
  },
  {
   "cell_type": "markdown",
   "metadata": {
    "slideshow": {
     "slide_type": "slide"
    }
   },
   "source": [
    "### Background:\n",
    "\n",
    "The SNP rs4988235, located in the MCM6 gene on chromosome 2 at position 136608646, is associated with lactose persistence. This variant is significantly more common in Scandinavian countries, indicating that individuals from these regions are less likely to be lactose intolerant. \n",
    "\n",
    "### Task:\n",
    "\n",
    "Calculate the frequency of the rs4988235 SNP amongst the samples in the VCF file 'genotypes_small.vcf'.\n",
    "\n",
    "- The file `genotypes_small.vcf` can be found <a href=\"https://python-bioinfo.bioshu.se/downloads/genotypes_small.vcf\" target=\"_blank\">here</a> if you have not downloaded yet.\n",
    "\n",
    "### Tips:\n",
    "\n",
    "#### 1. A VCF file is structured like this:\n",
    "\n",
    "<img src=\"../../img/vcf_header.png\" alt=\"Drawing\" style=\"width: 1000px;\"/> \n",
    "\n",
    "The genotypes start from column 10 (index 9). The first part of the genotypes denoted which alleles each individual has and it can be in one of the following three forms\n",
    "```\n",
    "- 0/0         means there are no alternate alleles, called homozygous reference allele, or wildtype\n",
    "- 0/1 or 1/0  means there is one alternate allele, called heterozygous\n",
    "- 1/1         means there are two 2 alternate alleles, called homozygous alternate allele. \n",
    "\n",
    "Note: when there are multiple alternative alleles, it can be a number larger than 1.\n",
    "```\n",
    "(The reason why there are two numbers, separated by `/`, for each genotype alleles notation is because human has two sets of chromosomes, one inherited from each parent) \n",
    "\n",
    "So here you have to count the number of alternate alleles, and divide by the total number of alleles.\n",
    "\n",
    "Feel free to use the code presented in the lecture for this dataset, and modify it accordingly. \n",
    "\n",
    "  \n",
    "#### 2. It is possible to loop over a list starting from a specified position using:  \n",
    "`for x in list[9:]`  \n",
    "\n",
    "  \n",
    "#### 3. Before starting to write any code, break down the problem into smaller, manageable components by utilizing pseudocode, and devise a strategy for tackling each of these components individually. \n",
    "\n",
    " \n",
    "#### 4. There is always more than one solution to a problem. If you find another way to reach the same result, that's perfectly fine.\n",
    "\n",
    "If you get stuck, the answers (one of the possible answers) will be presented piece by piece. So you can always scroll down a bit, look at a part of the code, and try from there.\n",
    "\n",
    "#### 5. If you really don't know where to start, follow these step by step instructions:  \n",
    "- Read the file line by line\n",
    "- Find the line where chromosome is 2 and position is 136608646\n",
    "- Get the genotype information by looping over the line starting at position 9\n",
    "- Split on : to only get the genotypes\n",
    "- Initialize three counters and count the number of wildtype, heterozygous, and homozygous genotypes\n",
    "- Calculate the frequency using these three counters"
   ]
  },
  {
   "cell_type": "markdown",
   "metadata": {},
   "source": [
    "___"
   ]
  },
  {
   "cell_type": "markdown",
   "metadata": {},
   "source": [
    "### The answers\n",
    "\n",
    "There are various ways to write the code for this task. Here, we present one solution in the answers, but if you have written a different one, that's perfectly fine. Just ensure that you test your code to confirm that it performs as expected.\n",
    "\n",
    "Below is the second code from the lecture, let's start with that one and modify it."
   ]
  },
  {
   "cell_type": "code",
   "execution_count": 27,
   "metadata": {},
   "outputs": [
    {
     "name": "stdout",
     "output_type": "stream",
     "text": [
      "5\t106565\trs115608877\tG\tT\t.\tPASS\tAA=.;AC=7;AN=120;DP=91;GP=5:53565;BN=132\tGT:DP:CB\t1/0:1:SM\t1/0:3:SM\t0/0:1:SM\t0/0:2:SM\t0/0:0:S\t0/0:0:SM\t0/0:0:SM\t0/0:1:S\t0/0:0:S\t0/0:0:S\t0/0:2:SM\t0/1:1:SM\t0/0:3:SM\t0/1:0:SM\t0/0:2:SM\t1/0:1:S\t0/0:1:SM\t0/0:0:SM\t0/0:2:SM\t0/0:1:SM\t0/0:5:SM\t0/0:0:S\t0/0:1:SM\t0/0:0:S\t0/0:1:SM\t0/0:1:SM\t0/1:1:SM\t0/1:1:SM\t0/0:2:SM\t0/0:3:SM\t0/0:2:SM\t0/0:8:SM\t0/0:0:SM\t0/0:7:SM\t0/0:4:SM\t0/0:0:S\t0/0:2:S\t0/0:0:SM\t0/0:3:SM\t0/0:2:SM\t0/0:1:SM\t0/0:2:SM\t0/0:3:S\t0/0:0:SM\t0/0:3:SM\t0/0:1:SM\t0/0:0:SM\t0/0:0:SM\t0/0:3:S\t0/0:1:SM\t0/0:0:SM\t0/0:0:SM\t0/0:3:SM\t0/0:4:SM\t0/0:2:SM\t0/0:1:SM\t0/0:0:SM\t0/0:0:SM\t0/0:1:SM\t0/0:2:SM\n",
      "\n"
     ]
    }
   ],
   "source": [
    "vcf_file = '../../downloads/genotypes_small.vcf' # set this to the actual path on your computer\n",
    "with open(vcf_file, 'r') as fh:\n",
    "    for line in fh:\n",
    "        if not line.startswith('#'):\n",
    "            cols = line.strip().split('\\t')\n",
    "            if cols[0] == '5':\n",
    "                print(line)\n",
    "                break"
   ]
  },
  {
   "cell_type": "markdown",
   "metadata": {},
   "source": [
    "Now let's start modifying it:\n",
    "\n",
    "- First we want to find the line with the SNP we are interested in"
   ]
  },
  {
   "cell_type": "code",
   "execution_count": 28,
   "metadata": {},
   "outputs": [
    {
     "name": "stdout",
     "output_type": "stream",
     "text": [
      "2\t136608646\trs4988235\tG\tA\t.\tPASS\tAA=C;AC=94;AN=120;DP=254;HM2;GP=2:136892165;BN=92\tGT:DP:CB\t0/1:4:SMB\t1/1:17:SMB\t1/1:8:SMB\t0/1:8:SMB\t0/1:1:SMB\t0/1:1:SMB\t1/1:1:SMB\t1/1:1:SMB\t1/1:3:SMB\t0/1:5:SMB\t1/1:9:SMB\t0/1:3:SB\t0/0:4:SMB\t1/1:5:SMB\t1/1:2:SMB\t0/1:2:SMB\t0/1:2:SB\t0/1:2:SMB\t1/1:1:SMB\t0/1:3:SMB\t1/1:18:SMB\t1/1:4:SMB\t1/1:6:SMB\t0/1:3:SMB\t1/1:1:SMB\t0/1:5:SMB\t1/1:12:SMB\t0/1:3:SMB\t1/1:3:SMB\t0/1:1:SMB\t0/0:2:SMB\t1/1:9:SMB\t1/1:2:SM\t1/1:8:SMB\t1/1:2:SB\t1/1:2:SMB\t1/1:3:SMB\t1/1:0:SMB\t0/1:8:SMB\t1/1:2:SMB\t1/1:8:SMB\t1/1:1:SMB\t1/1:5:SMB\t1/1:3:SMB\t1/1:4:SMB\t1/1:4:SMB\t1/1:5:SMB\t0/0:4:SMB\t0/1:7:SMB\t0/1:3:SMB\t1/1:10:SMB\t1/1:1:SMB\t0/1:0:SMB\t0/1:1:SMB\t1/1:2:SMB\t1/1:2:SMB\t1/1:0:SMB\t0/1:6:SMB\t1/1:8:SMB\t1/1:4:SMB\n",
      "\n"
     ]
    }
   ],
   "source": [
    "vcf_file = '../../downloads/genotypes_small.vcf' # set this to the actual path on your computer\n",
    "with open(vcf_file, 'r') as fh:\n",
    "    for line in fh:\n",
    "        if not line.startswith('#'):\n",
    "            cols  = line.strip().split('\\t')\n",
    "            chrom = cols[0]                          # This is the chromosome\n",
    "            pos   = cols[1]                          # This is the position of the SNP on the chromsome\n",
    "            if chrom == '2' and pos == '136608646':  # Check if chrom and pos match. Notice the type! python reads all as strings!\n",
    "                print(line)                          # Print the line to see if it looks correct\n"
   ]
  },
  {
   "cell_type": "markdown",
   "metadata": {},
   "source": [
    "When making comparisons, it is crucial to consider the data type of the values being compared. When Python reads from a file, all content is initially read as strings. Consequently, if you intend to compare with an integer, you must first convert the data type. In this instance, we are comparing `chrom` to `'2'` (a string), which is reasonable as chromosomes can include non-integer identifiers like 'X', 'Y', 'M', etc. However, the position is inherently an integer, so depending on the nature of the comparison, you may need to convert the type. For exact matches, like `'136608646' == '136608646'`, the comparison works as expected. But for comparisons involving order, like `'136608646' > '136608646'`, which would not work as intended due to string comparison rules, you would need to convert the position to an integer (e.g., `int(pos) > 136608646`).\n",
    "\n",
    "Now that we have identified the line of interest, what should be our next step?\n",
    "\n",
    "- Let's attempt to extract and print only the genotype information."
   ]
  },
  {
   "cell_type": "code",
   "execution_count": 29,
   "metadata": {},
   "outputs": [
    {
     "name": "stdout",
     "output_type": "stream",
     "text": [
      "0/1:4:SMB\n",
      "1/1:17:SMB\n",
      "1/1:8:SMB\n",
      "0/1:8:SMB\n",
      "0/1:1:SMB\n",
      "0/1:1:SMB\n",
      "1/1:1:SMB\n",
      "1/1:1:SMB\n",
      "1/1:3:SMB\n",
      "0/1:5:SMB\n",
      "1/1:9:SMB\n",
      "0/1:3:SB\n",
      "0/0:4:SMB\n",
      "1/1:5:SMB\n",
      "1/1:2:SMB\n",
      "0/1:2:SMB\n",
      "0/1:2:SB\n",
      "0/1:2:SMB\n",
      "1/1:1:SMB\n",
      "0/1:3:SMB\n",
      "1/1:18:SMB\n",
      "1/1:4:SMB\n",
      "1/1:6:SMB\n",
      "0/1:3:SMB\n",
      "1/1:1:SMB\n",
      "0/1:5:SMB\n",
      "1/1:12:SMB\n",
      "0/1:3:SMB\n",
      "1/1:3:SMB\n",
      "0/1:1:SMB\n",
      "0/0:2:SMB\n",
      "1/1:9:SMB\n",
      "1/1:2:SM\n",
      "1/1:8:SMB\n",
      "1/1:2:SB\n",
      "1/1:2:SMB\n",
      "1/1:3:SMB\n",
      "1/1:0:SMB\n",
      "0/1:8:SMB\n",
      "1/1:2:SMB\n",
      "1/1:8:SMB\n",
      "1/1:1:SMB\n",
      "1/1:5:SMB\n",
      "1/1:3:SMB\n",
      "1/1:4:SMB\n",
      "1/1:4:SMB\n",
      "1/1:5:SMB\n",
      "0/0:4:SMB\n",
      "0/1:7:SMB\n",
      "0/1:3:SMB\n",
      "1/1:10:SMB\n",
      "1/1:1:SMB\n",
      "0/1:0:SMB\n",
      "0/1:1:SMB\n",
      "1/1:2:SMB\n",
      "1/1:2:SMB\n",
      "1/1:0:SMB\n",
      "0/1:6:SMB\n",
      "1/1:8:SMB\n",
      "1/1:4:SMB\n"
     ]
    }
   ],
   "source": [
    "vcf_file = '../../downloads/genotypes_small.vcf' # set this to the actual path on your computer\n",
    "with open(vcf_file, 'r') as fh:\n",
    "    for line in fh:\n",
    "        if not line.startswith('#'):\n",
    "            cols  = line.strip().split('\\t')\n",
    "            chrom = cols[0]                          # This is the chromosome\n",
    "            pos   = cols[1]                          # This is the position of the SNP on the chromsome\n",
    "            if chrom == '2' and pos == '136608646':  # Check if chrom and pos match. Notice the type! python reads all as strings!\n",
    "                for geno_col in cols[9:]:            # Loop over the items in cols, starting from index 9\n",
    "                    print(geno_col)\n"
   ]
  },
  {
   "cell_type": "markdown",
   "metadata": {},
   "source": [
    "`cols` is here a list, meaning we can loop over it. By writing `cols[9:]` we also use slicing to tell Python to start the loop from index 9 of the list, and loop until the end.  \n",
    "\n",
    "\n",
    "So, now we have the full genotype information, but we are only interested in the first part before the `:` separator, so let's remove that:"
   ]
  },
  {
   "cell_type": "code",
   "execution_count": 30,
   "metadata": {},
   "outputs": [
    {
     "name": "stdout",
     "output_type": "stream",
     "text": [
      "0/1\n",
      "1/1\n",
      "1/1\n",
      "0/1\n",
      "0/1\n",
      "0/1\n",
      "1/1\n",
      "1/1\n",
      "1/1\n",
      "0/1\n",
      "1/1\n",
      "0/1\n",
      "0/0\n",
      "1/1\n",
      "1/1\n",
      "0/1\n",
      "0/1\n",
      "0/1\n",
      "1/1\n",
      "0/1\n",
      "1/1\n",
      "1/1\n",
      "1/1\n",
      "0/1\n",
      "1/1\n",
      "0/1\n",
      "1/1\n",
      "0/1\n",
      "1/1\n",
      "0/1\n",
      "0/0\n",
      "1/1\n",
      "1/1\n",
      "1/1\n",
      "1/1\n",
      "1/1\n",
      "1/1\n",
      "1/1\n",
      "0/1\n",
      "1/1\n",
      "1/1\n",
      "1/1\n",
      "1/1\n",
      "1/1\n",
      "1/1\n",
      "1/1\n",
      "1/1\n",
      "0/0\n",
      "0/1\n",
      "0/1\n",
      "1/1\n",
      "1/1\n",
      "0/1\n",
      "0/1\n",
      "1/1\n",
      "1/1\n",
      "1/1\n",
      "0/1\n",
      "1/1\n",
      "1/1\n"
     ]
    }
   ],
   "source": [
    "vcf_file = '../../downloads/genotypes_small.vcf' # set this to the actual path on your computer\n",
    "with open(vcf_file, 'r') as fh:\n",
    "    for line in fh:\n",
    "        if not line.startswith('#'):\n",
    "            cols  = line.strip().split('\\t')\n",
    "            chrom = cols[0]                          # This is the chromosome\n",
    "            pos   = cols[1]                          # This is the position of the SNP on the chromsome\n",
    "            if chrom == '2' and pos == '136608646':  # Check if chrom and pos match. Notice the type! python reads all as strings!\n",
    "                for geno_col in cols[9:]:            # Loop over the items in cols, starting from index 9\n",
    "                    geno = geno_col.split(\":\")[0]    # Here we get the first item from geno_col, split by ':'\n",
    "                    print(geno)"
   ]
  },
  {
   "cell_type": "markdown",
   "metadata": {},
   "source": [
    "There are several ways to do this. For example, one could extract the first three characters from `geno_col` using `geno = geno_col[:3]`. However, if the alternative alleles have varying lengths (such as when there are 10 different alternate alleles, which would allow genotypes like `'0/10'`), this option could be problematic. \n",
    "\n",
    "Now that we have the genotypes for each individual, it's time to count them."
   ]
  },
  {
   "cell_type": "code",
   "execution_count": 31,
   "metadata": {},
   "outputs": [
    {
     "name": "stdout",
     "output_type": "stream",
     "text": [
      "wt = 3\n",
      "het = 20\n",
      "hom = 37\n"
     ]
    }
   ],
   "source": [
    "vcf_file = '../../downloads/genotypes_small.vcf' # set this to the actual path on your computer\n",
    "with open(vcf_file, 'r') as fh:\n",
    "    wt  = 0      # Remember to initialize the counting outside the loop, otherwise it will reset for every iteration\n",
    "    het = 0\n",
    "    hom = 0\n",
    "    for line in fh:\n",
    "        if not line.startswith('#'):\n",
    "            cols  = line.strip().split('\\t')\n",
    "            chrom = cols[0]                          # This is the chromosome\n",
    "            pos   = cols[1]                          # This is the position of the SNP on the chromsome\n",
    "            if chrom == '2' and pos == '136608646':  # Check if chrom and pos match. Notice the type! python reads all as strings!\n",
    "                for geno_col in cols[9:]:            # Loop over the items in cols, starting from index 9\n",
    "                    geno = geno_col.split(\":\")[0]    # Here we get the first item from geno_col, split by ':'\n",
    "                    allele_list = geno.split('/')    # Here we get each allele and convert the number to integer\n",
    "                    allele_1 = int(allele_list[0])\n",
    "                    allele_2 = int(allele_list[1])\n",
    "                    if allele_1 == 0 and allele_2 == 0: # Conditional to test whether both alleles are 0\n",
    "                        wt += 1                      #  If matching, wt is increased by 1\n",
    "                    elif allele_1 > 0 and allele_2 > 0:\n",
    "                        hom += 1\n",
    "                    else:        \n",
    "                        het += 1\n",
    "                    \n",
    "print(\"wt =\", wt)        # After looping through the entire file, print the counts for the different genotypes\n",
    "print(\"het =\", het)\n",
    "print(\"hom =\", hom)"
   ]
  },
  {
   "cell_type": "markdown",
   "metadata": {},
   "source": [
    "Here, we set three counters at the beginning, one for each of the three possible combinations of alleles we have. For each genotype, we increment the corresponding counter by 1, and finally, we will calculate the allele frequency and print our results.\n",
    "\n",
    "\n",
    "Equation: `allele_freq = (2*hom + het)/(wt*2+hom*2+het*2)`"
   ]
  },
  {
   "cell_type": "code",
   "execution_count": 32,
   "metadata": {},
   "outputs": [
    {
     "name": "stdout",
     "output_type": "stream",
     "text": [
      "The frequency of the rs4988235 SNP is: 0.783\n"
     ]
    }
   ],
   "source": [
    "vcf_file = '../../downloads/genotypes_small.vcf' # set this to the actual path on your computer\n",
    "with open(vcf_file, 'r') as fh:\n",
    "\n",
    "    wt  = 0      # Remember to initialize the counting outside the loop, otherwise it will reset for every iteration\n",
    "    het = 0\n",
    "    hom = 0\n",
    "\n",
    "    for line in fh:\n",
    "        if not line.startswith('#'):\n",
    "            cols  = line.strip().split('\\t')\n",
    "            chrom = cols[0]                          # This is the chromosome\n",
    "            pos   = cols[1]                          # This is the position of the SNP on the chromsome\n",
    "            if chrom == '2' and pos == '136608646':  # Check if chrom and pos match. Notice the type! python reads all as strings!\n",
    "                for geno_col in cols[9:]:                # Loop over the items in cols, starting from index 9\n",
    "                    geno = geno_col.split(\":\")[0]    # Here we get the first item from geno_col, split by ':'\n",
    "                    allele_list = geno.split('/') # Here we get each allele and convert the number to integer\n",
    "                    allele_1 = int(allele_list[0])\n",
    "                    allele_2 = int(allele_list[1])\n",
    "                    if allele_1 == 0 and allele_2 == 0: # Conditional to test whether both alleles are 0\n",
    "                        wt += 1                      # If match, wt is increased by 1\n",
    "                    elif allele_1 > 0 and allele_2 > 0:\n",
    "                        hom += 1\n",
    "                    else:        \n",
    "                        het += 1\n",
    "    freq = (2*hom + het)/((wt+hom+het)*2)                       # Calculate the alllele frequency\n",
    "    print('The frequency of the rs4988235 SNP is: '+str(round(freq,3)))  # Print a nice message and format freq to a string before printing\n"
   ]
  },
  {
   "cell_type": "markdown",
   "metadata": {},
   "source": [
    "<b>All done!</b>"
   ]
  }
 ],
 "metadata": {
  "kernelspec": {
   "display_name": "Python 3 (ipykernel)",
   "language": "python",
   "name": "python3"
  },
  "language_info": {
   "codemirror_mode": {
    "name": "ipython",
    "version": 3
   },
   "file_extension": ".py",
   "mimetype": "text/x-python",
   "name": "python",
   "nbconvert_exporter": "python",
   "pygments_lexer": "ipython3",
   "version": "3.11.0"
  }
 },
 "nbformat": 4,
 "nbformat_minor": 2
}
