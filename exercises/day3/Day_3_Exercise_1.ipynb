{
 "cells": [
  {
   "cell_type": "markdown",
   "id": "595a91b1",
   "metadata": {},
   "source": [
    "# Day 3, Exercise 1 - functions and methods\n",
    "\n",
    "### There are 4 parts to this exercise, with answers listed under each part.\n",
    "\n",
    "\n",
    "1. Practicing String methods\n",
    "2. Practicing List methods\n",
    "3. Practicing Dictinoary methods\n",
    "4. Bonus exercise (optional)\n",
    "\n",
    "#### If you find the basic exercises too simple, you can skip the first three and go directly to the bonus exercise."
   ]
  },
  {
   "cell_type": "markdown",
   "id": "9c560430",
   "metadata": {},
   "source": [
    "<hr style=\"border: 2px solid #000080;\">"
   ]
  },
  {
   "cell_type": "markdown",
   "id": "89ef841b",
   "metadata": {},
   "source": [
    "## 1.  Practicing String methods\n",
    "\n",
    "- Create a DNA sequence string: \"ATGCGTAGCTAG\".\n",
    "- Use the `len()` function to find the length of the DNA sequence.\n",
    "- Use the `count()` method to count the number of times 'A' appears in the sequence.\n",
    "- Use the `find()` method to find the index of the first occurrence of 'G' in the sequence.\n",
    "- Use the `upper()` method to convert the DNA sequence to uppercase.\n",
    "- Use the `replace()` method to replace all occurrences of 'T' with 'U' to convert it into an RNA sequence.\n",
    "\n",
    "___\n"
   ]
  },
  {
   "cell_type": "markdown",
   "id": "ebf18414",
   "metadata": {},
   "source": [
    "### The answers"
   ]
  },
  {
   "cell_type": "code",
   "execution_count": 5,
   "id": "1eabe14c",
   "metadata": {},
   "outputs": [
    {
     "data": {
      "text/plain": [
       "'ATGCGTAGCTAG'"
      ]
     },
     "execution_count": 5,
     "metadata": {},
     "output_type": "execute_result"
    }
   ],
   "source": [
    "# Create a DNA sequence string: \"ATGCGTAGCTAG\".\n",
    "dna_seq = \"ATGCGTAGCTAG\"\n",
    "dna_seq"
   ]
  },
  {
   "cell_type": "code",
   "execution_count": 6,
   "id": "82af5c55",
   "metadata": {},
   "outputs": [
    {
     "name": "stdout",
     "output_type": "stream",
     "text": [
      "Length: 12\n"
     ]
    }
   ],
   "source": [
    "# Find the length of the DNA sequence.\n",
    "print(\"Length:\", len(dna_seq))"
   ]
  },
  {
   "cell_type": "code",
   "execution_count": 7,
   "id": "e80d1dd3",
   "metadata": {},
   "outputs": [
    {
     "name": "stdout",
     "output_type": "stream",
     "text": [
      "Count of 'A': 3\n"
     ]
    }
   ],
   "source": [
    "# Count the number of times 'A' appears in the sequence.\n",
    "print(\"Count of 'A':\", dna_seq.count('A'))"
   ]
  },
  {
   "cell_type": "code",
   "execution_count": 8,
   "id": "5e596220",
   "metadata": {},
   "outputs": [
    {
     "name": "stdout",
     "output_type": "stream",
     "text": [
      "First occurrence of 'G': 2\n"
     ]
    }
   ],
   "source": [
    "# Find the index of the first occurrence of 'G' in the sequence.\n",
    "print(\"First occurrence of 'G':\", dna_seq.find('G'))"
   ]
  },
  {
   "cell_type": "code",
   "execution_count": 9,
   "id": "e49b8ccd",
   "metadata": {},
   "outputs": [
    {
     "name": "stdout",
     "output_type": "stream",
     "text": [
      "Uppercase sequence: ATGCGTAGCTAG\n"
     ]
    }
   ],
   "source": [
    "# Convert the DNA sequence to uppercase\n",
    "print(\"Uppercase sequence:\", dna_seq.upper())"
   ]
  },
  {
   "cell_type": "code",
   "execution_count": 10,
   "id": "1247a992",
   "metadata": {},
   "outputs": [
    {
     "name": "stdout",
     "output_type": "stream",
     "text": [
      "RNA sequence: AUGCGUAGCUAG\n"
     ]
    }
   ],
   "source": [
    "# Replace all occurrences of 'T' with 'U' to convert it into an RNA sequence.\n",
    "rna_seq = dna_seq.replace('T', 'U')\n",
    "print(\"RNA sequence:\", rna_seq)"
   ]
  },
  {
   "cell_type": "markdown",
   "id": "68304768",
   "metadata": {},
   "source": [
    "<hr style=\"border: 2px solid #000080;\">"
   ]
  },
  {
   "cell_type": "markdown",
   "id": "33ff0a47",
   "metadata": {},
   "source": [
    "## 2. Practicing List methods\n",
    "\n",
    "- Create a list of nucleotide sequences: [\"ATG\", \"CGT\", \"AGC\", \"TAG\"].\n",
    "- Use the append() method to add another sequence \"GCTA\" to the list.\n",
    "- Use the `sort()` method to sort the list of sequences alphabetically.\n",
    "- Use the `index()` method to find the position of the sequence \"AGC\" in the list.\n",
    "- Use slicing to extract the first three sequences from the list.\n",
    "- Use the `join()` method to concatenate the list of sequences into a single string, with each sequence separated by a hyphen.\n",
    "___"
   ]
  },
  {
   "cell_type": "markdown",
   "id": "fb3ad612",
   "metadata": {},
   "source": [
    "### The answers"
   ]
  },
  {
   "cell_type": "code",
   "execution_count": 23,
   "id": "5a16eff2",
   "metadata": {},
   "outputs": [
    {
     "data": {
      "text/plain": [
       "['ATG', 'CGT', 'AGC', 'TAG']"
      ]
     },
     "execution_count": 23,
     "metadata": {},
     "output_type": "execute_result"
    }
   ],
   "source": [
    "# Create a list of nucleotide sequences\n",
    "sequences = [\"ATG\", \"CGT\", \"AGC\", \"TAG\"]\n",
    "sequences"
   ]
  },
  {
   "cell_type": "code",
   "execution_count": 24,
   "id": "c68e5fca",
   "metadata": {},
   "outputs": [
    {
     "data": {
      "text/plain": [
       "['ATG', 'CGT', 'AGC', 'TAG', 'GCTA']"
      ]
     },
     "execution_count": 24,
     "metadata": {},
     "output_type": "execute_result"
    }
   ],
   "source": [
    "# Add another sequence \"GCTA\" to the list\n",
    "sequences.append(\"GCTA\")\n",
    "sequences"
   ]
  },
  {
   "cell_type": "code",
   "execution_count": 25,
   "id": "90b8ad09",
   "metadata": {},
   "outputs": [
    {
     "name": "stdout",
     "output_type": "stream",
     "text": [
      "Sorted sequences: ['AGC', 'ATG', 'CGT', 'GCTA', 'TAG']\n"
     ]
    }
   ],
   "source": [
    "# Sort the list of sequences alphabetically\n",
    "sequences.sort()\n",
    "print(\"Sorted sequences:\", sequences)"
   ]
  },
  {
   "cell_type": "code",
   "execution_count": 26,
   "id": "7ff17c7e",
   "metadata": {},
   "outputs": [
    {
     "name": "stdout",
     "output_type": "stream",
     "text": [
      "Position of 'AGC': 0\n"
     ]
    }
   ],
   "source": [
    "# Find the position of the sequence \"AGC\" in the list.\n",
    "print(\"Position of 'AGC':\", sequences.index('AGC'))"
   ]
  },
  {
   "cell_type": "code",
   "execution_count": 27,
   "id": "95a74ab5",
   "metadata": {},
   "outputs": [
    {
     "name": "stdout",
     "output_type": "stream",
     "text": [
      "First three sequences: ['AGC', 'ATG', 'CGT']\n"
     ]
    }
   ],
   "source": [
    "# Extract the first three sequences from the list\n",
    "print(\"First three sequences:\", sequences[:3])"
   ]
  },
  {
   "cell_type": "code",
   "execution_count": 28,
   "id": "c88d319c",
   "metadata": {},
   "outputs": [
    {
     "name": "stdout",
     "output_type": "stream",
     "text": [
      "Concatenated sequences: AGC-ATG-CGT-GCTA-TAG\n"
     ]
    }
   ],
   "source": [
    "# Concatenate the list of sequences into a single string, with each sequence separated by a hyphen.\n",
    "concatenated_seq = '-'.join(sequences)\n",
    "print(\"Concatenated sequences:\", concatenated_seq)"
   ]
  },
  {
   "cell_type": "markdown",
   "id": "6d9a631c",
   "metadata": {},
   "source": [
    "<hr style=\"border: 2px solid #000080;\">"
   ]
  },
  {
   "cell_type": "markdown",
   "id": "819c2abe",
   "metadata": {},
   "source": [
    "## 3. Practicing Dictionary methods\n",
    "- Create a dictionary of nucleotide sequences with their frequencies: `{\"ATG\": 3, \"CGT\": 5, \"AGC\": 2, \"TAG\": 4}`\n",
    "- Access the frequency of the sequence \"CGT\" and print it\n",
    "- Add a new sequence \"GCTA\" with a frequency of 1 to the dictionary using the `update()` method\n",
    "- Update the frequency of the sequence \"AGC\" to 53\n",
    "- Remove the sequence \"TAG\" from the dictionary using the `pop()` method\n",
    "- Iterate through the dictionary and print each sequence and its frequency in the format: `Sequence: ATG, Frequency: 3`\n",
    "- Get a list of all keys (sequences) in the dictionary using the `keys()` method\n",
    "- Get a list of all values (frequencies) in the dictionary using the `values()` method\n",
    "- Check if the sequence \"ATG\" is in the dictionary\n",
    "\n",
    "___"
   ]
  },
  {
   "cell_type": "markdown",
   "id": "e70c8ecf",
   "metadata": {},
   "source": [
    "###  The answers"
   ]
  },
  {
   "cell_type": "code",
   "execution_count": 50,
   "id": "408b1069",
   "metadata": {},
   "outputs": [
    {
     "data": {
      "text/plain": [
       "{'ATG': 3, 'CGT': 5, 'AGC': 2, 'TAG': 4}"
      ]
     },
     "execution_count": 50,
     "metadata": {},
     "output_type": "execute_result"
    }
   ],
   "source": [
    "# Create a dictionary of nucleotide sequences with their frequencies\n",
    "seq_freq = {\n",
    "    \"ATG\": 3,\n",
    "    \"CGT\": 5,\n",
    "    \"AGC\": 2,\n",
    "    \"TAG\": 4\n",
    "}\n",
    "seq_freq"
   ]
  },
  {
   "cell_type": "code",
   "execution_count": 51,
   "id": "cfa24f2b",
   "metadata": {},
   "outputs": [
    {
     "name": "stdout",
     "output_type": "stream",
     "text": [
      "5\n"
     ]
    }
   ],
   "source": [
    "# Access the frequency of the sequence \"CGT\" and print it.\n",
    "print(seq_freq[\"CGT\"])"
   ]
  },
  {
   "cell_type": "code",
   "execution_count": 52,
   "id": "86e10282",
   "metadata": {},
   "outputs": [
    {
     "data": {
      "text/plain": [
       "{'ATG': 3, 'CGT': 5, 'AGC': 2, 'TAG': 4, 'GCTA': 1}"
      ]
     },
     "execution_count": 52,
     "metadata": {},
     "output_type": "execute_result"
    }
   ],
   "source": [
    "# Add a new sequence \"GCTA\" with a frequency of 1 to the dictionary \n",
    "seq_freq.update({\"GCTA\": 1})\n",
    "seq_freq"
   ]
  },
  {
   "cell_type": "code",
   "execution_count": 53,
   "id": "b71fdb82",
   "metadata": {},
   "outputs": [
    {
     "data": {
      "text/plain": [
       "{'ATG': 3, 'CGT': 5, 'AGC': 53, 'TAG': 4, 'GCTA': 1}"
      ]
     },
     "execution_count": 53,
     "metadata": {},
     "output_type": "execute_result"
    }
   ],
   "source": [
    "# Update the frequency of the sequence \"AGC\" to 53\n",
    "seq_freq[\"AGC\"] = 53\n",
    "seq_freq"
   ]
  },
  {
   "cell_type": "code",
   "execution_count": 54,
   "id": "cdfacdf8",
   "metadata": {},
   "outputs": [
    {
     "data": {
      "text/plain": [
       "{'ATG': 3, 'CGT': 5, 'AGC': 53, 'GCTA': 1}"
      ]
     },
     "execution_count": 54,
     "metadata": {},
     "output_type": "execute_result"
    }
   ],
   "source": [
    "# Remove the sequence \"TAG\" from the dictionary\n",
    "seq_freq.pop(\"TAG\") # you can also use del seq_freq[\"TAG\"]\n",
    "seq_freq"
   ]
  },
  {
   "cell_type": "code",
   "execution_count": 55,
   "id": "872086aa",
   "metadata": {},
   "outputs": [
    {
     "name": "stdout",
     "output_type": "stream",
     "text": [
      "Sequence: ATG, Frequency: 3\n",
      "Sequence: CGT, Frequency: 5\n",
      "Sequence: AGC, Frequency: 53\n",
      "Sequence: GCTA, Frequency: 1\n"
     ]
    }
   ],
   "source": [
    "# Iterate through the dictionary and print each sequence and its frequency in the format: \n",
    "# \"Sequence: ATG, Frequency: 3\".\n",
    "for seq, freq in seq_freq.items():\n",
    "    print(f\"Sequence: {seq}, Frequency: {freq}\")"
   ]
  },
  {
   "cell_type": "code",
   "execution_count": 56,
   "id": "27e7f124",
   "metadata": {},
   "outputs": [
    {
     "name": "stdout",
     "output_type": "stream",
     "text": [
      "dict_keys(['ATG', 'CGT', 'AGC', 'GCTA'])\n"
     ]
    }
   ],
   "source": [
    "# Get a list of all keys (sequences) in the dictionary\n",
    "keys = seq_freq.keys()\n",
    "print(keys)"
   ]
  },
  {
   "cell_type": "code",
   "execution_count": null,
   "id": "6fbaaf94",
   "metadata": {},
   "outputs": [],
   "source": [
    "# Get a list of all values (frequencies) in the dictionary \n",
    "values = seq_freq.values()\n",
    "print(values)"
   ]
  },
  {
   "cell_type": "code",
   "execution_count": 57,
   "id": "10350c5b",
   "metadata": {},
   "outputs": [
    {
     "name": "stdout",
     "output_type": "stream",
     "text": [
      "ATG is in the dictionary\n"
     ]
    }
   ],
   "source": [
    "# Check if the sequence \"ATG\" is in the dictionary\n",
    "if \"ATG\" in seq_freq:\n",
    "    print(\"ATG is in the dictionary\")"
   ]
  },
  {
   "cell_type": "markdown",
   "id": "2a515a85",
   "metadata": {},
   "source": [
    "<hr style=\"border: 2px solid #000080;\">"
   ]
  },
  {
   "cell_type": "markdown",
   "id": "b59e49fc",
   "metadata": {},
   "source": [
    "##  4. Bonus exercise (optional)\n",
    "\n",
    "### Background:\n",
    "In molecular biology, DNA primers are short sequences of nucleotides that provide a starting point for DNA synthesis. Researchers often design custom primers for experiments such as PCR (Polymerase Chain Reaction). It's crucial to ensure that primers are unique to avoid cross-reactions. In this task, you will identify duplicate primers and count their occurrences—all while practicing string, list, and dictionary methods in Python.\n",
    "\n",
    "### Task:\n",
    "You are provided with a list of DNA primer sequences. \n",
    "```\n",
    "primers = [\"ATGCGTA\", \"  CGTAGC\\n\", \"AGCTAGC\", \"TTAATTAA\", \"GCGC\", \"ATGCGTA\", \"CGTAGC\"]\n",
    "```\n",
    "Your task is to:\n",
    "\n",
    "1. Clean the primer sequences by removing any white spaces or newline characters.\n",
    "2. Identify and count duplicate primers using a dictionary.\n",
    "3. List non-duplicate (unique) primers.\n",
    "4. Generate and print a summary report of duplicate and unique primers.\n",
    "___"
   ]
  },
  {
   "cell_type": "markdown",
   "id": "459001fa",
   "metadata": {},
   "source": [
    "### The answers\n",
    "There are various ways to write the code for this task. Here, we present one solution in the answers, but if you have written a different one, that's perfectly fine. Just ensure that you test your code to confirm that it performs as expected."
   ]
  },
  {
   "cell_type": "code",
   "execution_count": 59,
   "id": "1ed31ef9",
   "metadata": {},
   "outputs": [
    {
     "name": "stdout",
     "output_type": "stream",
     "text": [
      "Duplicate Primers and Their Counts:\n",
      "Primer: ATGCGTA, Count: 2\n",
      "Primer: CGTAGC, Count: 2\n",
      "\n",
      "Unique Primers:\n",
      "AGCTAGC\n",
      "TTAATTAA\n",
      "GCGC\n"
     ]
    }
   ],
   "source": [
    "# 1. Initialize a list of DNA primer sequences\n",
    "primers = [\"ATGCGTA\", \"  CGTAGC\\n\", \"AGCTAGC\", \"TTAATTAA\", \"GCGC\", \"ATGCGTA\", \"CGTAGC\"]\n",
    "\n",
    "# 2. Clean up primer sequences\n",
    "cleaned_primers = []\n",
    "for primer in primers:\n",
    "    cleaned_primers.append(primer.strip())\n",
    "\n",
    "# Note: You can create the new list in a more concise way as follows:\n",
    "# cleaned_primers = [primer.strip() for primer in primers]\n",
    "\n",
    "# 3: Identify and count duplicate primers\n",
    "primer_counts = {} # use a dictionary to store the counts of primers\n",
    "for primer in cleaned_primers:\n",
    "    if primer in primer_counts:\n",
    "        primer_counts[primer] += 1\n",
    "    else:\n",
    "        primer_counts[primer] = 1\n",
    "\n",
    "# 4: Create lists for duplicated and non-duplicate primers\n",
    "unique_primers = [] # unique_primers is a list which contains primers occur only once\n",
    "duplicated_primers = [] # duplicated_primers is a list which contains primers occur more than once\n",
    "for primer, count in primer_counts.items(): # using the items method to return (key, value) tuple pairs\n",
    "    if count == 1:\n",
    "        unique_primers.append(primer)\n",
    "    else:\n",
    "        duplicated_primers.append(primer)\n",
    "\n",
    "# Note: You can create the new list in a more concise way as follows:\n",
    "# unique_primers = [primer for primer, count in primer_counts.items() if count == 1]\n",
    "\n",
    "# 5: Generate a summary report\n",
    "print(\"Duplicate Primers and Their Counts:\")\n",
    "for primer in duplicated_primers:\n",
    "    print(\"Primer: \" + primer + \", Count: \" + str(primer_counts[primer]))\n",
    "\n",
    "print(\"\\nUnique Primers:\")\n",
    "for primer in unique_primers:\n",
    "    print(primer)"
   ]
  },
  {
   "cell_type": "code",
   "execution_count": null,
   "id": "16c9fc2f",
   "metadata": {},
   "outputs": [],
   "source": []
  }
 ],
 "metadata": {
  "kernelspec": {
   "display_name": "Python 3 (ipykernel)",
   "language": "python",
   "name": "python3"
  },
  "language_info": {
   "codemirror_mode": {
    "name": "ipython",
    "version": 3
   },
   "file_extension": ".py",
   "mimetype": "text/x-python",
   "name": "python",
   "nbconvert_exporter": "python",
   "pygments_lexer": "ipython3",
   "version": "3.11.0"
  }
 },
 "nbformat": 4,
 "nbformat_minor": 5
}
