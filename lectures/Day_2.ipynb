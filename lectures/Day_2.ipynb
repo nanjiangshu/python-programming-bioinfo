{
 "cells": [
  {
   "cell_type": "code",
   "execution_count": 12,
   "metadata": {
    "slideshow": {
     "slide_type": "skip"
    }
   },
   "outputs": [
    {
     "data": {
      "text/html": [
       "\n",
       "<style>\n",
       "    h1 {\n",
       "        margin-top: 0 !important;\n",
       "    }\n",
       "    h2 {\n",
       "        margin-top: 0 !important;\n",
       "    }\n",
       "</style>\n"
      ],
      "text/plain": [
       "<IPython.core.display.HTML object>"
      ]
     },
     "metadata": {},
     "output_type": "display_data"
    }
   ],
   "source": [
    "from IPython.display import Image\n",
    "from IPython.display import clear_output\n",
    "from IPython.display import FileLink, FileLinks\n",
    "import matplotlib.pyplot as plt\n",
    "import pandas        as pd\n",
    "import os\n",
    "import time\n",
    "\n",
    "from IPython.display import HTML\n",
    "styles = \"\"\"\n",
    "<style>\n",
    "    h1 {\n",
    "        margin-top: 0 !important;\n",
    "    }\n",
    "    h2 {\n",
    "        margin-top: 0 !important;\n",
    "    }\n",
    "</style>\n",
    "\"\"\"\n",
    "HTML(styles)\n",
    "display(HTML(styles))"
   ]
  },
  {
   "cell_type": "markdown",
   "metadata": {
    "slideshow": {
     "slide_type": "slide"
    }
   },
   "source": [
    "<img src=\"img/python-logo-master-flat.png\" alt=\"Python Logo\" style=\"width: 120px; float: right; margin: 0 0 10px 10px;\" />\n",
    "\n",
    "## Introduction to Python with Application in Bioinformatics\n",
    "\n",
    "\n",
    "\n",
    "### Nanjiang Shu\n",
    "\n",
    "#### 2024-07-16 (Day 2)"
   ]
  },
  {
   "cell_type": "markdown",
   "metadata": {
    "slideshow": {
     "slide_type": "slide"
    }
   },
   "source": [
    "## Review of Day 1\n",
    "\n",
    "- Liternals and their associated data types, variables, and basic operations\n",
    "    - Numeric, String, Boolean, None\n",
    "    - Collection of data types: List, Tuple, Set and Dictionary\n",
    "    - Naming convention of variables\n",
    "- Built-in functions and operations\n",
    "    - print, len, max, sum \n",
    "- Loops\n",
    "    - `for` loop and `while` loop\n",
    "- How to use if/elif/else statements to control the logic of the code"
   ]
  },
  {
   "cell_type": "markdown",
   "metadata": {
    "slideshow": {
     "slide_type": "skip"
    }
   },
   "source": [
    "## Review of Quiz from yesterday"
   ]
  },
  {
   "cell_type": "markdown",
   "metadata": {
    "slideshow": {
     "slide_type": "slide"
    }
   },
   "source": [
    "## Variables and Types\n",
    "\n",
    "__1. Which of the following is of the type `float`?:__  \n",
    "7.4  \n",
    "\n",
    "__2. Match the following variables with their type:__  \n",
    "\n",
    "`var1 = 54`               &emsp; &emsp; &emsp; &emsp; &ensp;  &ensp;   __integer__  \n",
    "`var2 = [1,2,7,1,24]`     &nbsp;    &nbsp;                             __list__  \n",
    "`var3 = 2.98`             &emsp; &emsp; &emsp;  &nbsp;  &nbsp; &nbsp;  __float__  \n",
    "`var4 = True`             &emsp; &emsp; &emsp;  &nbsp;  &nbsp; &nbsp;  __boolean__  "
   ]
  },
  {
   "cell_type": "markdown",
   "metadata": {
    "slideshow": {
     "slide_type": "slide"
    }
   },
   "source": [
    "### Literals\n",
    "\n",
    "All literals have a type:\n",
    "\n",
    "- Strings (str) &emsp; &emsp; &nbsp;      ‘Hello’ “Hi”\n",
    "- Integers (int)\t&emsp; &emsp;             5\n",
    "- Floats (float)\t&emsp; &emsp;             3.14\n",
    "- Boolean (bool) &emsp; &nbsp;  True or False"
   ]
  },
  {
   "cell_type": "code",
   "execution_count": 2,
   "metadata": {
    "slideshow": {
     "slide_type": "-"
    }
   },
   "outputs": [
    {
     "data": {
      "text/plain": [
       "bool"
      ]
     },
     "execution_count": 2,
     "metadata": {},
     "output_type": "execute_result"
    }
   ],
   "source": [
    "type(True)"
   ]
  },
  {
   "cell_type": "markdown",
   "metadata": {
    "slideshow": {
     "slide_type": "slide"
    }
   },
   "source": [
    "### Variables\n",
    "\n",
    "Used to store values and to assign them a name."
   ]
  },
  {
   "cell_type": "code",
   "execution_count": 3,
   "metadata": {
    "slideshow": {
     "slide_type": "-"
    }
   },
   "outputs": [
    {
     "data": {
      "text/plain": [
       "3.14"
      ]
     },
     "execution_count": 3,
     "metadata": {},
     "output_type": "execute_result"
    }
   ],
   "source": [
    "a = 3.14\n",
    "a"
   ]
  },
  {
   "cell_type": "markdown",
   "metadata": {
    "slideshow": {
     "slide_type": "fragment"
    }
   },
   "source": [
    "### Lists\n",
    "\n",
    "A collection of values."
   ]
  },
  {
   "cell_type": "code",
   "execution_count": 4,
   "metadata": {
    "slideshow": {
     "slide_type": "-"
    }
   },
   "outputs": [
    {
     "data": {
      "text/plain": [
       "list"
      ]
     },
     "execution_count": 4,
     "metadata": {},
     "output_type": "execute_result"
    }
   ],
   "source": [
    "x = [1,5,3,7,8]\n",
    "y = ['a','b','c']\n",
    "type(y)"
   ]
  },
  {
   "cell_type": "markdown",
   "metadata": {
    "slideshow": {
     "slide_type": "slide"
    }
   },
   "source": [
    "## Comments\n",
    "\n",
    "__3. Which of the following symbols can be used to write comments in your code?__\n",
    "\n",
    "\\#"
   ]
  },
  {
   "cell_type": "markdown",
   "metadata": {
    "slideshow": {
     "slide_type": "slide"
    }
   },
   "source": [
    "## Operations\n",
    "\n",
    "\n",
    "__4. What happens if you do `[1,2,5,11] + [87,2,43,3]`?__  \n",
    "`[1,2,5,11,87,2,43,3]`  &emsp; &emsp; The lists will be concatenated\n",
    "\n",
    "<br>\n",
    "\n",
    "__5. How do you find out if the variable `x` is present in a  the list `mylist`?__  \n",
    "Two answers correct:  \n",
    "1. `x in mylist`\n",
    "2.   \n",
    "```\n",
    "for l in mylist:\n",
    "        if l == x:\n",
    "            print('Found a match')\n",
    "```  \n",
    "\n",
    "__6. How do you find out if 5 is larger than 3 and the integer 4 is the same as the float 4? Fill in all the missing code.__  \n",
    "`5 > 3 and 4 == 4.0`"
   ]
  },
  {
   "cell_type": "markdown",
   "metadata": {
    "slideshow": {
     "slide_type": "slide"
    }
   },
   "source": [
    "### Basic operations\n",
    "\n",
    "__Type &emsp; &emsp; &emsp; &emsp;  Operations__\n",
    "\n",
    "int &emsp; &emsp; &emsp; &emsp; &emsp;        +  -  *  /  **  %  // ...  \n",
    "float &emsp; &emsp; &emsp; &emsp; &nbsp;      +  -  *  /  **  %  // ...  \n",
    "string &emsp; &emsp; &emsp; &ensp; &nbsp;           + *"
   ]
  },
  {
   "cell_type": "code",
   "execution_count": 5,
   "metadata": {
    "slideshow": {
     "slide_type": "-"
    }
   },
   "outputs": [
    {
     "data": {
      "text/plain": [
       "[5, 6, 7, 8, 5, 6, 7, 8, 5, 6, 7, 8]"
      ]
     },
     "execution_count": 5,
     "metadata": {},
     "output_type": "execute_result"
    }
   ],
   "source": [
    "a = 2\n",
    "b = 5.46\n",
    "c = [1,2,3,4]\n",
    "d = [5,6,7,8]\n",
    "e = 7\n",
    "\n",
    "d * 3"
   ]
  },
  {
   "cell_type": "markdown",
   "metadata": {
    "slideshow": {
     "slide_type": "slide"
    }
   },
   "source": [
    " ### Comparison/Logical/Membership operators\n",
    " \n",
    " <img src=\"img/operators_summary.png\" alt=\"Drawing\" style=\"width: 800px;\"/> "
   ]
  },
  {
   "cell_type": "code",
   "execution_count": 6,
   "metadata": {
    "slideshow": {
     "slide_type": "-"
    }
   },
   "outputs": [
    {
     "data": {
      "text/plain": [
       "False"
      ]
     },
     "execution_count": 6,
     "metadata": {},
     "output_type": "execute_result"
    }
   ],
   "source": [
    "a = [1,2,3,4,5,6,7,8]\n",
    "b = 5\n",
    "c = 10\n",
    "b in a\n",
    "b < c or c == 1\n",
    "b not in a "
   ]
  },
  {
   "cell_type": "markdown",
   "metadata": {
    "slideshow": {
     "slide_type": "slide"
    }
   },
   "source": [
    "## Sequences\n",
    "\n",
    "__7. How do you select the second element in the variable `mylist = [4,3,8,10]`?__  \n",
    "`mylist[1]`  \n",
    "<br>\n",
    "__8. Pair the following variables with whether they are mutable or immutable__  \n",
    "\n",
    "`var1 = 'my pretty string'`    &emsp; &emsp; &emsp;                     __immutable__  \n",
    "`var2 = [1,2,3,4,5]`           &emsp; &emsp; &emsp; &emsp; &emsp; &emsp; __mutable__  \n",
    "`var3 = \"hello world\"`         &emsp; &emsp; &emsp; &emsp; &ensp; &nbsp;        __immutable__  \n",
    "`var4 = ['a', 'b', 'c', 'd']`  &emsp; &emsp;       __mutable__  \n",
    "<br>\n",
    "__9. Which of the following types are iterable?__  \n",
    "Lists and strings"
   ]
  },
  {
   "cell_type": "markdown",
   "metadata": {
    "slideshow": {
     "slide_type": "slide"
    }
   },
   "source": [
    "### Indexing\n",
    "\n",
    "Lists (and strings) are an ORDERED collection of elements where every element can be access through an index.\n",
    "\n",
    "`a[0]`  : first item in list a\n",
    "\n",
    "REMEMBER! Indexing starts at 0 in python"
   ]
  },
  {
   "cell_type": "code",
   "execution_count": 7,
   "metadata": {
    "slideshow": {
     "slide_type": "-"
    }
   },
   "outputs": [
    {
     "data": {
      "text/plain": [
       "[1, 2]"
      ]
     },
     "execution_count": 7,
     "metadata": {},
     "output_type": "execute_result"
    }
   ],
   "source": [
    "a = [1,2,3,4,5]\n",
    "b = ['a','b','c']\n",
    "c = 'a random string'\n",
    "\n",
    "c[2]\n",
    "a[:2]"
   ]
  },
  {
   "cell_type": "markdown",
   "metadata": {
    "slideshow": {
     "slide_type": "slide"
    }
   },
   "source": [
    "### Mutable / Immutable sequences and iterables\n",
    "\n",
    "Lists are mutable object, meaning you can use an index to change the list, while strings are immutable and therefore not changeable.\n",
    "\n",
    "An iterable sequence is anything you can loop over, ie, lists and strings."
   ]
  },
  {
   "cell_type": "code",
   "execution_count": 8,
   "metadata": {
    "slideshow": {
     "slide_type": "-"
    }
   },
   "outputs": [
    {
     "data": {
      "text/plain": [
       "[42, 2, 3, 4, 5]"
      ]
     },
     "execution_count": 8,
     "metadata": {},
     "output_type": "execute_result"
    }
   ],
   "source": [
    "a = [1,2,3,4,5]         # mutable\n",
    "b = ['a','b','c']       # mutable\n",
    "c = 'a random string'   # immutable\n",
    "\n",
    "#c[0] = 'A'\n",
    "a[0] = 42\n",
    "a"
   ]
  },
  {
   "cell_type": "markdown",
   "metadata": {
    "slideshow": {
     "slide_type": "slide"
    }
   },
   "source": [
    "## New data type: `tuples`\n",
    "\n",
    "- A tuple is an immutable sequence of objects\n",
    "- Unlike a list, nothing can be changed in a tuple\n",
    "- Still iterable"
   ]
  },
  {
   "cell_type": "code",
   "execution_count": 9,
   "metadata": {
    "slideshow": {
     "slide_type": "-"
    }
   },
   "outputs": [
    {
     "name": "stdout",
     "output_type": "stream",
     "text": [
      "(1, 2, 3, 4, 'a', 'b', 'c', [42, 43, 44])\n",
      "1\n",
      "2\n",
      "3\n",
      "4\n",
      "a\n",
      "b\n",
      "c\n",
      "[42, 43, 44]\n"
     ]
    }
   ],
   "source": [
    "myTuple = (1,2,3,4,'a','b','c',[42,43,44])\n",
    "#myTuple[0] = 42\n",
    "print(myTuple)\n",
    "#print(len(myTuple))\n",
    "for i in myTuple:\n",
    "     print(i)"
   ]
  },
  {
   "cell_type": "markdown",
   "metadata": {
    "slideshow": {
     "slide_type": "slide"
    }
   },
   "source": [
    "## If/ Else statements\n",
    "\n",
    "__10. How do you do to print ‘Yes’ if x is bigger than y?__  \n",
    "`if x > y:`  \n",
    "&emsp;`print('Yes')`"
   ]
  },
  {
   "cell_type": "code",
   "execution_count": 10,
   "metadata": {
    "slideshow": {
     "slide_type": "fragment"
    }
   },
   "outputs": [
    {
     "name": "stdout",
     "output_type": "stream",
     "text": [
      "7 is not in the list\n"
     ]
    }
   ],
   "source": [
    "a = 7\n",
    "b = [1,2,3,4]\n",
    "if a in b:\n",
    "    print(str(a)+' is found in the list b')\n",
    "else:\n",
    "    print(str(a)+' is not in the list')"
   ]
  },
  {
   "cell_type": "markdown",
   "metadata": {
    "slideshow": {
     "slide_type": "slide"
    }
   },
   "source": [
    "## Files and loops\n",
    "\n",
    "__How do you open a file handle to read a file called ‘somerandomfile.txt’?__  \n",
    "`fh = open('somerandomfile.txt')`\n",
    "\n",
    "<br>\n",
    "\n",
    "__The file in the previous question contains several lines, how do you print each line?__  \n",
    "1. `for line in fh:`  \n",
    "&emsp;`print(line)`\n",
    "\n",
    "2. `for row in fh:`  \n",
    "&emsp;`print(row)`"
   ]
  },
  {
   "cell_type": "code",
   "execution_count": 11,
   "metadata": {
    "slideshow": {
     "slide_type": "slide"
    }
   },
   "outputs": [
    {
     "name": "stdout",
     "output_type": "stream",
     "text": [
      "just a strange\n",
      "file with\n",
      "some\n",
      "nonsense lines\n"
     ]
    }
   ],
   "source": [
    "fh = open('../files/somerandomfile.txt','r', encoding = 'utf-8')\n",
    "for line in fh:\n",
    "    print(line.strip())\n",
    "fh.close()"
   ]
  },
  {
   "cell_type": "code",
   "execution_count": 12,
   "metadata": {
    "slideshow": {
     "slide_type": "-"
    }
   },
   "outputs": [
    {
     "name": "stdout",
     "output_type": "stream",
     "text": [
      "5\n",
      "6\n",
      "7\n",
      "8\n"
     ]
    }
   ],
   "source": [
    "numbers = [5,6,7,8]\n",
    "i = 0\n",
    "while i < len(numbers):\n",
    "    print(numbers[i])\n",
    "    i += 1\n"
   ]
  },
  {
   "cell_type": "markdown",
   "metadata": {
    "slideshow": {
     "slide_type": "slide"
    }
   },
   "source": [
    "# Questions?"
   ]
  },
  {
   "cell_type": "markdown",
   "metadata": {
    "slideshow": {
     "slide_type": "slide"
    }
   },
   "source": [
    "## Day 2\n",
    "\n",
    "- __Session 1__:\n",
    "    - Python Script: Dump your code into a script\n",
    "    - File I/O: Read from and write to files\n",
    "- __Session 2__:\n",
    "    - Live coding with problem solving (Exercise after lunch)\n",
    "- __Session 3__:\n",
    "    - Introduction to the Course Project\n",
    "    - Project time"
   ]
  },
  {
   "cell_type": "markdown",
   "metadata": {
    "slideshow": {
     "slide_type": "skip"
    }
   },
   "source": [
    "There will be exercises or possibly quiz after each session"
   ]
  },
  {
   "cell_type": "markdown",
   "metadata": {
    "slideshow": {
     "slide_type": "slide"
    }
   },
   "source": [
    "## Session 1: Python script, File I/O"
   ]
  },
  {
   "cell_type": "markdown",
   "metadata": {
    "slideshow": {
     "slide_type": "slide"
    }
   },
   "source": [
    "## Python script\n",
    "\n",
    "A Python script is a file containing Python code that can be executed all at once.\n",
    "- File Extension: `.py`\n",
    "\n"
   ]
  },
  {
   "cell_type": "markdown",
   "metadata": {
    "slideshow": {
     "slide_type": "skip"
    }
   },
   "source": [
    "Note: for example, we have a list of gene IDs and and print then one line per record, can that can be run in Jupyter notebook or in Python prompt or in PyCharm. Now I can save it in a text file and save it as `myscript.py`"
   ]
  },
  {
   "cell_type": "code",
   "execution_count": 4,
   "metadata": {
    "collapsed": true
   },
   "outputs": [
    {
     "name": "stdout",
     "output_type": "stream",
     "text": [
      "TP53\n",
      "COX2\n",
      "EGFR\n",
      "MTOR\n"
     ]
    }
   ],
   "source": [
    "genotype = \"AG\"\n",
    "phenotype = \"expressed\"\n",
    "if genotype == \"AG\":\n",
    "    # Only check phenotype if genotype is \"AG\"\n",
    "    if phenotype == \"expressed\":\n",
    "        print(\"Variant is active and expressed.\")\n",
    "    else:\n",
    "        print(\"Variant is inactive.\")\n",
    "else:\n",
    "    print(\"Non-target variant.\")"
   ]
  },
  {
   "cell_type": "markdown",
   "metadata": {
    "slideshow": {
     "slide_type": "skip"
    }
   },
   "source": [
    "### Things to remember when working with scripts\n",
    "\n",
    "- Put _#!/usr/bin/env python_ in the beginning of the file\n",
    "- Make the file executable to run with `./script.py`\n",
    "- Otherwise run script with `python script.py`"
   ]
  },
  {
   "cell_type": "markdown",
   "metadata": {
    "slideshow": {
     "slide_type": "slide"
    }
   },
   "source": [
    "## 5 mins exercise\n",
    "Put some of your Python code you have written yesterday and save it in a Python script, run it in a terminal with either \n",
    "\n",
    "```bash\n",
    "python yourscript.py\n",
    "```\n",
    "\n",
    "or\n",
    "```bash\n",
    "./yourscript.py\n",
    "```\n",
    "\n",
    "- Replace `yourscript.py` with the actual name you use\n",
    "- You need to add `#!/usr/bin/env python` at the beginning of the script and also make the script executable in order to run by the second method "
   ]
  },
  {
   "cell_type": "markdown",
   "metadata": {
    "slideshow": {
     "slide_type": "skip"
    }
   },
   "source": [
    "### Note: for all the examples we have shown, data is provided directly in the code, but that is not very practial in many cases. We probably want to read the data from files, and we may also want to write the result to some output files. That will require file reading and writing with Python"
   ]
  },
  {
   "cell_type": "markdown",
   "metadata": {
    "slideshow": {
     "slide_type": "slide"
    }
   },
   "source": [
    "## File I/O - read from file and write to file"
   ]
  },
  {
   "cell_type": "markdown",
   "metadata": {
    "slideshow": {
     "slide_type": "slide"
    }
   },
   "source": [
    "### Read from file\n",
    "```python\n",
    "file = open(\"filename.txt\", \"r\")\n",
    "content = file.read()\n",
    "file.close()\n",
    "```"
   ]
  },
  {
   "cell_type": "markdown",
   "metadata": {
    "slideshow": {
     "slide_type": "-"
    }
   },
   "source": [
    "```python\n",
    "with open(\"filename.txt\", \"r\") as file:\n",
    "    content = file.read()\n",
    "```"
   ]
  },
  {
   "cell_type": "markdown",
   "metadata": {
    "slideshow": {
     "slide_type": "fragment"
    }
   },
   "source": [
    "```python\n",
    "with open (\"filename.txt\", \"r\", encoding = 'utf-8') as file\n",
    "    content = file.read()\n",
    "```"
   ]
  },
  {
   "cell_type": "markdown",
   "metadata": {
    "slideshow": {
     "slide_type": "skip"
    }
   },
   "source": [
    "Note: UTF-8 (Unicode Transformation Format - 8-bit) is one of the most widely used encoding schemes and can represent every character in the Unicode character set.\n",
    "\n",
    "UTF-8 can represent 1,112,064 valid code points\n",
    "over 143,000 characters have been assigned\n"
   ]
  },
  {
   "cell_type": "markdown",
   "metadata": {
    "slideshow": {
     "slide_type": "slide"
    }
   },
   "source": [
    "I have a file contains DNA sequences and want to use Python to read its content and then calculate the number of nucleotides, that is, get the length of the dna sequence."
   ]
  },
  {
   "cell_type": "code",
   "execution_count": 40,
   "metadata": {
    "slideshow": {
     "slide_type": "skip"
    }
   },
   "outputs": [
    {
     "name": "stdout",
     "output_type": "stream",
     "text": [
      "Length of DNA sequence: 386\n"
     ]
    }
   ],
   "source": [
    "seqfile = \"../files/one_dna_sequence.fa\"\n",
    "\n",
    "with open(seqfile, \"r\") as file:\n",
    "    seqlength = 0\n",
    "    for line in file:\n",
    "        line = line.strip()\n",
    "        if not line.startswith(\">\"):\n",
    "            seqlength += len(line)\n",
    "    print(\"Length of DNA sequence:\", total_count)  "
   ]
  },
  {
   "cell_type": "code",
   "execution_count": 38,
   "metadata": {
    "collapsed": true,
    "slideshow": {
     "slide_type": "fragment"
    }
   },
   "outputs": [
    {
     "name": "stdout",
     "output_type": "stream",
     "text": [
      ">SEQUENCE_1\n",
      "\n",
      "AGCTTAGCTAAGCTTAGCTAAGCTTAGCTAAGCTTAGCTAGCTAGCTAGCTTAGCTAAGC\n",
      "\n",
      "TTAGCTAAGCTTAGCTAAGCTTAGCTAGCTAGCTAGCTTAGCTAAGCTTAGCTAAGCTTA\n",
      "\n",
      "GCTAAGCTTAGCTAGCTAGCTAGCTTAGCTAAGCTTAGCTAAGCTTAGCTAAGCTTAGCT\n",
      "\n",
      "AGCTAGCTAGCTTAGCTAAGCTTAGCTAAGCTTAGCTAAGCTTAGCTAGCTAGCTAGCTT\n",
      "\n",
      "AGCTAAGCTTAGCTAAGCTTAGCTAAGCTTAGCTAGCTAGCTAGCTTAGCTAAGCTTAGC\n",
      "\n",
      "TAAGCTTAGCTAAGCTTAGCTAGCTAGCTAGCTTAGCTAAGCTTAGCTAAGCTTAGCTAA\n",
      "\n",
      "GCTTAGCTAGCTAGCTAGCTTAGCTA\n",
      "\n",
      "\n",
      "\n"
     ]
    }
   ],
   "source": [
    "seqfile = \"../files/one_dna_sequence.fa\"\n",
    "\n",
    "with open(seqfile, \"r\") as file:\n",
    "    for line in file:\n",
    "        print(line)"
   ]
  },
  {
   "cell_type": "markdown",
   "metadata": {
    "slideshow": {
     "slide_type": "slide"
    }
   },
   "source": [
    "### Detour: useful methods for `string`\n",
    "\n",
    "\n",
    "`'string'.strip()` &emsp; &emsp; &emsp; Removes whitespace  \n",
    "`'string'.split()` &emsp; &emsp; &emsp; Splits on whitespace into list  "
   ]
  },
  {
   "cell_type": "code",
   "execution_count": 27,
   "metadata": {
    "slideshow": {
     "slide_type": "fragment"
    }
   },
   "outputs": [
    {
     "data": {
      "text/plain": [
       "'an example string with whitespaces at both ends'"
      ]
     },
     "execution_count": 27,
     "metadata": {},
     "output_type": "execute_result"
    }
   ],
   "source": [
    "string1  = '  an example string with whitespaces at both ends   '\n",
    "string2 = string1.strip()\n",
    "string2"
   ]
  },
  {
   "cell_type": "code",
   "execution_count": 28,
   "metadata": {
    "slideshow": {
     "slide_type": "fragment"
    }
   },
   "outputs": [
    {
     "data": {
      "text/plain": [
       "['an', 'example', 'string', 'with', 'whitespaces', 'at', 'both', 'ends']"
      ]
     },
     "execution_count": 28,
     "metadata": {},
     "output_type": "execute_result"
    }
   ],
   "source": [
    "list1 = string2.split()\n",
    "list1"
   ]
  },
  {
   "cell_type": "code",
   "execution_count": 30,
   "metadata": {
    "slideshow": {
     "slide_type": "fragment"
    }
   },
   "outputs": [
    {
     "data": {
      "text/plain": [
       "['an', 'example', 'string', 'with', 'whitespaces', 'at', 'both', 'ends']"
      ]
     },
     "execution_count": 30,
     "metadata": {},
     "output_type": "execute_result"
    }
   ],
   "source": [
    "list2 = string1.strip().split()\n",
    "list2"
   ]
  },
  {
   "cell_type": "markdown",
   "metadata": {
    "slideshow": {
     "slide_type": "slide"
    }
   },
   "source": [
    "### Write to file\n",
    "```python\n",
    "file = open(\"output.txt\", \"w\")\n",
    "file.write(\"Hello, Python!\")\n",
    "file.close()\n",
    "```"
   ]
  },
  {
   "cell_type": "markdown",
   "metadata": {},
   "source": [
    "```python\n",
    "with open(\"output.txt\", \"w\") as file:\n",
    "    file.write(\"Hello, Python!\")\n",
    "```"
   ]
  },
  {
   "cell_type": "markdown",
   "metadata": {},
   "source": [
    "```python\n",
    "with open(\"output.txt\", \"w\", encoding = 'utf-8') as file:\n",
    "    file.write(\"Hello, Python!\")\n",
    "```"
   ]
  },
  {
   "cell_type": "code",
   "execution_count": 4,
   "metadata": {
    "slideshow": {
     "slide_type": "slide"
    }
   },
   "outputs": [],
   "source": [
    "seqfile = \"../files/one_dna_sequence.fa\"\n",
    "\n",
    "with open(seqfile, \"r\") as file:\n",
    "    seqlength = 0\n",
    "    for line in file:\n",
    "        line = line.strip()\n",
    "        if not line.startswith(\">\"):\n",
    "            seqlength += len(line)\n",
    "\n",
    "outfile = \"../files/output/length_of_dna_sequence.txt\"\n",
    "with open(outfile, \"w\") as file:\n",
    "    file.write(\"Length of DNA sequence: \" + str(seqlength))"
   ]
  },
  {
   "cell_type": "markdown",
   "metadata": {
    "slideshow": {
     "slide_type": "slide"
    }
   },
   "source": [
    "### Day 2,  Exercise 1\n",
    "\n",
    "- Taka a break after the exercise"
   ]
  },
  {
   "cell_type": "markdown",
   "metadata": {
    "slideshow": {
     "slide_type": "slide"
    }
   },
   "source": [
    "## Session 2: Live coding with problem solving"
   ]
  },
  {
   "cell_type": "markdown",
   "metadata": {
    "slideshow": {
     "slide_type": "slide"
    }
   },
   "source": [
    "## How to approach a coding task\n",
    "\n",
    "### Problem:  \n",
    "You have a VCF file with a number of samples. You are interested in only one of the samples (sample1) and one region (chr5, 1,200,000-1,300,000). What you want to know is whether this sample has any variants in this region, and if so, which variants.\n"
   ]
  },
  {
   "cell_type": "markdown",
   "metadata": {
    "slideshow": {
     "slide_type": "slide"
    }
   },
   "source": [
    "### What is your input?\n",
    "\n",
    "A VCF file that is iterable\n",
    "\n",
    "<img src=\"../img/vcf_header.png\" alt=\"Drawing\" style=\"width: 1400px;\"/> "
   ]
  },
  {
   "cell_type": "markdown",
   "metadata": {
    "slideshow": {
     "slide_type": "slide"
    }
   },
   "source": [
    "## Start with pseudocode!\n",
    "- Pseudocode is a description of what you want to do without actually using proper syntax"
   ]
  },
  {
   "cell_type": "markdown",
   "metadata": {
    "slideshow": {
     "slide_type": "slide"
    }
   },
   "source": [
    "<img src=\"../img/vcf_header.png\" alt=\"Drawing\" style=\"width: 1000px;\"/> \n",
    "\n",
    "- Open the file and loop over lines (ignore lines with started with `#`)\n",
    "- Identify lines where chromosome is equal to `5` and position is between 1,200,000 and 1,300,000\n",
    "- Isolate the column that contains the genotype for sample1\n",
    "- Extract the genotypes only from the column\n",
    "- Check if the genotype contains any alternate alleles\n",
    "- Print any variants containing alternate alleles for this sample between specified region"
   ]
  },
  {
   "cell_type": "markdown",
   "metadata": {
    "slideshow": {
     "slide_type": "slide"
    }
   },
   "source": [
    "<img src=\"../img/vcf_header.png\" alt=\"Drawing\" style=\"width: 1000px;\"/> "
   ]
  },
  {
   "cell_type": "markdown",
   "metadata": {
    "slideshow": {
     "slide_type": "-"
    }
   },
   "source": [
    "__Open the file and loop over lines (ignore lines starting with #), and print the first record__"
   ]
  },
  {
   "cell_type": "code",
   "execution_count": 49,
   "metadata": {
    "collapsed": true,
    "slideshow": {
     "slide_type": "-"
    }
   },
   "outputs": [
    {
     "name": "stdout",
     "output_type": "stream",
     "text": [
      "1\t762969\trs115616822\tG\tA\t.\tPASS\tAA=g;AC=1;AN=120;DP=226;GP=1:773106;BN=132\tGT:DP:CB\t0/0:1:SMB\t0/0:6:SMB\t0/0:3:SMB\t0/0:5:SMB\t0/0:15:SMB\t0/0:6:SMB\t0/0:4:SMB\t0/0:1:SMB\t0/0:11:SMB\t0/0:0:SMB\t0/0:3:SMB\t0/0:3:SMB\t0/0:5:SMB\t0/0:2:SMB\t0/0:8:SMB\t0/0:2:SMB\t0/0:4:SMB\t0/0:2:SMB\t0/0:4:SMB\t0/0:1:SMB\t0/0:6:SMB\t0/0:3:SMB\t0/0:6:SMB\t0/0:1:SMB\t0/0:2:SMB\t0/0:6:SMB\t0/0:7:SMB\t0/0:0:SMB\t0/0:0:SMB\t0/0:3:SMB\t0/0:4:SMB\t0/0:3:SMB\t0/0:2:SB\t0/0:6:SMB\t0/0:6:SMB\t0/0:1:SMB\t0/0:1:SMB\t0/0:0:SMB\t0/0:8:SMB\t0/0:7:SMB\t0/0:0:SMB\t0/0:1:SMB\t0/0:3:SMB\t0/0:0:SMB\t0/0:8:SMB\t0/0:5:SMB\t0/0:4:SMB\t0/0:0:SMB\t0/0:8:SMB\t0/0:0:SMB\t0/0:4:SMB\t0/0:5:SMB\t0/0:7:SMB\t0/0:4:SMB\t0/0:2:SMB\t0/0:0:SMB\t0/0:2:SMB\t0/0:2:SMB\t0/0:5:SMB\t0/1:8:SMB\n"
     ]
    }
   ],
   "source": [
    "with open('../downloads/genotypes_small.vcf', 'r', encoding = 'utf-8') as fh:\n",
    "    counter = 0\n",
    "    for line in fh:\n",
    "        if not line.startswith('#'):  \n",
    "            print(line.strip())\n",
    "            break\n",
    "# Next, find chromosome 5"
   ]
  },
  {
   "cell_type": "markdown",
   "metadata": {
    "slideshow": {
     "slide_type": "slide"
    }
   },
   "source": [
    "__Identify lines where chromosome is 5 and position is between 1,200,000 and 1,300,000__"
   ]
  },
  {
   "cell_type": "markdown",
   "metadata": {
    "slideshow": {
     "slide_type": "-"
    }
   },
   "source": [
    "<img src=\"../img/vcf_header.png\" alt=\"Drawing\" style=\"width: 1000px;\"/> "
   ]
  },
  {
   "cell_type": "code",
   "execution_count": 51,
   "metadata": {
    "slideshow": {
     "slide_type": "-"
    }
   },
   "outputs": [
    {
     "name": "stdout",
     "output_type": "stream",
     "text": [
      "5\t106565\trs115608877\tG\tT\t.\tPASS\tAA=.;AC=7;AN=120;DP=91;GP=5:53565;BN=132\tGT:DP:CB\t1/0:1:SM\t1/0:3:SM\t0/0:1:SM\t0/0:2:SM\t0/0:0:S\t0/0:0:SM\t0/0:0:SM\t0/0:1:S\t0/0:0:S\t0/0:0:S\t0/0:2:SM\t0/1:1:SM\t0/0:3:SM\t0/1:0:SM\t0/0:2:SM\t1/0:1:S\t0/0:1:SM\t0/0:0:SM\t0/0:2:SM\t0/0:1:SM\t0/0:5:SM\t0/0:0:S\t0/0:1:SM\t0/0:0:S\t0/0:1:SM\t0/0:1:SM\t0/1:1:SM\t0/1:1:SM\t0/0:2:SM\t0/0:3:SM\t0/0:2:SM\t0/0:8:SM\t0/0:0:SM\t0/0:7:SM\t0/0:4:SM\t0/0:0:S\t0/0:2:S\t0/0:0:SM\t0/0:3:SM\t0/0:2:SM\t0/0:1:SM\t0/0:2:SM\t0/0:3:S\t0/0:0:SM\t0/0:3:SM\t0/0:1:SM\t0/0:0:SM\t0/0:0:SM\t0/0:3:S\t0/0:1:SM\t0/0:0:SM\t0/0:0:SM\t0/0:3:SM\t0/0:4:SM\t0/0:2:SM\t0/0:1:SM\t0/0:0:SM\t0/0:0:SM\t0/0:1:SM\t0/0:2:SM\n",
      "\n"
     ]
    }
   ],
   "source": [
    "with open('../downloads/genotypes_small.vcf', 'r', encoding = 'utf-8') as fh:\n",
    "    for line in fh:\n",
    "        if not line.startswith('#'):\n",
    "            cols = line.strip().split('\\t')\n",
    "            if cols[0] == '5':\n",
    "                print(line)\n",
    "                break\n",
    "\n",
    "# Next, find the correct region"
   ]
  },
  {
   "cell_type": "markdown",
   "metadata": {
    "slideshow": {
     "slide_type": "slide"
    }
   },
   "source": [
    "<img src=\"../img/vcf_header.png\" alt=\"Drawing\" style=\"width: 1200px;\"/> "
   ]
  },
  {
   "cell_type": "code",
   "execution_count": 77,
   "metadata": {
    "collapsed": true,
    "slideshow": {
     "slide_type": "-"
    }
   },
   "outputs": [
    {
     "name": "stdout",
     "output_type": "stream",
     "text": [
      "['5', '1207129', 'rs111580366', 'G', 'A', '.', 'PASS', 'AA=G;AC=1;AN=120;DP=329;GP=5:1154129;BN=132', 'GT:DP:CB', '0/0:4:SMB', '0/1:17:SMB', '0/0:9:SMB', '0/0:9:SMB', '0/0:6:SMB', '0/0:8:SMB', '0/0:4:SMB', '0/0:4:SMB', '0/0:7:SMB', '0/0:1:SMB', '0/0:14:SMB', '0/0:3:SMB', '0/0:5:SMB', '0/0:7:SMB', '0/0:9:SMB', '0/0:10:SMB', '0/0:6:SMB', '0/0:2:SMB', '0/0:4:SMB', '0/0:5:SMB', '0/0:13:SMB', '0/0:2:SMB', '0/0:9:SMB', '0/0:3:SMB', '0/0:4:SMB', '0/0:4:SMB', '0/0:6:SMB', '0/0:5:SMB', '0/0:1:SMB', '0/0:6:SMB', '0/0:3:SMB', '0/0:3:SMB', '0/0:8:SMB', '0/0:5:SMB', '0/0:10:SMB', '0/0:2:SMB', '0/0:7:SMB', '0/0:0:SMB', '0/0:6:SMB', '0/0:3:SMB', '0/0:5:SMB', '0/0:5:SMB', '0/0:12:SMB', '0/0:8:SMB', '0/0:15:SMB', '0/0:5:SMB', '0/0:2:SMB', '0/0:1:SMB', '0/0:6:SMB', '0/0:2:SMB', '0/0:5:SMB', '0/0:1:SMB', '0/0:3:SMB', '0/0:6:SMB', '0/0:4:SMB', '0/0:5:SMB', '0/0:1:SMB', '0/0:3:SMB', '0/0:3:SMB', '0/0:3:SMB']\n"
     ]
    }
   ],
   "source": [
    "with open('../downloads/genotypes_small.vcf', 'r', encoding = 'utf-8') as fh:\n",
    "    for line in fh:\n",
    "        if not line.startswith('#'):\n",
    "            cols = line.strip().split('\\t')\n",
    "            chrom = cols[0]\n",
    "            pos = int(cols[1])\n",
    "            if chrom == '5' and 1200000 <= pos <= 1300000:\n",
    "                print(cols)\n",
    "                break\n",
    "# Next, find the genotypes for sample1"
   ]
  },
  {
   "cell_type": "markdown",
   "metadata": {
    "slideshow": {
     "slide_type": "slide"
    }
   },
   "source": [
    "__Isolate the column that contains the genotype for sample1__"
   ]
  },
  {
   "cell_type": "markdown",
   "metadata": {
    "slideshow": {
     "slide_type": "-"
    }
   },
   "source": [
    "<img src=\"../img/vcf_header.png\" alt=\"Drawing\" style=\"width: 1000px;\"/> "
   ]
  },
  {
   "cell_type": "code",
   "execution_count": 60,
   "metadata": {
    "slideshow": {
     "slide_type": "-"
    }
   },
   "outputs": [
    {
     "name": "stdout",
     "output_type": "stream",
     "text": [
      "0/0:4:SMB\n"
     ]
    }
   ],
   "source": [
    "with open('../downloads/genotypes_small.vcf', 'r', encoding = 'utf-8') as fh:\n",
    "    for line in fh:\n",
    "        if not line.startswith('#'):\n",
    "            cols = line.strip().split('\\t')\n",
    "            chrom = cols[0]\n",
    "            pos = int(cols[1])\n",
    "            if chrom == '5' and 1200000 <= pos <= 1300000:\n",
    "                geno = cols[9]\n",
    "                print(geno)\n",
    "                break\n",
    "                    \n",
    "# Next, extract the genotypes only"
   ]
  },
  {
   "cell_type": "markdown",
   "metadata": {
    "slideshow": {
     "slide_type": "skip"
    }
   },
   "source": [
    "Note:\n",
    "- 0/0: Genotype\n",
    "- 4: Read Depth (DP)\n",
    "- SMB: Custom field (e.g., called by S(Sanger), M(UMich), B(BI))\n",
    "\n",
    "Here's how the genotype format works:\n",
    "\n",
    "- 0 refers to the reference allele.\n",
    "- 1, 2, 3, etc., refer to the first, second, third, etc., alternative alleles listed in the ALT field of the VCF file."
   ]
  },
  {
   "cell_type": "markdown",
   "metadata": {
    "slideshow": {
     "slide_type": "slide"
    }
   },
   "source": [
    "__Extract the genotypes only from the column__"
   ]
  },
  {
   "cell_type": "markdown",
   "metadata": {
    "slideshow": {
     "slide_type": "-"
    }
   },
   "source": [
    "<img src=\"../img/vcf_header.png\" alt=\"Drawing\" style=\"width: 1000px;\"/> "
   ]
  },
  {
   "cell_type": "code",
   "execution_count": 73,
   "metadata": {
    "slideshow": {
     "slide_type": "-"
    }
   },
   "outputs": [
    {
     "name": "stdout",
     "output_type": "stream",
     "text": [
      "0/0\n"
     ]
    }
   ],
   "source": [
    "with open('../downloads/genotypes_small.vcf', 'r', encoding = 'utf-8') as fh:\n",
    "    for line in fh:\n",
    "        if not line.startswith('#'):\n",
    "            cols = line.strip().split('\\t')\n",
    "            chrom = cols[0]\n",
    "            pos = int(cols[1])\n",
    "            if chrom == '5' and 1200000 <= pos <= 1300000:\n",
    "                geno = cols[9].split(':')[0]\n",
    "                print(geno)\n",
    "                break\n",
    "# Next, find in which positions sample1 has alternate alleles"
   ]
  },
  {
   "cell_type": "markdown",
   "metadata": {
    "slideshow": {
     "slide_type": "slide"
    }
   },
   "source": [
    "__Check if the genotype contains any alternate alleles__"
   ]
  },
  {
   "cell_type": "markdown",
   "metadata": {
    "slideshow": {
     "slide_type": "-"
    }
   },
   "source": [
    "<img src=\"../img/vcf_header.png\" alt=\"Drawing\" style=\"width: 1000px;\"/> "
   ]
  },
  {
   "cell_type": "code",
   "execution_count": 75,
   "metadata": {
    "slideshow": {
     "slide_type": "-"
    }
   },
   "outputs": [
    {
     "name": "stdout",
     "output_type": "stream",
     "text": [
      "1/1\n",
      "1/1\n"
     ]
    }
   ],
   "source": [
    "with open('../downloads/genotypes_small.vcf', 'r', encoding = 'utf-8') as fh:\n",
    "    for line in fh:\n",
    "        if not line.startswith('#'):\n",
    "            cols = line.strip().split('\\t')\n",
    "            chrom = cols[0]\n",
    "            pos = int(cols[1])\n",
    "            if chrom == '5' and 1200000 <= pos <= 1300000:\n",
    "                geno = cols[9].split(':')[0]\n",
    "                if geno not in [\"0/0\"]:\n",
    "                    print(geno)\n",
    "#Next, print nicely"
   ]
  },
  {
   "cell_type": "markdown",
   "metadata": {
    "slideshow": {
     "slide_type": "slide"
    }
   },
   "source": [
    "__Print any variants containing alternate alleles for this sample between specified region__"
   ]
  },
  {
   "cell_type": "markdown",
   "metadata": {
    "slideshow": {
     "slide_type": "-"
    }
   },
   "source": [
    "<img src=\"../img/vcf_header.png\" alt=\"Drawing\" style=\"width: 1000px; margin=0\"/> "
   ]
  },
  {
   "cell_type": "code",
   "execution_count": 1,
   "metadata": {
    "slideshow": {
     "slide_type": "-"
    }
   },
   "outputs": [
    {
     "name": "stdout",
     "output_type": "stream",
     "text": [
      "5:1235651_C-T has genotype: 1/1\n",
      "5:1277795_G-C has genotype: 1/1\n"
     ]
    }
   ],
   "source": [
    "with open('../downloads/genotypes_small.vcf', 'r', encoding = 'utf-8') as fh:\n",
    "    for line in fh:\n",
    "        if not line.startswith('#'):\n",
    "            cols = line.strip().split('\\t')\n",
    "            chrom = cols[0]\n",
    "            pos = int(cols[1])\n",
    "            if chrom == '5' and 1200000 <= pos <= 1300000:\n",
    "                geno = cols[9].split(':')[0]\n",
    "                if geno not in [\"0/0\"]:\n",
    "                    ref = cols[3]\n",
    "                    alt = cols[4]\n",
    "                    info = f\"{chrom}:{pos}_{ref}-{alt} has genotype: {geno}\"\n",
    "                    print(info)"
   ]
  },
  {
   "cell_type": "markdown",
   "metadata": {
    "slideshow": {
     "slide_type": "slide"
    }
   },
   "source": [
    "## Break \n",
    "\n",
    "## Quiz"
   ]
  },
  {
   "cell_type": "markdown",
   "metadata": {
    "slideshow": {
     "slide_type": "slide"
    }
   },
   "source": [
    "## Day 2, Exercise 2\n",
    "\n",
    "https://python-bioinfo.bioshu.se/exercises/day2/Day_2_Exercise_2.html"
   ]
  },
  {
   "cell_type": "markdown",
   "metadata": {
    "slideshow": {
     "slide_type": "slide"
    }
   },
   "source": [
    "# Introduction to the course project"
   ]
  },
  {
   "cell_type": "markdown",
   "metadata": {
    "slideshow": {
     "slide_type": "slide"
    }
   },
   "source": [
    "## Project background\n",
    "\n",
    "Whole genome sequencing in the clinic\n",
    "- Europe 1+MG project\n",
    "- Sequencing costs low\n",
    "- Screening for mutations causing diseases from whole genome sequencing data\n",
    "\n",
    "Image: cost per genome"
   ]
  },
  {
   "cell_type": "markdown",
   "metadata": {
    "slideshow": {
     "slide_type": "slide"
    }
   },
   "source": [
    "## Cystic fibrosis (CF)\n",
    "- Hereditary disease\n",
    "- Affects lungs and digestive system\n",
    "- Production of thick and sticky mucus \n",
    "- No cure but symptom management"
   ]
  },
  {
   "cell_type": "markdown",
   "metadata": {
    "slideshow": {
     "slide_type": "slide"
    }
   },
   "source": [
    "## Genomic facts of Cystic Fibrosis\n",
    "- Cystic Fibrosis Transmembrane Conductance Regulator (CFTR)\n",
    "- Ion channel protein, acting in epithelial cells\n",
    "- CFTR gene located on chromosome 7 of the human genome\n",
    "- Over 1,500 mutations known to cause CF\n",
    "- Non-synonymous (amino acid changing) mutationsàpremature stop codons\n",
    "\n",
    "Include an image of the protein"
   ]
  },
  {
   "cell_type": "markdown",
   "metadata": {
    "slideshow": {
     "slide_type": "slide"
    }
   },
   "source": [
    "## Goal of the project\n",
    "\n",
    "#### Write a python program that:\n",
    "- Extracts the correct CFTR transcript from the human genome\n",
    "- Translates it into its corresponding amino acid sequence\n",
    "- Determines if one or more patients have a premature stop codon\n",
    "\n",
    "\n",
    "__You will be guided step by step towards the final goal__"
   ]
  },
  {
   "cell_type": "markdown",
   "metadata": {
    "slideshow": {
     "slide_type": "slide"
    }
   },
   "source": [
    "## Data\n",
    "\n",
    "- Human reference genome\n",
    "    - Chromosome 7 in fasta format\n",
    "    - Gene annotations in GTF format\n",
    "- Genome sequencing data from five patients \n",
    "    - Chromosome 7 in fasta format"
   ]
  },
  {
   "cell_type": "markdown",
   "metadata": {
    "slideshow": {
     "slide_type": "slide"
    }
   },
   "source": [
    "## Fasta format\n",
    "```plaintext\n",
    ">MT dna:chromosome chromosome:GRCh38:MT:1:16569:1 REF\n",
    "GATCACAGGTCTATCACCCTATTAACCACTCACGGGAGCTCTCCATGCATTTGGTATTTT CGTCTGGGGGGTATGCACGCGATAGCATTGCGAGACGCTGGAGCCGGAGCACCCTATGTC GCAGTATCTGTCTTTGATTCCTGCCTCATCCTATTATTTATCGCACCTACGTTCAATATT ACAGGCGAACATACTTACTAAAGTGTGTTAATTAATTAATGCTTGTAGGACATAATAATA ACAATTGAATGTCTGCACAGCCACTTTCCACACAGACATCATAACAAAAAATTTCCACCA AACCCCCCCTCCCCCGCTTCTGGCCACAGCACTTAAACACATCTCTGCCAAACCCCAAAA ACAAAGAACCCTAACACCAGCCTAACCAGATTTCAAATTTTATCTTTTGGCGGTATGCAC TTTTAACAGTCACCCCCCAACTAACACATTATTTTCCCCTCCCACTCCCATACTACTAAT CTCATCAATACAACCCCCGCCCATCCTACCCAGCACACACACACCGCTGCTAACCCCATA CCCCGAACCAACCAAACCCCAAAGACACCCCCCACAGTTTATGTAGCTTACCTCCTCAAA\n",
    "```"
   ]
  },
  {
   "cell_type": "markdown",
   "metadata": {
    "slideshow": {
     "slide_type": "slide"
    }
   },
   "source": [
    "## GTF format\n",
    "- GTF stands for Gene Transfer Format\n",
    "- Holds information about gene structure\n",
    "- Tab-delimited\n",
    "- Based on the general feature format (GFF), additional structure specific to genes"
   ]
  },
  {
   "cell_type": "markdown",
   "metadata": {
    "slideshow": {
     "slide_type": "slide"
    }
   },
   "source": [
    "```\n",
    "<seqname> <source> <feature> <start> <end> <score> <strand> <frame> [attributes]\n",
    "```"
   ]
  },
  {
   "cell_type": "markdown",
   "metadata": {
    "slideshow": {
     "slide_type": "-"
    }
   },
   "source": [
    "- seqname: The name of the sequence (typically a chromosome).\n",
    "- source: The source of the annotation (e.g., ENSEMBL).\n",
    "- feature: The type of feature (e.g., gene, transcript, exon).\n",
    "- start: The starting position of the feature in the sequence.\n",
    "- end: The ending position of the feature in the sequence.\n",
    "- score: A score between 0 and 1000, or . if not applicable.\n",
    "- strand: The strand on which the feature is located (+ for the forward strand, - for the reverse strand).\n",
    "- frame: The reading frame, one of '0', '1' or '2', or `.` if not applicable.\n",
    "- attribute: A list of key-value pairs providing additional information about the feature."
   ]
  },
  {
   "cell_type": "markdown",
   "metadata": {
    "slideshow": {
     "slide_type": "slide"
    }
   },
   "source": [
    "#### Attributes\n",
    "\n",
    "Some attributes (always semi-colon separated key-value pairs): \n",
    "- gene_id: The stable identifier for the gene\n",
    "- gene_version: The stable identifier version for the gene\n",
    "- gene_name: The official symbol of this gene\n",
    "- gene_source: The annotation source for this gene\n",
    "- transcript_id: The stable identifier for this transcript\n",
    "- transcript_name: The symbold for this transcript derived from the gene name\n",
    "- exon_id: The stable identifier for this exon"
   ]
  },
  {
   "cell_type": "markdown",
   "metadata": {
    "slideshow": {
     "slide_type": "slide"
    }
   },
   "source": [
    "```\n",
    "<seqname> <source> <feature> <start> <end> <score> <strand> <frame> [attributes]\n",
    "```\n",
    "```\n",
    "1\thavana\tgene\t11869\t14409\t.\t+\t.\tgene_id \"ENSG00000223972\"; gene_version \"5\"; gene_name \"DDX11L1\"; gene_source \"havana\"; gene_biotype \"transcribed_unprocessed_pseudogene\";\n",
    "\n",
    "```"
   ]
  },
  {
   "cell_type": "markdown",
   "metadata": {
    "slideshow": {
     "slide_type": "slide"
    }
   },
   "source": [
    "# Project page\n",
    "\n",
    "https://python-bioinfo.bioshu.se/project.html"
   ]
  }
 ],
 "metadata": {
  "celltoolbar": "Slideshow",
  "kernelspec": {
   "display_name": "Python 3 (ipykernel)",
   "language": "python",
   "name": "python3"
  },
  "language_info": {
   "codemirror_mode": {
    "name": "ipython",
    "version": 3
   },
   "file_extension": ".py",
   "mimetype": "text/x-python",
   "name": "python",
   "nbconvert_exporter": "python",
   "pygments_lexer": "ipython3",
   "version": "3.11.0"
  },
  "rise": {
   "height": 1000,
   "scroll": true,
   "width": 1280
  }
 },
 "nbformat": 4,
 "nbformat_minor": 2
}
